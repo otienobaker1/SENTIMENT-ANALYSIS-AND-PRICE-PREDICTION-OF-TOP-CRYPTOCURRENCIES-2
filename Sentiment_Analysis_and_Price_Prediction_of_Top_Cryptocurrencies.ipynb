{
  "cells": [
    {
      "cell_type": "markdown",
      "metadata": {},
      "source": [
        "PIP INSTALLING THE RELEVANT LIBRARIES"
      ]
    },
    {
      "cell_type": "code",
      "execution_count": null,
      "metadata": {
        "colab": {
          "base_uri": "https://localhost:8080/"
        },
        "id": "HeXTzJ4hk6vZ",
        "outputId": "55946bde-5006-41ed-dea7-377daf31eb85"
      },
      "outputs": [
        {
          "name": "stdout",
          "output_type": "stream",
          "text": [
            "Requirement already satisfied: newsapi-python in /usr/local/lib/python3.10/dist-packages (0.2.7)\n",
            "Requirement already satisfied: requests<3.0.0 in /usr/local/lib/python3.10/dist-packages (from newsapi-python) (2.31.0)\n",
            "Requirement already satisfied: charset-normalizer<4,>=2 in /usr/local/lib/python3.10/dist-packages (from requests<3.0.0->newsapi-python) (3.3.2)\n",
            "Requirement already satisfied: idna<4,>=2.5 in /usr/local/lib/python3.10/dist-packages (from requests<3.0.0->newsapi-python) (3.6)\n",
            "Requirement already satisfied: urllib3<3,>=1.21.1 in /usr/local/lib/python3.10/dist-packages (from requests<3.0.0->newsapi-python) (2.0.7)\n",
            "Requirement already satisfied: certifi>=2017.4.17 in /usr/local/lib/python3.10/dist-packages (from requests<3.0.0->newsapi-python) (2024.2.2)\n",
            "Requirement already satisfied: serpapi in /usr/local/lib/python3.10/dist-packages (0.1.5)\n",
            "Requirement already satisfied: requests in /usr/local/lib/python3.10/dist-packages (from serpapi) (2.31.0)\n",
            "Requirement already satisfied: charset-normalizer<4,>=2 in /usr/local/lib/python3.10/dist-packages (from requests->serpapi) (3.3.2)\n",
            "Requirement already satisfied: idna<4,>=2.5 in /usr/local/lib/python3.10/dist-packages (from requests->serpapi) (3.6)\n",
            "Requirement already satisfied: urllib3<3,>=1.21.1 in /usr/local/lib/python3.10/dist-packages (from requests->serpapi) (2.0.7)\n",
            "Requirement already satisfied: certifi>=2017.4.17 in /usr/local/lib/python3.10/dist-packages (from requests->serpapi) (2024.2.2)\n",
            "Requirement already satisfied: yfinance in /usr/local/lib/python3.10/dist-packages (0.2.37)\n",
            "Requirement already satisfied: pandas>=1.3.0 in /usr/local/lib/python3.10/dist-packages (from yfinance) (2.2.1)\n",
            "Requirement already satisfied: numpy>=1.16.5 in /usr/local/lib/python3.10/dist-packages (from yfinance) (1.25.2)\n",
            "Requirement already satisfied: requests>=2.31 in /usr/local/lib/python3.10/dist-packages (from yfinance) (2.31.0)\n",
            "Requirement already satisfied: multitasking>=0.0.7 in /usr/local/lib/python3.10/dist-packages (from yfinance) (0.0.11)\n",
            "Requirement already satisfied: lxml>=4.9.1 in /usr/local/lib/python3.10/dist-packages (from yfinance) (4.9.4)\n",
            "Requirement already satisfied: appdirs>=1.4.4 in /usr/local/lib/python3.10/dist-packages (from yfinance) (1.4.4)\n",
            "Requirement already satisfied: pytz>=2022.5 in /usr/local/lib/python3.10/dist-packages (from yfinance) (2023.4)\n",
            "Requirement already satisfied: frozendict>=2.3.4 in /usr/local/lib/python3.10/dist-packages (from yfinance) (2.4.0)\n",
            "Requirement already satisfied: peewee>=3.16.2 in /usr/local/lib/python3.10/dist-packages (from yfinance) (3.17.1)\n",
            "Requirement already satisfied: beautifulsoup4>=4.11.1 in /usr/local/lib/python3.10/dist-packages (from yfinance) (4.12.3)\n",
            "Requirement already satisfied: html5lib>=1.1 in /usr/local/lib/python3.10/dist-packages (from yfinance) (1.1)\n",
            "Requirement already satisfied: soupsieve>1.2 in /usr/local/lib/python3.10/dist-packages (from beautifulsoup4>=4.11.1->yfinance) (2.5)\n",
            "Requirement already satisfied: six>=1.9 in /usr/local/lib/python3.10/dist-packages (from html5lib>=1.1->yfinance) (1.16.0)\n",
            "Requirement already satisfied: webencodings in /usr/local/lib/python3.10/dist-packages (from html5lib>=1.1->yfinance) (0.5.1)\n",
            "Requirement already satisfied: python-dateutil>=2.8.2 in /usr/local/lib/python3.10/dist-packages (from pandas>=1.3.0->yfinance) (2.8.2)\n",
            "Requirement already satisfied: tzdata>=2022.7 in /usr/local/lib/python3.10/dist-packages (from pandas>=1.3.0->yfinance) (2024.1)\n",
            "Requirement already satisfied: charset-normalizer<4,>=2 in /usr/local/lib/python3.10/dist-packages (from requests>=2.31->yfinance) (3.3.2)\n",
            "Requirement already satisfied: idna<4,>=2.5 in /usr/local/lib/python3.10/dist-packages (from requests>=2.31->yfinance) (3.6)\n",
            "Requirement already satisfied: urllib3<3,>=1.21.1 in /usr/local/lib/python3.10/dist-packages (from requests>=2.31->yfinance) (2.0.7)\n",
            "Requirement already satisfied: certifi>=2017.4.17 in /usr/local/lib/python3.10/dist-packages (from requests>=2.31->yfinance) (2024.2.2)\n",
            "Requirement already satisfied: yahooquery in /usr/local/lib/python3.10/dist-packages (2.3.7)\n",
            "Requirement already satisfied: beautifulsoup4<5.0.0,>=4.12.2 in /usr/local/lib/python3.10/dist-packages (from yahooquery) (4.12.3)\n",
            "Requirement already satisfied: lxml<5.0.0,>=4.9.3 in /usr/local/lib/python3.10/dist-packages (from yahooquery) (4.9.4)\n",
            "Requirement already satisfied: pandas<3.0.0,>=2.0.3 in /usr/local/lib/python3.10/dist-packages (from yahooquery) (2.2.1)\n",
            "Requirement already satisfied: requests<3.0.0,>=2.31.0 in /usr/local/lib/python3.10/dist-packages (from yahooquery) (2.31.0)\n",
            "Requirement already satisfied: requests-futures<2.0.0,>=1.0.1 in /usr/local/lib/python3.10/dist-packages (from yahooquery) (1.0.1)\n",
            "Requirement already satisfied: tqdm<5.0.0,>=4.65.0 in /usr/local/lib/python3.10/dist-packages (from yahooquery) (4.66.2)\n",
            "Requirement already satisfied: soupsieve>1.2 in /usr/local/lib/python3.10/dist-packages (from beautifulsoup4<5.0.0,>=4.12.2->yahooquery) (2.5)\n",
            "Requirement already satisfied: numpy<2,>=1.22.4 in /usr/local/lib/python3.10/dist-packages (from pandas<3.0.0,>=2.0.3->yahooquery) (1.25.2)\n",
            "Requirement already satisfied: python-dateutil>=2.8.2 in /usr/local/lib/python3.10/dist-packages (from pandas<3.0.0,>=2.0.3->yahooquery) (2.8.2)\n",
            "Requirement already satisfied: pytz>=2020.1 in /usr/local/lib/python3.10/dist-packages (from pandas<3.0.0,>=2.0.3->yahooquery) (2023.4)\n",
            "Requirement already satisfied: tzdata>=2022.7 in /usr/local/lib/python3.10/dist-packages (from pandas<3.0.0,>=2.0.3->yahooquery) (2024.1)\n",
            "Requirement already satisfied: charset-normalizer<4,>=2 in /usr/local/lib/python3.10/dist-packages (from requests<3.0.0,>=2.31.0->yahooquery) (3.3.2)\n",
            "Requirement already satisfied: idna<4,>=2.5 in /usr/local/lib/python3.10/dist-packages (from requests<3.0.0,>=2.31.0->yahooquery) (3.6)\n",
            "Requirement already satisfied: urllib3<3,>=1.21.1 in /usr/local/lib/python3.10/dist-packages (from requests<3.0.0,>=2.31.0->yahooquery) (2.0.7)\n",
            "Requirement already satisfied: certifi>=2017.4.17 in /usr/local/lib/python3.10/dist-packages (from requests<3.0.0,>=2.31.0->yahooquery) (2024.2.2)\n",
            "Requirement already satisfied: six>=1.5 in /usr/local/lib/python3.10/dist-packages (from python-dateutil>=2.8.2->pandas<3.0.0,>=2.0.3->yahooquery) (1.16.0)\n",
            "Requirement already satisfied: nltk in /usr/local/lib/python3.10/dist-packages (3.8.1)\n",
            "Requirement already satisfied: click in /usr/local/lib/python3.10/dist-packages (from nltk) (8.1.7)\n",
            "Requirement already satisfied: joblib in /usr/local/lib/python3.10/dist-packages (from nltk) (1.3.2)\n",
            "Requirement already satisfied: regex>=2021.8.3 in /usr/local/lib/python3.10/dist-packages (from nltk) (2023.12.25)\n",
            "Requirement already satisfied: tqdm in /usr/local/lib/python3.10/dist-packages (from nltk) (4.66.2)\n",
            "Collecting autots\n",
            "  Downloading autots-0.6.10-py3-none-any.whl (826 kB)\n",
            "\u001b[2K     \u001b[90m━━━━━━━━━━━━━━━━━━━━━━━━━━━━━━━━━━━━━━━━\u001b[0m \u001b[32m826.3/826.3 kB\u001b[0m \u001b[31m5.5 MB/s\u001b[0m eta \u001b[36m0:00:00\u001b[0m\n",
            "\u001b[?25hRequirement already satisfied: numpy>=1.14.6 in /usr/local/lib/python3.10/dist-packages (from autots) (1.25.2)\n",
            "Requirement already satisfied: pandas>=0.25.0 in /usr/local/lib/python3.10/dist-packages (from autots) (2.2.1)\n",
            "Requirement already satisfied: statsmodels>=0.10.0 in /usr/local/lib/python3.10/dist-packages (from autots) (0.14.1)\n",
            "Requirement already satisfied: scikit-learn>=0.20.0 in /usr/local/lib/python3.10/dist-packages (from autots) (1.2.2)\n",
            "Requirement already satisfied: python-dateutil>=2.8.2 in /usr/local/lib/python3.10/dist-packages (from pandas>=0.25.0->autots) (2.8.2)\n",
            "Requirement already satisfied: pytz>=2020.1 in /usr/local/lib/python3.10/dist-packages (from pandas>=0.25.0->autots) (2023.4)\n",
            "Requirement already satisfied: tzdata>=2022.7 in /usr/local/lib/python3.10/dist-packages (from pandas>=0.25.0->autots) (2024.1)\n",
            "Requirement already satisfied: scipy>=1.3.2 in /usr/local/lib/python3.10/dist-packages (from scikit-learn>=0.20.0->autots) (1.11.4)\n",
            "Requirement already satisfied: joblib>=1.1.1 in /usr/local/lib/python3.10/dist-packages (from scikit-learn>=0.20.0->autots) (1.3.2)\n",
            "Requirement already satisfied: threadpoolctl>=2.0.0 in /usr/local/lib/python3.10/dist-packages (from scikit-learn>=0.20.0->autots) (3.3.0)\n",
            "Requirement already satisfied: patsy>=0.5.4 in /usr/local/lib/python3.10/dist-packages (from statsmodels>=0.10.0->autots) (0.5.6)\n",
            "Requirement already satisfied: packaging>=21.3 in /usr/local/lib/python3.10/dist-packages (from statsmodels>=0.10.0->autots) (24.0)\n",
            "Requirement already satisfied: six in /usr/local/lib/python3.10/dist-packages (from patsy>=0.5.4->statsmodels>=0.10.0->autots) (1.16.0)\n",
            "Installing collected packages: autots\n",
            "Successfully installed autots-0.6.10\n"
          ]
        }
      ],
      "source": [
        "%pip install newsapi-python\n",
        "%pip install serpapi\n",
        "%pip install yfinance\n",
        "%pip install yahooquery\n",
        "%pip install nltk\n",
        "%pip install autots"
      ]
    },
    {
      "cell_type": "markdown",
      "metadata": {
        "id": "SIwwKbqB1BWo"
      },
      "source": [
        "# Analysis of Cryptocurrency News Sentiment\n",
        "\n",
        "## Objective\n",
        "The objective of this analysis is to fetch news articles related to Bitcoin, Ethereum, and Ripple using the News API, analyze the sentiment of these articles, and visualize the sentiment distributions for each cryptocurrency.\n",
        "\n",
        "## Methodology\n",
        "1. **Fetching News Articles**: We utilize the News API to fetch news articles for Bitcoin, Ethereum, and Ripple. For each cryptocurrency, we retrieve the titles and descriptions of the top news articles based on relevance.\n",
        "\n",
        "2. **Sentiment Analysis**: We perform sentiment analysis on the fetched news articles to determine their polarity (positive, negative, or neutral). We use the VADER (Valence Aware Dictionary and sEntiment Reasoner) sentiment analysis tool from the NLTK (Natural Language Toolkit) library. The sentiment analysis provides us with a compound sentiment score for each article, which we use to categorize the sentiment as positive, negative, or neutral.\n",
        "\n",
        "3. **Visualization**: We visualize the sentiment distributions for Bitcoin, Ethereum, and Ripple using bar charts. The sentiment distribution indicates the number of articles falling under each sentiment category (positive, negative, or neutral).\n",
        "\n",
        "## Results\n",
        "The sentiment distribution charts provide insights into the overall sentiment surrounding each cryptocurrency based on the news articles retrieved. The charts help us understand the sentiment trends and potential market impact associated with Bitcoin, Ethereum, and Ripple.\n",
        "\n",
        "## Conclusion\n",
        "By analyzing the sentiment of news articles, we gain valuable insights into the public perception and market sentiment surrounding different cryptocurrencies. This information can be utilized by traders, investors, and analysts to make informed decisions regarding cryptocurrency investments and trading strategies.\n",
        "\n"
      ]
    },
    {
      "cell_type": "markdown",
      "metadata": {},
      "source": [
        "IMPORTING LIBRARIES, INITIALIZING NEWS API CLIENT\n"
      ]
    },
    {
      "cell_type": "code",
      "execution_count": null,
      "metadata": {
        "id": "ODm0bpHBzKol"
      },
      "outputs": [],
      "source": [
        "from newsapi import NewsApiClient\n",
        "import nltk\n",
        "from nltk.sentiment import SentimentIntensityAnalyzer\n",
        "import matplotlib.pyplot as plt\n",
        "\n",
        "# Initialize News API client\n",
        "newsapi = NewsApiClient(api_key='b0de9201606a4e38b5c98a3b1ec70f5d')\n",
        "\n",
        "# Function to fetch news articles for a given query\n",
        "def fetch_articles(query):\n",
        "    all_articles = newsapi.get_everything(\n",
        "        q=query,\n",
        "        language='en',\n",
        "        sort_by='relevancy',\n",
        "        page=1\n",
        "    )\n",
        "\n",
        "    formatted_articles = []\n",
        "    for article in all_articles['articles']:\n",
        "        title = article['title']\n",
        "        description = article['description']\n",
        "        formatted_text = f\"Title: {title}\\nDescription: {description}\"\n",
        "        formatted_articles.append(formatted_text)\n",
        "\n",
        "    return formatted_articles"
      ]
    },
    {
      "cell_type": "markdown",
      "metadata": {},
      "source": [
        "FUNCTION TO ANALYZE SENTIMENT OF A GIVEN TEXT"
      ]
    },
    {
      "cell_type": "code",
      "execution_count": null,
      "metadata": {
        "id": "rAS-vJpGzOFq"
      },
      "outputs": [],
      "source": [
        "# Function to analyze sentiment of a given text\n",
        "def analyze_sentiment(text):\n",
        "    SIA = SentimentIntensityAnalyzer()\n",
        "    sentiment_score = SIA.polarity_scores(text)['compound']\n",
        "    if sentiment_score >= 0.5:\n",
        "        return 'Positive'\n",
        "    elif sentiment_score <= -0.5:\n",
        "        return 'Negative'\n",
        "    else:\n",
        "        return 'Neutral'\n"
      ]
    },
    {
      "cell_type": "markdown",
      "metadata": {},
      "source": [
        "FUNCTION TO PLOT SENTIMENT DISTRIBUTION "
      ]
    },
    {
      "cell_type": "code",
      "execution_count": null,
      "metadata": {
        "id": "tDPl3BYzzVwQ"
      },
      "outputs": [],
      "source": [
        "# Function to plot sentiment distribution\n",
        "def plot_sentiment_distribution(sentiment_counts, title):\n",
        "    labels = list(sentiment_counts.keys())\n",
        "    values = list(sentiment_counts.values())\n",
        "\n",
        "    plt.bar(labels, values, color=['green', 'red', 'grey'])\n",
        "    plt.title(title)\n",
        "    plt.xlabel('Sentiment')\n",
        "    plt.ylabel('Number of Articles')\n",
        "    plt.show()\n"
      ]
    },
    {
      "cell_type": "markdown",
      "metadata": {},
      "source": [
        "FETCHING NEWS ARTICLES FOR BITCOIN, ETHEREUM AND RIPPLE"
      ]
    },
    {
      "cell_type": "code",
      "execution_count": null,
      "metadata": {
        "id": "c374OBCKzXKV"
      },
      "outputs": [],
      "source": [
        "# Fetch news articles for Bitcoin, Ethereum, and Ripple\n",
        "bitcoin_articles = fetch_articles('Bitcoin')\n",
        "ethereum_articles = fetch_articles('Ethereum')\n",
        "ripple_articles = fetch_articles('Ripple')\n"
      ]
    },
    {
      "cell_type": "markdown",
      "metadata": {},
      "source": [
        "ANALYZING SENTIMENT FOR EACH SET OF ARTICLES"
      ]
    },
    {
      "cell_type": "code",
      "execution_count": null,
      "metadata": {
        "id": "Pd2LSbYozcuj"
      },
      "outputs": [],
      "source": [
        "# Analyze sentiment for each set of articles\n",
        "bitcoin_sentiment_counts = {'Positive': 0, 'Negative': 0, 'Neutral': 0}\n",
        "ethereum_sentiment_counts = {'Positive': 0, 'Negative': 0, 'Neutral': 0}\n",
        "ripple_sentiment_counts = {'Positive': 0, 'Negative': 0, 'Neutral': 0}\n",
        "\n",
        "for article_text in bitcoin_articles:\n",
        "    sentiment = analyze_sentiment(article_text)\n",
        "    bitcoin_sentiment_counts[sentiment] += 1\n",
        "\n",
        "for article_text in ethereum_articles:\n",
        "    sentiment = analyze_sentiment(article_text)\n",
        "    ethereum_sentiment_counts[sentiment] += 1\n",
        "\n",
        "for article_text in ripple_articles:\n",
        "    sentiment = analyze_sentiment(article_text)\n",
        "    ripple_sentiment_counts[sentiment] += 1\n"
      ]
    },
    {
      "cell_type": "markdown",
      "metadata": {},
      "source": [
        "PLOTTING SENTIMENT DISTRIBUTION FOR EACH CRYPTOCURRENCY"
      ]
    },
    {
      "cell_type": "code",
      "execution_count": null,
      "metadata": {
        "colab": {
          "base_uri": "https://localhost:8080/",
          "height": 1000
        },
        "id": "76_lwBHqzpIm",
        "outputId": "8bed8f81-1718-4c52-b103-3b6a5d528339"
      },
      "outputs": [
        {
          "data": {
            "image/png": "[encoded data removed]",
            "text/plain": [
              "<Figure size 640x480 with 1 Axes>"
            ]
          },
          "metadata": {},
          "output_type": "display_data"
        },
        {
          "data": {
            "image/png": "[encoded data removed]",
            "text/plain": [
              "<Figure size 640x480 with 1 Axes>"
            ]
          },
          "metadata": {},
          "output_type": "display_data"
        },
        {
          "data": {
            "image/png": "[encoded data removed]",
            "text/plain": [
              "<Figure size 640x480 with 1 Axes>"
            ]
          },
          "metadata": {},
          "output_type": "display_data"
        }
      ],
      "source": [
        "# Plot sentiment distribution for each cryptocurrency\n",
        "plot_sentiment_distribution(bitcoin_sentiment_counts, 'Bitcoin Sentiment Distribution')\n",
        "plot_sentiment_distribution(ethereum_sentiment_counts, 'Ethereum Sentiment Distribution')\n",
        "plot_sentiment_distribution(ripple_sentiment_counts, 'Ripple Sentiment Distribution')"
      ]
    },
    {
      "cell_type": "markdown",
      "metadata": {
        "id": "LCK_Sui82MLA"
      },
      "source": [
        "# Next Steps Based on Ethereum's Positive Sentiment\n",
        "\n",
        "## Analysis Overview\n",
        "Based on our sentiment analysis of news articles related to Bitcoin, Ethereum, and Ripple, we have observed that Ethereum has the most positive sentiment among the three cryptocurrencies.\n",
        "\n",
        "## Proposed Action\n",
        "Given the positive sentiment surrounding Ethereum, we propose to proceed with the following steps:\n",
        "\n",
        "1. **Price Data Retrieval**: We will retrieve historical price data for Ethereum from Yahoo Finance using the `yfinance` Python library. This data will include historical open, high, low, close prices, as well as trading volume and other relevant metrics.\n",
        "\n",
        "2. **Price Prediction**: Utilizing the obtained historical price data, we will attempt to predict the price of Ethereum for the next 30 days using machine learning techniques. By analyzing past price trends and relevant features, we aim to forecast future price movements.\n",
        "\n",
        "3. **Model Training**: We will train a machine learning model using the historical price data and additional features such as trading volume, market capitalization, and sentiment scores. The model will learn patterns and relationships in the data to make accurate predictions of Ethereum's future price trends.\n",
        "\n",
        "4. **Evaluation and Validation**: We will evaluate the performance of the trained model using validation techniques such as cross-validation and backtesting. This will help ensure the reliability and accuracy of the price predictions.\n",
        "\n",
        "5. **Decision Making**: Based on the predictions generated by the model and our analysis of market conditions, we will make informed decisions regarding Ethereum investments or trading strategies. We will consider factors such as risk tolerance, investment objectives, and market trends to determine the appropriate course of action.\n",
        "\n",
        "## Conclusion\n",
        "By leveraging the positive sentiment surrounding Ethereum and employing machine learning techniques for price prediction, we aim to capitalize on potential opportunities in the cryptocurrency market. Our objective is to enhance investment decision-making and maximize returns by leveraging data-driven insights and predictive analytics.\n",
        "\n"
      ]
    },
    {
      "cell_type": "markdown",
      "metadata": {
        "id": "ZoDn8_Ns3DT-"
      },
      "source": [
        "IMPORTING NECESSARY LIBRARIES"
      ]
    },
    {
      "cell_type": "code",
      "execution_count": null,
      "metadata": {
        "id": "-kdAx7DEzBfW"
      },
      "outputs": [],
      "source": [
        "import pandas as pd\n",
        "import yfinance as yf\n",
        "import datetime\n",
        "from datetime import date, timedelta"
      ]
    },
    {
      "cell_type": "markdown",
      "metadata": {
        "id": "aGU2rzwL3LNY"
      },
      "source": [
        "ACCESSING TODAY'S DATE"
      ]
    },
    {
      "cell_type": "code",
      "execution_count": null,
      "metadata": {
        "id": "L8EH0ddO3Abc"
      },
      "outputs": [],
      "source": [
        "today = date.today()"
      ]
    },
    {
      "cell_type": "code",
      "execution_count": null,
      "metadata": {
        "id": "ZwPQ_ixs3Smt"
      },
      "outputs": [],
      "source": [
        "d1 = today.strftime(\"%Y-%m-%d\")\n",
        "end_date = d1\n",
        "d2= date.today()- timedelta(days = 768)\n",
        "d2 = d2.strftime(\"%Y-%m-%d\")\n",
        "start_date = d2"
      ]
    },
    {
      "cell_type": "markdown",
      "metadata": {},
      "source": [
        "DOWNLOADING HISTORICAL DATA FOR 'ETH-USD' USING YFINANCE"
      ]
    },
    {
      "cell_type": "code",
      "execution_count": null,
      "metadata": {
        "id": "ap3TTULn3Y5l"
      },
      "outputs": [],
      "source": [
        "# Download historical data for 'ETH-USD' using yfinance\n",
        "data = yf.download('ETH-USD',\n",
        "                   start = start_date,\n",
        "                   end = end_date,\n",
        "                   progress = False)\n",
        "# Add a 'Date' column based on the index\n",
        "data['Date']= data.index\n",
        "# Reorder columns to a specific sequence\n",
        "data = data [['Date','Open','High','Low', 'Close', 'Adj Close', 'Volume']]\n",
        "# Reset index and drop the existing index column\n",
        "data.reset_index(drop = True, inplace = True)"
      ]
    },
    {
      "cell_type": "code",
      "execution_count": null,
      "metadata": {
        "colab": {
          "base_uri": "https://localhost:8080/"
        },
        "id": "Iew8GktX3mYk",
        "outputId": "048eb7b5-a34a-471a-e42b-9c97ba5b08c8"
      },
      "outputs": [
        {
          "name": "stdout",
          "output_type": "stream",
          "text": [
            "        Date         Open         High          Low        Close    Adj Close  \\\n",
            "0 2022-02-09  3121.182617  3263.155762  3063.160156  3239.457031  3239.457031   \n",
            "1 2022-02-10  3240.113037  3271.316162  3070.378174  3077.482178  3077.482178   \n",
            "2 2022-02-11  3077.413086  3127.450684  2888.707764  2927.383545  2927.383545   \n",
            "3 2022-02-12  2927.386475  2980.079346  2870.177002  2917.362793  2917.362793   \n",
            "4 2022-02-13  2916.789551  2947.776611  2845.397705  2883.463379  2883.463379   \n",
            "\n",
            "        Volume  \n",
            "0  13951308490  \n",
            "1  18629485080  \n",
            "2  16043881065  \n",
            "3  11254355757  \n",
            "4   9054963563  \n"
          ]
        }
      ],
      "source": [
        "print(data.head(5))"
      ]
    },
    {
      "cell_type": "code",
      "execution_count": null,
      "metadata": {
        "colab": {
          "base_uri": "https://localhost:8080/"
        },
        "id": "w7oVcUaF3tOL",
        "outputId": "f2617960-32e3-46c4-daa5-24cbb4cab390"
      },
      "outputs": [
        {
          "name": "stdout",
          "output_type": "stream",
          "text": [
            "          Date         Open         High          Low        Close  \\\n",
            "763 2024-03-13  3980.265137  4083.007324  3936.627197  4006.457031   \n",
            "764 2024-03-14  4005.745117  4011.102783  3721.788574  3883.140381   \n",
            "765 2024-03-15  3882.856934  3928.775635  3571.774658  3735.220215   \n",
            "766 2024-03-16  3736.104980  3780.894531  3468.079346  3522.860107   \n",
            "767 2024-03-17  3523.029785  3676.263428  3414.172363  3642.413086   \n",
            "\n",
            "       Adj Close       Volume  \n",
            "763  4006.457031  22028114691  \n",
            "764  3883.140381  25434810823  \n",
            "765  3735.220215  33505075433  \n",
            "766  3522.860107  20199855932  \n",
            "767  3642.413086  19938757095  \n"
          ]
        }
      ],
      "source": [
        "print(data.tail())"
      ]
    },
    {
      "cell_type": "code",
      "execution_count": null,
      "metadata": {
        "colab": {
          "base_uri": "https://localhost:8080/"
        },
        "id": "WXNopgoj3xFI",
        "outputId": "f1f0050c-6253-45d5-e5ee-55885e76944b"
      },
      "outputs": [
        {
          "data": {
            "text/plain": [
              "(768, 7)"
            ]
          },
          "execution_count": 48,
          "metadata": {},
          "output_type": "execute_result"
        }
      ],
      "source": [
        "data.shape"
      ]
    },
    {
      "cell_type": "code",
      "execution_count": null,
      "metadata": {
        "colab": {
          "base_uri": "https://localhost:8080/",
          "height": 542
        },
        "id": "EEfU-pm633Gg",
        "outputId": "30372f8e-fa3b-4f30-cb01-8b1f0014e100"
      },
      "outputs": [
        {
          "data": {
            "text/html": [
              "<html>\n",
              "<head><meta charset=\"utf-8\" /></head>\n",
              "<body>\n",
              "    <div>            <script src=\"https://cdnjs.cloudflare.com/ajax/libs/mathjax/2.7.5/MathJax.js?config=TeX-AMS-MML_SVG\"></script><script type=\"text/javascript\">if (window.MathJax && window.MathJax.Hub && window.MathJax.Hub.Config) {window.MathJax.Hub.Config({SVG: {font: \"STIX-Web\"}});}</script>                <script type=\"text/javascript\">window.PlotlyConfig = {MathJaxConfig: 'local'};</script>\n",
              "        <script charset=\"utf-8\" src=\"https://cdn.plot.ly/plotly-2.24.1.min.js\"></script>                <div id=\"03bab4d5-4b44-49f7-8cbc-0e9884c7bc8a\" class=\"plotly-graph-div\" style=\"height:525px; width:100%;\"></div>            <script type=\"text/javascript\">                                    window.PLOTLYENV=window.PLOTLYENV || {};                                    if (document.getElementById(\"03bab4d5-4b44-49f7-8cbc-0e9884c7bc8a\")) {                    Plotly.newPlot(                        \"03bab4d5-4b44-49f7-8cbc-0e9884c7bc8a\",                        [{\"close\":[3239.45703125,3077.482177734375,2927.383544921875,2917.36279296875,2883.46337890625,2933.47900390625,3179.877197265625,3127.830078125,2881.48193359375,2785.7275390625,2763.701171875,2628.6484375,2573.816162109375,2639.29931640625,2590.359619140625,2598.067138671875,2764.53564453125,2781.11181640625,2621.8017578125,2919.201171875,2972.485107421875,2950.118408203125,2834.468994140625,2617.156005859375,2664.8310546875,2555.037353515625,2497.771240234375,2576.74755859375,2729.783447265625,2608.048583984375,2559.56298828125,2574.754150390625,2518.944580078125,2590.696044921875,2620.149658203125,2772.0556640625,2814.8544921875,2945.343017578125,2946.257080078125,2860.459228515625,2897.9765625,2973.131103515625,3031.067138671875,3108.06201171875,3106.67138671875,3143.178955078125,3291.57763671875,3336.634521484375,3401.98779296875,3385.157958984375,3281.642822265625,3449.55224609375,3445.059326171875,3522.83349609375,3521.2412109375,3411.79248046875,3171.69189453125,3233.274658203125,3192.073974609375,3261.916259765625,3211.866943359375,2981.05224609375,3030.37646484375,3118.34423828125,3019.909423828125,3040.91650390625,3062.310302734375,2993.4033203125,3057.606689453125,3104.1064453125,3077.745849609375,2987.480712890625,2964.835693359375,2938.114013671875,2922.732666015625,3009.3935546875,2808.29833984375,2888.9296875,2936.94091796875,2815.601806640625,2730.186767578125,2827.756103515625,2857.410400390625,2783.476318359375,2940.644775390625,2749.213134765625,2694.979736328125,2636.093017578125,2517.4599609375,2245.430419921875,2343.510986328125,2072.108642578125,1961.7015380859375,2014.418212890625,2056.27392578125,2145.706787109375,2022.7259521484375,2090.4091796875,1916.6561279296875,2018.336181640625,1961.315673828125,1974.518310546875,2043.170166015625,1972.181884765625,1978.9827880859375,1944.827880859375,1803.913330078125,1724.9228515625,1757.9417724609375,1812.031005859375,1996.4412841796875,1942.3280029296875,1823.5693359375,1834.1505126953125,1775.07861328125,1801.6094970703125,1805.2049560546875,1859.2896728515625,1814.04833984375,1793.572265625,1789.8260498046875,1665.042236328125,1529.6634521484375,1445.216552734375,1204.582763671875,1211.662841796875,1233.2064208984375,1067.730712890625,1086.519287109375,993.6367797851562,1127.656494140625,1127.6424560546875,1124.8245849609375,1051.421875,1143.38671875,1226.8447265625,1243.4468994140625,1199.8316650390625,1193.6806640625,1144.5792236328125,1098.94384765625,1067.298828125,1059.767333984375,1066.5128173828125,1073.7669677734375,1151.05908203125,1134.541015625,1186.9739990234375,1237.5933837890625,1222.5062255859375,1216.978271484375,1168.401611328125,1097.236572265625,1038.191650390625,1113.587158203125,1191.5262451171875,1233.129150390625,1352.62646484375,1338.6357421875,1578.7178955078125,1542.9752197265625,1520.20068359375,1576.74951171875,1537.4051513671875,1549.2974853515625,1599.4766845703125,1445.3834228515625,1441.8067626953125,1636.232666015625,1725.4681396484375,1727.406982421875,1695.969482421875,1681.517333984375,1635.19580078125,1632.9454345703125,1618.87451171875,1608.205810546875,1732.254638671875,1691.6580810546875,1699.350830078125,1775.51611328125,1703.0250244140625,1851.74267578125,1881.22412109375,1957.2464599609375,1981.3365478515625,1936.802001953125,1904.2281494140625,1878.139404296875,1832.9996337890625,1847.0078125,1612.9873046875,1577.0037841796875,1619.3189697265625,1622.505859375,1662.7698974609375,1657.0592041015625,1696.45703125,1507.7828369140625,1491.39501953125,1430.54736328125,1553.037353515625,1523.8388671875,1553.6849365234375,1586.1767578125,1577.220458984375,1556.8726806640625,1577.6416015625,1617.1832275390625,1561.74853515625,1629.9063720703125,1635.34765625,1719.08544921875,1776.2037353515625,1761.800048828125,1713.7652587890625,1580.7879638671875,1634.7550048828125,1471.6934814453125,1432.44775390625,1469.74169921875,1335.3291015625,1377.5413818359375,1324.38818359375,1252.6077880859375,1327.68017578125,1328.259521484375,1317.9932861328125,1294.216796875,1335.3201904296875,1330.127685546875,1337.410888671875,1335.65234375,1327.9786376953125,1311.6444091796875,1276.093505859375,1323.439208984375,1362.1265869140625,1352.837158203125,1351.70947265625,1332.5169677734375,1315.50048828125,1322.604248046875,1291.337646484375,1279.57568359375,1294.9063720703125,1288.1239013671875,1297.422119140625,1274.8717041015625,1306.296630859375,1331.713623046875,1310.447021484375,1285.7442626953125,1283.200927734375,1299.9464111328125,1314.2991943359375,1363.447021484375,1344.99853515625,1461.6654052734375,1566.566650390625,1514.3748779296875,1555.4779052734375,1619.698486328125,1590.7833251953125,1572.7144775390625,1579.70458984375,1519.7117919921875,1531.541748046875,1645.0933837890625,1627.968017578125,1572.2347412109375,1568.59130859375,1332.8355712890625,1100.1697998046875,1299.464599609375,1287.2210693359375,1255.268310546875,1221.8192138671875,1241.604248046875,1251.7362060546875,1215.6025390625,1200.80859375,1212.30029296875,1218.4267578125,1142.4666748046875,1108.35302734375,1135.1734619140625,1183.1995849609375,1203.983154296875,1198.9259033203125,1205.89794921875,1195.126953125,1170.086181640625,1216.9012451171875,1295.6885986328125,1276.27392578125,1294.3033447265625,1243.3348388671875,1280.256591796875,1259.6767578125,1271.65380859375,1232.4375,1281.1163330078125,1264.2847900390625,1266.3841552734375,1263.8685302734375,1274.6190185546875,1320.5491943359375,1309.3287353515625,1266.3538818359375,1168.2593994140625,1188.1495361328125,1184.7152099609375,1167.60986328125,1217.70361328125,1213.5999755859375,1218.18212890625,1220.159423828125,1221.1485595703125,1218.9620361328125,1226.974365234375,1212.7916259765625,1189.986083984375,1201.5953369140625,1199.2327880859375,1196.771240234375,1200.96484375,1214.6566162109375,1214.77880859375,1256.526611328125,1250.4385986328125,1269.3790283203125,1264.2703857421875,1287.3594970703125,1321.5389404296875,1336.5860595703125,1387.9327392578125,1417.9384765625,1451.6148681640625,1550.7069091796875,1552.4794921875,1576.83349609375,1567.8460693359375,1515.5069580078125,1552.5565185546875,1659.754150390625,1627.1181640625,1628.382080078125,1628.2510986328125,1556.604248046875,1611.7110595703125,1603.10595703125,1598.156494140625,1572.43505859375,1646.1556396484375,1567.3265380859375,1586.535400390625,1641.792724609375,1643.2415771484375,1664.74560546875,1667.0592041015625,1631.6458740234375,1616.2470703125,1672.0035400390625,1650.716796875,1546.438232421875,1514.869140625,1539.9267578125,1515.03369140625,1507.1658935546875,1556.8751220703125,1673.7459716796875,1640.067626953125,1694.7833251953125,1691.8194580078125,1681.4361572265625,1702.6751708984375,1658.036376953125,1643.231689453125,1651.0738525390625,1608.3731689453125,1594.9149169921875,1640.817138671875,1634.326416015625,1605.8951416015625,1663.4337158203125,1647.3193359375,1569.1676025390625,1566.9239501953125,1564.46875,1567.398681640625,1561.93310546875,1534.0882568359375,1438.6607666015625,1429.1580810546875,1482.61669921875,1590.29296875,1680.3089599609375,1703.507080078125,1656.1805419921875,1677.2154541015625,1792.485107421875,1761.65966796875,1785.5765380859375,1735.3212890625,1806.7607421875,1737.717041015625,1816.4051513671875,1752.0447998046875,1743.7647705078125,1775.6767578125,1715.4608154296875,1772.78564453125,1793.0018310546875,1792.7371826171875,1822.0220947265625,1813.860595703125,1795.7081298828125,1810.297119140625,1871.005126953125,1909.114013671875,1872.922607421875,1865.6361083984375,1849.4981689453125,1859.3878173828125,1911.20751953125,1892.189697265625,1920.68212890625,2012.6346435546875,2101.635498046875,2092.466796875,2120.005859375,2076.242919921875,2104.537353515625,1936.4034423828125,1943.09765625,1849.9998779296875,1874.2286376953125,1862.06201171875,1842.7574462890625,1866.753662109375,1866.564208984375,1908.786376953125,1892.5128173828125,1908.9169921875,1876.92431640625,1831.954833984375,1870.789306640625,1904.65185546875,1877.7041015625,1995.0609130859375,1900.2218017578125,1873.076416015625,1849.042724609375,1848.6031494140625,1842.4014892578125,1796.4906005859375,1808.019775390625,1796.1148681640625,1800.5009765625,1817.5499267578125,1824.1214599609375,1821.859619140625,1801.728515625,1812.5894775390625,1820.47802734375,1804.5313720703125,1817.5347900390625,1854.380615234375,1800.0999755859375,1805.9537353515625,1828.689697265625,1831.1182861328125,1910.9141845703125,1893.078125,1901.026611328125,1874.1304931640625,1862.201416015625,1907.256591796875,1892.4124755859375,1890.5135498046875,1811.828369140625,1884.494873046875,1832.39599609375,1846.3018798828125,1840.2252197265625,1752.384765625,1753.415283203125,1742.5286865234375,1739.03759765625,1650.519287109375,1665.519775390625,1716.6688232421875,1727.2041015625,1720.5775146484375,1737.659423828125,1792.1199951171875,1891.0072021484375,1872.9429931640625,1892.862060546875,1876.0596923828125,1900.506103515625,1859.432861328125,1889.703369140625,1827.97119140625,1852.227294921875,1933.18896484375,1924.56591796875,1937.4383544921875,1955.38916015625,1936.633544921875,1910.5880126953125,1848.636474609375,1870.6025390625,1865.53955078125,1863.009765625,1880.556396484375,1878.3360595703125,1872.11376953125,2006.511474609375,1939.3470458984375,1931.466552734375,1923.681884765625,1911.6461181640625,1897.5992431640625,1889.0079345703125,1890.9691162109375,1892.080078125,1864.912353515625,1889.191650390625,1850.0020751953125,1857.741943359375,1872.159912109375,1860.357177734375,1874.744873046875,1881.06884765625,1861.643798828125,1856.162353515625,1871.7921142578125,1839.0897216796875,1835.136474609375,1827.712890625,1834.9879150390625,1827.4620361328125,1826.9388427734375,1855.807373046875,1854.297607421875,1850.75341796875,1847.1243896484375,1848.889892578125,1839.2801513671875,1844.185791015625,1826.9327392578125,1805.6590576171875,1684.9334716796875,1660.945068359375,1669.471923828125,1684.85205078125,1667.26904296875,1633.892578125,1679.2744140625,1659.944580078125,1652.93505859375,1646.3067626953125,1657.5130615234375,1652.4573974609375,1729.7257080078125,1705.1121826171875,1645.63916015625,1628.4912109375,1637.025390625,1636.11767578125,1629.6552734375,1633.62939453125,1632.2523193359375,1647.5982666015625,1636.1378173828125,1635.162353515625,1616.828857421875,1551.6376953125,1592.429443359375,1607.988525390625,1626.974365234375,1641.640380859375,1635.2216796875,1622.896728515625,1637.3470458984375,1643.544677734375,1622.890625,1584.3070068359375,1593.268310546875,1593.8577880859375,1580.8533935546875,1588.3228759765625,1593.417236328125,1597.4912109375,1652.8826904296875,1667.94384765625,1671.161865234375,1733.8104248046875,1663.6275634765625,1656.6856689453125,1647.838134765625,1611.4764404296875,1645.83154296875,1634.51123046875,1633.548583984375,1579.806640625,1567.7130126953125,1566.2547607421875,1539.6124267578125,1552.0894775390625,1555.2568359375,1558.06982421875,1600.5343017578125,1565.4395751953125,1563.7498779296875,1567.45703125,1604.6668701171875,1629.304443359375,1663.429931640625,1765.3826904296875,1784.4375,1787.3975830078125,1804.039306640625,1780.0452880859375,1776.6181640625,1795.5460205078125,1810.088623046875,1816.458984375,1847.0897216796875,1800.6209716796875,1832.795166015625,1857.6986083984375,1894.15771484375,1899.83740234375,1888.124267578125,1889.3223876953125,2120.56103515625,2078.289794921875,2052.7138671875,2045.18701171875,2055.265380859375,1979.0526123046875,2060.408447265625,1960.881591796875,1961.28076171875,1963.2850341796875,2013.2044677734375,2022.2391357421875,1937.0667724609375,2064.42529296875,2062.210693359375,2081.152099609375,2084.4130859375,2063.2861328125,2027.4173583984375,2049.338134765625,2029.92919921875,2052.55615234375,2087.139892578125,2165.7041015625,2193.691650390625,2243.2158203125,2293.841796875,2231.661376953125,2357.57958984375,2358.73193359375,2341.17529296875,2352.462646484375,2224.578857421875,2202.0380859375,2260.648681640625,2316.5791015625,2219.33740234375,2226.926513671875,2196.481201171875,2217.2734375,2177.87255859375,2201.911376953125,2239.54248046875,2326.52490234375,2309.04638671875,2265.692138671875,2272.561767578125,2231.46533203125,2378.739990234375,2347.566162109375,2300.690673828125,2292.0654296875,2281.47119140625,2352.327880859375,2355.83642578125,2210.761962890625,2269.0380859375,2268.647216796875,2241.624755859375,2222.865966796875,2333.03271484375,2344.8271484375,2582.103515625,2619.619140625,2524.460205078125,2576.597900390625,2472.2412109375,2511.36376953125,2587.691162109375,2528.369384765625,2467.018798828125,2489.49853515625,2469.589111328125,2453.9130859375,2310.826416015625,2240.68603515625,2233.561767578125,2217.710205078125,2267.19970703125,2267.885986328125,2257.208740234375,2317.064208984375,2344.49365234375,2282.54443359375,2303.82470703125,2308.0380859375,2296.038330078125,2289.546142578125,2298.888916015625,2372.201904296875,2423.7451171875,2419.906494140625,2487.515625,2501.228271484375,2507.570556640625,2658.115966796875,2642.185302734375,2777.90234375,2824.37890625,2803.69140625,2786.672607421875,2878.998046875,2943.57470703125,3013.503662109375,2970.35546875,2971.00732421875,2921.658203125,2992.385986328125,3112.697265625,3178.99365234375,3244.519287109375,3385.703857421875,3341.919677734375,3435.053955078125,3422.0498046875,3490.99365234375,3630.433837890625,3554.964599609375,3819.226318359375,3874.34765625,3892.06103515625,3915.4189453125,3881.193115234375,4066.445068359375,3980.273193359375,4006.45703125,3883.140380859375,3735.22021484375,3522.860107421875,3642.4130859375],\"high\":[3263.15576171875,3271.316162109375,3127.45068359375,2980.079345703125,2947.776611328125,2957.963623046875,3185.520751953125,3181.616943359375,3154.615234375,2937.30859375,2826.347900390625,2763.756591796875,2752.45849609375,2648.916748046875,2741.368408203125,2689.047607421875,2821.972412109375,2849.424072265625,2831.12548828125,2929.180419921875,3029.651611328125,3026.8681640625,2964.67333984375,2835.17626953125,2679.1025390625,2673.63720703125,2639.943115234375,2618.166015625,2761.79638671875,2729.116455078125,2664.55859375,2606.438720703125,2594.5498046875,2604.034423828125,2662.32958984375,2781.30712890625,2826.16064453125,2973.6162109375,2979.987060546875,2956.965576171875,2954.556640625,3040.3828125,3036.752197265625,3118.3876953125,3183.9580078125,3146.825439453125,3291.57763671875,3424.019287109375,3470.186279296875,3435.2861328125,3435.12841796875,3467.555908203125,3521.28466796875,3573.960205078125,3535.148193359375,3546.706787109375,3411.672119140625,3263.474609375,3301.607421875,3261.963134765625,3303.003173828125,3214.4619140625,3077.45263671875,3123.575439453125,3139.9287109375,3044.287353515625,3074.886962890625,3075.77587890625,3062.52099609375,3125.084228515625,3157.8857421875,3173.451416015625,3024.8544921875,2975.32275390625,2961.882080078125,3018.41552734375,3026.4150390625,2911.87744140625,2973.135009765625,2943.44580078125,2836.82763671875,2838.704345703125,2874.14599609375,2859.193359375,2956.686767578125,2948.960693359375,2754.837646484375,2696.65283203125,2638.83056640625,2528.258056640625,2450.76025390625,2441.079345703125,2170.4580078125,2139.71337890625,2063.429931640625,2147.1943359375,2145.8369140625,2113.059814453125,2102.32666015625,2028.38818359375,2054.7958984375,1985.39599609375,2047.19140625,2080.33349609375,1991.5355224609375,2014.3695068359375,1962.171142578125,1814.656494140625,1757.9417724609375,1818.776611328125,2005.2108154296875,2005.490966796875,1965.1666259765625,1845.31396484375,1840.058837890625,1810.2996826171875,1825.859619140625,1915.030517578125,1862.9149169921875,1830.676025390625,1827.2930908203125,1797.6077880859375,1679.314208984375,1539.705078125,1448.738037109375,1252.4718017578125,1236.6275634765625,1246.140625,1112.4715576171875,1095.1668701171875,1142.3408203125,1159.9853515625,1185.4324951171875,1126.26171875,1146.4942626953125,1238.616943359375,1246.394287109375,1272.1312255859375,1234.1807861328125,1229.739013671875,1152.684814453125,1103.6904296875,1100.223876953125,1073.0526123046875,1083.4189453125,1152.94384765625,1165.6827392578125,1193.63671875,1246.8948974609375,1262.8857421875,1228.7679443359375,1216.9044189453125,1169.19384765625,1097.2591552734375,1113.587158203125,1202.953369140625,1275.7781982421875,1377.944580078125,1378.41748046875,1578.7178955078125,1607.0330810546875,1612.645751953125,1595.761962890625,1641.209228515625,1591.632568359375,1654.4287109375,1605.3369140625,1445.151123046875,1636.7994384765625,1774.576416015625,1759.884033203125,1738.016845703125,1745.8831787109375,1700.1708984375,1672.6297607421875,1678.0982666015625,1658.5115966796875,1732.254638671875,1744.326416015625,1724.7891845703125,1806.886474609375,1786.12255859375,1869.400634765625,1927.939208984375,1957.552978515625,2013.7557373046875,2022.79150390625,2007.2103271484375,1910.745361328125,1951.6756591796875,1876.376953125,1847.0953369140625,1652.21875,1640.9365234375,1622.77880859375,1666.676513671875,1686.5577392578125,1718.1832275390625,1698.56103515625,1517.1500244140625,1505.7919921875,1556.3095703125,1600.461181640625,1612.35888671875,1593.082763671875,1643.1832275390625,1579.454345703125,1578.00927734375,1621.661376953125,1680.5953369140625,1651.0511474609375,1655.0640869140625,1735.809814453125,1784.497802734375,1782.7298583984375,1778.1634521484375,1745.779052734375,1642.1572265625,1648.9456787109375,1480.564208984375,1473.0604248046875,1469.7054443359375,1388.272216796875,1381.9656982421875,1384.4769287109375,1336.1578369140625,1353.288330078125,1346.2552490234375,1333.371337890625,1335.5263671875,1396.8914794921875,1351.9644775390625,1348.107666015625,1368.743408203125,1332.5164794921875,1316.330078125,1326.554443359375,1364.970947265625,1362.4517822265625,1380.4049072265625,1359.328125,1335.954833984375,1327.6688232421875,1335.6627197265625,1296.27392578125,1303.0751953125,1297.564208984375,1339.7447509765625,1300.7459716796875,1312.634521484375,1335.6478271484375,1339.0859375,1312.4423828125,1307.8551025390625,1305.081298828125,1317.10107421875,1367.7607421875,1368.425537109375,1509.9854736328125,1584.63671875,1574.4034423828125,1568.6339111328125,1652.3822021484375,1637.037841796875,1630.452880859375,1606.605712890625,1613.41064453125,1556.7596435546875,1661.334716796875,1660.4864501953125,1634.1324462890625,1604.475341796875,1574.7998046875,1335.7435302734375,1341.7911376953125,1302.2952880859375,1288.15087890625,1271.7125244140625,1284.2176513671875,1283.19873046875,1264.486328125,1224.9656982421875,1226.7374267578125,1227.8372802734375,1224.0777587890625,1142.395751953125,1136.442626953125,1184.997314453125,1211.62744140625,1203.7994384765625,1227.0380859375,1220.3494873046875,1198.7376708984375,1222.1641845703125,1302.0386962890625,1295.9998779296875,1294.3033447265625,1299.84033203125,1281.4923095703125,1302.237548828125,1271.9232177734375,1272.694091796875,1286.229736328125,1290.055419921875,1279.5279541015625,1281.783203125,1275.6103515625,1341.4393310546875,1346.1744384765625,1311.067138671875,1278.156982421875,1189.0450439453125,1194.2144775390625,1192.923828125,1224.0926513671875,1218.1922607421875,1221.98681640625,1226.998779296875,1224.91162109375,1223.517822265625,1226.974365234375,1230.4180908203125,1213.12890625,1204.1416015625,1202.03466796875,1205.088623046875,1203.475341796875,1219.860595703125,1219.0953369140625,1264.8074951171875,1258.571533203125,1273.2203369140625,1270.5982666015625,1287.3594970703125,1342.1441650390625,1342.7572021484375,1387.9327392578125,1432.28125,1461.6727294921875,1563.7391357421875,1556.9508056640625,1594.039794921875,1594.0009765625,1602.106689453125,1557.9703369140625,1659.8857421875,1674.1793212890625,1658.0234375,1641.2181396484375,1639.723876953125,1632.24169921875,1626.1982421875,1617.0008544921875,1604.7041015625,1653.7249755859375,1646.651611328125,1598.517578125,1644.7275390625,1704.4581298828125,1670.6968994140625,1690.099609375,1671.770263671875,1653.7154541015625,1673.7978515625,1688.5272216796875,1655.23486328125,1553.32568359375,1541.334716796875,1545.55419921875,1524.7314453125,1562.0343017578125,1674.289794921875,1732.8011474609375,1716.7818603515625,1705.30908203125,1718.9476318359375,1716.4893798828125,1714.28564453125,1663.996826171875,1674.6015625,1661.09130859375,1608.8651123046875,1645.2734375,1662.57568359375,1644.435791015625,1663.4337158203125,1672.0511474609375,1648.475341796875,1575.63720703125,1584.2088623046875,1579.456298828125,1579.1622314453125,1568.17529296875,1544.1083984375,1438.7601318359375,1484.136962890625,1607.152587890625,1699.9117431640625,1779.9178466796875,1721.0792236328125,1693.1392822265625,1799.343994140625,1840.3575439453125,1843.8441162109375,1807.7252197265625,1836.28857421875,1821.458251953125,1853.8880615234375,1819.935302734375,1762.674560546875,1797.8802490234375,1781.3792724609375,1791.1109619140625,1825.6009521484375,1827.2802734375,1844.6773681640625,1840.173095703125,1824.328857421875,1839.1578369140625,1886.5946044921875,1937.49755859375,1909.271728515625,1882.2991943359375,1879.1077880859375,1873.057373046875,1917.3001708984375,1936.728271484375,1929.8812255859375,2022.150146484375,2126.316650390625,2111.075439453125,2137.445068359375,2120.113525390625,2121.531494140625,2104.857177734375,1979.5733642578125,1955.649169921875,1886.7816162109375,1882.229736328125,1888.1937255859375,1877.4849853515625,1962.567626953125,1936.9451904296875,1923.19921875,1916.9737548828125,1938.41796875,1886.2064208984375,1879.759521484375,1915.504150390625,1915.8717041015625,1998.41357421875,2017.5594482421875,1933.9984130859375,1886.162109375,1860.66748046875,1886.80029296875,1842.4920654296875,1812.4249267578125,1816.0584716796875,1823.49072265625,1845.6954345703125,1830.3515625,1835.5545654296875,1831.4503173828125,1826.1942138671875,1829.0096435546875,1827.9219970703125,1826.696533203125,1869.343994140625,1854.2996826171875,1815.9947509765625,1837.8658447265625,1836.1845703125,1915.7232666015625,1926.4217529296875,1916.574951171875,1907.035400390625,1887.705322265625,1910.2784423828125,1908.822265625,1912.2056884765625,1890.6405029296875,1896.22265625,1893.80908203125,1861.1361083984375,1854.824951171875,1844.78564453125,1776.84716796875,1757.6597900390625,1761.9554443359375,1749.1632080078125,1676.4066162109375,1727.28955078125,1766.76318359375,1746.5091552734375,1745.1346435546875,1793.31396484375,1898.6689453125,1932.0655517578125,1932.5316162109375,1905.2274169921875,1929.0791015625,1905.3604736328125,1911.3111572265625,1890.208984375,1876.5302734375,1945.2742919921875,1942.7015380859375,1958.1607666015625,1974.7750244140625,1966.3653564453125,1942.4324951171875,1956.0123291015625,1876.9632568359375,1872.5015869140625,1878.6689453125,1905.4608154296875,1889.3817138671875,1901.1484375,2011.88525390625,2026.2049560546875,1946.0191650390625,1942.0308837890625,1936.1776123046875,1916.4683837890625,1919.264404296875,1919.264404296875,1905.38623046875,1897.0880126953125,1904.4832763671875,1889.761962890625,1867.3232421875,1886.97412109375,1885.591552734375,1881.457275390625,1885.529296875,1884.1441650390625,1875.62939453125,1873.0299072265625,1877.511474609375,1856.4075927734375,1847.9122314453125,1836.46484375,1836.2489013671875,1842.5225830078125,1873.84716796875,1869.736572265625,1863.3109130859375,1855.0660400390625,1852.281005859375,1859.9163818359375,1853.8363037109375,1845.547607421875,1829.3612060546875,1807.71484375,1698.124267578125,1693.2281494140625,1692.3287353515625,1685.0826416015625,1668.638671875,1696.593994140625,1682.48974609375,1671.970703125,1654.7777099609375,1659.26708984375,1659.3287353515625,1742.6373291015625,1730.564697265625,1720.011962890625,1653.53173828125,1644.0306396484375,1645.6451416015625,1642.6531982421875,1645.9483642578125,1656.9327392578125,1657.3037109375,1657.1363525390625,1636.8707275390625,1635.43310546875,1618.3057861328125,1619.114013671875,1615.05029296875,1640.522705078125,1652.1131591796875,1649.9886474609375,1635.512939453125,1669.015380859375,1659.53173828125,1649.619140625,1625.20458984375,1601.5377197265625,1598.001708984375,1600.207275390625,1595.8441162109375,1598.0977783203125,1631.9107666015625,1666.024169921875,1687.28125,1692.5311279296875,1750.595703125,1743.5635986328125,1670.3563232421875,1657.2535400390625,1654.3790283203125,1659.60986328125,1648.1837158203125,1641.182373046875,1635.4478759765625,1593.7413330078125,1578.2235107421875,1566.878173828125,1571.7506103515625,1560.3250732421875,1565.7608642578125,1628.15625,1601.294677734375,1584.7269287109375,1573.7376708984375,1628.6090087890625,1641.2418212890625,1667.6666259765625,1794.0704345703125,1852.6844482421875,1814.4847412109375,1865.09521484375,1804.1358642578125,1800.6053466796875,1810.4886474609375,1829.24951171875,1819.97265625,1858.3128662109375,1873.885009765625,1835.072509765625,1867.2613525390625,1911.608642578125,1914.5826416015625,1907.5614013671875,1904.5462646484375,2130.88525390625,2134.69140625,2089.530517578125,2066.00341796875,2116.0107421875,2065.06689453125,2061.99169921875,2088.662353515625,1990.050537109375,1971.4622802734375,2015.6339111328125,2066.409912109375,2035.035888671875,2089.51416015625,2088.031982421875,2132.481201171875,2091.3427734375,2094.095947265625,2070.606201171875,2074.9541015625,2071.994384765625,2054.4443359375,2109.319091796875,2182.81787109375,2213.17578125,2273.06982421875,2306.5703125,2310.713134765625,2380.729736328125,2387.514404296875,2401.760498046875,2376.749755859375,2354.9140625,2242.55126953125,2283.09912109375,2331.6015625,2316.892822265625,2260.809814453125,2244.366455078125,2222.019287109375,2253.348876953125,2263.3291015625,2278.12158203125,2341.947509765625,2332.072021484375,2325.705078125,2303.551025390625,2274.557373046875,2392.608642578125,2445.017578125,2386.004638671875,2322.021484375,2318.512939453125,2352.327880859375,2431.21240234375,2385.11767578125,2294.608154296875,2276.7646484375,2271.359375,2257.1279296875,2358.815673828125,2369.6416015625,2626.976806640625,2687.779052734375,2710.421875,2589.079833984375,2578.332275390625,2550.76904296875,2613.56689453125,2592.737060546875,2546.263916015625,2501.30517578125,2489.84765625,2479.760498046875,2463.447265625,2348.03125,2261.384521484375,2240.380859375,2280.3837890625,2282.54443359375,2306.898681640625,2320.02734375,2388.87060546875,2349.611328125,2309.842529296875,2323.053466796875,2327.346923828125,2309.01123046875,2334.6767578125,2389.826171875,2442.63623046875,2459.556640625,2522.724609375,2516.7197265625,2537.67919921875,2663.8427734375,2686.455078125,2786.8935546875,2865.845458984375,2858.450439453125,2805.128662109375,2892.843505859375,2983.37060546875,3031.5244140625,3017.1904296875,3030.666015625,2991.32958984375,3003.195068359375,3117.428955078125,3197.375,3287.9580078125,3485.450927734375,3518.96923828125,3452.626220703125,3459.747314453125,3491.16845703125,3641.459228515625,3828.15966796875,3901.434326171875,3939.593994140625,3998.826416015625,3950.396484375,3968.7236328125,4087.050048828125,4092.2841796875,4083.00732421875,4011.102783203125,3928.775634765625,3780.89453125,3676.263427734375],\"low\":[3063.16015625,3070.378173828125,2888.707763671875,2870.177001953125,2845.397705078125,2840.257568359375,2917.857177734375,3055.168212890625,2861.85205078125,2761.643310546875,2707.37841796875,2585.9462890625,2568.25439453125,2510.6787109375,2587.412841796875,2308.914794921875,2579.2080078125,2745.009033203125,2581.61572265625,2586.38818359375,2868.93896484375,2919.943115234375,2797.3193359375,2587.748291015625,2596.989990234375,2555.037353515625,2455.59375,2489.755126953125,2573.6552734375,2566.193115234375,2534.688232421875,2559.126953125,2503.88525390625,2505.29931640625,2515.765869140625,2610.764404296875,2751.560791015625,2774.855712890625,2910.80224609375,2826.107421875,2838.25048828125,2892.54443359375,2933.306640625,3012.32666015625,3087.49072265625,3091.825439453125,3129.997802734375,3279.027099609375,3335.021240234375,3349.237060546875,3272.9345703125,3223.891357421875,3442.000244140625,3421.259765625,3422.0009765625,3410.547607421875,3171.205078125,3155.5810546875,3179.142333984375,3187.46923828125,3211.866943359375,2962.756591796875,2957.872314453125,3006.481689453125,2988.435302734375,3001.123291015625,3016.421142578125,2989.0439453125,2893.912841796875,3035.53515625,3045.288330078125,2962.410400390625,2942.358642578125,2926.740234375,2922.128662109375,2804.507080078125,2786.253173828125,2802.2734375,2861.821533203125,2782.435302734375,2727.40625,2728.078857421875,2785.52294921875,2762.11865234375,2779.273681640625,2704.916259765625,2645.335205078125,2599.5234375,2498.43017578125,2238.062744140625,2206.7568359375,2018.8555908203125,1748.3031005859375,1941.9759521484375,1956.572998046875,2008.1627197265625,1988.811767578125,2015.9715576171875,1916.6561279296875,1907.0205078125,1926.6767578125,1944.26513671875,1966.038818359375,1964.3865966796875,1920.6881103515625,1943.9385986328125,1759.1995849609375,1721.2647705078125,1724.635986328125,1765.9373779296875,1804.4560546875,1932.35205078125,1776.05322265625,1789.6641845703125,1746.509765625,1751.5333251953125,1777.13330078125,1804.990234375,1729.41357421875,1770.231201171875,1779.8675537109375,1663.4339599609375,1507.0389404296875,1436.1839599609375,1181.9482421875,1094.701904296875,1025.6842041015625,1058.7845458984375,1060.86767578125,896.1090087890625,943.1163330078125,1066.1131591796875,1112.5726318359375,1049.7633056640625,1050.2196044921875,1134.5140380859375,1184.56201171875,1199.4063720703125,1179.79248046875,1141.15966796875,1092.09912109375,1009.0948486328125,1040.1507568359375,1033.962158203125,1044.005615234375,1048.3963623046875,1086.8299560546875,1116.24755859375,1165.6231689453125,1200.6322021484375,1209.3775634765625,1157.175537109375,1095.0028076171875,1038.1356201171875,1019.2203369140625,1077.40576171875,1182.9031982421875,1195.60595703125,1329.7633056640625,1338.8060302734375,1501.7974853515625,1500.80322265625,1472.1854248046875,1523.6417236328125,1495.6781005859375,1548.671142578125,1445.3834228515625,1362.95166015625,1423.618896484375,1604.8909912109375,1662.7911376953125,1678.1080322265625,1672.61279296875,1613.416015625,1567.85107421875,1595.634521484375,1585.3265380859375,1606.4970703125,1691.6580810546875,1672.908447265625,1697.407958984375,1675.849853515625,1665.0904541015625,1851.828369140625,1860.08349609375,1948.59521484375,1919.0101318359375,1881.8568115234375,1862.2734375,1823.5322265625,1826.957763671875,1611.3388671875,1534.298828125,1569.0465087890625,1535.0147705078125,1569.4285888671875,1610.0992431640625,1656.8560791015625,1498.771240234375,1454.282958984375,1430.54736328125,1427.7283935546875,1480.831787109375,1524.2864990234375,1520.1883544921875,1551.8779296875,1541.672119140625,1543.6988525390625,1559.7818603515625,1561.74853515625,1500.013671875,1603.0638427734375,1632.8365478515625,1710.2969970703125,1730.164794921875,1698.29345703125,1564.0318603515625,1564.0318603515625,1466.139404296875,1415.581298828125,1415.0423583984375,1331.4947509765625,1287.4208984375,1319.201416015625,1229.4267578125,1240.96826171875,1270.1983642578125,1312.6402587890625,1275.627685546875,1282.04931640625,1308.991455078125,1267.8692626953125,1293.193359375,1320.3831787109375,1306.1025390625,1275.3360595703125,1271.15087890625,1320.07666015625,1320.8551025390625,1349.449951171875,1321.74609375,1307.072998046875,1309.3446044921875,1291.337646484375,1272.7376708984375,1277.5274658203125,1209.2781982421875,1285.3782958984375,1268.468505859375,1275.0054931640625,1297.447265625,1291.66064453125,1283.96533203125,1275.323974609375,1260.666748046875,1295.9468994140625,1302.9088134765625,1327.85400390625,1336.9788818359375,1460.4287109375,1510.8167724609375,1493.87109375,1549.983642578125,1579.4852294921875,1555.9189453125,1568.0985107421875,1507.2447509765625,1517.1016845703125,1529.2684326171875,1625.9642333984375,1572.2347412109375,1550.41552734375,1259.443115234375,1083.28564453125,1093.12255859375,1211.32958984375,1242.1522216796875,1208.52099609375,1178.4290771484375,1238.688232421875,1192.98779296875,1189.1527099609375,1200.8021240234375,1200.4755859375,1137.9332275390625,1084.8572998046875,1081.13818359375,1130.0228271484375,1180.3797607421875,1174.8233642578125,1198.097900390625,1195.0390625,1156.0625,1163.4775390625,1215.4979248046875,1267.70849609375,1269.2431640625,1241.431884765625,1242.9117431640625,1252.472412109375,1247.6298828125,1224.447998046875,1226.3585205078125,1260.8187255859375,1262.119873046875,1260.6636962890625,1243.477783203125,1258.472412109375,1305.8333740234375,1262.6893310546875,1162.1756591796875,1165.4078369140625,1176.185791015625,1160.377197265625,1165.5994873046875,1206.4400634765625,1187.1278076171875,1215.994873046875,1216.3387451171875,1203.7196044921875,1214.3359375,1205.8956298828125,1185.7021484375,1188.3602294921875,1187.4625244140625,1194.2037353515625,1192.8853759765625,1195.2149658203125,1207.4915771484375,1213.1688232421875,1245.173095703125,1240.947509765625,1262.2711181640625,1260.226806640625,1286.6807861328125,1318.5272216796875,1323.5831298828125,1378.422119140625,1404.02392578125,1450.9884033203125,1520.893798828125,1529.5736083984375,1553.3359375,1509.4228515625,1514.3800048828125,1544.9178466796875,1626.81298828125,1612.085693359375,1607.903076171875,1551.3897705078125,1530.7978515625,1586.59814453125,1565.2449951171875,1565.39013671875,1568.98486328125,1546.6607666015625,1563.8043212890625,1566.8572998046875,1641.3226318359375,1634.223388671875,1648.189208984375,1616.391845703125,1611.319091796875,1614.863037109375,1635.2650146484375,1537.1822509765625,1504.83447265625,1510.14697265625,1501.4620361328125,1470.02392578125,1497.1944580078125,1545.689697265625,1638.1455078125,1636.173828125,1683.670166015625,1673.9066162109375,1659.2950439453125,1642.396728515625,1604.8033447265625,1632.566162109375,1583.1478271484375,1567.6317138671875,1590.39306640625,1615.387939453125,1602.4281005859375,1601.548583984375,1622.5999755859375,1552.4515380859375,1551.73681640625,1559.9541015625,1557.363525390625,1543.1275634765625,1534.0882568359375,1423.2647705078125,1378.525390625,1428.72314453125,1461.6109619140625,1572.07470703125,1665.90234375,1616.63037109375,1639.26171875,1667.1318359375,1751.2628173828125,1762.9632568359375,1728.103759765625,1725.00732421875,1717.76513671875,1732.524658203125,1730.3494873046875,1716.6519775390625,1741.182861328125,1690.5166015625,1702.564697265625,1772.89990234375,1766.2489013671875,1783.1422119140625,1811.1185302734375,1774.8724365234375,1765.5189208984375,1802.9554443359375,1865.94189453125,1857.0850830078125,1845.993896484375,1848.87548828125,1828.7000732421875,1848.1641845703125,1886.5341796875,1860.036865234375,1901.8603515625,2011.5032958984375,2076.5107421875,2076.83203125,2063.03857421875,2057.65380859375,1928.5828857421875,1918.1328125,1827.7889404296875,1845.8492431640625,1838.992431640625,1811.7921142578125,1805.3228759765625,1792.4638671875,1863.14794921875,1876.2918701171875,1887.990478515625,1876.92431640625,1809.1932373046875,1824.3270263671875,1845.871826171875,1868.6297607421875,1876.9466552734375,1870.6055908203125,1873.076416015625,1818.4505615234375,1832.906982421875,1795.6688232421875,1774.132568359375,1742.40380859375,1788.4755859375,1793.228759765625,1787.536376953125,1797.84375,1786.6719970703125,1774.195068359375,1797.4344482421875,1808.0467529296875,1799.9468994140625,1793.2239990234375,1816.2879638671875,1780.925537109375,1763.3651123046875,1798.406005859375,1817.4920654296875,1825.46728515625,1879.0775146484375,1883.9346923828125,1852.0947265625,1846.2274169921875,1851.9647216796875,1885.4854736328125,1885.65185546875,1780.2115478515625,1801.4052734375,1822.3031005859375,1830.1650390625,1828.5445556640625,1721.443115234375,1741.1104736328125,1722.9063720703125,1727.7498779296875,1637.187744140625,1624.1383056640625,1653.1708984375,1714.15087890625,1718.1114501953125,1705.8134765625,1715.342529296875,1788.4892578125,1867.8765869140625,1865.1920166015625,1867.8115234375,1870.85009765625,1840.215087890625,1856.83837890625,1822.102783203125,1828.059326171875,1831.281005859375,1910.8486328125,1895.906982421875,1934.6888427734375,1932.611328125,1897.124755859375,1847.8507080078125,1832.025390625,1844.6417236328125,1857.748291015625,1848.7772216796875,1863.2186279296875,1865.7100830078125,1864.49609375,1901.3612060546875,1928.1873779296875,1917.2940673828125,1875.120361328125,1878.718505859375,1883.067138671875,1879.734375,1885.2962646484375,1855.0927734375,1859.56884765625,1836.8524169921875,1845.9815673828125,1849.4368896484375,1855.321533203125,1857.0489501953125,1870.3338623046875,1851.72802734375,1851.9154052734375,1817.9207763671875,1822.3482666015625,1825.3477783203125,1817.413818359375,1824.8079833984375,1824.9866943359375,1804.7166748046875,1824.4300537109375,1845.48974609375,1845.4422607421875,1839.5692138671875,1845.71923828125,1834.8043212890625,1834.8004150390625,1816.3250732421875,1798.9666748046875,1551.7132568359375,1644.930908203125,1654.0758056640625,1662.9014892578125,1651.9598388671875,1596.384033203125,1629.5810546875,1641.6270751953125,1635.9674072265625,1643.712646484375,1645.90283203125,1627.44677734375,1639.576171875,1697.147216796875,1634.8509521484375,1603.0341796875,1627.97607421875,1626.0892333984375,1618.523681640625,1610.1412353515625,1611.147705078125,1623.220458984375,1617.7965087890625,1629.660888671875,1604.04052734375,1533.4267578125,1549.4937744140625,1582.217529296875,1607.7353515625,1613.2486572265625,1632.577880859375,1616.779296875,1609.9573974609375,1628.4132080078125,1610.4207763671875,1573.3057861328125,1579.101318359375,1588.3289794921875,1576.7833251953125,1565.0255126953125,1580.16552734375,1585.368896484375,1597.294677734375,1648.656494140625,1666.5638427734375,1670.0821533203125,1646.07763671875,1644.4964599609375,1629.4266357421875,1609.8499755859375,1611.36572265625,1631.158203125,1618.189208984375,1553.0069580078125,1553.03173828125,1548.98046875,1523.237548828125,1537.921142578125,1545.73876953125,1550.5545654296875,1555.9896240234375,1554.4029541015625,1556.736328125,1543.5850830078125,1562.3028564453125,1593.447998046875,1623.9847412109375,1663.447998046875,1758.6900634765625,1762.1470947265625,1764.0130615234375,1751.4400634765625,1773.4366455078125,1766.052978515625,1779.364501953125,1784.567626953125,1786.4095458984375,1790.11474609375,1779.635498046875,1825.736572265625,1848.6201171875,1871.9730224609375,1852.7908935546875,1874.545654296875,1884.204345703125,2068.13427734375,2035.0821533203125,2019.028076171875,2031.9542236328125,1939.2803955078125,1968.774658203125,1940.57421875,1910.4454345703125,1921.0623779296875,1944.90087890625,1996.0443115234375,1937.0667724609375,1933.1629638671875,2041.4642333984375,2060.9990234375,2067.917236328125,2038.6004638671875,1988.120361328125,1996.814697265625,2020.756591796875,2022.4617919921875,2046.5570068359375,2087.407958984375,2151.720947265625,2193.00732421875,2191.17626953125,2225.0810546875,2225.050537109375,2340.92041015625,2331.666015625,2323.40576171875,2160.358154296875,2166.77001953125,2150.75439453125,2239.3662109375,2214.26318359375,2213.55078125,2195.76171875,2120.12744140625,2139.723388671875,2161.21875,2184.856689453125,2233.53271484375,2270.428955078125,2249.984375,2254.574462890625,2180.225341796875,2215.140380859375,2338.703857421875,2262.975830078125,2270.011962890625,2261.394287109375,2267.01806640625,2348.892333984375,2113.92529296875,2204.86572265625,2209.537109375,2219.781982421875,2211.5625,2171.99365234375,2243.21923828125,2341.943115234375,2567.99365234375,2460.925537109375,2498.594482421875,2470.42431640625,2470.82080078125,2500.00390625,2508.432861328125,2426.135498046875,2414.7109375,2456.095703125,2452.377685546875,2303.502685546875,2167.282470703125,2197.65673828125,2173.6865234375,2196.14013671875,2252.38525390625,2242.683837890625,2237.711669921875,2298.281982421875,2264.443603515625,2243.57177734375,2282.230224609375,2293.5380859375,2272.304931640625,2270.06787109375,2296.78857421875,2353.7060546875,2414.74951171875,2419.36279296875,2475.857666015625,2495.21435546875,2473.81201171875,2599.16943359375,2621.025390625,2764.010498046875,2760.3310546875,2724.386962890625,2767.9130859375,2860.263671875,2879.9033203125,2875.41845703125,2907.109375,2906.583740234375,2907.70068359375,2984.39306640625,3037.95458984375,3167.83056640625,3201.575927734375,3303.9052734375,3341.85107421875,3398.89892578125,3372.214111328125,3446.017578125,3224.119384765625,3502.802490234375,3738.685302734375,3828.36328125,3880.658935546875,3800.564453125,3745.125244140625,3831.889892578125,3936.627197265625,3721.78857421875,3571.774658203125,3468.079345703125,3414.17236328125],\"open\":[3121.1826171875,3240.113037109375,3077.4130859375,2927.386474609375,2916.78955078125,2880.187744140625,2933.72900390625,3180.44677734375,3126.8583984375,2884.340576171875,2784.872802734375,2763.756591796875,2627.66552734375,2572.898681640625,2639.447021484375,2588.166259765625,2598.436279296875,2764.989501953125,2780.50439453125,2621.172119140625,2919.77587890625,2972.471923828125,2950.15673828125,2834.9873046875,2618.4736328125,2664.943603515625,2555.297607421875,2497.721435546875,2577.165283203125,2729.116455078125,2608.271240234375,2559.66064453125,2573.488037109375,2518.486328125,2590.6689453125,2620.028564453125,2771.964111328125,2814.4345703125,2944.7216796875,2946.547607421875,2860.103271484375,2897.774169921875,2973.14501953125,3031.060791015625,3108.448974609375,3106.4052734375,3143.795654296875,3292.322509765625,3335.021240234375,3401.526123046875,3385.289306640625,3282.576171875,3449.78857421875,3444.810546875,3522.364990234375,3521.23974609375,3411.672119140625,3172.197265625,3233.2724609375,3191.97607421875,3261.29150390625,3209.576904296875,2981.420654296875,3029.8779296875,3117.82177734375,3020.134521484375,3041.123291015625,3061.8818359375,2993.48388671875,3057.5703125,3103.93505859375,3077.829345703125,2986.938720703125,2964.80224609375,2937.34716796875,2922.990234375,3008.9462890625,2808.64599609375,2888.849853515625,2936.776611328125,2815.533447265625,2729.994140625,2827.614013671875,2857.15234375,2783.131103515625,2940.2265625,2748.931640625,2694.991943359375,2636.121826171875,2518.50830078125,2242.650390625,2342.754150390625,2072.504638671875,1960.12255859375,2014.2806396484375,2056.18310546875,2145.8369140625,2022.88232421875,2090.4599609375,1916.1495361328125,2018.0001220703125,1961.0179443359375,1974.670654296875,2042.3447265625,1972.390869140625,1978.677001953125,1945.0333251953125,1802.5438232421875,1724.635986328125,1792.1844482421875,1811.885986328125,1996.4080810546875,1942.0506591796875,1822.412109375,1834.135009765625,1775.2208251953125,1801.8189697265625,1805.635986328125,1859.333740234375,1814.1007080078125,1793.5128173828125,1789.68994140625,1665.2178955078125,1530.189697265625,1443.83544921875,1204.5552978515625,1211.365966796875,1233.603515625,1067.9876708984375,1086.3779296875,993.400634765625,1127.65625,1127.5118408203125,1125.3729248046875,1051.329345703125,1143.2047119140625,1226.7247314453125,1242.987548828125,1199.713134765625,1193.2540283203125,1144.5244140625,1099.3531494140625,1068.3167724609375,1060.1212158203125,1066.4674072265625,1073.7943115234375,1150.509765625,1134.822265625,1186.9609375,1237.580322265625,1222.306884765625,1216.9044189453125,1168.1390380859375,1097.2591552734375,1038.1866455078125,1113.5157470703125,1191.6748046875,1232.7916259765625,1353.205078125,1338.8060302734375,1578.3839111328125,1542.954345703125,1520.37451171875,1576.745361328125,1536.4573974609375,1549.2225341796875,1599.1572265625,1445.151123046875,1443.726806640625,1636.23193359375,1725.6239013671875,1727.0618896484375,1695.884765625,1681.445556640625,1634.6458740234375,1633.05126953125,1618.88671875,1607.52392578125,1732.6611328125,1691.7779541015625,1699.6934814453125,1776.0712890625,1702.906494140625,1851.828369140625,1880.899169921875,1957.333984375,1981.782470703125,1936.760498046875,1902.8331298828125,1877.934326171875,1833.715576171875,1847.0953369140625,1612.650634765625,1576.5435791015625,1619.1668701171875,1622.9393310546875,1662.6954345703125,1657.3365478515625,1696.3245849609375,1508.156982421875,1491.206787109375,1430.439453125,1553.18896484375,1524.2864990234375,1553.75634765625,1586.0179443359375,1577.2137451171875,1556.8958740234375,1577.884033203125,1617.240234375,1560.90673828125,1629.80517578125,1635.187744140625,1718.9613037109375,1775.97607421875,1762.0848388671875,1713.9625244140625,1574.858154296875,1635.0830078125,1471.9283447265625,1432.87646484375,1469.7054443359375,1335.270751953125,1377.6190185546875,1324.215576171875,1251.5673828125,1327.481201171875,1328.24462890625,1317.9384765625,1294.3861083984375,1335.3370361328125,1329.5413818359375,1337.554443359375,1335.646484375,1328.1937255859375,1311.75341796875,1276.1634521484375,1323.2783203125,1361.972900390625,1352.806640625,1351.83642578125,1332.371337890625,1315.460205078125,1322.61865234375,1291.109619140625,1279.7322998046875,1294.9173583984375,1288.0487060546875,1297.305908203125,1275.0054931640625,1306.3095703125,1331.669921875,1310.5631103515625,1285.6602783203125,1283.1881103515625,1299.90234375,1314.24951171875,1363.4918212890625,1344.7113037109375,1461.1331787109375,1566.8414306640625,1514.3231201171875,1555.274658203125,1619.6978759765625,1590.4813232421875,1572.6453857421875,1579.4979248046875,1519.724853515625,1531.3975830078125,1645.156494140625,1627.901123046875,1572.0169677734375,1568.32958984375,1333.1224365234375,1100.107177734375,1298.8824462890625,1287.4383544921875,1255.4412841796875,1221.8955078125,1241.677734375,1251.808837890625,1215.8486328125,1200.8021240234375,1212.2154541015625,1218.436279296875,1142.395751953125,1107.89599609375,1135.4215087890625,1183.3450927734375,1203.7994384765625,1198.79052734375,1205.9052734375,1194.9603271484375,1169.8743896484375,1216.9287109375,1295.76953125,1276.32861328125,1294.45654296875,1243.21923828125,1279.9989013671875,1259.854248046875,1271.5531005859375,1232.4517822265625,1281.0772705078125,1264.37548828125,1266.4178466796875,1263.573486328125,1274.6624755859375,1320.6885986328125,1309.1907958984375,1266.4605712890625,1168.0667724609375,1188.1285400390625,1184.75830078125,1167.8826904296875,1217.58642578125,1213.672607421875,1218.079345703125,1220.117919921875,1221.1715087890625,1218.920166015625,1226.987060546875,1212.736572265625,1190.0101318359375,1201.569580078125,1199.360107421875,1196.713623046875,1201.103271484375,1214.7440185546875,1214.7186279296875,1256.484619140625,1250.458984375,1269.4197998046875,1264.181884765625,1287.4508056640625,1321.3955078125,1336.48681640625,1405.3514404296875,1417.9461669921875,1451.428466796875,1550.7315673828125,1552.519287109375,1577.107421875,1567.698974609375,1515.2496337890625,1552.3736572265625,1659.7060546875,1627.365966796875,1628.55078125,1627.8482666015625,1556.8074951171875,1611.0809326171875,1603.080078125,1598.1253662109375,1572.6295166015625,1646.147705078125,1567.419921875,1586.4881591796875,1641.365966796875,1642.9046630859375,1664.4722900390625,1667.16650390625,1631.645263671875,1616.0096435546875,1671.9052734375,1651.082275390625,1546.5965576171875,1514.94189453125,1539.7760009765625,1514.9169921875,1506.9920654296875,1556.76513671875,1673.867431640625,1640.2801513671875,1694.7418212890625,1691.68017578125,1682.3370361328125,1702.7978515625,1658.1409912109375,1643.298583984375,1650.8951416015625,1608.6583251953125,1594.7611083984375,1640.763671875,1634.50244140625,1606.0404052734375,1663.549072265625,1647.5577392578125,1569.278076171875,1567.1793212890625,1564.3831787109375,1567.4246826171875,1561.9779052734375,1534.0316162109375,1438.7601318359375,1429.100830078125,1482.431884765625,1590.8311767578125,1680.2952880859375,1705.18994140625,1656.33203125,1677.2967529296875,1793.5924072265625,1762.9632568359375,1785.416259765625,1735.617919921875,1804.95703125,1737.140869140625,1815.81982421875,1751.469482421875,1743.8421630859375,1775.4813232421875,1715.327392578125,1772.89990234375,1793.345947265625,1793.6201171875,1821.704345703125,1821.192138671875,1794.9224853515625,1810.14208984375,1870.965087890625,1909.1435546875,1872.734130859375,1864.6790771484375,1849.6722412109375,1859.7412109375,1911.3758544921875,1891.94970703125,1917.6983642578125,2013.9306640625,2101.616455078125,2092.281005859375,2120.001220703125,2075.855224609375,2103.9462890625,1936.41796875,1943.409912109375,1849.2864990234375,1874.1715087890625,1862.0853271484375,1842.204345703125,1866.14892578125,1866.6932373046875,1909.2730712890625,1892.5650634765625,1908.7413330078125,1868.89111328125,1831.7265625,1870.6871337890625,1905.1689453125,1877.8331298828125,1995.4791259765625,1899.9176025390625,1872.47509765625,1849.06103515625,1848.2135009765625,1842.4920654296875,1795.1766357421875,1808.375,1796.10791015625,1800.3712158203125,1816.82421875,1824.068359375,1822.0682373046875,1800.994384765625,1812.76611328125,1820.1380615234375,1804.8419189453125,1817.7811279296875,1854.2996826171875,1799.84521484375,1805.7254638671875,1828.57568359375,1831.0986328125,1909.2974853515625,1893.0931396484375,1901.0982666015625,1873.9146728515625,1862.4237060546875,1907.4207763671875,1892.398193359375,1890.4176025390625,1810.5814208984375,1884.3729248046875,1832.5135498046875,1846.077880859375,1840.3919677734375,1752.527587890625,1753.075439453125,1742.39013671875,1739.2501220703125,1650.4981689453125,1665.41064453125,1716.6717529296875,1727.1937255859375,1720.50537109375,1736.8797607421875,1791.9949951171875,1889.79443359375,1872.540771484375,1893.77197265625,1875.84912109375,1900.05029296875,1859.34619140625,1889.906494140625,1828.059326171875,1852.0084228515625,1933.3238525390625,1924.4481201171875,1937.8837890625,1955.524169921875,1936.7967529296875,1910.4171142578125,1847.5125732421875,1871.0020751953125,1865.594970703125,1863.240234375,1880.6549072265625,1878.322021484375,1872.040283203125,2005.6861572265625,1939.129638671875,1931.64501953125,1923.6943359375,1911.697021484375,1897.7972412109375,1889.07373046875,1891.581298828125,1891.955078125,1866.09423828125,1888.8095703125,1850.0279541015625,1857.696533203125,1872.0863037109375,1860.7025146484375,1874.5604248046875,1880.87158203125,1861.7552490234375,1856.190185546875,1873.4681396484375,1838.89794921875,1834.8905029296875,1827.798583984375,1834.84521484375,1827.239501953125,1826.9310302734375,1855.7794189453125,1854.3482666015625,1850.74169921875,1847.1719970703125,1849.0538330078125,1839.323486328125,1844.1641845703125,1827.036376953125,1805.5673828125,1682.0384521484375,1660.8443603515625,1669.5877685546875,1685.0223388671875,1667.279296875,1634.4017333984375,1679.248291015625,1660.2698974609375,1652.92724609375,1646.27197265625,1657.4398193359375,1652.274169921875,1729.6766357421875,1705.364501953125,1645.581298828125,1628.5596923828125,1637.0435791015625,1635.7247314453125,1629.9110107421875,1633.912109375,1632.2628173828125,1647.8076171875,1636.0504150390625,1635.211669921875,1616.769775390625,1551.497802734375,1592.892333984375,1608.0316162109375,1626.8701171875,1641.4464111328125,1635.2010498046875,1623.0819091796875,1637.31201171875,1643.495361328125,1622.591796875,1584.0025634765625,1593.213134765625,1593.82568359375,1580.7474365234375,1588.023193359375,1593.1082763671875,1597.6719970703125,1652.9998779296875,1667.83447265625,1671.1614990234375,1732.9840087890625,1662.88720703125,1656.7359619140625,1647.7882080078125,1611.36572265625,1645.8109130859375,1634.6573486328125,1633.454833984375,1580.112060546875,1567.6807861328125,1566.35595703125,1539.432861328125,1552.2637939453125,1555.0760498046875,1558.3134765625,1600.6356201171875,1565.3828125,1563.9581298828125,1567.5709228515625,1604.822265625,1629.2977294921875,1674.8492431640625,1766.0146484375,1784.905029296875,1787.48193359375,1803.794921875,1780.084228515625,1776.56396484375,1795.589111328125,1810.131591796875,1815.8720703125,1847.2598876953125,1800.91650390625,1833.368896484375,1857.3956298828125,1894.027099609375,1900.5997314453125,1887.1190185546875,1888.9403076171875,2121.0673828125,2078.058349609375,2053.11865234375,2045.3544921875,2054.765380859375,1979.47265625,2059.9658203125,1961.8675537109375,1961.6712646484375,1963.1800537109375,2011.8533935546875,2022.21728515625,1933.5831298828125,2063.905517578125,2062.411865234375,2081.296142578125,2084.177490234375,2062.390869140625,2027.5172119140625,2049.186767578125,2029.3583984375,2052.0966796875,2087.66357421875,2165.895751953125,2193.663330078125,2243.092529296875,2293.628173828125,2233.2177734375,2357.169189453125,2358.68603515625,2341.440185546875,2352.49658203125,2224.39111328125,2202.600341796875,2260.736083984375,2316.1103515625,2220.41552734375,2226.892578125,2195.341796875,2218.240966796875,2177.239501953125,2201.7900390625,2239.59814453125,2326.7158203125,2309.626708984375,2265.340576171875,2272.21875,2231.39306640625,2380.20068359375,2346.84375,2300.399658203125,2291.9453125,2282.870361328125,2352.593505859375,2355.9814453125,2210.529052734375,2269.409423828125,2269.5400390625,2242.0126953125,2222.857666015625,2332.8681640625,2344.923583984375,2584.171630859375,2619.177001953125,2522.933837890625,2578.003662109375,2471.6669921875,2510.627197265625,2587.044677734375,2528.59326171875,2468.68896484375,2489.84765625,2469.798583984375,2454.9873046875,2310.95166015625,2241.749755859375,2233.969970703125,2217.44189453125,2267.3193359375,2268.19287109375,2256.995361328125,2317.435791015625,2343.558837890625,2282.17529296875,2303.7060546875,2307.980224609375,2296.116943359375,2289.20556640625,2298.955078125,2372.2626953125,2424.080078125,2419.773681640625,2487.650390625,2501.1298828125,2507.578857421875,2659.586181640625,2641.685302734375,2777.601318359375,2825.480712890625,2803.73583984375,2786.709716796875,2881.296875,2944.1064453125,3015.6533203125,2969.599853515625,2970.1396484375,2921.962890625,2992.36669921875,3112.529052734375,3178.405029296875,3243.893310546875,3386.802734375,3341.9658203125,3436.1591796875,3422.875244140625,3489.340087890625,3631.928955078125,3554.06787109375,3818.31103515625,3874.830810546875,3892.119140625,3915.590576171875,3881.23779296875,4066.6904296875,3980.26513671875,4005.7451171875,3882.85693359375,3736.10498046875,3523.02978515625],\"x\":[\"2022-02-09T00:00:00\",\"2022-02-10T00:00:00\",\"2022-02-11T00:00:00\",\"2022-02-12T00:00:00\",\"2022-02-13T00:00:00\",\"2022-02-14T00:00:00\",\"2022-02-15T00:00:00\",\"2022-02-16T00:00:00\",\"2022-02-17T00:00:00\",\"2022-02-18T00:00:00\",\"2022-02-19T00:00:00\",\"2022-02-20T00:00:00\",\"2022-02-21T00:00:00\",\"2022-02-22T00:00:00\",\"2022-02-23T00:00:00\",\"2022-02-24T00:00:00\",\"2022-02-25T00:00:00\",\"2022-02-26T00:00:00\",\"2022-02-27T00:00:00\",\"2022-02-28T00:00:00\",\"2022-03-01T00:00:00\",\"2022-03-02T00:00:00\",\"2022-03-03T00:00:00\",\"2022-03-04T00:00:00\",\"2022-03-05T00:00:00\",\"2022-03-06T00:00:00\",\"2022-03-07T00:00:00\",\"2022-03-08T00:00:00\",\"2022-03-09T00:00:00\",\"2022-03-10T00:00:00\",\"2022-03-11T00:00:00\",\"2022-03-12T00:00:00\",\"2022-03-13T00:00:00\",\"2022-03-14T00:00:00\",\"2022-03-15T00:00:00\",\"2022-03-16T00:00:00\",\"2022-03-17T00:00:00\",\"2022-03-18T00:00:00\",\"2022-03-19T00:00:00\",\"2022-03-20T00:00:00\",\"2022-03-21T00:00:00\",\"2022-03-22T00:00:00\",\"2022-03-23T00:00:00\",\"2022-03-24T00:00:00\",\"2022-03-25T00:00:00\",\"2022-03-26T00:00:00\",\"2022-03-27T00:00:00\",\"2022-03-28T00:00:00\",\"2022-03-29T00:00:00\",\"2022-03-30T00:00:00\",\"2022-03-31T00:00:00\",\"2022-04-01T00:00:00\",\"2022-04-02T00:00:00\",\"2022-04-03T00:00:00\",\"2022-04-04T00:00:00\",\"2022-04-05T00:00:00\",\"2022-04-06T00:00:00\",\"2022-04-07T00:00:00\",\"2022-04-08T00:00:00\",\"2022-04-09T00:00:00\",\"2022-04-10T00:00:00\",\"2022-04-11T00:00:00\",\"2022-04-12T00:00:00\",\"2022-04-13T00:00:00\",\"2022-04-14T00:00:00\",\"2022-04-15T00:00:00\",\"2022-04-16T00:00:00\",\"2022-04-17T00:00:00\",\"2022-04-18T00:00:00\",\"2022-04-19T00:00:00\",\"2022-04-20T00:00:00\",\"2022-04-21T00:00:00\",\"2022-04-22T00:00:00\",\"2022-04-23T00:00:00\",\"2022-04-24T00:00:00\",\"2022-04-25T00:00:00\",\"2022-04-26T00:00:00\",\"2022-04-27T00:00:00\",\"2022-04-28T00:00:00\",\"2022-04-29T00:00:00\",\"2022-04-30T00:00:00\",\"2022-05-01T00:00:00\",\"2022-05-02T00:00:00\",\"2022-05-03T00:00:00\",\"2022-05-04T00:00:00\",\"2022-05-05T00:00:00\",\"2022-05-06T00:00:00\",\"2022-05-07T00:00:00\",\"2022-05-08T00:00:00\",\"2022-05-09T00:00:00\",\"2022-05-10T00:00:00\",\"2022-05-11T00:00:00\",\"2022-05-12T00:00:00\",\"2022-05-13T00:00:00\",\"2022-05-14T00:00:00\",\"2022-05-15T00:00:00\",\"2022-05-16T00:00:00\",\"2022-05-17T00:00:00\",\"2022-05-18T00:00:00\",\"2022-05-19T00:00:00\",\"2022-05-20T00:00:00\",\"2022-05-21T00:00:00\",\"2022-05-22T00:00:00\",\"2022-05-23T00:00:00\",\"2022-05-24T00:00:00\",\"2022-05-25T00:00:00\",\"2022-05-26T00:00:00\",\"2022-05-27T00:00:00\",\"2022-05-28T00:00:00\",\"2022-05-29T00:00:00\",\"2022-05-30T00:00:00\",\"2022-05-31T00:00:00\",\"2022-06-01T00:00:00\",\"2022-06-02T00:00:00\",\"2022-06-03T00:00:00\",\"2022-06-04T00:00:00\",\"2022-06-05T00:00:00\",\"2022-06-06T00:00:00\",\"2022-06-07T00:00:00\",\"2022-06-08T00:00:00\",\"2022-06-09T00:00:00\",\"2022-06-10T00:00:00\",\"2022-06-11T00:00:00\",\"2022-06-12T00:00:00\",\"2022-06-13T00:00:00\",\"2022-06-14T00:00:00\",\"2022-06-15T00:00:00\",\"2022-06-16T00:00:00\",\"2022-06-17T00:00:00\",\"2022-06-18T00:00:00\",\"2022-06-19T00:00:00\",\"2022-06-20T00:00:00\",\"2022-06-21T00:00:00\",\"2022-06-22T00:00:00\",\"2022-06-23T00:00:00\",\"2022-06-24T00:00:00\",\"2022-06-25T00:00:00\",\"2022-06-26T00:00:00\",\"2022-06-27T00:00:00\",\"2022-06-28T00:00:00\",\"2022-06-29T00:00:00\",\"2022-06-30T00:00:00\",\"2022-07-01T00:00:00\",\"2022-07-02T00:00:00\",\"2022-07-03T00:00:00\",\"2022-07-04T00:00:00\",\"2022-07-05T00:00:00\",\"2022-07-06T00:00:00\",\"2022-07-07T00:00:00\",\"2022-07-08T00:00:00\",\"2022-07-09T00:00:00\",\"2022-07-10T00:00:00\",\"2022-07-11T00:00:00\",\"2022-07-12T00:00:00\",\"2022-07-13T00:00:00\",\"2022-07-14T00:00:00\",\"2022-07-15T00:00:00\",\"2022-07-16T00:00:00\",\"2022-07-17T00:00:00\",\"2022-07-18T00:00:00\",\"2022-07-19T00:00:00\",\"2022-07-20T00:00:00\",\"2022-07-21T00:00:00\",\"2022-07-22T00:00:00\",\"2022-07-23T00:00:00\",\"2022-07-24T00:00:00\",\"2022-07-25T00:00:00\",\"2022-07-26T00:00:00\",\"2022-07-27T00:00:00\",\"2022-07-28T00:00:00\",\"2022-07-29T00:00:00\",\"2022-07-30T00:00:00\",\"2022-07-31T00:00:00\",\"2022-08-01T00:00:00\",\"2022-08-02T00:00:00\",\"2022-08-03T00:00:00\",\"2022-08-04T00:00:00\",\"2022-08-05T00:00:00\",\"2022-08-06T00:00:00\",\"2022-08-07T00:00:00\",\"2022-08-08T00:00:00\",\"2022-08-09T00:00:00\",\"2022-08-10T00:00:00\",\"2022-08-11T00:00:00\",\"2022-08-12T00:00:00\",\"2022-08-13T00:00:00\",\"2022-08-14T00:00:00\",\"2022-08-15T00:00:00\",\"2022-08-16T00:00:00\",\"2022-08-17T00:00:00\",\"2022-08-18T00:00:00\",\"2022-08-19T00:00:00\",\"2022-08-20T00:00:00\",\"2022-08-21T00:00:00\",\"2022-08-22T00:00:00\",\"2022-08-23T00:00:00\",\"2022-08-24T00:00:00\",\"2022-08-25T00:00:00\",\"2022-08-26T00:00:00\",\"2022-08-27T00:00:00\",\"2022-08-28T00:00:00\",\"2022-08-29T00:00:00\",\"2022-08-30T00:00:00\",\"2022-08-31T00:00:00\",\"2022-09-01T00:00:00\",\"2022-09-02T00:00:00\",\"2022-09-03T00:00:00\",\"2022-09-04T00:00:00\",\"2022-09-05T00:00:00\",\"2022-09-06T00:00:00\",\"2022-09-07T00:00:00\",\"2022-09-08T00:00:00\",\"2022-09-09T00:00:00\",\"2022-09-10T00:00:00\",\"2022-09-11T00:00:00\",\"2022-09-12T00:00:00\",\"2022-09-13T00:00:00\",\"2022-09-14T00:00:00\",\"2022-09-15T00:00:00\",\"2022-09-16T00:00:00\",\"2022-09-17T00:00:00\",\"2022-09-18T00:00:00\",\"2022-09-19T00:00:00\",\"2022-09-20T00:00:00\",\"2022-09-21T00:00:00\",\"2022-09-22T00:00:00\",\"2022-09-23T00:00:00\",\"2022-09-24T00:00:00\",\"2022-09-25T00:00:00\",\"2022-09-26T00:00:00\",\"2022-09-27T00:00:00\",\"2022-09-28T00:00:00\",\"2022-09-29T00:00:00\",\"2022-09-30T00:00:00\",\"2022-10-01T00:00:00\",\"2022-10-02T00:00:00\",\"2022-10-03T00:00:00\",\"2022-10-04T00:00:00\",\"2022-10-05T00:00:00\",\"2022-10-06T00:00:00\",\"2022-10-07T00:00:00\",\"2022-10-08T00:00:00\",\"2022-10-09T00:00:00\",\"2022-10-10T00:00:00\",\"2022-10-11T00:00:00\",\"2022-10-12T00:00:00\",\"2022-10-13T00:00:00\",\"2022-10-14T00:00:00\",\"2022-10-15T00:00:00\",\"2022-10-16T00:00:00\",\"2022-10-17T00:00:00\",\"2022-10-18T00:00:00\",\"2022-10-19T00:00:00\",\"2022-10-20T00:00:00\",\"2022-10-21T00:00:00\",\"2022-10-22T00:00:00\",\"2022-10-23T00:00:00\",\"2022-10-24T00:00:00\",\"2022-10-25T00:00:00\",\"2022-10-26T00:00:00\",\"2022-10-27T00:00:00\",\"2022-10-28T00:00:00\",\"2022-10-29T00:00:00\",\"2022-10-30T00:00:00\",\"2022-10-31T00:00:00\",\"2022-11-01T00:00:00\",\"2022-11-02T00:00:00\",\"2022-11-03T00:00:00\",\"2022-11-04T00:00:00\",\"2022-11-05T00:00:00\",\"2022-11-06T00:00:00\",\"2022-11-07T00:00:00\",\"2022-11-08T00:00:00\",\"2022-11-09T00:00:00\",\"2022-11-10T00:00:00\",\"2022-11-11T00:00:00\",\"2022-11-12T00:00:00\",\"2022-11-13T00:00:00\",\"2022-11-14T00:00:00\",\"2022-11-15T00:00:00\",\"2022-11-16T00:00:00\",\"2022-11-17T00:00:00\",\"2022-11-18T00:00:00\",\"2022-11-19T00:00:00\",\"2022-11-20T00:00:00\",\"2022-11-21T00:00:00\",\"2022-11-22T00:00:00\",\"2022-11-23T00:00:00\",\"2022-11-24T00:00:00\",\"2022-11-25T00:00:00\",\"2022-11-26T00:00:00\",\"2022-11-27T00:00:00\",\"2022-11-28T00:00:00\",\"2022-11-29T00:00:00\",\"2022-11-30T00:00:00\",\"2022-12-01T00:00:00\",\"2022-12-02T00:00:00\",\"2022-12-03T00:00:00\",\"2022-12-04T00:00:00\",\"2022-12-05T00:00:00\",\"2022-12-06T00:00:00\",\"2022-12-07T00:00:00\",\"2022-12-08T00:00:00\",\"2022-12-09T00:00:00\",\"2022-12-10T00:00:00\",\"2022-12-11T00:00:00\",\"2022-12-12T00:00:00\",\"2022-12-13T00:00:00\",\"2022-12-14T00:00:00\",\"2022-12-15T00:00:00\",\"2022-12-16T00:00:00\",\"2022-12-17T00:00:00\",\"2022-12-18T00:00:00\",\"2022-12-19T00:00:00\",\"2022-12-20T00:00:00\",\"2022-12-21T00:00:00\",\"2022-12-22T00:00:00\",\"2022-12-23T00:00:00\",\"2022-12-24T00:00:00\",\"2022-12-25T00:00:00\",\"2022-12-26T00:00:00\",\"2022-12-27T00:00:00\",\"2022-12-28T00:00:00\",\"2022-12-29T00:00:00\",\"2022-12-30T00:00:00\",\"2022-12-31T00:00:00\",\"2023-01-01T00:00:00\",\"2023-01-02T00:00:00\",\"2023-01-03T00:00:00\",\"2023-01-04T00:00:00\",\"2023-01-05T00:00:00\",\"2023-01-06T00:00:00\",\"2023-01-07T00:00:00\",\"2023-01-08T00:00:00\",\"2023-01-09T00:00:00\",\"2023-01-10T00:00:00\",\"2023-01-11T00:00:00\",\"2023-01-12T00:00:00\",\"2023-01-13T00:00:00\",\"2023-01-14T00:00:00\",\"2023-01-15T00:00:00\",\"2023-01-16T00:00:00\",\"2023-01-17T00:00:00\",\"2023-01-18T00:00:00\",\"2023-01-19T00:00:00\",\"2023-01-20T00:00:00\",\"2023-01-21T00:00:00\",\"2023-01-22T00:00:00\",\"2023-01-23T00:00:00\",\"2023-01-24T00:00:00\",\"2023-01-25T00:00:00\",\"2023-01-26T00:00:00\",\"2023-01-27T00:00:00\",\"2023-01-28T00:00:00\",\"2023-01-29T00:00:00\",\"2023-01-30T00:00:00\",\"2023-01-31T00:00:00\",\"2023-02-01T00:00:00\",\"2023-02-02T00:00:00\",\"2023-02-03T00:00:00\",\"2023-02-04T00:00:00\",\"2023-02-05T00:00:00\",\"2023-02-06T00:00:00\",\"2023-02-07T00:00:00\",\"2023-02-08T00:00:00\",\"2023-02-09T00:00:00\",\"2023-02-10T00:00:00\",\"2023-02-11T00:00:00\",\"2023-02-12T00:00:00\",\"2023-02-13T00:00:00\",\"2023-02-14T00:00:00\",\"2023-02-15T00:00:00\",\"2023-02-16T00:00:00\",\"2023-02-17T00:00:00\",\"2023-02-18T00:00:00\",\"2023-02-19T00:00:00\",\"2023-02-20T00:00:00\",\"2023-02-21T00:00:00\",\"2023-02-22T00:00:00\",\"2023-02-23T00:00:00\",\"2023-02-24T00:00:00\",\"2023-02-25T00:00:00\",\"2023-02-26T00:00:00\",\"2023-02-27T00:00:00\",\"2023-02-28T00:00:00\",\"2023-03-01T00:00:00\",\"2023-03-02T00:00:00\",\"2023-03-03T00:00:00\",\"2023-03-04T00:00:00\",\"2023-03-05T00:00:00\",\"2023-03-06T00:00:00\",\"2023-03-07T00:00:00\",\"2023-03-08T00:00:00\",\"2023-03-09T00:00:00\",\"2023-03-10T00:00:00\",\"2023-03-11T00:00:00\",\"2023-03-12T00:00:00\",\"2023-03-13T00:00:00\",\"2023-03-14T00:00:00\",\"2023-03-15T00:00:00\",\"2023-03-16T00:00:00\",\"2023-03-17T00:00:00\",\"2023-03-18T00:00:00\",\"2023-03-19T00:00:00\",\"2023-03-20T00:00:00\",\"2023-03-21T00:00:00\",\"2023-03-22T00:00:00\",\"2023-03-23T00:00:00\",\"2023-03-24T00:00:00\",\"2023-03-25T00:00:00\",\"2023-03-26T00:00:00\",\"2023-03-27T00:00:00\",\"2023-03-28T00:00:00\",\"2023-03-29T00:00:00\",\"2023-03-30T00:00:00\",\"2023-03-31T00:00:00\",\"2023-04-01T00:00:00\",\"2023-04-02T00:00:00\",\"2023-04-03T00:00:00\",\"2023-04-04T00:00:00\",\"2023-04-05T00:00:00\",\"2023-04-06T00:00:00\",\"2023-04-07T00:00:00\",\"2023-04-08T00:00:00\",\"2023-04-09T00:00:00\",\"2023-04-10T00:00:00\",\"2023-04-11T00:00:00\",\"2023-04-12T00:00:00\",\"2023-04-13T00:00:00\",\"2023-04-14T00:00:00\",\"2023-04-15T00:00:00\",\"2023-04-16T00:00:00\",\"2023-04-17T00:00:00\",\"2023-04-18T00:00:00\",\"2023-04-19T00:00:00\",\"2023-04-20T00:00:00\",\"2023-04-21T00:00:00\",\"2023-04-22T00:00:00\",\"2023-04-23T00:00:00\",\"2023-04-24T00:00:00\",\"2023-04-25T00:00:00\",\"2023-04-26T00:00:00\",\"2023-04-27T00:00:00\",\"2023-04-28T00:00:00\",\"2023-04-29T00:00:00\",\"2023-04-30T00:00:00\",\"2023-05-01T00:00:00\",\"2023-05-02T00:00:00\",\"2023-05-03T00:00:00\",\"2023-05-04T00:00:00\",\"2023-05-05T00:00:00\",\"2023-05-06T00:00:00\",\"2023-05-07T00:00:00\",\"2023-05-08T00:00:00\",\"2023-05-09T00:00:00\",\"2023-05-10T00:00:00\",\"2023-05-11T00:00:00\",\"2023-05-12T00:00:00\",\"2023-05-13T00:00:00\",\"2023-05-14T00:00:00\",\"2023-05-15T00:00:00\",\"2023-05-16T00:00:00\",\"2023-05-17T00:00:00\",\"2023-05-18T00:00:00\",\"2023-05-19T00:00:00\",\"2023-05-20T00:00:00\",\"2023-05-21T00:00:00\",\"2023-05-22T00:00:00\",\"2023-05-23T00:00:00\",\"2023-05-24T00:00:00\",\"2023-05-25T00:00:00\",\"2023-05-26T00:00:00\",\"2023-05-27T00:00:00\",\"2023-05-28T00:00:00\",\"2023-05-29T00:00:00\",\"2023-05-30T00:00:00\",\"2023-05-31T00:00:00\",\"2023-06-01T00:00:00\",\"2023-06-02T00:00:00\",\"2023-06-03T00:00:00\",\"2023-06-04T00:00:00\",\"2023-06-05T00:00:00\",\"2023-06-06T00:00:00\",\"2023-06-07T00:00:00\",\"2023-06-08T00:00:00\",\"2023-06-09T00:00:00\",\"2023-06-10T00:00:00\",\"2023-06-11T00:00:00\",\"2023-06-12T00:00:00\",\"2023-06-13T00:00:00\",\"2023-06-14T00:00:00\",\"2023-06-15T00:00:00\",\"2023-06-16T00:00:00\",\"2023-06-17T00:00:00\",\"2023-06-18T00:00:00\",\"2023-06-19T00:00:00\",\"2023-06-20T00:00:00\",\"2023-06-21T00:00:00\",\"2023-06-22T00:00:00\",\"2023-06-23T00:00:00\",\"2023-06-24T00:00:00\",\"2023-06-25T00:00:00\",\"2023-06-26T00:00:00\",\"2023-06-27T00:00:00\",\"2023-06-28T00:00:00\",\"2023-06-29T00:00:00\",\"2023-06-30T00:00:00\",\"2023-07-01T00:00:00\",\"2023-07-02T00:00:00\",\"2023-07-03T00:00:00\",\"2023-07-04T00:00:00\",\"2023-07-05T00:00:00\",\"2023-07-06T00:00:00\",\"2023-07-07T00:00:00\",\"2023-07-08T00:00:00\",\"2023-07-09T00:00:00\",\"2023-07-10T00:00:00\",\"2023-07-11T00:00:00\",\"2023-07-12T00:00:00\",\"2023-07-13T00:00:00\",\"2023-07-14T00:00:00\",\"2023-07-15T00:00:00\",\"2023-07-16T00:00:00\",\"2023-07-17T00:00:00\",\"2023-07-18T00:00:00\",\"2023-07-19T00:00:00\",\"2023-07-20T00:00:00\",\"2023-07-21T00:00:00\",\"2023-07-22T00:00:00\",\"2023-07-23T00:00:00\",\"2023-07-24T00:00:00\",\"2023-07-25T00:00:00\",\"2023-07-26T00:00:00\",\"2023-07-27T00:00:00\",\"2023-07-28T00:00:00\",\"2023-07-29T00:00:00\",\"2023-07-30T00:00:00\",\"2023-07-31T00:00:00\",\"2023-08-01T00:00:00\",\"2023-08-02T00:00:00\",\"2023-08-03T00:00:00\",\"2023-08-04T00:00:00\",\"2023-08-05T00:00:00\",\"2023-08-06T00:00:00\",\"2023-08-07T00:00:00\",\"2023-08-08T00:00:00\",\"2023-08-09T00:00:00\",\"2023-08-10T00:00:00\",\"2023-08-11T00:00:00\",\"2023-08-12T00:00:00\",\"2023-08-13T00:00:00\",\"2023-08-14T00:00:00\",\"2023-08-15T00:00:00\",\"2023-08-16T00:00:00\",\"2023-08-17T00:00:00\",\"2023-08-18T00:00:00\",\"2023-08-19T00:00:00\",\"2023-08-20T00:00:00\",\"2023-08-21T00:00:00\",\"2023-08-22T00:00:00\",\"2023-08-23T00:00:00\",\"2023-08-24T00:00:00\",\"2023-08-25T00:00:00\",\"2023-08-26T00:00:00\",\"2023-08-27T00:00:00\",\"2023-08-28T00:00:00\",\"2023-08-29T00:00:00\",\"2023-08-30T00:00:00\",\"2023-08-31T00:00:00\",\"2023-09-01T00:00:00\",\"2023-09-02T00:00:00\",\"2023-09-03T00:00:00\",\"2023-09-04T00:00:00\",\"2023-09-05T00:00:00\",\"2023-09-06T00:00:00\",\"2023-09-07T00:00:00\",\"2023-09-08T00:00:00\",\"2023-09-09T00:00:00\",\"2023-09-10T00:00:00\",\"2023-09-11T00:00:00\",\"2023-09-12T00:00:00\",\"2023-09-13T00:00:00\",\"2023-09-14T00:00:00\",\"2023-09-15T00:00:00\",\"2023-09-16T00:00:00\",\"2023-09-17T00:00:00\",\"2023-09-18T00:00:00\",\"2023-09-19T00:00:00\",\"2023-09-20T00:00:00\",\"2023-09-21T00:00:00\",\"2023-09-22T00:00:00\",\"2023-09-23T00:00:00\",\"2023-09-24T00:00:00\",\"2023-09-25T00:00:00\",\"2023-09-26T00:00:00\",\"2023-09-27T00:00:00\",\"2023-09-28T00:00:00\",\"2023-09-29T00:00:00\",\"2023-09-30T00:00:00\",\"2023-10-01T00:00:00\",\"2023-10-02T00:00:00\",\"2023-10-03T00:00:00\",\"2023-10-04T00:00:00\",\"2023-10-05T00:00:00\",\"2023-10-06T00:00:00\",\"2023-10-07T00:00:00\",\"2023-10-08T00:00:00\",\"2023-10-09T00:00:00\",\"2023-10-10T00:00:00\",\"2023-10-11T00:00:00\",\"2023-10-12T00:00:00\",\"2023-10-13T00:00:00\",\"2023-10-14T00:00:00\",\"2023-10-15T00:00:00\",\"2023-10-16T00:00:00\",\"2023-10-17T00:00:00\",\"2023-10-18T00:00:00\",\"2023-10-19T00:00:00\",\"2023-10-20T00:00:00\",\"2023-10-21T00:00:00\",\"2023-10-22T00:00:00\",\"2023-10-23T00:00:00\",\"2023-10-24T00:00:00\",\"2023-10-25T00:00:00\",\"2023-10-26T00:00:00\",\"2023-10-27T00:00:00\",\"2023-10-28T00:00:00\",\"2023-10-29T00:00:00\",\"2023-10-30T00:00:00\",\"2023-10-31T00:00:00\",\"2023-11-01T00:00:00\",\"2023-11-02T00:00:00\",\"2023-11-03T00:00:00\",\"2023-11-04T00:00:00\",\"2023-11-05T00:00:00\",\"2023-11-06T00:00:00\",\"2023-11-07T00:00:00\",\"2023-11-08T00:00:00\",\"2023-11-09T00:00:00\",\"2023-11-10T00:00:00\",\"2023-11-11T00:00:00\",\"2023-11-12T00:00:00\",\"2023-11-13T00:00:00\",\"2023-11-14T00:00:00\",\"2023-11-15T00:00:00\",\"2023-11-16T00:00:00\",\"2023-11-17T00:00:00\",\"2023-11-18T00:00:00\",\"2023-11-19T00:00:00\",\"2023-11-20T00:00:00\",\"2023-11-21T00:00:00\",\"2023-11-22T00:00:00\",\"2023-11-23T00:00:00\",\"2023-11-24T00:00:00\",\"2023-11-25T00:00:00\",\"2023-11-26T00:00:00\",\"2023-11-27T00:00:00\",\"2023-11-28T00:00:00\",\"2023-11-29T00:00:00\",\"2023-11-30T00:00:00\",\"2023-12-01T00:00:00\",\"2023-12-02T00:00:00\",\"2023-12-03T00:00:00\",\"2023-12-04T00:00:00\",\"2023-12-05T00:00:00\",\"2023-12-06T00:00:00\",\"2023-12-07T00:00:00\",\"2023-12-08T00:00:00\",\"2023-12-09T00:00:00\",\"2023-12-10T00:00:00\",\"2023-12-11T00:00:00\",\"2023-12-12T00:00:00\",\"2023-12-13T00:00:00\",\"2023-12-14T00:00:00\",\"2023-12-15T00:00:00\",\"2023-12-16T00:00:00\",\"2023-12-17T00:00:00\",\"2023-12-18T00:00:00\",\"2023-12-19T00:00:00\",\"2023-12-20T00:00:00\",\"2023-12-21T00:00:00\",\"2023-12-22T00:00:00\",\"2023-12-23T00:00:00\",\"2023-12-24T00:00:00\",\"2023-12-25T00:00:00\",\"2023-12-26T00:00:00\",\"2023-12-27T00:00:00\",\"2023-12-28T00:00:00\",\"2023-12-29T00:00:00\",\"2023-12-30T00:00:00\",\"2023-12-31T00:00:00\",\"2024-01-01T00:00:00\",\"2024-01-02T00:00:00\",\"2024-01-03T00:00:00\",\"2024-01-04T00:00:00\",\"2024-01-05T00:00:00\",\"2024-01-06T00:00:00\",\"2024-01-07T00:00:00\",\"2024-01-08T00:00:00\",\"2024-01-09T00:00:00\",\"2024-01-10T00:00:00\",\"2024-01-11T00:00:00\",\"2024-01-12T00:00:00\",\"2024-01-13T00:00:00\",\"2024-01-14T00:00:00\",\"2024-01-15T00:00:00\",\"2024-01-16T00:00:00\",\"2024-01-17T00:00:00\",\"2024-01-18T00:00:00\",\"2024-01-19T00:00:00\",\"2024-01-20T00:00:00\",\"2024-01-21T00:00:00\",\"2024-01-22T00:00:00\",\"2024-01-23T00:00:00\",\"2024-01-24T00:00:00\",\"2024-01-25T00:00:00\",\"2024-01-26T00:00:00\",\"2024-01-27T00:00:00\",\"2024-01-28T00:00:00\",\"2024-01-29T00:00:00\",\"2024-01-30T00:00:00\",\"2024-01-31T00:00:00\",\"2024-02-01T00:00:00\",\"2024-02-02T00:00:00\",\"2024-02-03T00:00:00\",\"2024-02-04T00:00:00\",\"2024-02-05T00:00:00\",\"2024-02-06T00:00:00\",\"2024-02-07T00:00:00\",\"2024-02-08T00:00:00\",\"2024-02-09T00:00:00\",\"2024-02-10T00:00:00\",\"2024-02-11T00:00:00\",\"2024-02-12T00:00:00\",\"2024-02-13T00:00:00\",\"2024-02-14T00:00:00\",\"2024-02-15T00:00:00\",\"2024-02-16T00:00:00\",\"2024-02-17T00:00:00\",\"2024-02-18T00:00:00\",\"2024-02-19T00:00:00\",\"2024-02-20T00:00:00\",\"2024-02-21T00:00:00\",\"2024-02-22T00:00:00\",\"2024-02-23T00:00:00\",\"2024-02-24T00:00:00\",\"2024-02-25T00:00:00\",\"2024-02-26T00:00:00\",\"2024-02-27T00:00:00\",\"2024-02-28T00:00:00\",\"2024-02-29T00:00:00\",\"2024-03-01T00:00:00\",\"2024-03-02T00:00:00\",\"2024-03-03T00:00:00\",\"2024-03-04T00:00:00\",\"2024-03-05T00:00:00\",\"2024-03-06T00:00:00\",\"2024-03-07T00:00:00\",\"2024-03-08T00:00:00\",\"2024-03-09T00:00:00\",\"2024-03-10T00:00:00\",\"2024-03-11T00:00:00\",\"2024-03-12T00:00:00\",\"2024-03-13T00:00:00\",\"2024-03-14T00:00:00\",\"2024-03-15T00:00:00\",\"2024-03-16T00:00:00\",\"2024-03-17T00:00:00\"],\"type\":\"candlestick\"}],                        {\"template\":{\"data\":{\"histogram2dcontour\":[{\"type\":\"histogram2dcontour\",\"colorbar\":{\"outlinewidth\":0,\"ticks\":\"\"},\"colorscale\":[[0.0,\"#0d0887\"],[0.1111111111111111,\"#46039f\"],[0.2222222222222222,\"#7201a8\"],[0.3333333333333333,\"#9c179e\"],[0.4444444444444444,\"#bd3786\"],[0.5555555555555556,\"#d8576b\"],[0.6666666666666666,\"#ed7953\"],[0.7777777777777778,\"#fb9f3a\"],[0.8888888888888888,\"#fdca26\"],[1.0,\"#f0f921\"]]}],\"choropleth\":[{\"type\":\"choropleth\",\"colorbar\":{\"outlinewidth\":0,\"ticks\":\"\"}}],\"histogram2d\":[{\"type\":\"histogram2d\",\"colorbar\":{\"outlinewidth\":0,\"ticks\":\"\"},\"colorscale\":[[0.0,\"#0d0887\"],[0.1111111111111111,\"#46039f\"],[0.2222222222222222,\"#7201a8\"],[0.3333333333333333,\"#9c179e\"],[0.4444444444444444,\"#bd3786\"],[0.5555555555555556,\"#d8576b\"],[0.6666666666666666,\"#ed7953\"],[0.7777777777777778,\"#fb9f3a\"],[0.8888888888888888,\"#fdca26\"],[1.0,\"#f0f921\"]]}],\"heatmap\":[{\"type\":\"heatmap\",\"colorbar\":{\"outlinewidth\":0,\"ticks\":\"\"},\"colorscale\":[[0.0,\"#0d0887\"],[0.1111111111111111,\"#46039f\"],[0.2222222222222222,\"#7201a8\"],[0.3333333333333333,\"#9c179e\"],[0.4444444444444444,\"#bd3786\"],[0.5555555555555556,\"#d8576b\"],[0.6666666666666666,\"#ed7953\"],[0.7777777777777778,\"#fb9f3a\"],[0.8888888888888888,\"#fdca26\"],[1.0,\"#f0f921\"]]}],\"heatmapgl\":[{\"type\":\"heatmapgl\",\"colorbar\":{\"outlinewidth\":0,\"ticks\":\"\"},\"colorscale\":[[0.0,\"#0d0887\"],[0.1111111111111111,\"#46039f\"],[0.2222222222222222,\"#7201a8\"],[0.3333333333333333,\"#9c179e\"],[0.4444444444444444,\"#bd3786\"],[0.5555555555555556,\"#d8576b\"],[0.6666666666666666,\"#ed7953\"],[0.7777777777777778,\"#fb9f3a\"],[0.8888888888888888,\"#fdca26\"],[1.0,\"#f0f921\"]]}],\"contourcarpet\":[{\"type\":\"contourcarpet\",\"colorbar\":{\"outlinewidth\":0,\"ticks\":\"\"}}],\"contour\":[{\"type\":\"contour\",\"colorbar\":{\"outlinewidth\":0,\"ticks\":\"\"},\"colorscale\":[[0.0,\"#0d0887\"],[0.1111111111111111,\"#46039f\"],[0.2222222222222222,\"#7201a8\"],[0.3333333333333333,\"#9c179e\"],[0.4444444444444444,\"#bd3786\"],[0.5555555555555556,\"#d8576b\"],[0.6666666666666666,\"#ed7953\"],[0.7777777777777778,\"#fb9f3a\"],[0.8888888888888888,\"#fdca26\"],[1.0,\"#f0f921\"]]}],\"surface\":[{\"type\":\"surface\",\"colorbar\":{\"outlinewidth\":0,\"ticks\":\"\"},\"colorscale\":[[0.0,\"#0d0887\"],[0.1111111111111111,\"#46039f\"],[0.2222222222222222,\"#7201a8\"],[0.3333333333333333,\"#9c179e\"],[0.4444444444444444,\"#bd3786\"],[0.5555555555555556,\"#d8576b\"],[0.6666666666666666,\"#ed7953\"],[0.7777777777777778,\"#fb9f3a\"],[0.8888888888888888,\"#fdca26\"],[1.0,\"#f0f921\"]]}],\"mesh3d\":[{\"type\":\"mesh3d\",\"colorbar\":{\"outlinewidth\":0,\"ticks\":\"\"}}],\"scatter\":[{\"fillpattern\":{\"fillmode\":\"overlay\",\"size\":10,\"solidity\":0.2},\"type\":\"scatter\"}],\"parcoords\":[{\"type\":\"parcoords\",\"line\":{\"colorbar\":{\"outlinewidth\":0,\"ticks\":\"\"}}}],\"scatterpolargl\":[{\"type\":\"scatterpolargl\",\"marker\":{\"colorbar\":{\"outlinewidth\":0,\"ticks\":\"\"}}}],\"bar\":[{\"error_x\":{\"color\":\"#2a3f5f\"},\"error_y\":{\"color\":\"#2a3f5f\"},\"marker\":{\"line\":{\"color\":\"#E5ECF6\",\"width\":0.5},\"pattern\":{\"fillmode\":\"overlay\",\"size\":10,\"solidity\":0.2}},\"type\":\"bar\"}],\"scattergeo\":[{\"type\":\"scattergeo\",\"marker\":{\"colorbar\":{\"outlinewidth\":0,\"ticks\":\"\"}}}],\"scatterpolar\":[{\"type\":\"scatterpolar\",\"marker\":{\"colorbar\":{\"outlinewidth\":0,\"ticks\":\"\"}}}],\"histogram\":[{\"marker\":{\"pattern\":{\"fillmode\":\"overlay\",\"size\":10,\"solidity\":0.2}},\"type\":\"histogram\"}],\"scattergl\":[{\"type\":\"scattergl\",\"marker\":{\"colorbar\":{\"outlinewidth\":0,\"ticks\":\"\"}}}],\"scatter3d\":[{\"type\":\"scatter3d\",\"line\":{\"colorbar\":{\"outlinewidth\":0,\"ticks\":\"\"}},\"marker\":{\"colorbar\":{\"outlinewidth\":0,\"ticks\":\"\"}}}],\"scattermapbox\":[{\"type\":\"scattermapbox\",\"marker\":{\"colorbar\":{\"outlinewidth\":0,\"ticks\":\"\"}}}],\"scatterternary\":[{\"type\":\"scatterternary\",\"marker\":{\"colorbar\":{\"outlinewidth\":0,\"ticks\":\"\"}}}],\"scattercarpet\":[{\"type\":\"scattercarpet\",\"marker\":{\"colorbar\":{\"outlinewidth\":0,\"ticks\":\"\"}}}],\"carpet\":[{\"aaxis\":{\"endlinecolor\":\"#2a3f5f\",\"gridcolor\":\"white\",\"linecolor\":\"white\",\"minorgridcolor\":\"white\",\"startlinecolor\":\"#2a3f5f\"},\"baxis\":{\"endlinecolor\":\"#2a3f5f\",\"gridcolor\":\"white\",\"linecolor\":\"white\",\"minorgridcolor\":\"white\",\"startlinecolor\":\"#2a3f5f\"},\"type\":\"carpet\"}],\"table\":[{\"cells\":{\"fill\":{\"color\":\"#EBF0F8\"},\"line\":{\"color\":\"white\"}},\"header\":{\"fill\":{\"color\":\"#C8D4E3\"},\"line\":{\"color\":\"white\"}},\"type\":\"table\"}],\"barpolar\":[{\"marker\":{\"line\":{\"color\":\"#E5ECF6\",\"width\":0.5},\"pattern\":{\"fillmode\":\"overlay\",\"size\":10,\"solidity\":0.2}},\"type\":\"barpolar\"}],\"pie\":[{\"automargin\":true,\"type\":\"pie\"}]},\"layout\":{\"autotypenumbers\":\"strict\",\"colorway\":[\"#636efa\",\"#EF553B\",\"#00cc96\",\"#ab63fa\",\"#FFA15A\",\"#19d3f3\",\"#FF6692\",\"#B6E880\",\"#FF97FF\",\"#FECB52\"],\"font\":{\"color\":\"#2a3f5f\"},\"hovermode\":\"closest\",\"hoverlabel\":{\"align\":\"left\"},\"paper_bgcolor\":\"white\",\"plot_bgcolor\":\"#E5ECF6\",\"polar\":{\"bgcolor\":\"#E5ECF6\",\"angularaxis\":{\"gridcolor\":\"white\",\"linecolor\":\"white\",\"ticks\":\"\"},\"radialaxis\":{\"gridcolor\":\"white\",\"linecolor\":\"white\",\"ticks\":\"\"}},\"ternary\":{\"bgcolor\":\"#E5ECF6\",\"aaxis\":{\"gridcolor\":\"white\",\"linecolor\":\"white\",\"ticks\":\"\"},\"baxis\":{\"gridcolor\":\"white\",\"linecolor\":\"white\",\"ticks\":\"\"},\"caxis\":{\"gridcolor\":\"white\",\"linecolor\":\"white\",\"ticks\":\"\"}},\"coloraxis\":{\"colorbar\":{\"outlinewidth\":0,\"ticks\":\"\"}},\"colorscale\":{\"sequential\":[[0.0,\"#0d0887\"],[0.1111111111111111,\"#46039f\"],[0.2222222222222222,\"#7201a8\"],[0.3333333333333333,\"#9c179e\"],[0.4444444444444444,\"#bd3786\"],[0.5555555555555556,\"#d8576b\"],[0.6666666666666666,\"#ed7953\"],[0.7777777777777778,\"#fb9f3a\"],[0.8888888888888888,\"#fdca26\"],[1.0,\"#f0f921\"]],\"sequentialminus\":[[0.0,\"#0d0887\"],[0.1111111111111111,\"#46039f\"],[0.2222222222222222,\"#7201a8\"],[0.3333333333333333,\"#9c179e\"],[0.4444444444444444,\"#bd3786\"],[0.5555555555555556,\"#d8576b\"],[0.6666666666666666,\"#ed7953\"],[0.7777777777777778,\"#fb9f3a\"],[0.8888888888888888,\"#fdca26\"],[1.0,\"#f0f921\"]],\"diverging\":[[0,\"#8e0152\"],[0.1,\"#c51b7d\"],[0.2,\"#de77ae\"],[0.3,\"#f1b6da\"],[0.4,\"#fde0ef\"],[0.5,\"#f7f7f7\"],[0.6,\"#e6f5d0\"],[0.7,\"#b8e186\"],[0.8,\"#7fbc41\"],[0.9,\"#4d9221\"],[1,\"#276419\"]]},\"xaxis\":{\"gridcolor\":\"white\",\"linecolor\":\"white\",\"ticks\":\"\",\"title\":{\"standoff\":15},\"zerolinecolor\":\"white\",\"automargin\":true,\"zerolinewidth\":2},\"yaxis\":{\"gridcolor\":\"white\",\"linecolor\":\"white\",\"ticks\":\"\",\"title\":{\"standoff\":15},\"zerolinecolor\":\"white\",\"automargin\":true,\"zerolinewidth\":2},\"scene\":{\"xaxis\":{\"backgroundcolor\":\"#E5ECF6\",\"gridcolor\":\"white\",\"linecolor\":\"white\",\"showbackground\":true,\"ticks\":\"\",\"zerolinecolor\":\"white\",\"gridwidth\":2},\"yaxis\":{\"backgroundcolor\":\"#E5ECF6\",\"gridcolor\":\"white\",\"linecolor\":\"white\",\"showbackground\":true,\"ticks\":\"\",\"zerolinecolor\":\"white\",\"gridwidth\":2},\"zaxis\":{\"backgroundcolor\":\"#E5ECF6\",\"gridcolor\":\"white\",\"linecolor\":\"white\",\"showbackground\":true,\"ticks\":\"\",\"zerolinecolor\":\"white\",\"gridwidth\":2}},\"shapedefaults\":{\"line\":{\"color\":\"#2a3f5f\"}},\"annotationdefaults\":{\"arrowcolor\":\"#2a3f5f\",\"arrowhead\":0,\"arrowwidth\":1},\"geo\":{\"bgcolor\":\"white\",\"landcolor\":\"#E5ECF6\",\"subunitcolor\":\"white\",\"showland\":true,\"showlakes\":true,\"lakecolor\":\"white\"},\"title\":{\"x\":0.05},\"mapbox\":{\"style\":\"light\"}}},\"xaxis\":{\"rangeslider\":{\"visible\":false}},\"title\":{\"text\":\"ETHEREUM PRICE ANALYSIS\"}},                        {\"responsive\": true}                    ).then(function(){\n",
              "                            \n",
              "var gd = document.getElementById('03bab4d5-4b44-49f7-8cbc-0e9884c7bc8a');\n",
              "var x = new MutationObserver(function (mutations, observer) {{\n",
              "        var display = window.getComputedStyle(gd).display;\n",
              "        if (!display || display === 'none') {{\n",
              "            console.log([gd, 'removed!']);\n",
              "            Plotly.purge(gd);\n",
              "            observer.disconnect();\n",
              "        }}\n",
              "}});\n",
              "\n",
              "// Listen for the removal of the full notebook cells\n",
              "var notebookContainer = gd.closest('#notebook-container');\n",
              "if (notebookContainer) {{\n",
              "    x.observe(notebookContainer, {childList: true});\n",
              "}}\n",
              "\n",
              "// Listen for the clearing of the current output cell\n",
              "var outputEl = gd.closest('.output');\n",
              "if (outputEl) {{\n",
              "    x.observe(outputEl, {childList: true});\n",
              "}}\n",
              "\n",
              "                        })                };                            </script>        </div>\n",
              "</body>\n",
              "</html>"
            ]
          },
          "metadata": {},
          "output_type": "display_data"
        }
      ],
      "source": [
        "# Import necessary libraries\n",
        "import plotly.graph_objects as go\n",
        "# Create a Candlestick chart using Plotly\n",
        "figure = go.Figure(data= [go.Candlestick(x= data['Date'],\n",
        "                                         open = data['Open'],\n",
        "                                         high = data['High'],\n",
        "                                         low = data['Low'],\n",
        "                                         close = data['Close'])])\n",
        "#customize the layout\n",
        "figure.update_layout(title = \"ETHEREUM PRICE ANALYSIS\",\n",
        "                     xaxis_rangeslider_visible = False)\n",
        "figure.show()"
      ]
    },
    {
      "cell_type": "code",
      "execution_count": null,
      "metadata": {
        "colab": {
          "base_uri": "https://localhost:8080/"
        },
        "id": "PEB9L6Vx3-4Q",
        "outputId": "bffa9a78-937b-4aee-e883-11c4d3fa1b46"
      },
      "outputs": [
        {
          "name": "stdout",
          "output_type": "stream",
          "text": [
            "Close        1.000000\n",
            "Adj Close    1.000000\n",
            "High         0.997108\n",
            "Low          0.996954\n",
            "Open         0.993558\n",
            "Volume       0.315760\n",
            "Name: Close, dtype: float64\n"
          ]
        },
        {
          "name": "stderr",
          "output_type": "stream",
          "text": [
            "<ipython-input-50-19724c5c63bc>:1: FutureWarning:\n",
            "\n",
            "The default value of numeric_only in DataFrame.corr is deprecated. In a future version, it will default to False. Select only valid columns or specify the value of numeric_only to silence this warning.\n",
            "\n"
          ]
        }
      ],
      "source": [
        "correlation = data.corr()\n",
        "print(correlation['Close'].sort_values(ascending = False))"
      ]
    },
    {
      "cell_type": "markdown",
      "metadata": {
        "id": "FtE5roa65fOo"
      },
      "source": [
        "We opted briefly for AutoTS for our forecasting task due to its automated model selection, ensemble forecasting, flexibility in forecast length, frequency inference, and ease of use. With AutoTS, we can streamline the process of selecting the most suitable forecasting model, enhance prediction accuracy through ensemble techniques, specify the forecast length according to our needs, handle various data frequencies effortlessly, and navigate the workflow efficiently. These features align well with our requirements for generating accurate predictions of Ethereum's price movements, enabling informed decision-making and effective trading strategies."
      ]
    },
    {
      "cell_type": "code",
      "execution_count": null,
      "metadata": {
        "colab": {
          "base_uri": "https://localhost:8080/"
        },
        "id": "8JjfCKya4Q3B",
        "outputId": "8dad1d1c-dfa2-4f65-d4d1-2886a9a9cd1a"
      },
      "outputs": [
        {
          "name": "stdout",
          "output_type": "stream",
          "text": [
            "Using 1 cpus for n_jobs.\n",
            "Data frequency is: D, used frequency is: D\n",
            "Model Number: 1 with model ARIMA in generation 0 of 20\n",
            "Model Number: 2 with model AverageValueNaive in generation 0 of 20\n",
            "Model Number: 3 with model AverageValueNaive in generation 0 of 20\n",
            "Model Number: 4 with model AverageValueNaive in generation 0 of 20\n",
            "Model Number: 5 with model DatepartRegression in generation 0 of 20\n",
            "Model Number: 6 with model DatepartRegression in generation 0 of 20\n",
            "Model Number: 7 with model DatepartRegression in generation 0 of 20\n"
          ]
        },
        {
          "name": "stderr",
          "output_type": "stream",
          "text": [
            "/usr/local/lib/python3.10/dist-packages/sklearn/svm/_base.py:1244: ConvergenceWarning:\n",
            "\n",
            "Liblinear failed to converge, increase the number of iterations.\n",
            "\n",
            "/usr/local/lib/python3.10/dist-packages/sklearn/neural_network/_multilayer_perceptron.py:541: ConvergenceWarning:\n",
            "\n",
            "lbfgs failed to converge (status=1):\n",
            "STOP: TOTAL NO. of ITERATIONS REACHED LIMIT.\n",
            "\n",
            "Increase the number of iterations (max_iter) or scale the data as shown in:\n",
            "    https://scikit-learn.org/stable/modules/preprocessing.html\n",
            "\n"
          ]
        },
        {
          "name": "stdout",
          "output_type": "stream",
          "text": [
            "Model Number: 8 with model DatepartRegression in generation 0 of 20\n",
            "Epoch 1/50\n",
            "24/24 [==============================] - 7s 6ms/step - loss: 0.4100\n",
            "Epoch 2/50\n",
            "24/24 [==============================] - 0s 5ms/step - loss: 0.3957\n",
            "Epoch 3/50\n",
            "24/24 [==============================] - 0s 6ms/step - loss: 0.3750\n",
            "Epoch 4/50\n",
            "24/24 [==============================] - 0s 5ms/step - loss: 0.3671\n",
            "Epoch 5/50\n",
            "24/24 [==============================] - 0s 5ms/step - loss: 0.3590\n",
            "Epoch 6/50\n",
            "24/24 [==============================] - 0s 4ms/step - loss: 0.3561\n",
            "Epoch 7/50\n",
            "24/24 [==============================] - 0s 4ms/step - loss: 0.3551\n",
            "Epoch 8/50\n",
            "24/24 [==============================] - 0s 4ms/step - loss: 0.3542\n",
            "Epoch 9/50\n",
            "24/24 [==============================] - 0s 4ms/step - loss: 0.3530\n",
            "Epoch 10/50\n",
            "24/24 [==============================] - 0s 5ms/step - loss: 0.3512\n",
            "Epoch 11/50\n",
            "24/24 [==============================] - 0s 5ms/step - loss: 0.3483\n",
            "Epoch 12/50\n",
            "24/24 [==============================] - 0s 4ms/step - loss: 0.3490\n",
            "Epoch 13/50\n",
            "24/24 [==============================] - 0s 4ms/step - loss: 0.3450\n",
            "Epoch 14/50\n",
            "24/24 [==============================] - 0s 4ms/step - loss: 0.3474\n",
            "Epoch 15/50\n",
            "24/24 [==============================] - 0s 4ms/step - loss: 0.3460\n",
            "Epoch 16/50\n",
            "24/24 [==============================] - 0s 4ms/step - loss: 0.3455\n",
            "Epoch 17/50\n",
            "24/24 [==============================] - 0s 5ms/step - loss: 0.3414\n",
            "Epoch 18/50\n",
            "24/24 [==============================] - 0s 4ms/step - loss: 0.3414\n",
            "Epoch 19/50\n",
            "24/24 [==============================] - 0s 4ms/step - loss: 0.3403\n",
            "Epoch 20/50\n",
            "24/24 [==============================] - 0s 5ms/step - loss: 0.3401\n",
            "Epoch 21/50\n",
            "24/24 [==============================] - 0s 6ms/step - loss: 0.3364\n",
            "Epoch 22/50\n",
            "24/24 [==============================] - 0s 6ms/step - loss: 0.3378\n",
            "Epoch 23/50\n",
            "24/24 [==============================] - 0s 6ms/step - loss: 0.3368\n",
            "Epoch 24/50\n",
            "24/24 [==============================] - 0s 6ms/step - loss: 0.3392\n",
            "Epoch 25/50\n",
            "24/24 [==============================] - 0s 5ms/step - loss: 0.3398\n",
            "Epoch 26/50\n",
            "24/24 [==============================] - 0s 6ms/step - loss: 0.3339\n",
            "Epoch 27/50\n",
            "24/24 [==============================] - 0s 4ms/step - loss: 0.3343\n",
            "Epoch 28/50\n",
            "24/24 [==============================] - 0s 4ms/step - loss: 0.3375\n",
            "Epoch 29/50\n",
            "24/24 [==============================] - 0s 4ms/step - loss: 0.3442\n",
            "Epoch 30/50\n",
            "24/24 [==============================] - 0s 4ms/step - loss: 0.3374\n",
            "Epoch 31/50\n",
            "24/24 [==============================] - 0s 4ms/step - loss: 0.3336\n",
            "Epoch 32/50\n",
            "24/24 [==============================] - 0s 3ms/step - loss: 0.3312\n",
            "Epoch 33/50\n",
            "24/24 [==============================] - 0s 3ms/step - loss: 0.3338\n",
            "Epoch 34/50\n",
            "24/24 [==============================] - 0s 3ms/step - loss: 0.3303\n",
            "Epoch 35/50\n",
            "24/24 [==============================] - 0s 3ms/step - loss: 0.3303\n",
            "Epoch 36/50\n",
            "24/24 [==============================] - 0s 3ms/step - loss: 0.3324\n",
            "Epoch 37/50\n",
            "24/24 [==============================] - 0s 3ms/step - loss: 0.3331\n",
            "Epoch 38/50\n",
            "24/24 [==============================] - 0s 3ms/step - loss: 0.3278\n",
            "Epoch 39/50\n",
            "24/24 [==============================] - 0s 4ms/step - loss: 0.3306\n",
            "Epoch 40/50\n",
            "24/24 [==============================] - 0s 3ms/step - loss: 0.3370\n",
            "Epoch 41/50\n",
            "24/24 [==============================] - 0s 4ms/step - loss: 0.3331\n",
            "Epoch 42/50\n",
            "24/24 [==============================] - 0s 3ms/step - loss: 0.3380\n",
            "Epoch 43/50\n",
            "24/24 [==============================] - 0s 3ms/step - loss: 0.3321\n",
            "Epoch 44/50\n",
            "24/24 [==============================] - 0s 3ms/step - loss: 0.3443\n",
            "Epoch 45/50\n",
            "24/24 [==============================] - 0s 3ms/step - loss: 0.3308\n",
            "Epoch 46/50\n",
            "24/24 [==============================] - 0s 3ms/step - loss: 0.3295\n",
            "Epoch 47/50\n",
            "24/24 [==============================] - 0s 3ms/step - loss: 0.3329\n",
            "Epoch 48/50\n",
            "24/24 [==============================] - 0s 3ms/step - loss: 0.3242\n",
            "Epoch 49/50\n",
            "24/24 [==============================] - 0s 4ms/step - loss: 0.3273\n",
            "Epoch 50/50\n",
            "24/24 [==============================] - 0s 3ms/step - loss: 0.3386\n",
            "1/1 [==============================] - 1s 733ms/step\n",
            "Model Number: 9 with model ETS in generation 0 of 20\n",
            "Model Number: 10 with model ETS in generation 0 of 20\n",
            "Model Number: 11 with model GLM in generation 0 of 20\n",
            "Model Number: 12 with model GLM in generation 0 of 20\n",
            "Model Number: 13 with model GLS in generation 0 of 20\n",
            "Model Number: 14 with model GLS in generation 0 of 20\n",
            "Model Number: 15 with model LastValueNaive in generation 0 of 20\n",
            "Model Number: 16 with model LastValueNaive in generation 0 of 20\n",
            "Model Number: 17 with model LastValueNaive in generation 0 of 20\n",
            "Model Number: 18 with model LastValueNaive in generation 0 of 20\n",
            "Model Number: 19 with model SeasonalNaive in generation 0 of 20\n",
            "Model Number: 20 with model SeasonalNaive in generation 0 of 20\n",
            "Model Number: 21 with model SeasonalNaive in generation 0 of 20\n",
            "Model Number: 22 with model UnobservedComponents in generation 0 of 20\n",
            "Model Number: 23 with model UnobservedComponents in generation 0 of 20\n",
            "Model Number: 24 with model UnobservedComponents in generation 0 of 20\n",
            "Model Number: 25 with model VAR in generation 0 of 20\n",
            "Template Eval Error: ValueError('Only gave one variable to VAR') in model 25 in generation 0: VAR\n",
            "Model Number: 26 with model VAR in generation 0 of 20\n",
            "Template Eval Error: ValueError('Only gave one variable to VAR') in model 26 in generation 0: VAR\n",
            "Model Number: 27 with model VECM in generation 0 of 20\n",
            "Template Eval Error: ValueError('Only gave one variable to VECM') in model 27 in generation 0: VECM\n",
            "Model Number: 28 with model VECM in generation 0 of 20\n",
            "Template Eval Error: ValueError('Only gave one variable to VECM') in model 28 in generation 0: VECM\n",
            "Model Number: 29 with model WindowRegression in generation 0 of 20\n",
            "Model Number: 30 with model ConstantNaive in generation 0 of 20\n"
          ]
        },
        {
          "name": "stderr",
          "output_type": "stream",
          "text": [
            "/usr/local/lib/python3.10/dist-packages/sklearn/neural_network/_multilayer_perceptron.py:541: ConvergenceWarning:\n",
            "\n",
            "lbfgs failed to converge (status=1):\n",
            "STOP: TOTAL NO. of ITERATIONS REACHED LIMIT.\n",
            "\n",
            "Increase the number of iterations (max_iter) or scale the data as shown in:\n",
            "    https://scikit-learn.org/stable/modules/preprocessing.html\n",
            "\n",
            "ERROR:prophet.plot:Importing matplotlib failed. Plotting will not work.\n"
          ]
        },
        {
          "name": "stdout",
          "output_type": "stream",
          "text": [
            "Model Number: 31 with model FBProphet in generation 0 of 20\n"
          ]
        },
        {
          "name": "stderr",
          "output_type": "stream",
          "text": [
            "DEBUG:cmdstanpy:input tempfile: /tmp/tmpylpww35e/lugk175t.json\n",
            "DEBUG:cmdstanpy:input tempfile: /tmp/tmpylpww35e/7jqjc28a.json\n",
            "DEBUG:cmdstanpy:idx 0\n",
            "DEBUG:cmdstanpy:running CmdStan, num_threads: None\n",
            "DEBUG:cmdstanpy:CmdStan args: ['/usr/local/lib/python3.10/dist-packages/prophet/stan_model/prophet_model.bin', 'random', 'seed=49418', 'data', 'file=/tmp/tmpylpww35e/lugk175t.json', 'init=/tmp/tmpylpww35e/7jqjc28a.json', 'output', 'file=/tmp/tmpylpww35e/prophet_modelgegxe30z/prophet_model-20240318092809.csv', 'method=optimize', 'algorithm=lbfgs', 'iter=10000']\n",
            "09:28:09 - cmdstanpy - INFO - Chain [1] start processing\n",
            "INFO:cmdstanpy:Chain [1] start processing\n",
            "09:28:09 - cmdstanpy - INFO - Chain [1] done processing\n",
            "INFO:cmdstanpy:Chain [1] done processing\n"
          ]
        },
        {
          "name": "stdout",
          "output_type": "stream",
          "text": [
            "Model Number: 32 with model MultivariateRegression in generation 0 of 20\n",
            "Model Number: 33 with model MultivariateRegression in generation 0 of 20\n",
            "Template Eval Error: ValueError(\"regression_type='User' but not future_regressor supplied.\") in model 33 in generation 0: MultivariateRegression\n",
            "Model Number: 34 with model DatepartRegression in generation 0 of 20\n",
            "Template Eval Error: ValueError(\"regression_type='User' but no future_regressor passed\") in model 34 in generation 0: DatepartRegression\n",
            "Model Number: 35 with model SeasonalNaive in generation 0 of 20\n",
            "Model Number: 36 with model DatepartRegression in generation 0 of 20\n",
            "Model Number: 37 with model UnobservedComponents in generation 0 of 20\n",
            "Model Number: 38 with model UnobservedComponents in generation 0 of 20\n",
            "Model Number: 39 with model ETS in generation 0 of 20\n",
            "Model Number: 40 with model VECM in generation 0 of 20\n",
            "Template Eval Error: ValueError('Only gave one variable to VECM') in model 40 in generation 0: VECM\n",
            "Model Number: 41 with model ARDL in generation 0 of 20\n",
            "Model Number: 42 with model MultivariateMotif in generation 0 of 20\n",
            "Model Number: 43 with model MultivariateMotif in generation 0 of 20\n",
            "Model Number: 44 with model UnivariateMotif in generation 0 of 20\n",
            "Model Number: 45 with model UnivariateMotif in generation 0 of 20\n",
            "Model Number: 46 with model SectionalMotif in generation 0 of 20\n",
            "Model Number: 47 with model SectionalMotif in generation 0 of 20\n",
            "Model Number: 48 with model MultivariateRegression in generation 0 of 20\n",
            "Model Number: 49 with model FBProphet in generation 0 of 20\n",
            "Model Number: 50 with model SeasonalNaive in generation 0 of 20\n",
            "Model Number: 51 with model DatepartRegression in generation 0 of 20\n",
            "Model Number: 52 with model NVAR in generation 0 of 20\n",
            "Model Number: 53 with model Theta in generation 0 of 20\n",
            "Model Number: 54 with model UnivariateRegression in generation 0 of 20\n",
            "Model Number: 55 with model ARCH in generation 0 of 20\n",
            "Template Eval Error: ImportError('`arch` package must be installed from pip') in model 55 in generation 0: ARCH\n",
            "Model Number: 56 with model SeasonalityMotif in generation 0 of 20\n",
            "Model Number: 57 with model ConstantNaive in generation 0 of 20\n",
            "Model Number: 58 with model LastValueNaive in generation 0 of 20\n",
            "Model Number: 59 with model AverageValueNaive in generation 0 of 20\n",
            "Model Number: 60 with model GLS in generation 0 of 20\n",
            "Model Number: 61 with model SeasonalNaive in generation 0 of 20\n",
            "Model Number: 62 with model GLM in generation 0 of 20\n",
            "Template Eval Error: ValueError('NaN, inf or invalid value detected in weights, estimation infeasible.') in model 62 in generation 0: GLM\n",
            "Model Number: 63 with model ETS in generation 0 of 20\n",
            "Template Eval Error: Exception(\"Transformer ScipyFilter failed on fit from params ffill {'0': {'rows': 1, 'lag': 1, 'method': 'additive', 'strength': 0.9, 'first_value_only': False}, '1': {'lag_1': 7, 'method': 2}, '2': {'rows': 7, 'lag': 2, 'method': 'additive', 'strength': 0.7, 'first_value_only': False}, '3': {'rows': 1, 'lag': 7, 'method': 'additive', 'strength': 0.5, 'first_value_only': False}, '4': {'rows': 1, 'lag': 1, 'method': 'additive', 'strength': 1.0, 'first_value_only': False}, '5': {'method': 'butter', 'method_args': {'N': 6, 'btype': 'highpass', 'analog': False, 'output': 'sos', 'Wn': 0.03571428571428571}}}\") in model 63 in generation 0: ETS\n",
            "Model Number: 64 with model FBProphet in generation 0 of 20\n"
          ]
        },
        {
          "name": "stderr",
          "output_type": "stream",
          "text": [
            "/usr/local/lib/python3.10/dist-packages/statsmodels/genmod/families/family.py:445: RuntimeWarning:\n",
            "\n",
            "divide by zero encountered in divide\n",
            "\n",
            "/usr/local/lib/python3.10/dist-packages/statsmodels/genmod/families/family.py:143: RuntimeWarning:\n",
            "\n",
            "divide by zero encountered in divide\n",
            "\n"
          ]
        },
        {
          "name": "stdout",
          "output_type": "stream",
          "text": [
            "Model Number: 65 with model UnobservedComponents in generation 0 of 20\n",
            "Model Number: 66 with model VAR in generation 0 of 20\n",
            "Template Eval Error: ValueError('Only gave one variable to VAR') in model 66 in generation 0: VAR\n",
            "Model Number: 67 with model VECM in generation 0 of 20\n",
            "Template Eval Error: ValueError('Only gave one variable to VECM') in model 67 in generation 0: VECM\n",
            "Model Number: 68 with model ARIMA in generation 0 of 20\n",
            "Template Eval Error: Exception(\"Transformer AnomalyRemoval failed on fit from params fake_date {'0': {'method': 'IQR', 'method_params': {'iqr_threshold': 2.0, 'iqr_quantiles': [0.25, 0.75]}, 'fillna': 'rolling_mean_24', 'transform_dict': {'fillna': 'KNNImputer', 'transformations': {'0': 'STLFilter', '1': 'Round'}, 'transformation_params': {'0': {'decomp_type': 'seasonal_decompose', 'part': 'trend'}, '1': {'decimals': -2, 'on_transform': False, 'on_inverse': True}}}, 'isolated_only': False}, '1': {'output_distribution': 'normal', 'n_quantiles': 100}, '2': {'fixed': True, 'window': 12}}\") in model 68 in generation 0: ARIMA\n",
            "Model Number: 69 with model WindowRegression in generation 0 of 20\n"
          ]
        },
        {
          "name": "stderr",
          "output_type": "stream",
          "text": [
            "/usr/local/lib/python3.10/dist-packages/sklearn/neighbors/_classification.py:215: DataConversionWarning:\n",
            "\n",
            "A column-vector y was passed when a 1d array was expected. Please change the shape of y to (n_samples,), for example using ravel().\n",
            "\n"
          ]
        },
        {
          "name": "stdout",
          "output_type": "stream",
          "text": [
            "Model Number: 70 with model DatepartRegression in generation 0 of 20\n",
            "Model Number: 71 with model UnivariateRegression in generation 0 of 20\n",
            "Template Eval Error: Exception(\"Transformer DatepartRegression failed on inverse from params ffill {'0': {'rows': 7, 'lag': 1, 'method': 'additive', 'strength': 1.0, 'first_value_only': False}, '1': {'fixed': False, 'window': 3}, '2': {'regression_model': {'model': 'ElasticNet', 'model_params': {}}, 'datepart_method': 'simple_binarized', 'polynomial_degree': None, 'transform_dict': None, 'holiday_countries_used': True}}\") in model 71 in generation 0: UnivariateRegression\n",
            "Model Number: 72 with model MultivariateRegression in generation 0 of 20\n",
            "Template Eval Error: XGBoostError('[09:28:15] /workspace/src/objective/regression_obj.cu:343: PoissonRegression: label must be nonnegative\\nStack trace:\\n  [bt] (0) /usr/local/lib/python3.10/dist-packages/xgboost/lib/libxgboost.so(+0xa8dc0a) [0x7af83aaedc0a]\\n  [bt] (1) /usr/local/lib/python3.10/dist-packages/xgboost/lib/libxgboost.so(+0xaa0797) [0x7af83ab00797]\\n  [bt] (2) /usr/local/lib/python3.10/dist-packages/xgboost/lib/libxgboost.so(+0x55f9ed) [0x7af83a5bf9ed]\\n  [bt] (3) /usr/local/lib/python3.10/dist-packages/xgboost/lib/libxgboost.so(+0x4900d1) [0x7af83a4f00d1]\\n  [bt] (4) /usr/local/lib/python3.10/dist-packages/xgboost/lib/libxgboost.so(+0x4c0716) [0x7af83a520716]\\n  [bt] (5) /usr/local/lib/python3.10/dist-packages/xgboost/lib/libxgboost.so(+0x4c5274) [0x7af83a525274]\\n  [bt] (6) /usr/local/lib/python3.10/dist-packages/xgboost/lib/libxgboost.so(XGBoosterUpdateOneIter+0x70) [0x7af83a1c1ef0]\\n  [bt] (7) /lib/x86_64-linux-gnu/libffi.so.8(+0x7e2e) [0x7af91795be2e]\\n  [bt] (8) /lib/x86_64-linux-gnu/libffi.so.8(+0x4493) [0x7af917958493]\\n\\n') in model 72 in generation 0: MultivariateRegression\n",
            "Model Number: 73 with model UnivariateMotif in generation 0 of 20\n",
            "Model Number: 74 with model MultivariateMotif in generation 0 of 20\n",
            "Template Eval Error: Exception(\"Transformer RegressionFilter failed on fit from params ffill {'0': {'sigma': 2, 'rolling_window': 90, 'run_order': 'trend_first', 'regression_params': {'regression_model': {'model': 'ElasticNet', 'model_params': {}}, 'datepart_method': 'expanded', 'polynomial_degree': None, 'transform_dict': {'fillna': None, 'transformations': {'0': 'AnomalyRemoval'}, 'transformation_params': {'0': {'method': 'zscore', 'transform_dict': {'transformations': {'0': 'DatepartRegression'}, 'transformation_params': {'0': {'datepart_method': 'simple_3', 'regression_model': {'model': 'ElasticNet', 'model_params': {}}}}}, 'method_params': {'distribution': 'uniform', 'alpha': 0.05}}}}, 'holiday_countries_used': True}, 'holiday_params': None}, '1': {'rows': 4, 'lag': 1, 'method': 'additive', 'strength': 1.0, 'first_value_only': False}, '2': {'decimals': 0, 'on_transform': True, 'on_inverse': False}}\") in model 74 in generation 0: MultivariateMotif\n",
            "Model Number: 75 with model SectionalMotif in generation 0 of 20\n",
            "Model Number: 76 with model NVAR in generation 0 of 20\n",
            "Model Number: 77 with model Theta in generation 0 of 20\n",
            "Model Number: 78 with model ARDL in generation 0 of 20\n",
            "Model Number: 79 with model ARCH in generation 0 of 20\n",
            "Template Eval Error: ImportError('`arch` package must be installed from pip') in model 79 in generation 0: ARCH\n",
            "Model Number: 80 with model MetricMotif in generation 0 of 20\n",
            "Model Number: 81 with model SeasonalityMotif in generation 0 of 20\n",
            "Model Number: 82 with model GLM in generation 0 of 20\n",
            "Model Number: 83 with model GLM in generation 0 of 20\n",
            "Model Number: 84 with model VECM in generation 0 of 20\n",
            "Template Eval Error: ValueError('Only gave one variable to VECM') in model 84 in generation 0: VECM\n",
            "Model Number: 85 with model ARCH in generation 0 of 20\n",
            "Template Eval Error: ImportError('`arch` package must be installed from pip') in model 85 in generation 0: ARCH\n",
            "Model Number: 86 with model WindowRegression in generation 0 of 20\n"
          ]
        },
        {
          "name": "stderr",
          "output_type": "stream",
          "text": [
            "/usr/local/lib/python3.10/dist-packages/statsmodels/genmod/families/links.py:198: RuntimeWarning:\n",
            "\n",
            "overflow encountered in exp\n",
            "\n"
          ]
        },
        {
          "name": "stdout",
          "output_type": "stream",
          "text": [
            "Template Eval Error: LightGBMError('[poisson]: at least one target label is negative') in model 86 in generation 0: WindowRegression\n",
            "Model Number: 87 with model ConstantNaive in generation 0 of 20\n",
            "Model Number: 88 with model Theta in generation 0 of 20\n",
            "Model Number: 89 with model DatepartRegression in generation 0 of 20\n",
            "Model Number: 90 with model GLM in generation 0 of 20\n",
            "Template Eval Error: ValueError('The first guess on the deviance function returned a nan.  This could be a boundary  problem and should be reported.') in model 90 in generation 0: GLM\n",
            "Model Number: 91 with model VAR in generation 0 of 20\n",
            "Template Eval Error: Exception(\"Transformer STLFilter failed on fit from params mean {'0': {'n_harmonics': 10, 'detrend': None}, '1': {'rows': 1, 'lag': 1, 'method': 'additive', 'strength': 1.0, 'first_value_only': False}, '2': {'decomp_type': 'seasonal_decompose', 'part': 'trend'}, '3': {'window_size': 30, 'alpha': 2.5, 'grouping_forward_limit': 4, 'max_level_shifts': 30, 'alignment': 'rolling_diff'}}\") in model 91 in generation 0: VAR\n",
            "Model Number: 92 with model DatepartRegression in generation 0 of 20\n",
            "Template Eval Error: ValueError(\"regression_type='User' but no future_regressor passed\") in model 92 in generation 0: DatepartRegression\n",
            "Model Number: 93 with model SeasonalityMotif in generation 0 of 20\n",
            "Model Number: 94 with model VECM in generation 0 of 20\n",
            "Template Eval Error: Exception(\"Transformer ScipyFilter failed on fit from params fake_date {'0': {'rows': 1, 'lag': 1, 'method': 'multiplicative', 'strength': 1.0, 'first_value_only': True}, '1': {'method': 'butter', 'method_args': {'N': 5, 'btype': 'highpass', 'analog': False, 'output': 'sos', 'Wn': 0.011904761904761904}}, '2': {}, '3': {'method': 'clip', 'std_threshold': 2, 'fillna': None}, '4': {}}\") in model 94 in generation 0: VECM\n",
            "Model Number: 95 with model SeasonalNaive in generation 0 of 20\n",
            "Model Number: 96 with model Theta in generation 0 of 20\n"
          ]
        },
        {
          "name": "stderr",
          "output_type": "stream",
          "text": [
            "/usr/local/lib/python3.10/dist-packages/statsmodels/genmod/families/family.py:1650: RuntimeWarning:\n",
            "\n",
            "invalid value encountered in log\n",
            "\n"
          ]
        },
        {
          "name": "stdout",
          "output_type": "stream",
          "text": [
            "Template Eval Error: Exception(\"Transformer AlignLastValue failed on inverse from params ffill {'0': {}, '1': {}, '2': {'rows': 7, 'lag': 1, 'method': 'additive', 'strength': 1.0, 'first_value_only': True}, '3': {'rows': 1, 'lag': 1, 'method': 'additive', 'strength': 1.0, 'first_value_only': True}, '4': {}, '5': {'method': 'savgol_filter', 'method_args': {'window_length': 91, 'polyorder': 4, 'deriv': 0, 'mode': 'nearest'}}}\") in model 96 in generation 0: Theta\n",
            "Model Number: 97 with model UnobservedComponents in generation 0 of 20\n",
            "Model Number: 98 with model FBProphet in generation 0 of 20\n",
            "Model Number: 99 with model ARCH in generation 0 of 20\n",
            "Template Eval Error: ImportError('`arch` package must be installed from pip') in model 99 in generation 0: ARCH\n",
            "Model Number: 100 with model VAR in generation 0 of 20\n",
            "Template Eval Error: Exception(\"Transformer ScipyFilter failed on fit from params ffill {'0': {'method': 'butter', 'method_args': {'N': 8, 'btype': 'highpass', 'analog': False, 'output': 'sos', 'Wn': 0.03571428571428571}}, '1': {}}\") in model 100 in generation 0: VAR\n",
            "Model Number: 101 with model NVAR in generation 0 of 20\n",
            "Model Number: 102 with model FBProphet in generation 0 of 20\n",
            "Model Number: 103 with model WindowRegression in generation 0 of 20\n"
          ]
        },
        {
          "name": "stderr",
          "output_type": "stream",
          "text": [
            "/usr/local/lib/python3.10/dist-packages/sklearn/experimental/enable_hist_gradient_boosting.py:16: UserWarning:\n",
            "\n",
            "Since version 1.0, it is not needed to import enable_hist_gradient_boosting anymore. HistGradientBoostingClassifier and HistGradientBoostingRegressor are now stable and can be normally imported from sklearn.ensemble.\n",
            "\n"
          ]
        },
        {
          "name": "stdout",
          "output_type": "stream",
          "text": [
            "Model Number: 104 with model UnobservedComponents in generation 0 of 20\n",
            "Model Number: 105 with model SeasonalNaive in generation 0 of 20\n",
            "Template Eval Error: Exception(\"Transformer AlignLastValue failed on inverse from params ffill_mean_biased {'0': {'method': 'clip', 'std_threshold': 4, 'fillna': None}, '1': {'model': 'GLS', 'phi': 1, 'window': None, 'transform_dict': None}, '2': {'rows': 1, 'lag': 1, 'method': 'additive', 'strength': 1.0, 'first_value_only': True}, '3': {'rows': 1, 'lag': 1, 'method': 'additive', 'strength': 1.0, 'first_value_only': True}}\") in model 105 in generation 0: SeasonalNaive\n",
            "Model Number: 106 with model ARDL in generation 0 of 20\n",
            "Template Eval Error: ValueError(\"regression_type='User' but future_regressor not supplied\") in model 106 in generation 0: ARDL\n",
            "Model Number: 107 with model LastValueNaive in generation 0 of 20\n",
            "Model Number: 108 with model UnobservedComponents in generation 0 of 20\n",
            "Template Eval Error: ValueError(\"regression_type='User' but no future_regressor supplied\") in model 108 in generation 0: UnobservedComponents\n",
            "Model Number: 109 with model ARCH in generation 0 of 20\n",
            "Template Eval Error: ImportError('`arch` package must be installed from pip') in model 109 in generation 0: ARCH\n",
            "Model Number: 110 with model AverageValueNaive in generation 0 of 20\n",
            "Model Number: 111 with model NVAR in generation 0 of 20\n",
            "Model Number: 112 with model GLM in generation 0 of 20\n",
            "Model Number: 113 with model UnobservedComponents in generation 0 of 20\n",
            "Model Number: 114 with model GLM in generation 0 of 20\n",
            "Template Eval Error: ValueError('The first guess on the deviance function returned a nan.  This could be a boundary  problem and should be reported.') in model 114 in generation 0: GLM\n",
            "Model Number: 115 with model WindowRegression in generation 0 of 20\n",
            "Model Number: 116 with model UnivariateMotif in generation 0 of 20\n",
            "Template Eval Error: Exception(\"Transformer ScipyFilter failed on fit from params ffill {'0': {'model': 'GLS', 'phi': 1, 'window': None, 'transform_dict': None}, '1': {}, '2': {}, '3': {'method': 'butter', 'method_args': {'N': 1, 'btype': 'highpass', 'analog': False, 'output': 'sos', 'Wn': 0.0027472527472527475}}, '4': {'window_size': 30, 'alpha': 3.0, 'grouping_forward_limit': 2, 'max_level_shifts': 10, 'alignment': 'last_value'}, '5': {'fixed': True, 'window': 3}}\") in model 116 in generation 0: UnivariateMotif\n",
            "Model Number: 117 with model DatepartRegression in generation 0 of 20\n"
          ]
        },
        {
          "name": "stderr",
          "output_type": "stream",
          "text": [
            "/usr/local/lib/python3.10/dist-packages/statsmodels/genmod/families/family.py:1367: ValueWarning:\n",
            "\n",
            "Negative binomial dispersion parameter alpha not set. Using default value alpha=1.0.\n",
            "\n",
            "/usr/local/lib/python3.10/dist-packages/statsmodels/genmod/families/family.py:1406: RuntimeWarning:\n",
            "\n",
            "invalid value encountered in log\n",
            "\n"
          ]
        },
        {
          "name": "stdout",
          "output_type": "stream",
          "text": [
            "Template Eval Error: Exception(\"Transformer AlignLastValue failed on inverse from params rolling_mean {'0': {'method': 'clip', 'std_threshold': 3.5, 'fillna': None}, '1': {'model': 'Linear', 'phi': 1, 'window': 900, 'transform_dict': None}, '2': {'method': 'clip', 'std_threshold': 4.5, 'fillna': None}, '3': {'rows': 1, 'lag': 1, 'method': 'additive', 'strength': 0.9, 'first_value_only': True}}\") in model 117 in generation 0: DatepartRegression\n",
            "Model Number: 118 with model Theta in generation 0 of 20\n",
            "Template Eval Error: Exception(\"Transformer DatepartRegression failed on inverse from params zero {'0': {'lag_1': 7, 'method': 'LastValue'}, '1': {}, '2': {'regression_model': {'model': 'ElasticNet', 'model_params': {}}, 'datepart_method': 'expanded', 'polynomial_degree': None, 'transform_dict': {'fillna': 'ffill', 'transformations': {'0': 'bkfilter'}, 'transformation_params': {'0': {}}}, 'holiday_countries_used': True}}\") in model 118 in generation 0: Theta\n",
            "Model Number: 119 with model GLS in generation 0 of 20\n",
            "Template Eval Error: Exception(\"Transformer ScipyFilter failed on fit from params zero {'0': {}, '1': {'fixed': True, 'window': 10}, '2': {}, '3': {}, '4': {'method': 'butter', 'method_args': {'N': 7, 'btype': 'highpass', 'analog': False, 'output': 'sos', 'Wn': 0.08333333333333333}}}\") in model 119 in generation 0: GLS\n",
            "Model Number: 120 with model AverageValueNaive in generation 0 of 20\n",
            "Model Number: 121 with model ARDL in generation 0 of 20\n",
            "Model Number: 122 with model UnivariateMotif in generation 0 of 20\n",
            "Model Number: 123 with model MultivariateMotif in generation 0 of 20\n",
            "Model Number: 124 with model FBProphet in generation 0 of 20\n",
            "back_forecast split 2 failed with LinAlgError('Array must not contain infs or NaNs')\n",
            "back_forecast split 3 failed with LinAlgError('Array must not contain infs or NaNs')\n",
            "back_forecast split 4 failed with LinAlgError('Array must not contain infs or NaNs')\n",
            "back_forecast split 5 failed with LinAlgError('Array must not contain infs or NaNs')\n",
            "back_forecast split 6 failed with LinAlgError('Array must not contain infs or NaNs')\n"
          ]
        },
        {
          "name": "stderr",
          "output_type": "stream",
          "text": [
            "/usr/local/lib/python3.10/dist-packages/autots/models/matrix_var.py:62: RuntimeWarning:\n",
            "\n",
            "divide by zero encountered in reciprocal\n",
            "\n",
            "/usr/local/lib/python3.10/dist-packages/autots/models/matrix_var.py:62: RuntimeWarning:\n",
            "\n",
            "invalid value encountered in multiply\n",
            "\n",
            "/usr/local/lib/python3.10/dist-packages/autots/models/matrix_var.py:62: RuntimeWarning:\n",
            "\n",
            "divide by zero encountered in reciprocal\n",
            "\n",
            "/usr/local/lib/python3.10/dist-packages/autots/models/matrix_var.py:62: RuntimeWarning:\n",
            "\n",
            "invalid value encountered in multiply\n",
            "\n",
            "/usr/local/lib/python3.10/dist-packages/autots/models/matrix_var.py:62: RuntimeWarning:\n",
            "\n",
            "divide by zero encountered in reciprocal\n",
            "\n",
            "/usr/local/lib/python3.10/dist-packages/autots/models/matrix_var.py:62: RuntimeWarning:\n",
            "\n",
            "invalid value encountered in multiply\n",
            "\n",
            "/usr/local/lib/python3.10/dist-packages/autots/models/matrix_var.py:62: RuntimeWarning:\n",
            "\n",
            "divide by zero encountered in reciprocal\n",
            "\n",
            "/usr/local/lib/python3.10/dist-packages/autots/models/matrix_var.py:62: RuntimeWarning:\n",
            "\n",
            "invalid value encountered in multiply\n",
            "\n",
            "/usr/local/lib/python3.10/dist-packages/autots/models/matrix_var.py:62: RuntimeWarning:\n",
            "\n",
            "divide by zero encountered in reciprocal\n",
            "\n",
            "/usr/local/lib/python3.10/dist-packages/autots/models/matrix_var.py:62: RuntimeWarning:\n",
            "\n",
            "invalid value encountered in multiply\n",
            "\n"
          ]
        },
        {
          "name": "stdout",
          "output_type": "stream",
          "text": [
            "Model Number: 125 with model VAR in generation 0 of 20\n",
            "Template Eval Error: ValueError('Only gave one variable to VAR') in model 125 in generation 0: VAR\n",
            "Model Number: 126 with model UnivariateRegression in generation 0 of 20\n",
            "Template Eval Error: Exception(\"Transformer ScipyFilter failed on fit from params nearest {'0': {'method': 'butter', 'method_args': {'N': 8, 'btype': 'lowpass', 'analog': False, 'output': 'sos', 'Wn': 0.25}}, '1': {}}\") in model 126 in generation 0: UnivariateRegression\n",
            "Model Number: 127 with model AverageValueNaive in generation 0 of 20\n",
            "Template Eval Error: Exception(\"Transformer ScipyFilter failed on fit from params pchip {'0': {'method': 'butter', 'method_args': {'N': 4, 'btype': 'lowpass', 'analog': False, 'output': 'sos', 'Wn': 0.017241379310344827}}, '1': {'discretization': 'upper', 'n_bins': 5}, '2': {'rows': 1, 'lag': 28, 'method': 'additive', 'strength': 1.0, 'first_value_only': False}}\") in model 127 in generation 0: AverageValueNaive\n",
            "Model Number: 128 with model ETS in generation 0 of 20\n"
          ]
        },
        {
          "name": "stderr",
          "output_type": "stream",
          "text": [
            "09:28:29 - cmdstanpy - ERROR - Chain [1] error: error during processing Operation not permitted\n",
            "ERROR:cmdstanpy:Chain [1] error: error during processing Operation not permitted\n",
            "WARNING:prophet.models:Optimization terminated abnormally. Falling back to Newton.\n"
          ]
        },
        {
          "name": "stdout",
          "output_type": "stream",
          "text": [
            "Template Eval Error: Exception(\"Transformer ScipyFilter failed on fit from params ffill {'0': {}, '1': {}, '2': {'threshold': 0.9, 'splash_threshold': None, 'use_dayofmonth_holidays': True, 'use_wkdom_holidays': True, 'use_wkdeom_holidays': False, 'use_lunar_holidays': False, 'use_lunar_weekday': False, 'use_islamic_holidays': False, 'use_hebrew_holidays': True, 'anomaly_detector_params': {'method': 'IQR', 'method_params': {'iqr_threshold': 3.0, 'iqr_quantiles': [0.25, 0.75]}, 'fillna': 'rolling_mean_24', 'transform_dict': None, 'isolated_only': False}, 'remove_excess_anomalies': True, 'impact': 'datepart_regression', 'regression_params': {'regression_model': {'model': 'DecisionTree', 'model_params': {'max_depth': None, 'min_samples_split': 1.0}}, 'datepart_method': 'common_fourier', 'polynomial_degree': None, 'transform_dict': None, 'holiday_countries_used': False}}, '3': {'method': 'butter', 'method_args': {'N': 2, 'btype': 'highpass', 'analog': False, 'output': 'sos', 'Wn': 0.011904761904761904}}}\") in model 128 in generation 0: ETS\n",
            "Model Number: 129 with model FBProphet in generation 0 of 20\n",
            "Template Eval Error: Exception(\"Transformer AlignLastValue failed on inverse from params akima {'0': {'method': 'clip', 'std_threshold': 1, 'fillna': None}, '1': {'model': 'Linear', 'phi': 1, 'window': None, 'transform_dict': {'fillna': None, 'transformations': {'0': 'bkfilter'}, 'transformation_params': {'0': {}}}}, '2': {}, '3': {'rows': 1, 'lag': 1, 'method': 'additive', 'strength': 1.0, 'first_value_only': True}}\") in model 129 in generation 0: FBProphet\n",
            "Model Number: 130 with model ETS in generation 0 of 20\n",
            "Model Number: 131 with model UnivariateMotif in generation 0 of 20\n",
            "Model Number: 132 with model GLS in generation 0 of 20\n",
            "Model Number: 133 with model UnobservedComponents in generation 0 of 20\n",
            "Model Number: 134 with model SeasonalNaive in generation 0 of 20\n",
            "Model Number: 135 with model ARIMA in generation 0 of 20\n",
            "Model Number: 136 with model GLS in generation 0 of 20\n",
            "Model Number: 137 with model DatepartRegression in generation 0 of 20\n",
            "Template Eval Error: ValueError(\"regression_type='User' but no future_regressor passed\") in model 137 in generation 0: DatepartRegression\n",
            "Model Number: 138 with model WindowRegression in generation 0 of 20\n",
            "Template Eval Error: Exception(\"Transformer STLFilter failed on fit from params akima {'0': {'method': 'clip', 'std_threshold': 4.5, 'fillna': None}, '1': {'threshold': 0.8, 'splash_threshold': None, 'use_dayofmonth_holidays': True, 'use_wkdom_holidays': True, 'use_wkdeom_holidays': False, 'use_lunar_holidays': False, 'use_lunar_weekday': True, 'use_islamic_holidays': False, 'use_hebrew_holidays': False, 'anomaly_detector_params': {'method': 'rolling_zscore', 'method_params': {'distribution': 'norm', 'alpha': 0.05, 'rolling_periods': 90, 'center': True}, 'fillna': 'ffill', 'transform_dict': {'fillna': 'akima', 'transformations': {'0': 'EWMAFilter', '1': 'FFTDecomposition'}, 'transformation_params': {'0': {'span': 3}, '1': {'n_harmonics': 10, 'detrend': 'quadratic'}}}, 'isolated_only': False}, 'remove_excess_anomalies': True, 'impact': 'regression', 'regression_params': {}}, '2': {'decomp_type': 'seasonal_decompose', 'part': 'trend'}, '3': {'window_size': 7, 'alpha': 2.5, 'grouping_forward_limit': 2, 'max_level_shifts': 10, 'alignment': 'rolling_diff'}, '4': {}}\") in model 138 in generation 0: WindowRegression\n",
            "Model Number: 139 with model ConstantNaive in generation 0 of 20\n",
            "Template Eval Error: Exception(\"Transformer StandardScaler failed on inverse from params mean {'0': {}, '1': {'rolling_window': 30, 'n_tails': 0.05, 'n_future': 0.2, 'method': 'mean', 'macro_micro': True}, '2': {'fillna': 'akima', 'center': 'zero'}}\") in model 139 in generation 0: ConstantNaive\n",
            "Model Number: 140 with model Theta in generation 0 of 20\n",
            "Model Number: 141 with model DatepartRegression in generation 0 of 20\n",
            "Model Number: 142 with model MetricMotif in generation 0 of 20\n",
            "Model Number: 143 with model UnobservedComponents in generation 0 of 20\n",
            "Template Eval Error: ValueError('Model UnobservedComponents returned NaN for one or more series. fail_on_forecast_nan=True') in model 143 in generation 0: UnobservedComponents\n",
            "Model Number: 144 with model ARDL in generation 0 of 20\n",
            "Model Number: 145 with model SeasonalityMotif in generation 0 of 20\n",
            "Model Number: 146 with model ARCH in generation 0 of 20\n",
            "Template Eval Error: ImportError('`arch` package must be installed from pip') in model 146 in generation 0: ARCH\n",
            "Model Number: 147 with model VECM in generation 0 of 20\n",
            "Template Eval Error: ValueError('Only gave one variable to VECM') in model 147 in generation 0: VECM\n",
            "Model Number: 148 with model SectionalMotif in generation 0 of 20\n",
            "Model Number: 149 with model VAR in generation 0 of 20\n",
            "Template Eval Error: ValueError('Only gave one variable to VAR') in model 149 in generation 0: VAR\n",
            "Model Number: 150 with model MetricMotif in generation 0 of 20\n",
            "Model Number: 151 with model ConstantNaive in generation 0 of 20\n",
            "Model Number: 152 with model ETS in generation 0 of 20\n",
            "Model Number: 153 with model ConstantNaive in generation 0 of 20\n",
            "Model Number: 154 with model ARDL in generation 0 of 20\n",
            "Template Eval Error: ValueError(\"regression_type='User' but future_regressor not supplied\") in model 154 in generation 0: ARDL\n",
            "Model Number: 155 with model NVAR in generation 0 of 20\n",
            "Model Number: 156 with model DatepartRegression in generation 0 of 20\n",
            "Model Number: 157 with model MultivariateMotif in generation 0 of 20\n",
            "Model Number: 158 with model VECM in generation 0 of 20\n",
            "Template Eval Error: ValueError('Only gave one variable to VECM') in model 158 in generation 0: VECM\n",
            "Model Number: 159 with model ARCH in generation 0 of 20\n",
            "Template Eval Error: ImportError('`arch` package must be installed from pip') in model 159 in generation 0: ARCH\n",
            "Model Number: 160 with model VECM in generation 0 of 20\n",
            "Template Eval Error: ValueError('Only gave one variable to VECM') in model 160 in generation 0: VECM\n",
            "Model Number: 161 with model SeasonalityMotif in generation 0 of 20\n",
            "Model Number: 162 with model ARIMA in generation 0 of 20\n"
          ]
        },
        {
          "name": "stderr",
          "output_type": "stream",
          "text": [
            "/usr/local/lib/python3.10/dist-packages/autots/tools/thresholding.py:204: RuntimeWarning:\n",
            "\n",
            "overflow encountered in scalar power\n",
            "\n",
            "/usr/local/lib/python3.10/dist-packages/sklearn/linear_model/_coordinate_descent.py:631: ConvergenceWarning:\n",
            "\n",
            "Objective did not converge. You might want to increase the number of iterations, check the scale of the features or consider increasing regularisation. Duality gap: 1.258e+07, tolerance: 1.994e+04\n",
            "\n"
          ]
        },
        {
          "name": "stdout",
          "output_type": "stream",
          "text": [
            "Template Eval Error: Exception(\"Transformer AlignLastValue failed on inverse from params zero {'0': {'sigma': 0.5, 'rolling_window': 90, 'run_order': 'season_first', 'regression_params': {'regression_model': {'model': 'ElasticNet', 'model_params': {}}, 'datepart_method': 'recurring', 'polynomial_degree': 2, 'transform_dict': None, 'holiday_countries_used': False}, 'holiday_params': None}, '1': {'rows': 1, 'lag': 7, 'method': 'additive', 'strength': 1.0, 'first_value_only': False}, '2': {}, '3': {'window_size': 90, 'alpha': 2.5, 'grouping_forward_limit': 3, 'max_level_shifts': 30, 'alignment': 'average'}, '4': {'rows': 1, 'lag': 7, 'method': 'additive', 'strength': 1.0, 'first_value_only': True}, '5': {'rows': 1, 'lag': 1, 'method': 'additive', 'strength': 1.0, 'first_value_only': False}}\") in model 162 in generation 0: ARIMA\n",
            "Model Number: 163 with model UnivariateMotif in generation 0 of 20\n",
            "Model Number: 164 with model ARCH in generation 0 of 20\n",
            "Template Eval Error: ImportError('`arch` package must be installed from pip') in model 164 in generation 0: ARCH\n",
            "Model Number: 165 with model ARCH in generation 0 of 20\n",
            "Template Eval Error: ImportError('`arch` package must be installed from pip') in model 165 in generation 0: ARCH\n",
            "Model Number: 166 with model GLM in generation 0 of 20\n",
            "Template Eval Error: ValueError('regression_type=user and no future_regressor passed') in model 166 in generation 0: GLM\n",
            "Model Number: 167 with model SeasonalNaive in generation 0 of 20\n",
            "Model Number: 168 with model MetricMotif in generation 0 of 20\n",
            "Template Eval Error: Exception(\"Transformer Detrend failed on fit from params ffill {'0': {'rows': 1, 'lag': 1, 'method': 'additive', 'strength': 1.0, 'first_value_only': False}, '1': {'model': 'GLS', 'phi': 1, 'window': 30, 'transform_dict': {'fillna': 'ffill', 'transformations': {'0': 'PCA', '1': 'STLFilter'}, 'transformation_params': {'0': {'whiten': False}, '1': {'decomp_type': 'seasonal_decompose', 'part': 'trend'}}}}, '2': {}, '3': {}}\") in model 168 in generation 0: MetricMotif\n",
            "Model Number: 169 with model DatepartRegression in generation 0 of 20\n",
            "Model Number: 170 with model DatepartRegression in generation 0 of 20\n",
            "Template Eval Error: ValueError(\"regression_type='User' but no future_regressor passed\") in model 170 in generation 0: DatepartRegression\n",
            "Model Number: 171 with model SeasonalNaive in generation 0 of 20\n",
            "Template Eval Error: Exception(\"Transformer AlignLastValue failed on inverse from params linear {'0': {}, '1': {}, '2': {'rows': 2, 'lag': 1, 'method': 'additive', 'strength': 1.0, 'first_value_only': True}}\") in model 171 in generation 0: SeasonalNaive\n",
            "Model Number: 172 with model WindowRegression in generation 0 of 20\n",
            "Model Number: 173 with model WindowRegression in generation 0 of 20\n",
            "Model Number: 174 with model GLM in generation 0 of 20\n",
            "Template Eval Error: ValueError('NaN, inf or invalid value detected in weights, estimation infeasible.') in model 174 in generation 0: GLM\n",
            "Model Number: 175 with model UnobservedComponents in generation 0 of 20\n"
          ]
        },
        {
          "name": "stderr",
          "output_type": "stream",
          "text": [
            "/usr/local/lib/python3.10/dist-packages/statsmodels/genmod/families/links.py:527: RuntimeWarning:\n",
            "\n",
            "overflow encountered in exp\n",
            "\n",
            "/usr/local/lib/python3.10/dist-packages/statsmodels/genmod/families/family.py:445: RuntimeWarning:\n",
            "\n",
            "divide by zero encountered in divide\n",
            "\n",
            "/usr/local/lib/python3.10/dist-packages/statsmodels/genmod/families/family.py:143: RuntimeWarning:\n",
            "\n",
            "invalid value encountered in multiply\n",
            "\n",
            "/usr/local/lib/python3.10/dist-packages/statsmodels/genmod/families/family.py:143: RuntimeWarning:\n",
            "\n",
            "divide by zero encountered in divide\n",
            "\n",
            "/usr/local/lib/python3.10/dist-packages/statsmodels/genmod/generalized_linear_model.py:1328: RuntimeWarning:\n",
            "\n",
            "invalid value encountered in multiply\n",
            "\n"
          ]
        },
        {
          "name": "stdout",
          "output_type": "stream",
          "text": [
            "Template Eval Error: ValueError(\"regression_type='User' but no future_regressor supplied\") in model 175 in generation 0: UnobservedComponents\n",
            "Model Number: 176 with model NVAR in generation 0 of 20\n",
            "Model Number: 177 with model SeasonalityMotif in generation 0 of 20\n",
            "Model Number: 178 with model LastValueNaive in generation 0 of 20\n",
            "Model Number: 179 with model UnivariateMotif in generation 0 of 20\n",
            "Model Number: 180 with model SeasonalityMotif in generation 0 of 20\n",
            "Model Number: 181 with model UnobservedComponents in generation 0 of 20\n",
            "New Generation: 1 of 20\n",
            "Model Number: 182 with model UnivariateMotif in generation 1 of 20\n",
            "Model Number: 183 with model UnobservedComponents in generation 1 of 20\n",
            "Model Number: 184 with model SeasonalityMotif in generation 1 of 20\n",
            "Model Number: 185 with model UnobservedComponents in generation 1 of 20\n",
            "Model Number: 186 with model SeasonalNaive in generation 1 of 20\n",
            "Model Number: 187 with model NVAR in generation 1 of 20\n",
            "Template Eval Error: Exception(\"Transformer STLFilter failed on fit from params rolling_mean {'0': {'decomp_type': 'seasonal_decompose', 'part': 'trend'}}\") in model 187 in generation 1: NVAR\n",
            "Model Number: 188 with model DatepartRegression in generation 1 of 20\n",
            "Template Eval Error: ValueError(\"regression_type='User' but no future_regressor passed\") in model 188 in generation 1: DatepartRegression\n",
            "Model Number: 189 with model Theta in generation 1 of 20\n",
            "Model Number: 190 with model UnobservedComponents in generation 1 of 20\n",
            "Model Number: 191 with model FBProphet in generation 1 of 20\n",
            "Model Number: 192 with model ARIMA in generation 1 of 20\n",
            "Model Number: 193 with model LastValueNaive in generation 1 of 20\n",
            "Model Number: 194 with model GLM in generation 1 of 20\n",
            "Model Number: 195 with model NVAR in generation 1 of 20\n",
            "Model Number: 196 with model SectionalMotif in generation 1 of 20\n",
            "Template Eval Error: ValueError('kth(=15) out of bounds (4)') in model 196 in generation 1: SectionalMotif\n",
            "Model Number: 197 with model ETS in generation 1 of 20\n",
            "Model Number: 198 with model MultivariateMotif in generation 1 of 20\n",
            "Template Eval Error: Exception(\"Transformer ScipyFilter failed on fit from params cubic {'0': {'method': 'butter', 'method_args': {'N': 5, 'btype': 'highpass', 'analog': False, 'output': 'sos', 'Wn': 0.08333333333333333}}, '1': {}, '2': {'output_distribution': 'uniform', 'n_quantiles': 1000}, '3': {'method': 0.2}, '4': {}}\") in model 198 in generation 1: MultivariateMotif\n",
            "Model Number: 199 with model SeasonalNaive in generation 1 of 20\n",
            "Model Number: 200 with model SeasonalNaive in generation 1 of 20\n",
            "Model Number: 201 with model ARIMA in generation 1 of 20\n",
            "Model Number: 202 with model LastValueNaive in generation 1 of 20\n",
            "Model Number: 203 with model ARDL in generation 1 of 20\n",
            "Model Number: 204 with model Theta in generation 1 of 20\n",
            "Model Number: 205 with model LastValueNaive in generation 1 of 20\n",
            "Model Number: 206 with model ConstantNaive in generation 1 of 20\n",
            "Model Number: 207 with model AverageValueNaive in generation 1 of 20\n",
            "Model Number: 208 with model GLS in generation 1 of 20\n",
            "Template Eval Error: Exception(\"Transformer ReplaceConstant failed on fit from params ffill {'0': {'window_size': 364, 'alpha': 3.0, 'grouping_forward_limit': 4, 'max_level_shifts': 30, 'alignment': 'average'}, '1': {'regression_model': {'model': 'ExtraTrees', 'model_params': {'n_estimators': 100, 'min_samples_leaf': 2, 'min_samples_split': 2, 'max_depth': 10, 'criterion': 'squared_error', 'max_features': 1}}, 'datepart_method': 'simple_binarized', 'polynomial_degree': None, 'transform_dict': None, 'holiday_countries_used': False}, '2': {'constant': 0, 'reintroduction_model': {'model': 'xgboost', 'model_params': {'booster': 'gbtree', 'max_depth': 6, 'eta': 1.0, 'min_child_weight': 2, 'subsample': 1, 'colsample_bylevel': 1, 'reg_alpha': 0, 'reg_lambda': 0.2}, 'datepart_method': 'simple_2'}, 'fillna': 'linear'}, '3': {'rows': 1, 'lag': 1, 'method': 'additive', 'strength': 1.0, 'first_value_only': False}}\") in model 208 in generation 1: GLS\n",
            "Model Number: 209 with model GLS in generation 1 of 20\n",
            "Template Eval Error: Exception(\"Transformer AlignLastValue failed on inverse from params nearest {'0': {'rows': 1, 'lag': 1, 'method': 'additive', 'strength': 0.7, 'first_value_only': True}, '1': {'fixed': True, 'window': 94}, '2': {'method': 'mad', 'method_params': {'distribution': 'norm', 'alpha': 0.05}, 'transform_dict': None, 'reverse_alignment': True, 'isolated_only': False, 'fillna': 'ffill'}, '3': {}}\") in model 209 in generation 1: GLS\n",
            "Model Number: 210 with model LastValueNaive in generation 1 of 20\n",
            "Model Number: 211 with model FBProphet in generation 1 of 20\n",
            "back_forecast split 2 failed with LinAlgError('Array must not contain infs or NaNs')\n",
            "back_forecast split 3 failed with LinAlgError('Array must not contain infs or NaNs')\n",
            "back_forecast split 4 failed with LinAlgError('Array must not contain infs or NaNs')\n",
            "back_forecast split 5 failed with LinAlgError('Array must not contain infs or NaNs')\n",
            "back_forecast split 6 failed with LinAlgError('Array must not contain infs or NaNs')\n"
          ]
        },
        {
          "name": "stderr",
          "output_type": "stream",
          "text": [
            "/usr/local/lib/python3.10/dist-packages/autots/models/matrix_var.py:62: RuntimeWarning:\n",
            "\n",
            "divide by zero encountered in reciprocal\n",
            "\n",
            "/usr/local/lib/python3.10/dist-packages/autots/models/matrix_var.py:62: RuntimeWarning:\n",
            "\n",
            "invalid value encountered in multiply\n",
            "\n",
            "/usr/local/lib/python3.10/dist-packages/autots/models/matrix_var.py:62: RuntimeWarning:\n",
            "\n",
            "divide by zero encountered in reciprocal\n",
            "\n",
            "/usr/local/lib/python3.10/dist-packages/autots/models/matrix_var.py:62: RuntimeWarning:\n",
            "\n",
            "invalid value encountered in multiply\n",
            "\n",
            "/usr/local/lib/python3.10/dist-packages/autots/models/matrix_var.py:62: RuntimeWarning:\n",
            "\n",
            "divide by zero encountered in reciprocal\n",
            "\n",
            "/usr/local/lib/python3.10/dist-packages/autots/models/matrix_var.py:62: RuntimeWarning:\n",
            "\n",
            "invalid value encountered in multiply\n",
            "\n",
            "/usr/local/lib/python3.10/dist-packages/autots/models/matrix_var.py:62: RuntimeWarning:\n",
            "\n",
            "divide by zero encountered in reciprocal\n",
            "\n",
            "/usr/local/lib/python3.10/dist-packages/autots/models/matrix_var.py:62: RuntimeWarning:\n",
            "\n",
            "invalid value encountered in multiply\n",
            "\n",
            "/usr/local/lib/python3.10/dist-packages/autots/models/matrix_var.py:62: RuntimeWarning:\n",
            "\n",
            "divide by zero encountered in reciprocal\n",
            "\n",
            "/usr/local/lib/python3.10/dist-packages/autots/models/matrix_var.py:62: RuntimeWarning:\n",
            "\n",
            "invalid value encountered in multiply\n",
            "\n"
          ]
        },
        {
          "name": "stdout",
          "output_type": "stream",
          "text": [
            "Template Eval Error: Exception(\"Transformer AlignLastValue failed on inverse from params pchip {'0': {'whiten': False}, '1': {'part': 'trend', 'lamb': 6.25}, '2': {'rows': 1, 'lag': 1, 'method': 'additive', 'strength': 0.7, 'first_value_only': True}, '3': {'window_size': 90, 'alpha': 3.0, 'grouping_forward_limit': 3, 'max_level_shifts': 5, 'alignment': 'last_value'}, '4': {'rows': 1, 'lag': 7, 'method': 'additive', 'strength': 0.2, 'first_value_only': False}, '5': {'lag_1': 7, 'method': 'Mean'}}\") in model 211 in generation 1: FBProphet\n",
            "Model Number: 212 with model MetricMotif in generation 1 of 20\n",
            "Model Number: 213 with model MultivariateRegression in generation 1 of 20\n"
          ]
        },
        {
          "name": "stderr",
          "output_type": "stream",
          "text": [
            "/usr/local/lib/python3.10/dist-packages/sklearn/neighbors/_classification.py:215: DataConversionWarning:\n",
            "\n",
            "A column-vector y was passed when a 1d array was expected. Please change the shape of y to (n_samples,), for example using ravel().\n",
            "\n"
          ]
        },
        {
          "name": "stdout",
          "output_type": "stream",
          "text": [
            "Model Number: 214 with model NVAR in generation 1 of 20\n",
            "Model Number: 215 with model UnobservedComponents in generation 1 of 20\n",
            "Model Number: 216 with model UnobservedComponents in generation 1 of 20\n",
            "Model Number: 217 with model FBProphet in generation 1 of 20\n",
            "No anomalies detected.\n",
            "Model Number: 218 with model LastValueNaive in generation 1 of 20\n",
            "Template Eval Error: Exception(\"Transformer ScipyFilter failed on fit from params mean {'0': {'method': 'butter', 'method_args': {'N': 7, 'btype': 'highpass', 'analog': False, 'output': 'sos', 'Wn': 0.08333333333333333}}, '1': {'window_size': 30, 'alpha': 3.5, 'grouping_forward_limit': 3, 'max_level_shifts': 30, 'alignment': 'average'}}\") in model 218 in generation 1: LastValueNaive\n",
            "Model Number: 219 with model ETS in generation 1 of 20\n",
            "Model Number: 220 with model SeasonalNaive in generation 1 of 20\n",
            "Model Number: 221 with model WindowRegression in generation 1 of 20\n",
            "Template Eval Error: ValueError(\"regression_type='User' but no future_regressor passed\") in model 221 in generation 1: WindowRegression\n",
            "Model Number: 222 with model SeasonalityMotif in generation 1 of 20\n",
            "Model Number: 223 with model UnivariateRegression in generation 1 of 20\n",
            "Model Number: 224 with model UnobservedComponents in generation 1 of 20\n",
            "Template Eval Error: LinAlgError('Singular matrix') in model 224 in generation 1: UnobservedComponents\n",
            "Model Number: 225 with model NVAR in generation 1 of 20\n",
            "Model Number: 226 with model GLS in generation 1 of 20\n"
          ]
        },
        {
          "name": "stderr",
          "output_type": "stream",
          "text": [
            "/usr/local/lib/python3.10/dist-packages/sklearn/decomposition/_fastica.py:708: FutureWarning:\n",
            "\n",
            "Starting in v1.3, whiten=True should be specified as whiten='arbitrary-variance' (its current behaviour). This behavior is deprecated in 1.1 and will raise ValueError in 1.3.\n",
            "\n",
            "/usr/local/lib/python3.10/dist-packages/sklearn/linear_model/_coordinate_descent.py:631: ConvergenceWarning:\n",
            "\n",
            "Objective did not converge. You might want to increase the number of iterations, check the scale of the features or consider increasing regularisation. Duality gap: 0.000e+00, tolerance: 0.000e+00\n",
            "\n"
          ]
        },
        {
          "name": "stdout",
          "output_type": "stream",
          "text": [
            "Model Number: 227 with model GLM in generation 1 of 20\n",
            "Model Number: 228 with model DatepartRegression in generation 1 of 20\n"
          ]
        },
        {
          "name": "stderr",
          "output_type": "stream",
          "text": [
            "/usr/local/lib/python3.10/dist-packages/statsmodels/genmod/families/family.py:1367: ValueWarning:\n",
            "\n",
            "Negative binomial dispersion parameter alpha not set. Using default value alpha=1.0.\n",
            "\n"
          ]
        },
        {
          "name": "stdout",
          "output_type": "stream",
          "text": [
            "Model Number: 229 with model Theta in generation 1 of 20\n",
            "Model Number: 230 with model ETS in generation 1 of 20\n",
            "Model Number: 231 with model SectionalMotif in generation 1 of 20\n"
          ]
        },
        {
          "name": "stderr",
          "output_type": "stream",
          "text": [
            "/usr/local/lib/python3.10/dist-packages/autots/tools/percentile.py:47: RuntimeWarning:\n",
            "\n",
            "All-NaN slice encountered\n",
            "\n"
          ]
        },
        {
          "name": "stdout",
          "output_type": "stream",
          "text": [
            "Template Eval Error: ValueError('Model SectionalMotif returned NaN for one or more series. fail_on_forecast_nan=True') in model 231 in generation 1: SectionalMotif\n",
            "Model Number: 232 with model MultivariateRegression in generation 1 of 20\n",
            "Model Number: 233 with model FBProphet in generation 1 of 20\n",
            "Model Number: 234 with model NVAR in generation 1 of 20\n",
            "Model Number: 235 with model UnobservedComponents in generation 1 of 20\n",
            "Model Number: 236 with model Theta in generation 1 of 20\n",
            "Model Number: 237 with model MultivariateMotif in generation 1 of 20\n",
            "Model Number: 238 with model MultivariateRegression in generation 1 of 20\n",
            "Model Number: 239 with model UnobservedComponents in generation 1 of 20\n",
            "Model Number: 240 with model WindowRegression in generation 1 of 20\n",
            "Model Number: 241 with model LastValueNaive in generation 1 of 20\n",
            "Model Number: 242 with model MultivariateRegression in generation 1 of 20\n",
            "Template Eval Error: KeyError('model') in model 242 in generation 1: MultivariateRegression\n",
            "Model Number: 243 with model DatepartRegression in generation 1 of 20\n",
            "Template Eval Error: ValueError('Model DatepartRegression returned NaN for one or more series. fail_on_forecast_nan=True') in model 243 in generation 1: DatepartRegression\n",
            "Model Number: 244 with model SeasonalNaive in generation 1 of 20\n"
          ]
        },
        {
          "name": "stderr",
          "output_type": "stream",
          "text": [
            "/usr/local/lib/python3.10/dist-packages/sklearn/decomposition/_fastica.py:708: FutureWarning:\n",
            "\n",
            "Starting in v1.3, whiten=True should be specified as whiten='arbitrary-variance' (its current behaviour). This behavior is deprecated in 1.1 and will raise ValueError in 1.3.\n",
            "\n",
            "/usr/local/lib/python3.10/dist-packages/sklearn/neighbors/_regression.py:494: UserWarning:\n",
            "\n",
            "One or more samples have no neighbors within specified radius; predicting NaN.\n",
            "\n"
          ]
        },
        {
          "name": "stdout",
          "output_type": "stream",
          "text": [
            "Model Number: 245 with model SeasonalNaive in generation 1 of 20\n",
            "Model Number: 246 with model UnivariateRegression in generation 1 of 20\n",
            "Model Number: 247 with model ETS in generation 1 of 20\n",
            "Model Number: 248 with model SeasonalityMotif in generation 1 of 20\n",
            "Model Number: 249 with model SeasonalityMotif in generation 1 of 20\n",
            "Model Number: 250 with model Theta in generation 1 of 20\n",
            "Model Number: 251 with model DatepartRegression in generation 1 of 20\n",
            "Template Eval Error: ValueError(\"regression_type='User' but no future_regressor passed\") in model 251 in generation 1: DatepartRegression\n",
            "Model Number: 252 with model LastValueNaive in generation 1 of 20\n",
            "Model Number: 253 with model ConstantNaive in generation 1 of 20\n",
            "Model Number: 254 with model AverageValueNaive in generation 1 of 20\n",
            "Model Number: 255 with model WindowRegression in generation 1 of 20\n",
            "Model Number: 256 with model GLS in generation 1 of 20\n",
            "Model Number: 257 with model ARDL in generation 1 of 20\n",
            "Model Number: 258 with model MultivariateRegression in generation 1 of 20\n"
          ]
        },
        {
          "name": "stderr",
          "output_type": "stream",
          "text": [
            "/usr/local/lib/python3.10/dist-packages/sklearn/decomposition/_fastica.py:708: FutureWarning:\n",
            "\n",
            "Starting in v1.3, whiten=True should be specified as whiten='arbitrary-variance' (its current behaviour). This behavior is deprecated in 1.1 and will raise ValueError in 1.3.\n",
            "\n"
          ]
        },
        {
          "name": "stdout",
          "output_type": "stream",
          "text": [
            "Model Number: 259 with model NVAR in generation 1 of 20\n",
            "Model Number: 260 with model SeasonalityMotif in generation 1 of 20\n",
            "Model Number: 261 with model UnobservedComponents in generation 1 of 20\n",
            "Model Number: 262 with model FBProphet in generation 1 of 20\n",
            "Model Number: 263 with model Theta in generation 1 of 20\n",
            "Model Number: 264 with model SectionalMotif in generation 1 of 20\n",
            "Model Number: 265 with model SeasonalNaive in generation 1 of 20\n",
            "Model Number: 266 with model FBProphet in generation 1 of 20\n",
            "Model Number: 267 with model MultivariateMotif in generation 1 of 20\n",
            "Model Number: 268 with model SeasonalNaive in generation 1 of 20\n",
            "Model Number: 269 with model AverageValueNaive in generation 1 of 20\n",
            "Model Number: 270 with model LastValueNaive in generation 1 of 20\n",
            "Model Number: 271 with model MultivariateMotif in generation 1 of 20\n",
            "Model Number: 272 with model LastValueNaive in generation 1 of 20\n",
            "Model Number: 273 with model GLS in generation 1 of 20\n",
            "Model Number: 274 with model DatepartRegression in generation 1 of 20\n"
          ]
        },
        {
          "name": "stderr",
          "output_type": "stream",
          "text": [
            "/usr/local/lib/python3.10/dist-packages/sklearn/decomposition/_fastica.py:708: FutureWarning:\n",
            "\n",
            "Starting in v1.3, whiten=True should be specified as whiten='arbitrary-variance' (its current behaviour). This behavior is deprecated in 1.1 and will raise ValueError in 1.3.\n",
            "\n"
          ]
        },
        {
          "name": "stdout",
          "output_type": "stream",
          "text": [
            "Model Number: 275 with model UnivariateMotif in generation 1 of 20\n",
            "Model Number: 276 with model ConstantNaive in generation 1 of 20\n",
            "Model Number: 277 with model ARDL in generation 1 of 20\n",
            "Model Number: 278 with model SeasonalNaive in generation 1 of 20\n",
            "Model Number: 279 with model LastValueNaive in generation 1 of 20\n",
            "Model Number: 280 with model FBProphet in generation 1 of 20\n",
            "Model Number: 281 with model ConstantNaive in generation 1 of 20\n",
            "Model Number: 282 with model FBProphet in generation 1 of 20\n",
            "Model Number: 283 with model ARIMA in generation 1 of 20\n",
            "Model Number: 284 with model ETS in generation 1 of 20\n",
            "Model Number: 285 with model GLS in generation 1 of 20\n",
            "Model Number: 286 with model MultivariateMotif in generation 1 of 20\n",
            "Model Number: 287 with model UnivariateMotif in generation 1 of 20\n",
            "Model Number: 288 with model WindowRegression in generation 1 of 20\n",
            "Template Eval Error: ValueError(\"regression_type='User' but no future_regressor passed\") in model 288 in generation 1: WindowRegression\n",
            "Model Number: 289 with model Theta in generation 1 of 20\n",
            "Model Number: 290 with model UnobservedComponents in generation 1 of 20\n",
            "Template Eval Error: ValueError(\"regression_type='User' but no future_regressor supplied\") in model 290 in generation 1: UnobservedComponents\n",
            "Model Number: 291 with model WindowRegression in generation 1 of 20\n",
            "Template Eval Error: ValueError(\"regression_type='User' but no future_regressor passed\") in model 291 in generation 1: WindowRegression\n",
            "Model Number: 292 with model MultivariateRegression in generation 1 of 20\n",
            "Template Eval Error: KeyError('model') in model 292 in generation 1: MultivariateRegression\n",
            "Model Number: 293 with model ETS in generation 1 of 20\n",
            "Model Number: 294 with model SeasonalityMotif in generation 1 of 20\n",
            "Model Number: 295 with model SeasonalNaive in generation 1 of 20\n"
          ]
        },
        {
          "name": "stderr",
          "output_type": "stream",
          "text": [
            "/usr/local/lib/python3.10/dist-packages/sklearn/neighbors/_classification.py:215: DataConversionWarning:\n",
            "\n",
            "A column-vector y was passed when a 1d array was expected. Please change the shape of y to (n_samples,), for example using ravel().\n",
            "\n",
            "/usr/local/lib/python3.10/dist-packages/sklearn/decomposition/_fastica.py:708: FutureWarning:\n",
            "\n",
            "Starting in v1.3, whiten=True should be specified as whiten='arbitrary-variance' (its current behaviour). This behavior is deprecated in 1.1 and will raise ValueError in 1.3.\n",
            "\n"
          ]
        },
        {
          "name": "stdout",
          "output_type": "stream",
          "text": [
            "Model Number: 296 with model UnobservedComponents in generation 1 of 20\n"
          ]
        },
        {
          "name": "stderr",
          "output_type": "stream",
          "text": [
            "/usr/local/lib/python3.10/dist-packages/sklearn/linear_model/_ridge.py:216: LinAlgWarning:\n",
            "\n",
            "Ill-conditioned matrix (rcond=1.44548e-25): result may not be accurate.\n",
            "\n"
          ]
        },
        {
          "name": "stdout",
          "output_type": "stream",
          "text": [
            "Model Number: 297 with model AverageValueNaive in generation 1 of 20\n",
            "Model Number: 298 with model AverageValueNaive in generation 1 of 20\n",
            "Model Number: 299 with model LastValueNaive in generation 1 of 20\n",
            "Template Eval Error: Exception(\"Transformer ScipyFilter failed on fit from params mean {'0': {'method': 'butter', 'method_args': {'N': 7, 'btype': 'highpass', 'analog': False, 'output': 'sos', 'Wn': 0.08333333333333333}}, '1': {}, '2': {'model': 'Linear'}, '3': {}}\") in model 299 in generation 1: LastValueNaive\n",
            "Model Number: 300 with model ARIMA in generation 1 of 20\n",
            "Template Eval Error: Exception(\"Transformer STLFilter failed on fit from params ffill {'0': {}, '1': {'rows': 1, 'lag': 1, 'method': 'additive', 'strength': 0.7, 'first_value_only': False}, '2': {'decomp_type': 'seasonal_decompose', 'part': 'trend'}, '3': {}, '4': {}}\") in model 300 in generation 1: ARIMA\n",
            "Model Number: 301 with model SeasonalityMotif in generation 1 of 20\n",
            "Model Number: 302 with model GLM in generation 1 of 20\n",
            "Template Eval Error: ValueError('NaN, inf or invalid value detected in weights, estimation infeasible.') in model 302 in generation 1: GLM\n",
            "Model Number: 303 with model SectionalMotif in generation 1 of 20\n",
            "Model Number: 304 with model UnobservedComponents in generation 1 of 20\n"
          ]
        },
        {
          "name": "stderr",
          "output_type": "stream",
          "text": [
            "/usr/local/lib/python3.10/dist-packages/statsmodels/genmod/families/links.py:527: RuntimeWarning:\n",
            "\n",
            "overflow encountered in exp\n",
            "\n",
            "/usr/local/lib/python3.10/dist-packages/statsmodels/genmod/families/family.py:445: RuntimeWarning:\n",
            "\n",
            "divide by zero encountered in divide\n",
            "\n",
            "/usr/local/lib/python3.10/dist-packages/statsmodels/genmod/families/family.py:143: RuntimeWarning:\n",
            "\n",
            "invalid value encountered in multiply\n",
            "\n",
            "/usr/local/lib/python3.10/dist-packages/statsmodels/genmod/families/family.py:143: RuntimeWarning:\n",
            "\n",
            "divide by zero encountered in divide\n",
            "\n",
            "/usr/local/lib/python3.10/dist-packages/statsmodels/genmod/generalized_linear_model.py:1328: RuntimeWarning:\n",
            "\n",
            "invalid value encountered in multiply\n",
            "\n"
          ]
        },
        {
          "name": "stdout",
          "output_type": "stream",
          "text": [
            "Model Number: 305 with model ETS in generation 1 of 20\n",
            "Model Number: 306 with model AverageValueNaive in generation 1 of 20\n",
            "New Generation: 2 of 20\n",
            "Model Number: 307 with model MultivariateRegression in generation 2 of 20\n"
          ]
        },
        {
          "name": "stderr",
          "output_type": "stream",
          "text": [
            "/usr/local/lib/python3.10/dist-packages/sklearn/neighbors/_classification.py:215: DataConversionWarning:\n",
            "\n",
            "A column-vector y was passed when a 1d array was expected. Please change the shape of y to (n_samples,), for example using ravel().\n",
            "\n"
          ]
        },
        {
          "name": "stdout",
          "output_type": "stream",
          "text": [
            "Model Number: 308 with model GLS in generation 2 of 20\n",
            "Model Number: 309 with model Theta in generation 2 of 20\n",
            "Model Number: 310 with model GLS in generation 2 of 20\n",
            "Model Number: 311 with model AverageValueNaive in generation 2 of 20\n",
            "Template Eval Error: Exception(\"Transformer Cointegration failed on fit from params pad {'0': {'method': 'rolling_zscore', 'method_params': {'distribution': 'chi2', 'alpha': 0.1, 'rolling_periods': 28, 'center': False}, 'fillna': 'ffill', 'transform_dict': None, 'isolated_only': True}, '1': {'det_order': -1, 'k_ar_diff': 0}}\") in model 311 in generation 2: AverageValueNaive\n",
            "Model Number: 312 with model LastValueNaive in generation 2 of 20\n",
            "Model Number: 313 with model SeasonalNaive in generation 2 of 20\n",
            "Model Number: 314 with model SeasonalityMotif in generation 2 of 20\n",
            "Model Number: 315 with model ARIMA in generation 2 of 20\n",
            "Model Number: 316 with model UnobservedComponents in generation 2 of 20\n",
            "Model Number: 317 with model Theta in generation 2 of 20\n",
            "Model Number: 318 with model ARDL in generation 2 of 20\n",
            "Model Number: 319 with model SeasonalityMotif in generation 2 of 20\n",
            "Model Number: 320 with model LastValueNaive in generation 2 of 20\n",
            "Template Eval Error: Exception(\"Transformer AlignLastValue failed on inverse from params pad {'0': {}, '1': {}, '2': {'rows': 1, 'lag': 7, 'method': 'additive', 'strength': 1.0, 'first_value_only': True}}\") in model 320 in generation 2: LastValueNaive\n",
            "Model Number: 321 with model GLM in generation 2 of 20\n"
          ]
        },
        {
          "name": "stderr",
          "output_type": "stream",
          "text": [
            "/usr/local/lib/python3.10/dist-packages/pandas/core/internals/blocks.py:351: RuntimeWarning:\n",
            "\n",
            "overflow encountered in exp\n",
            "\n",
            "/usr/local/lib/python3.10/dist-packages/numpy/core/fromnumeric.py:59: RuntimeWarning:\n",
            "\n",
            "overflow encountered in accumulate\n",
            "\n",
            "/usr/local/lib/python3.10/dist-packages/statsmodels/genmod/families/family.py:1367: ValueWarning:\n",
            "\n",
            "Negative binomial dispersion parameter alpha not set. Using default value alpha=1.0.\n",
            "\n"
          ]
        },
        {
          "name": "stdout",
          "output_type": "stream",
          "text": [
            "Model Number: 322 with model GLS in generation 2 of 20\n",
            "Model Number: 323 with model SeasonalityMotif in generation 2 of 20\n",
            "Model Number: 324 with model DatepartRegression in generation 2 of 20\n",
            "Template Eval Error: ValueError(\"regression_type='User' but no future_regressor passed\") in model 324 in generation 2: DatepartRegression\n",
            "Model Number: 325 with model GLS in generation 2 of 20\n",
            "Model Number: 326 with model ARIMA in generation 2 of 20\n",
            "Model Number: 327 with model WindowRegression in generation 2 of 20\n",
            "Model Number: 328 with model GLM in generation 2 of 20\n",
            "Template Eval Error: Exception(\"Transformer BTCD failed on fit from params nearest {'0': {'regression_model': {'model': 'FastRidge', 'model_params': {}}, 'max_lags': 2}, '1': {'model': 'Linear', 'phi': 1, 'window': None, 'transform_dict': {'fillna': None, 'transformations': {'0': 'bkfilter'}, 'transformation_params': {'0': {}}}}, '2': {'lag_1': 7, 'method': 'LastValue'}}\") in model 328 in generation 2: GLM\n",
            "Model Number: 329 with model MultivariateRegression in generation 2 of 20\n",
            "Model Number: 330 with model UnobservedComponents in generation 2 of 20\n",
            "Model Number: 331 with model SeasonalNaive in generation 2 of 20\n",
            "Model Number: 332 with model FBProphet in generation 2 of 20\n",
            "Template Eval Error: Exception(\"Transformer Cointegration failed on fit from params zero {'0': {'method': 0.5}, '1': {'rows': 1, 'lag': 1, 'method': 'additive', 'strength': 1.0, 'first_value_only': False}, '2': {'det_order': 0, 'k_ar_diff': 2}, '3': {'lag_1': 364, 'method': 20}, '4': {'rows': 1, 'lag': 7, 'method': 'additive', 'strength': 0.2, 'first_value_only': False}, '5': {}}\") in model 332 in generation 2: FBProphet\n",
            "Model Number: 333 with model ETS in generation 2 of 20\n",
            "Template Eval Error: Exception(\"Transformer BTCD failed on fit from params ffill {'0': {'method': 'clip', 'std_threshold': 3.5, 'fillna': None}, '1': {'model': 'Gamma', 'phi': 1, 'window': None, 'transform_dict': None}, '2': {'rows': 2, 'lag': 2, 'method': 'additive', 'strength': 1.0, 'first_value_only': False}, '3': {'regression_model': {'model': 'LinearRegression', 'model_params': {}}, 'max_lags': 1}}\") in model 333 in generation 2: ETS\n",
            "Model Number: 334 with model MultivariateMotif in generation 2 of 20\n",
            "Template Eval Error: Exception(\"Transformer ScipyFilter failed on fit from params linear {'0': {'window_size': 90, 'alpha': 3.5, 'grouping_forward_limit': 3, 'max_level_shifts': 5, 'alignment': 'last_value'}, '1': {'constant': 0, 'reintroduction_model': {'model': 'KNN', 'model_params': {'n_neighbors': 3, 'weights': 'uniform', 'p': 2, 'leaf_size': 30}, 'datepart_method': 'recurring'}, 'fillna': 'pchip'}, '2': {}, '3': {'constant': 0, 'reintroduction_model': {'model': 'KNN', 'model_params': {'n_neighbors': 5, 'weights': 'uniform', 'p': 1.5, 'leaf_size': 30}, 'datepart_method': 'expanded_binarized'}, 'fillna': 'ffill'}, '4': {'method': 'butter', 'method_args': {'N': 3, 'btype': 'lowpass', 'analog': False, 'output': 'sos', 'Wn': 0.058823529411764705}}}\") in model 334 in generation 2: MultivariateMotif\n",
            "Model Number: 335 with model AverageValueNaive in generation 2 of 20\n",
            "Model Number: 336 with model MultivariateRegression in generation 2 of 20\n"
          ]
        },
        {
          "name": "stderr",
          "output_type": "stream",
          "text": [
            "/usr/local/lib/python3.10/dist-packages/sklearn/neighbors/_classification.py:215: DataConversionWarning:\n",
            "\n",
            "A column-vector y was passed when a 1d array was expected. Please change the shape of y to (n_samples,), for example using ravel().\n",
            "\n",
            "/usr/local/lib/python3.10/dist-packages/sklearn/neighbors/_classification.py:215: DataConversionWarning:\n",
            "\n",
            "A column-vector y was passed when a 1d array was expected. Please change the shape of y to (n_samples,), for example using ravel().\n",
            "\n"
          ]
        },
        {
          "name": "stdout",
          "output_type": "stream",
          "text": [
            "Model Number: 337 with model MultivariateMotif in generation 2 of 20\n",
            "Template Eval Error: Exception(\"Transformer BTCD failed on fit from params pad {'0': {}, '1': {'low': 6, 'high': 32, 'K': 1, 'lanczos_factor': False, 'return_diff': True}, '2': {'lag_1': 60, 'method': 'LastValue'}, '3': {'regression_model': {'model': 'LinearRegression', 'model_params': {}}, 'max_lags': 2}}\") in model 337 in generation 2: MultivariateMotif\n",
            "Model Number: 338 with model AverageValueNaive in generation 2 of 20\n",
            "Model Number: 339 with model GLS in generation 2 of 20\n",
            "Model Number: 340 with model MultivariateRegression in generation 2 of 20\n",
            "Model Number: 341 with model ConstantNaive in generation 2 of 20\n",
            "Model Number: 342 with model SeasonalNaive in generation 2 of 20\n",
            "Model Number: 343 with model FBProphet in generation 2 of 20\n",
            "Template Eval Error: Exception(\"Transformer BTCD failed on fit from params ffill {'0': {'regression_model': {'model': 'FastRidge', 'model_params': {}}, 'max_lags': 2}, '1': {'rows': 1, 'lag': 1, 'method': 'additive', 'strength': 0.9, 'first_value_only': False}, '2': {'cutoff': 0.2, 'reverse': False}, '3': {'rows': 7, 'lag': 1, 'method': 'additive', 'strength': 1.0, 'first_value_only': True}, '4': {'fixed': False, 'window': 60}}\") in model 343 in generation 2: FBProphet\n",
            "Model Number: 344 with model UnobservedComponents in generation 2 of 20\n",
            "Model Number: 345 with model DatepartRegression in generation 2 of 20\n",
            "Model Number: 346 with model ETS in generation 2 of 20\n",
            "Model Number: 347 with model SectionalMotif in generation 2 of 20\n",
            "Template Eval Error: Exception(\"Transformer AlignLastValue failed on inverse from params rolling_mean_24 {'0': {'output_distribution': 'uniform', 'n_quantiles': 246}, '1': {'rows': 1, 'lag': 1, 'method': 'additive', 'strength': 0.2, 'first_value_only': True}, '2': {}, '3': {'constant': 0, 'reintroduction_model': {'model': 'KNN', 'model_params': {'n_neighbors': 10, 'weights': 'uniform', 'p': 2, 'leaf_size': 30}, 'datepart_method': 'simple'}, 'fillna': 'pchip'}}\") in model 347 in generation 2: SectionalMotif\n",
            "Model Number: 348 with model GLM in generation 2 of 20\n"
          ]
        },
        {
          "name": "stderr",
          "output_type": "stream",
          "text": [
            "/usr/local/lib/python3.10/dist-packages/sklearn/neighbors/_classification.py:215: DataConversionWarning:\n",
            "\n",
            "A column-vector y was passed when a 1d array was expected. Please change the shape of y to (n_samples,), for example using ravel().\n",
            "\n"
          ]
        },
        {
          "name": "stdout",
          "output_type": "stream",
          "text": [
            "Model Number: 349 with model MultivariateRegression in generation 2 of 20\n",
            "Model Number: 350 with model UnivariateMotif in generation 2 of 20\n",
            "Model Number: 351 with model NVAR in generation 2 of 20\n",
            "Template Eval Error: Exception(\"Transformer AlignLastValue failed on inverse from params ffill {'0': {'rows': 1, 'lag': 2, 'method': 'additive', 'strength': 1.0, 'first_value_only': True}, '1': {}}\") in model 351 in generation 2: NVAR\n",
            "Model Number: 352 with model MetricMotif in generation 2 of 20\n",
            "Model Number: 353 with model GLS in generation 2 of 20\n",
            "Model Number: 354 with model SeasonalityMotif in generation 2 of 20\n",
            "Model Number: 355 with model FBProphet in generation 2 of 20\n"
          ]
        },
        {
          "name": "stderr",
          "output_type": "stream",
          "text": [
            "/usr/local/lib/python3.10/dist-packages/sklearn/neighbors/_classification.py:215: DataConversionWarning:\n",
            "\n",
            "A column-vector y was passed when a 1d array was expected. Please change the shape of y to (n_samples,), for example using ravel().\n",
            "\n"
          ]
        },
        {
          "name": "stdout",
          "output_type": "stream",
          "text": [
            "Model Number: 356 with model SectionalMotif in generation 2 of 20\n",
            "Model Number: 357 with model LastValueNaive in generation 2 of 20\n",
            "Model Number: 358 with model FBProphet in generation 2 of 20\n",
            "Template Eval Error: Exception(\"Transformer STLFilter failed on fit from params ffill {'0': {'decomp_type': 'STL', 'part': 'trend', 'seasonal': 7}}\") in model 358 in generation 2: FBProphet\n",
            "Model Number: 359 with model UnobservedComponents in generation 2 of 20\n",
            "Model Number: 360 with model ETS in generation 2 of 20\n",
            "Model Number: 361 with model NVAR in generation 2 of 20\n",
            "Model Number: 362 with model SeasonalityMotif in generation 2 of 20\n",
            "Model Number: 363 with model UnobservedComponents in generation 2 of 20\n",
            "Template Eval Error: Exception(\"Transformer STLFilter failed on fit from params zero {'0': {'decomp_type': 'STL', 'part': 'trend', 'seasonal': 27}, '1': {}, '2': {}}\") in model 363 in generation 2: UnobservedComponents\n",
            "Model Number: 364 with model GLM in generation 2 of 20\n",
            "Template Eval Error: ValueError('The first guess on the deviance function returned a nan.  This could be a boundary  problem and should be reported.') in model 364 in generation 2: GLM\n",
            "Model Number: 365 with model MultivariateMotif in generation 2 of 20\n"
          ]
        },
        {
          "name": "stderr",
          "output_type": "stream",
          "text": [
            "/usr/local/lib/python3.10/dist-packages/sklearn/linear_model/_ridge.py:216: LinAlgWarning:\n",
            "\n",
            "Ill-conditioned matrix (rcond=1.44548e-25): result may not be accurate.\n",
            "\n",
            "/usr/local/lib/python3.10/dist-packages/statsmodels/genmod/families/family.py:1367: ValueWarning:\n",
            "\n",
            "Negative binomial dispersion parameter alpha not set. Using default value alpha=1.0.\n",
            "\n",
            "/usr/local/lib/python3.10/dist-packages/statsmodels/genmod/families/family.py:1406: RuntimeWarning:\n",
            "\n",
            "invalid value encountered in log\n",
            "\n"
          ]
        },
        {
          "name": "stdout",
          "output_type": "stream",
          "text": [
            "Model Number: 366 with model FBProphet in generation 2 of 20\n",
            "Model Number: 367 with model NVAR in generation 2 of 20\n",
            "Template Eval Error: ValueError('Model NVAR returned NaN for one or more series. fail_on_forecast_nan=True') in model 367 in generation 2: NVAR\n",
            "Model Number: 368 with model SeasonalNaive in generation 2 of 20\n",
            "Model Number: 369 with model ARIMA in generation 2 of 20\n",
            "Template Eval Error: ValueError(\"regression_type='User' but future_regressor not supplied\") in model 369 in generation 2: ARIMA\n",
            "Model Number: 370 with model UnivariateRegression in generation 2 of 20\n",
            "Model Number: 371 with model AverageValueNaive in generation 2 of 20\n",
            "Template Eval Error: Exception(\"Transformer Cointegration failed on fit from params pad {'0': {'output_distribution': 'uniform', 'n_quantiles': 246}, '1': {'det_order': -1, 'k_ar_diff': 0}}\") in model 371 in generation 2: AverageValueNaive\n",
            "Model Number: 372 with model GLM in generation 2 of 20\n",
            "Model Number: 373 with model UnobservedComponents in generation 2 of 20\n"
          ]
        },
        {
          "name": "stderr",
          "output_type": "stream",
          "text": [
            "/usr/local/lib/python3.10/dist-packages/statsmodels/genmod/families/links.py:198: RuntimeWarning:\n",
            "\n",
            "overflow encountered in exp\n",
            "\n"
          ]
        },
        {
          "name": "stdout",
          "output_type": "stream",
          "text": [
            "Model Number: 374 with model Theta in generation 2 of 20\n",
            "Model Number: 375 with model UnobservedComponents in generation 2 of 20\n",
            "Model Number: 376 with model SeasonalityMotif in generation 2 of 20\n",
            "Model Number: 377 with model SeasonalityMotif in generation 2 of 20\n",
            "Model Number: 378 with model GLM in generation 2 of 20\n",
            "Model Number: 379 with model UnobservedComponents in generation 2 of 20\n",
            "Model Number: 380 with model GLS in generation 2 of 20\n"
          ]
        },
        {
          "name": "stderr",
          "output_type": "stream",
          "text": [
            "/usr/local/lib/python3.10/dist-packages/statsmodels/genmod/families/family.py:1367: ValueWarning:\n",
            "\n",
            "Negative binomial dispersion parameter alpha not set. Using default value alpha=1.0.\n",
            "\n"
          ]
        },
        {
          "name": "stdout",
          "output_type": "stream",
          "text": [
            "Model Number: 381 with model ARDL in generation 2 of 20\n",
            "Model Number: 382 with model SeasonalNaive in generation 2 of 20\n",
            "Model Number: 383 with model ETS in generation 2 of 20\n",
            "Model Number: 384 with model GLS in generation 2 of 20\n",
            "Model Number: 385 with model DatepartRegression in generation 2 of 20\n",
            "Model Number: 386 with model MultivariateMotif in generation 2 of 20\n",
            "Model Number: 387 with model NVAR in generation 2 of 20\n",
            "Model Number: 388 with model MultivariateMotif in generation 2 of 20\n",
            "Model Number: 389 with model UnobservedComponents in generation 2 of 20\n",
            "Model Number: 390 with model MultivariateMotif in generation 2 of 20\n",
            "Model Number: 391 with model WindowRegression in generation 2 of 20\n",
            "Template Eval Error: KeyError('model') in model 391 in generation 2: WindowRegression\n",
            "Model Number: 392 with model UnobservedComponents in generation 2 of 20\n"
          ]
        },
        {
          "name": "stderr",
          "output_type": "stream",
          "text": [
            "/usr/local/lib/python3.10/dist-packages/sklearn/neighbors/_classification.py:215: DataConversionWarning:\n",
            "\n",
            "A column-vector y was passed when a 1d array was expected. Please change the shape of y to (n_samples,), for example using ravel().\n",
            "\n"
          ]
        },
        {
          "name": "stdout",
          "output_type": "stream",
          "text": [
            "Model Number: 393 with model FBProphet in generation 2 of 20\n",
            "Model Number: 394 with model DatepartRegression in generation 2 of 20\n",
            "Model Number: 395 with model ARDL in generation 2 of 20\n",
            "Model Number: 396 with model AverageValueNaive in generation 2 of 20\n"
          ]
        },
        {
          "name": "stderr",
          "output_type": "stream",
          "text": [
            "/usr/local/lib/python3.10/dist-packages/sklearn/base.py:439: UserWarning:\n",
            "\n",
            "X does not have valid feature names, but IsolationForest was fitted with feature names\n",
            "\n"
          ]
        },
        {
          "name": "stdout",
          "output_type": "stream",
          "text": [
            "Model Number: 397 with model LastValueNaive in generation 2 of 20\n",
            "Model Number: 398 with model UnivariateRegression in generation 2 of 20\n",
            "Model Number: 399 with model Theta in generation 2 of 20\n",
            "Model Number: 400 with model FBProphet in generation 2 of 20\n",
            "Model Number: 401 with model Theta in generation 2 of 20\n",
            "Template Eval Error: Exception(\"Transformer Cointegration failed on fit from params quadratic {'0': {'det_order': 0, 'k_ar_diff': 2}, '1': {'rows': 1, 'lag': 1, 'method': 'additive', 'strength': 1.0, 'first_value_only': False}, '2': {'fixed': False, 'window': 10}}\") in model 401 in generation 2: Theta\n",
            "Model Number: 402 with model MultivariateRegression in generation 2 of 20\n",
            "Model Number: 403 with model SeasonalNaive in generation 2 of 20\n",
            "Model Number: 404 with model ARIMA in generation 2 of 20\n",
            "Model Number: 405 with model ConstantNaive in generation 2 of 20\n",
            "Model Number: 406 with model FBProphet in generation 2 of 20\n",
            "Model Number: 407 with model LastValueNaive in generation 2 of 20\n",
            "Model Number: 408 with model ConstantNaive in generation 2 of 20\n",
            "Model Number: 409 with model MultivariateMotif in generation 2 of 20\n",
            "Model Number: 410 with model MultivariateRegression in generation 2 of 20\n",
            "Model Number: 411 with model ARDL in generation 2 of 20\n",
            "Model Number: 412 with model Theta in generation 2 of 20\n",
            "Model Number: 413 with model SeasonalityMotif in generation 2 of 20\n",
            "Model Number: 414 with model MultivariateMotif in generation 2 of 20\n",
            "Model Number: 415 with model NVAR in generation 2 of 20\n",
            "Model Number: 416 with model UnobservedComponents in generation 2 of 20\n",
            "Template Eval Error: Exception(\"Transformer STLFilter failed on fit from params rolling_mean {'0': {'decomp_type': 'STL', 'part': 'trend', 'seasonal': 27}}\") in model 416 in generation 2: UnobservedComponents\n",
            "Model Number: 417 with model ETS in generation 2 of 20\n",
            "Model Number: 418 with model FBProphet in generation 2 of 20\n",
            "Model Number: 419 with model MetricMotif in generation 2 of 20\n",
            "Model Number: 420 with model GLS in generation 2 of 20\n"
          ]
        },
        {
          "name": "stderr",
          "output_type": "stream",
          "text": [
            "/usr/local/lib/python3.10/dist-packages/sklearn/neural_network/_multilayer_perceptron.py:541: ConvergenceWarning:\n",
            "\n",
            "lbfgs failed to converge (status=1):\n",
            "STOP: TOTAL NO. of ITERATIONS REACHED LIMIT.\n",
            "\n",
            "Increase the number of iterations (max_iter) or scale the data as shown in:\n",
            "    https://scikit-learn.org/stable/modules/preprocessing.html\n",
            "\n"
          ]
        },
        {
          "name": "stdout",
          "output_type": "stream",
          "text": [
            "Model Number: 421 with model SeasonalNaive in generation 2 of 20\n",
            "Model Number: 422 with model GLM in generation 2 of 20\n",
            "Model Number: 423 with model ARDL in generation 2 of 20\n",
            "Model Number: 424 with model SeasonalNaive in generation 2 of 20\n",
            "Model Number: 425 with model MultivariateMotif in generation 2 of 20\n",
            "Model Number: 426 with model NVAR in generation 2 of 20\n",
            "Model Number: 427 with model ConstantNaive in generation 2 of 20\n",
            "Model Number: 428 with model WindowRegression in generation 2 of 20\n"
          ]
        },
        {
          "name": "stderr",
          "output_type": "stream",
          "text": [
            "/usr/local/lib/python3.10/dist-packages/sklearn/linear_model/_ridge.py:216: LinAlgWarning:\n",
            "\n",
            "Ill-conditioned matrix (rcond=1.44548e-25): result may not be accurate.\n",
            "\n",
            "/usr/local/lib/python3.10/dist-packages/sklearn/neural_network/_multilayer_perceptron.py:541: ConvergenceWarning:\n",
            "\n",
            "lbfgs failed to converge (status=1):\n",
            "STOP: TOTAL NO. of ITERATIONS REACHED LIMIT.\n",
            "\n",
            "Increase the number of iterations (max_iter) or scale the data as shown in:\n",
            "    https://scikit-learn.org/stable/modules/preprocessing.html\n",
            "\n"
          ]
        },
        {
          "name": "stdout",
          "output_type": "stream",
          "text": [
            "Model Number: 429 with model UnobservedComponents in generation 2 of 20\n",
            "Model Number: 430 with model MetricMotif in generation 2 of 20\n",
            "Model Number: 431 with model FBProphet in generation 2 of 20\n"
          ]
        },
        {
          "name": "stderr",
          "output_type": "stream",
          "text": [
            "/usr/local/lib/python3.10/dist-packages/sklearn/neighbors/_classification.py:215: DataConversionWarning:\n",
            "\n",
            "A column-vector y was passed when a 1d array was expected. Please change the shape of y to (n_samples,), for example using ravel().\n",
            "\n"
          ]
        },
        {
          "name": "stdout",
          "output_type": "stream",
          "text": [
            "New Generation: 3 of 20\n",
            "Model Number: 432 with model SeasonalityMotif in generation 3 of 20\n",
            "Model Number: 433 with model GLS in generation 3 of 20\n",
            "Model Number: 434 with model FBProphet in generation 3 of 20\n"
          ]
        },
        {
          "name": "stderr",
          "output_type": "stream",
          "text": [
            "/usr/local/lib/python3.10/dist-packages/sklearn/decomposition/_fastica.py:708: FutureWarning:\n",
            "\n",
            "Starting in v1.3, whiten=True should be specified as whiten='arbitrary-variance' (its current behaviour). This behavior is deprecated in 1.1 and will raise ValueError in 1.3.\n",
            "\n"
          ]
        },
        {
          "name": "stdout",
          "output_type": "stream",
          "text": [
            "Model Number: 435 with model LastValueNaive in generation 3 of 20\n",
            "Model Number: 436 with model GLS in generation 3 of 20\n",
            "Model Number: 437 with model MultivariateRegression in generation 3 of 20\n",
            "Model Number: 438 with model ARIMA in generation 3 of 20\n",
            "Template Eval Error: Exception(\"Transformer ReplaceConstant failed on fit from params ffill {'0': {'method': 'rolling_zscore', 'method_params': {'distribution': 'norm', 'alpha': 0.05, 'rolling_periods': 28, 'center': True}, 'fillna': 'rolling_mean_24', 'transform_dict': {'fillna': None, 'transformations': {'0': 'ClipOutliers'}, 'transformation_params': {'0': {'method': 'clip', 'std_threshold': 6}}}, 'isolated_only': False}, '1': {'constant': 0, 'reintroduction_model': {'model': 'xgboost', 'model_params': {'booster': 'gbtree', 'max_depth': 9, 'eta': 0.003, 'min_child_weight': 1, 'subsample': 1, 'colsample_bylevel': 0.9, 'reg_alpha': 0, 'reg_lambda': 1, 'n_estimators': 4}, 'datepart_method': 'simple_binarized'}, 'fillna': 'SeasonalityMotifImputer1K'}}\") in model 438 in generation 3: ARIMA\n",
            "Model Number: 439 with model UnobservedComponents in generation 3 of 20\n",
            "Model Number: 440 with model UnivariateMotif in generation 3 of 20\n",
            "Model Number: 441 with model NVAR in generation 3 of 20\n",
            "Model Number: 442 with model MetricMotif in generation 3 of 20\n",
            "Model Number: 443 with model GLM in generation 3 of 20\n",
            "Model Number: 444 with model DatepartRegression in generation 3 of 20\n",
            "Model Number: 445 with model GLS in generation 3 of 20\n"
          ]
        },
        {
          "name": "stderr",
          "output_type": "stream",
          "text": [
            "/usr/local/lib/python3.10/dist-packages/statsmodels/genmod/families/family.py:1367: ValueWarning:\n",
            "\n",
            "Negative binomial dispersion parameter alpha not set. Using default value alpha=1.0.\n",
            "\n"
          ]
        },
        {
          "name": "stdout",
          "output_type": "stream",
          "text": [
            "Model Number: 446 with model SeasonalityMotif in generation 3 of 20\n",
            "Model Number: 447 with model MetricMotif in generation 3 of 20\n",
            "Model Number: 448 with model DatepartRegression in generation 3 of 20\n",
            "Template Eval Error: Exception(\"Transformer STLFilter failed on fit from params rolling_mean_24 {'0': {'decomp_type': 'seasonal_decompose', 'part': 'trend'}, '1': {'rows': 4, 'lag': 1, 'method': 'additive', 'strength': 1.0, 'first_value_only': False}, '2': {}}\") in model 448 in generation 3: DatepartRegression\n",
            "Model Number: 449 with model ETS in generation 3 of 20\n",
            "Model Number: 450 with model SeasonalNaive in generation 3 of 20\n",
            "Model Number: 451 with model WindowRegression in generation 3 of 20\n"
          ]
        },
        {
          "name": "stderr",
          "output_type": "stream",
          "text": [
            "/usr/local/lib/python3.10/dist-packages/sklearn/decomposition/_fastica.py:708: FutureWarning:\n",
            "\n",
            "Starting in v1.3, whiten=True should be specified as whiten='arbitrary-variance' (its current behaviour). This behavior is deprecated in 1.1 and will raise ValueError in 1.3.\n",
            "\n"
          ]
        },
        {
          "name": "stdout",
          "output_type": "stream",
          "text": [
            "Model Number: 452 with model SeasonalNaive in generation 3 of 20\n",
            "Model Number: 453 with model FBProphet in generation 3 of 20\n",
            "Model Number: 454 with model DatepartRegression in generation 3 of 20\n",
            "Template Eval Error: ValueError('Model DatepartRegression returned NaN for one or more series. fail_on_forecast_nan=True') in model 454 in generation 3: DatepartRegression\n",
            "Model Number: 455 with model WindowRegression in generation 3 of 20\n"
          ]
        },
        {
          "name": "stderr",
          "output_type": "stream",
          "text": [
            "/usr/local/lib/python3.10/dist-packages/sklearn/neighbors/_regression.py:494: UserWarning:\n",
            "\n",
            "One or more samples have no neighbors within specified radius; predicting NaN.\n",
            "\n",
            "/usr/local/lib/python3.10/dist-packages/sklearn/decomposition/_fastica.py:708: FutureWarning:\n",
            "\n",
            "Starting in v1.3, whiten=True should be specified as whiten='arbitrary-variance' (its current behaviour). This behavior is deprecated in 1.1 and will raise ValueError in 1.3.\n",
            "\n"
          ]
        },
        {
          "name": "stdout",
          "output_type": "stream",
          "text": [
            "Model Number: 456 with model Theta in generation 3 of 20\n",
            "Model Number: 457 with model GLS in generation 3 of 20\n",
            "Model Number: 458 with model SeasonalNaive in generation 3 of 20\n",
            "Model Number: 459 with model SeasonalityMotif in generation 3 of 20\n",
            "Model Number: 460 with model ARIMA in generation 3 of 20\n",
            "Model Number: 461 with model MultivariateRegression in generation 3 of 20\n",
            "Model Number: 462 with model ARDL in generation 3 of 20\n",
            "Model Number: 463 with model ConstantNaive in generation 3 of 20\n",
            "Model Number: 464 with model GLM in generation 3 of 20\n",
            "Model Number: 465 with model Theta in generation 3 of 20\n"
          ]
        },
        {
          "name": "stderr",
          "output_type": "stream",
          "text": [
            "/usr/local/lib/python3.10/dist-packages/statsmodels/genmod/families/links.py:198: RuntimeWarning:\n",
            "\n",
            "overflow encountered in exp\n",
            "\n"
          ]
        },
        {
          "name": "stdout",
          "output_type": "stream",
          "text": [
            "Model Number: 466 with model SeasonalNaive in generation 3 of 20\n",
            "Model Number: 467 with model ETS in generation 3 of 20\n",
            "Model Number: 468 with model ARDL in generation 3 of 20\n",
            "Model Number: 469 with model SeasonalityMotif in generation 3 of 20\n",
            "Model Number: 470 with model ETS in generation 3 of 20\n",
            "Model Number: 471 with model AverageValueNaive in generation 3 of 20\n",
            "Model Number: 472 with model ETS in generation 3 of 20\n",
            "Model Number: 473 with model ConstantNaive in generation 3 of 20\n",
            "Model Number: 474 with model MetricMotif in generation 3 of 20\n",
            "Model Number: 475 with model SeasonalNaive in generation 3 of 20\n",
            "Model Number: 476 with model LastValueNaive in generation 3 of 20\n"
          ]
        },
        {
          "name": "stderr",
          "output_type": "stream",
          "text": [
            "/usr/local/lib/python3.10/dist-packages/sklearn/decomposition/_fastica.py:708: FutureWarning:\n",
            "\n",
            "Starting in v1.3, whiten=True should be specified as whiten='arbitrary-variance' (its current behaviour). This behavior is deprecated in 1.1 and will raise ValueError in 1.3.\n",
            "\n"
          ]
        },
        {
          "name": "stdout",
          "output_type": "stream",
          "text": [
            "Model Number: 477 with model ARDL in generation 3 of 20\n",
            "Model Number: 478 with model GLS in generation 3 of 20\n",
            "Model Number: 479 with model UnobservedComponents in generation 3 of 20\n",
            "Model Number: 480 with model GLM in generation 3 of 20\n",
            "Template Eval Error: ValueError('NaN, inf or invalid value detected in weights, estimation infeasible.') in model 480 in generation 3: GLM\n",
            "Model Number: 481 with model FBProphet in generation 3 of 20\n"
          ]
        },
        {
          "name": "stderr",
          "output_type": "stream",
          "text": [
            "/usr/local/lib/python3.10/dist-packages/statsmodels/genmod/families/links.py:527: RuntimeWarning:\n",
            "\n",
            "overflow encountered in exp\n",
            "\n",
            "/usr/local/lib/python3.10/dist-packages/statsmodels/genmod/families/family.py:445: RuntimeWarning:\n",
            "\n",
            "divide by zero encountered in divide\n",
            "\n",
            "/usr/local/lib/python3.10/dist-packages/statsmodels/genmod/families/family.py:143: RuntimeWarning:\n",
            "\n",
            "invalid value encountered in multiply\n",
            "\n",
            "/usr/local/lib/python3.10/dist-packages/statsmodels/genmod/families/family.py:143: RuntimeWarning:\n",
            "\n",
            "divide by zero encountered in divide\n",
            "\n",
            "/usr/local/lib/python3.10/dist-packages/statsmodels/genmod/generalized_linear_model.py:1328: RuntimeWarning:\n",
            "\n",
            "invalid value encountered in multiply\n",
            "\n"
          ]
        },
        {
          "name": "stdout",
          "output_type": "stream",
          "text": [
            "Model Number: 482 with model UnobservedComponents in generation 3 of 20\n"
          ]
        },
        {
          "name": "stderr",
          "output_type": "stream",
          "text": [
            "/usr/local/lib/python3.10/dist-packages/sklearn/linear_model/_ridge.py:216: LinAlgWarning:\n",
            "\n",
            "Ill-conditioned matrix (rcond=1.44548e-25): result may not be accurate.\n",
            "\n"
          ]
        },
        {
          "name": "stdout",
          "output_type": "stream",
          "text": [
            "Model Number: 483 with model SeasonalNaive in generation 3 of 20\n",
            "Model Number: 484 with model SeasonalNaive in generation 3 of 20\n",
            "Model Number: 485 with model ETS in generation 3 of 20\n",
            "Model Number: 486 with model SeasonalNaive in generation 3 of 20\n",
            "Model Number: 487 with model Theta in generation 3 of 20\n",
            "Model Number: 488 with model AverageValueNaive in generation 3 of 20\n",
            "Model Number: 489 with model WindowRegression in generation 3 of 20\n"
          ]
        },
        {
          "name": "stderr",
          "output_type": "stream",
          "text": [
            "/usr/local/lib/python3.10/dist-packages/sklearn/neural_network/_multilayer_perceptron.py:541: ConvergenceWarning:\n",
            "\n",
            "lbfgs failed to converge (status=1):\n",
            "STOP: TOTAL NO. of ITERATIONS REACHED LIMIT.\n",
            "\n",
            "Increase the number of iterations (max_iter) or scale the data as shown in:\n",
            "    https://scikit-learn.org/stable/modules/preprocessing.html\n",
            "\n"
          ]
        },
        {
          "name": "stdout",
          "output_type": "stream",
          "text": [
            "Model Number: 490 with model MultivariateRegression in generation 3 of 20\n",
            "Model Number: 491 with model Theta in generation 3 of 20\n",
            "Template Eval Error: Exception(\"Transformer PowerTransformer failed on inverse from params pchip {'0': {'whiten': False}, '1': {}, '2': {'rolling_window': 0.1, 'n_tails': 0.05, 'n_future': 0.2, 'method': 'mean', 'macro_micro': True}, '3': {'low': 6, 'high': 32, 'K': 1, 'lanczos_factor': False, 'return_diff': True}}\") in model 491 in generation 3: Theta\n",
            "Model Number: 492 with model ARDL in generation 3 of 20\n",
            "Model Number: 493 with model ARDL in generation 3 of 20\n",
            "Template Eval Error: ValueError(\"regression_type='User' but future_regressor not supplied\") in model 493 in generation 3: ARDL\n",
            "Model Number: 494 with model MultivariateRegression in generation 3 of 20\n",
            "Model Number: 495 with model NVAR in generation 3 of 20\n",
            "Model Number: 496 with model Theta in generation 3 of 20\n",
            "Template Eval Error: Exception(\"Transformer BTCD failed on fit from params pad {'0': {'method': 'rolling_zscore', 'method_params': {'distribution': 'norm', 'alpha': 0.05, 'rolling_periods': 28, 'center': True}, 'fillna': 'rolling_mean_24', 'transform_dict': {'fillna': None, 'transformations': {'0': 'ClipOutliers'}, 'transformation_params': {'0': {'method': 'clip', 'std_threshold': 6}}}, 'isolated_only': False}, '1': {'n_harmonics': None, 'detrend': None}, '2': {'regression_model': {'model': 'FastRidge', 'model_params': {}}, 'max_lags': 2}, '3': {'output_distribution': 'uniform', 'n_quantiles': 1000}, '4': {'det_order': 1, 'k_ar_diff': 2}}\") in model 496 in generation 3: Theta\n",
            "Model Number: 497 with model UnobservedComponents in generation 3 of 20\n",
            "Model Number: 498 with model UnivariateRegression in generation 3 of 20\n",
            "Model Number: 499 with model GLS in generation 3 of 20\n",
            "Model Number: 500 with model SeasonalityMotif in generation 3 of 20\n",
            "Model Number: 501 with model AverageValueNaive in generation 3 of 20\n",
            "Model Number: 502 with model SeasonalNaive in generation 3 of 20\n",
            "Model Number: 503 with model UnivariateMotif in generation 3 of 20\n",
            "Model Number: 504 with model DatepartRegression in generation 3 of 20\n",
            "Model Number: 505 with model FBProphet in generation 3 of 20\n",
            "Model Number: 506 with model AverageValueNaive in generation 3 of 20\n",
            "Model Number: 507 with model UnobservedComponents in generation 3 of 20\n",
            "Model Number: 508 with model SeasonalNaive in generation 3 of 20\n",
            "Model Number: 509 with model ConstantNaive in generation 3 of 20\n",
            "Model Number: 510 with model DatepartRegression in generation 3 of 20\n",
            "Model Number: 511 with model UnivariateRegression in generation 3 of 20\n",
            "Model Number: 512 with model FBProphet in generation 3 of 20\n",
            "Model Number: 513 with model ConstantNaive in generation 3 of 20\n",
            "Model Number: 514 with model NVAR in generation 3 of 20\n",
            "Model Number: 515 with model ARIMA in generation 3 of 20\n",
            "Model Number: 516 with model Theta in generation 3 of 20\n",
            "Template Eval Error: Exception(\"Transformer AlignLastValue failed on inverse from params ffill {'0': {'method': 0.5}, '1': {'rows': 1, 'lag': 1, 'method': 'additive', 'strength': 1.0, 'first_value_only': True}, '2': {'fixed': False, 'window': 10}}\") in model 516 in generation 3: Theta\n",
            "Model Number: 517 with model SeasonalNaive in generation 3 of 20\n",
            "Model Number: 518 with model ARIMA in generation 3 of 20\n",
            "Model Number: 519 with model LastValueNaive in generation 3 of 20\n",
            "Model Number: 520 with model FBProphet in generation 3 of 20\n",
            "Model Number: 521 with model SeasonalityMotif in generation 3 of 20\n",
            "Model Number: 522 with model NVAR in generation 3 of 20\n",
            "Model Number: 523 with model UnivariateRegression in generation 3 of 20\n",
            "Template Eval Error: ValueError(\"regression_type='User' but not future_regressor supplied.\") in model 523 in generation 3: UnivariateRegression\n",
            "Model Number: 524 with model AverageValueNaive in generation 3 of 20\n",
            "Model Number: 525 with model GLS in generation 3 of 20\n",
            "Model Number: 526 with model MultivariateRegression in generation 3 of 20\n"
          ]
        },
        {
          "name": "stderr",
          "output_type": "stream",
          "text": [
            "/usr/local/lib/python3.10/dist-packages/sklearn/decomposition/_fastica.py:708: FutureWarning:\n",
            "\n",
            "Starting in v1.3, whiten=True should be specified as whiten='arbitrary-variance' (its current behaviour). This behavior is deprecated in 1.1 and will raise ValueError in 1.3.\n",
            "\n"
          ]
        },
        {
          "name": "stdout",
          "output_type": "stream",
          "text": [
            "Model Number: 527 with model WindowRegression in generation 3 of 20\n",
            "Model Number: 528 with model UnivariateMotif in generation 3 of 20\n",
            "Model Number: 529 with model MultivariateMotif in generation 3 of 20\n",
            "Model Number: 530 with model UnivariateMotif in generation 3 of 20\n",
            "Model Number: 531 with model ARDL in generation 3 of 20\n",
            "Model Number: 532 with model FBProphet in generation 3 of 20\n",
            "Model Number: 533 with model MultivariateMotif in generation 3 of 20\n",
            "Model Number: 534 with model GLM in generation 3 of 20\n"
          ]
        },
        {
          "name": "stderr",
          "output_type": "stream",
          "text": [
            "/usr/local/lib/python3.10/dist-packages/statsmodels/genmod/generalized_linear_model.py:308: DomainWarning:\n",
            "\n",
            "The InversePower link function does not respect the domain of the Gamma family.\n",
            "\n"
          ]
        },
        {
          "name": "stdout",
          "output_type": "stream",
          "text": [
            "Model Number: 535 with model UnivariateMotif in generation 3 of 20\n",
            "Model Number: 536 with model SectionalMotif in generation 3 of 20\n",
            "Template Eval Error: Exception(\"Transformer BTCD failed on fit from params ffill {'0': {}, '1': {}, '2': {}, '3': {'regression_model': {'model': 'FastRidge', 'model_params': {}}, 'max_lags': 1}, '4': {'regression_model': {'model': 'FastRidge', 'model_params': {}}, 'max_lags': 1}}\") in model 536 in generation 3: SectionalMotif\n",
            "Model Number: 537 with model SeasonalityMotif in generation 3 of 20\n",
            "Model Number: 538 with model UnobservedComponents in generation 3 of 20\n"
          ]
        },
        {
          "name": "stderr",
          "output_type": "stream",
          "text": [
            "/usr/local/lib/python3.10/dist-packages/sklearn/linear_model/_ridge.py:216: LinAlgWarning:\n",
            "\n",
            "Ill-conditioned matrix (rcond=1.44548e-25): result may not be accurate.\n",
            "\n"
          ]
        },
        {
          "name": "stdout",
          "output_type": "stream",
          "text": [
            "Model Number: 539 with model UnobservedComponents in generation 3 of 20\n",
            "Template Eval Error: Exception(\"Transformer DifferencedTransformer failed on inverse from params ffill {'0': {}, '1': {'method': 'remove', 'std_threshold': 4.5, 'fillna': 'mean'}, '2': {'rows': 1, 'lag': 1, 'method': 'multiplicative', 'strength': 1.0, 'first_value_only': False}}\") in model 539 in generation 3: UnobservedComponents\n",
            "Model Number: 540 with model SectionalMotif in generation 3 of 20\n",
            "Model Number: 541 with model GLS in generation 3 of 20\n",
            "Model Number: 542 with model ETS in generation 3 of 20\n",
            "Model Number: 543 with model LastValueNaive in generation 3 of 20\n",
            "Model Number: 544 with model ETS in generation 3 of 20\n",
            "Template Eval Error: Exception(\"Transformer ScipyFilter failed on fit from params rolling_mean_24 {'0': {'rows': 1, 'lag': 1, 'method': 'additive', 'strength': 1.0, 'first_value_only': False}, '1': {'rows': 1, 'lag': 2, 'method': 'additive', 'strength': 1.0, 'first_value_only': False}, '2': {'rows': 1, 'lag': 1, 'method': 'additive', 'strength': 1.0, 'first_value_only': False}, '3': {'method': 'butter', 'method_args': {'N': 2, 'btype': 'highpass', 'analog': False, 'output': 'sos', 'Wn': 0.041666666666666664}}, '4': {'fixed': True, 'window': 12}}\") in model 544 in generation 3: ETS\n",
            "Model Number: 545 with model MultivariateRegression in generation 3 of 20\n",
            "Model Number: 546 with model ETS in generation 3 of 20\n",
            "Model Number: 547 with model MultivariateRegression in generation 3 of 20\n",
            "Model Number: 548 with model MultivariateMotif in generation 3 of 20\n",
            "Model Number: 549 with model SeasonalityMotif in generation 3 of 20\n",
            "Template Eval Error: Exception(\"Transformer AlignLastValue failed on inverse from params median {'0': {'method': 'wiener', 'method_args': None}, '1': {'n_harmonics': 20, 'detrend': 'linear'}, '2': {'rows': 1, 'lag': 1, 'method': 'additive', 'strength': 1.0, 'first_value_only': False}, '3': {'rows': 1, 'lag': 1, 'method': 'additive', 'strength': 1.0, 'first_value_only': True}}\") in model 549 in generation 3: SeasonalityMotif\n",
            "Model Number: 550 with model SectionalMotif in generation 3 of 20\n",
            "Model Number: 551 with model MultivariateMotif in generation 3 of 20\n",
            "Model Number: 552 with model MultivariateRegression in generation 3 of 20\n",
            "Model Number: 553 with model FBProphet in generation 3 of 20\n",
            "Template Eval Error: ValueError(\"regression_type='User' but no future_regressor passed\") in model 553 in generation 3: FBProphet\n",
            "Model Number: 554 with model ETS in generation 3 of 20\n",
            "Model Number: 555 with model AverageValueNaive in generation 3 of 20\n",
            "Model Number: 556 with model ARIMA in generation 3 of 20\n",
            "New Generation: 4 of 20\n",
            "Model Number: 557 with model Theta in generation 4 of 20\n"
          ]
        },
        {
          "name": "stderr",
          "output_type": "stream",
          "text": [
            "/usr/local/lib/python3.10/dist-packages/sklearn/neighbors/_classification.py:215: DataConversionWarning:\n",
            "\n",
            "A column-vector y was passed when a 1d array was expected. Please change the shape of y to (n_samples,), for example using ravel().\n",
            "\n"
          ]
        },
        {
          "name": "stdout",
          "output_type": "stream",
          "text": [
            "Model Number: 558 with model AverageValueNaive in generation 4 of 20\n",
            "Model Number: 559 with model UnivariateRegression in generation 4 of 20\n",
            "Model Number: 560 with model GLS in generation 4 of 20\n",
            "Model Number: 561 with model ETS in generation 4 of 20\n",
            "Model Number: 562 with model ConstantNaive in generation 4 of 20\n",
            "Model Number: 563 with model ARIMA in generation 4 of 20\n",
            "Model Number: 564 with model AverageValueNaive in generation 4 of 20\n",
            "Template Eval Error: Exception(\"Transformer AlignLastValue failed on inverse from params mean {'0': {'method': 'remove', 'std_threshold': 4, 'fillna': 'rolling_mean_24'}, '1': {'span': 2}, '2': {'rows': 1, 'lag': 1, 'method': 'additive', 'strength': 1.0, 'first_value_only': True}}\") in model 564 in generation 4: AverageValueNaive\n",
            "Model Number: 565 with model MultivariateMotif in generation 4 of 20\n",
            "Model Number: 566 with model GLS in generation 4 of 20\n",
            "Model Number: 567 with model AverageValueNaive in generation 4 of 20\n",
            "Model Number: 568 with model SeasonalityMotif in generation 4 of 20\n",
            "Model Number: 569 with model ARDL in generation 4 of 20\n",
            "Model Number: 570 with model FBProphet in generation 4 of 20\n",
            "Model Number: 571 with model UnivariateMotif in generation 4 of 20\n",
            "Model Number: 572 with model MultivariateMotif in generation 4 of 20\n",
            "Model Number: 573 with model MultivariateMotif in generation 4 of 20\n",
            "Model Number: 574 with model UnivariateMotif in generation 4 of 20\n",
            "Model Number: 575 with model SeasonalNaive in generation 4 of 20\n",
            "Model Number: 576 with model ETS in generation 4 of 20\n",
            "Model Number: 577 with model SeasonalNaive in generation 4 of 20\n",
            "Model Number: 578 with model SeasonalNaive in generation 4 of 20\n",
            "Model Number: 579 with model FBProphet in generation 4 of 20\n",
            "Model Number: 580 with model MetricMotif in generation 4 of 20\n",
            "Model Number: 581 with model UnobservedComponents in generation 4 of 20\n",
            "Template Eval Error: Exception(\"Transformer STLFilter failed on fit from params linear {'0': {'decimals': 1, 'on_transform': True, 'on_inverse': True}, '1': {}, '2': {}, '3': {'lag_1': 2, 'method': 20}, '4': {'decomp_type': 'STL', 'part': 'trend', 'seasonal': 11}}\") in model 581 in generation 4: UnobservedComponents\n",
            "Model Number: 582 with model SectionalMotif in generation 4 of 20\n",
            "Model Number: 583 with model FBProphet in generation 4 of 20\n",
            "Template Eval Error: Exception(\"Transformer AlignLastValue failed on inverse from params mean {'0': {'rows': 1, 'lag': 1, 'method': 'additive', 'strength': 1.0, 'first_value_only': False}, '1': {'rows': 1, 'lag': 1, 'method': 'additive', 'strength': 1.0, 'first_value_only': False}, '2': {'rows': 1, 'lag': 1, 'method': 'additive', 'strength': 1.0, 'first_value_only': True}, '3': {}, '4': {}, '5': {'whiten': False}}\") in model 583 in generation 4: FBProphet\n",
            "Model Number: 584 with model MultivariateRegression in generation 4 of 20\n",
            "Model Number: 585 with model UnivariateRegression in generation 4 of 20\n",
            "Model Number: 586 with model NVAR in generation 4 of 20\n",
            "Model Number: 587 with model LastValueNaive in generation 4 of 20\n",
            "Model Number: 588 with model NVAR in generation 4 of 20\n",
            "Model Number: 589 with model ETS in generation 4 of 20\n",
            "Model Number: 590 with model ARDL in generation 4 of 20\n",
            "Model Number: 591 with model MultivariateRegression in generation 4 of 20\n",
            "Template Eval Error: ValueError(\"regression_type='User' but not future_regressor supplied.\") in model 591 in generation 4: MultivariateRegression\n",
            "Model Number: 592 with model DatepartRegression in generation 4 of 20\n",
            "Model Number: 593 with model NVAR in generation 4 of 20\n",
            "Model Number: 594 with model GLM in generation 4 of 20\n",
            "Template Eval Error: ValueError('The first guess on the deviance function returned a nan.  This could be a boundary  problem and should be reported.') in model 594 in generation 4: GLM\n",
            "Model Number: 595 with model SeasonalityMotif in generation 4 of 20\n",
            "Model Number: 596 with model NVAR in generation 4 of 20\n",
            "Model Number: 597 with model UnobservedComponents in generation 4 of 20\n"
          ]
        },
        {
          "name": "stderr",
          "output_type": "stream",
          "text": [
            "/usr/local/lib/python3.10/dist-packages/sklearn/neighbors/_classification.py:215: DataConversionWarning:\n",
            "\n",
            "A column-vector y was passed when a 1d array was expected. Please change the shape of y to (n_samples,), for example using ravel().\n",
            "\n",
            "/usr/local/lib/python3.10/dist-packages/sklearn/neighbors/_classification.py:215: DataConversionWarning:\n",
            "\n",
            "A column-vector y was passed when a 1d array was expected. Please change the shape of y to (n_samples,), for example using ravel().\n",
            "\n",
            "/usr/local/lib/python3.10/dist-packages/statsmodels/genmod/families/family.py:1367: ValueWarning:\n",
            "\n",
            "Negative binomial dispersion parameter alpha not set. Using default value alpha=1.0.\n",
            "\n",
            "/usr/local/lib/python3.10/dist-packages/statsmodels/genmod/families/family.py:1406: RuntimeWarning:\n",
            "\n",
            "invalid value encountered in log\n",
            "\n"
          ]
        },
        {
          "name": "stdout",
          "output_type": "stream",
          "text": [
            "Model Number: 598 with model WindowRegression in generation 4 of 20\n",
            "Model Number: 599 with model Theta in generation 4 of 20\n",
            "Model Number: 600 with model UnivariateRegression in generation 4 of 20\n",
            "Model Number: 601 with model SeasonalityMotif in generation 4 of 20\n",
            "Model Number: 602 with model MultivariateRegression in generation 4 of 20\n",
            "Model Number: 603 with model LastValueNaive in generation 4 of 20\n",
            "Template Eval Error: Exception(\"Transformer Cointegration failed on fit from params ffill {'0': {'model_name': 'ucm_deterministictrend_seasonal7', 'state_transition': [[1, 1, 0, 0, 0, 0, 0, 0], [0, 1, 0, 0, 0, 0, 0, 0], [0, 0, 1, 0, 0, 0, 0, 0], [0, 0, 0, 1, 0, 0, 0, 0], [0, 0, 0, 0, 1, 0, 0, 0], [0, 0, 0, 0, 0, 1, 0, 0], [0, 0, 0, 0, 0, 0, 1, 0], [0, 0, -1, -1, -1, -1, -1, -1]], 'process_noise': [[0.001, 0, 0, 0, 0, 0, 0, 0], [0, 0.001, 0, 0, 0, 0, 0, 0], [0, 0, 0.001, 0, 0, 0, 0, 0], [0, 0, 0, 0.001, 0, 0, 0, 0], [0, 0, 0, 0, 0.001, 0, 0, 0], [0, 0, 0, 0, 0, 0.001, 0, 0], [0, 0, 0, 0, 0, 0, 0.001, 0], [0, 0, 0, 0, 0, 0, 0, 0]], 'observation_model': [[1, 0, 1, 1, 1, 1, 1, 1]], 'observation_noise': 0.03, 'em_iter': None}, '1': {'det_order': 0, 'k_ar_diff': 1}, '2': {}}\") in model 603 in generation 4: LastValueNaive\n",
            "Model Number: 604 with model UnobservedComponents in generation 4 of 20\n",
            "Model Number: 605 with model GLS in generation 4 of 20\n",
            "Model Number: 606 with model MultivariateRegression in generation 4 of 20\n",
            "Model Number: 607 with model UnivariateMotif in generation 4 of 20\n",
            "Model Number: 608 with model ETS in generation 4 of 20\n",
            "Model Number: 609 with model Theta in generation 4 of 20\n",
            "Model Number: 610 with model LastValueNaive in generation 4 of 20\n",
            "Model Number: 611 with model UnivariateMotif in generation 4 of 20\n",
            "Model Number: 612 with model MultivariateRegression in generation 4 of 20\n",
            "Model Number: 613 with model MultivariateMotif in generation 4 of 20\n",
            "Model Number: 614 with model NVAR in generation 4 of 20\n",
            "Model Number: 615 with model Theta in generation 4 of 20\n",
            "Model Number: 616 with model GLS in generation 4 of 20\n",
            "Template Eval Error: Exception(\"Transformer AlignLastValue failed on inverse from params ffill {'0': {'lag_1': 20, 'method': 'Median'}, '1': {'rows': 7, 'lag': 1, 'method': 'additive', 'strength': 1.0, 'first_value_only': True}, '2': {'constant': 0, 'reintroduction_model': {'model': 'KNN', 'model_params': {'n_neighbors': 5, 'weights': 'uniform', 'p': 1.5, 'leaf_size': 50}, 'datepart_method': ['lunar_phase']}, 'fillna': 'ffill'}}\") in model 616 in generation 4: GLS\n",
            "Model Number: 617 with model NVAR in generation 4 of 20\n",
            "Model Number: 618 with model AverageValueNaive in generation 4 of 20\n",
            "Template Eval Error: Exception(\"Transformer BTCD failed on fit from params fake_date {'0': {}, '1': {'regression_model': {'model': 'FastRidge', 'model_params': {}}, 'max_lags': 1}, '2': {'rows': 1, 'lag': 1, 'method': 'additive', 'strength': 1.0, 'first_value_only': True}}\") in model 618 in generation 4: AverageValueNaive\n",
            "Model Number: 619 with model GLS in generation 4 of 20\n"
          ]
        },
        {
          "name": "stderr",
          "output_type": "stream",
          "text": [
            "/usr/local/lib/python3.10/dist-packages/sklearn/neighbors/_classification.py:215: DataConversionWarning:\n",
            "\n",
            "A column-vector y was passed when a 1d array was expected. Please change the shape of y to (n_samples,), for example using ravel().\n",
            "\n"
          ]
        },
        {
          "name": "stdout",
          "output_type": "stream",
          "text": [
            "Model Number: 620 with model UnobservedComponents in generation 4 of 20\n",
            "Model Number: 621 with model Theta in generation 4 of 20\n",
            "Model Number: 622 with model DatepartRegression in generation 4 of 20\n",
            "Model Number: 623 with model UnobservedComponents in generation 4 of 20\n",
            "Model Number: 624 with model ETS in generation 4 of 20\n",
            "Model Number: 625 with model ARDL in generation 4 of 20\n",
            "Model Number: 626 with model SeasonalNaive in generation 4 of 20\n",
            "Model Number: 627 with model AverageValueNaive in generation 4 of 20\n",
            "Template Eval Error: Exception(\"Transformer AlignLastValue failed on inverse from params fake_date {'0': {}, '1': {'rows': 7, 'lag': 1, 'method': 'additive', 'strength': 1.0, 'first_value_only': False}, '2': {'rows': 1, 'lag': 1, 'method': 'additive', 'strength': 1.0, 'first_value_only': True}, '3': {'method': 'IsolationForest', 'method_params': {'contamination': 'auto', 'n_estimators': 20, 'max_features': 1.0, 'bootstrap': False}, 'fillna': 'ffill', 'transform_dict': {'fillna': None, 'transformations': {'0': 'EWMAFilter'}, 'transformation_params': {'0': {'span': 7}}}, 'isolated_only': False}, '4': {}}\") in model 627 in generation 4: AverageValueNaive\n",
            "Model Number: 628 with model ARDL in generation 4 of 20\n",
            "Model Number: 629 with model AverageValueNaive in generation 4 of 20\n",
            "Model Number: 630 with model AverageValueNaive in generation 4 of 20\n",
            "Template Eval Error: ValueError(\"Model returned NaN due to a preprocessing transformer {'fillna': 'fake_date', 'transformations': {'0': 'StandardScaler', '1': 'AlignLastValue', '2': 'bkfilter', '3': 'AnomalyRemoval', '4': 'AlignLastValue', '5': 'Round'}, 'transformation_params': {'0': {}, '1': {'rows': 7, 'lag': 1, 'method': 'additive', 'strength': 1.0, 'first_value_only': False}, '2': {}, '3': {'method': 'IsolationForest', 'method_params': {'contamination': 'auto', 'n_estimators': 20, 'max_features': 1.0, 'bootstrap': False}, 'fillna': 'ffill', 'transform_dict': {'fillna': None, 'transformations': {'0': 'EWMAFilter'}, 'transformation_params': {'0': {'span': 7}}}, 'isolated_only': False}, '4': {'rows': 1, 'lag': 7, 'method': 'multiplicative', 'strength': 0.2, 'first_value_only': False}, '5': {'decimals': 0, 'on_transform': True, 'on_inverse': True}}}. fail_on_forecast_nan=True\") in model 630 in generation 4: AverageValueNaive\n",
            "Model Number: 631 with model ARDL in generation 4 of 20\n",
            "Model Number: 632 with model LastValueNaive in generation 4 of 20\n",
            "Model Number: 633 with model AverageValueNaive in generation 4 of 20\n",
            "Model Number: 634 with model SeasonalNaive in generation 4 of 20\n",
            "Model Number: 635 with model AverageValueNaive in generation 4 of 20\n",
            "Model Number: 636 with model AverageValueNaive in generation 4 of 20\n"
          ]
        },
        {
          "name": "stderr",
          "output_type": "stream",
          "text": [
            "/usr/local/lib/python3.10/dist-packages/autots/tools/thresholding.py:204: RuntimeWarning:\n",
            "\n",
            "overflow encountered in scalar power\n",
            "\n"
          ]
        },
        {
          "name": "stdout",
          "output_type": "stream",
          "text": [
            "Model Number: 637 with model UnobservedComponents in generation 4 of 20\n",
            "Model Number: 638 with model FBProphet in generation 4 of 20\n",
            "Model Number: 639 with model LastValueNaive in generation 4 of 20\n",
            "Template Eval Error: Exception(\"Transformer AlignLastValue failed on inverse from params ffill {'0': {'sigma': 2.5, 'rolling_window': 90, 'run_order': 'trend_first', 'regression_params': {'regression_model': {'model': 'ElasticNet', 'model_params': {}}, 'datepart_method': 'expanded', 'polynomial_degree': None, 'transform_dict': None, 'holiday_countries_used': False}, 'holiday_params': None}, '1': {}, '2': {}, '3': {}, '4': {'model': 'GLS', 'phi': 1, 'window': None, 'transform_dict': None}, '5': {'rows': 1, 'lag': 1, 'method': 'additive', 'strength': 1.0, 'first_value_only': True}}\") in model 639 in generation 4: LastValueNaive\n",
            "Model Number: 640 with model WindowRegression in generation 4 of 20\n",
            "Model Number: 641 with model FBProphet in generation 4 of 20\n",
            "Model Number: 642 with model ARIMA in generation 4 of 20\n",
            "Model Number: 643 with model GLS in generation 4 of 20\n",
            "Model Number: 644 with model ETS in generation 4 of 20\n",
            "Model Number: 645 with model UnobservedComponents in generation 4 of 20\n",
            "Model Number: 646 with model ARIMA in generation 4 of 20\n",
            "Model Number: 647 with model GLM in generation 4 of 20\n",
            "Template Eval Error: Exception(\"Transformer STLFilter failed on fit from params ffill {'0': {'method': 'remove', 'std_threshold': 3.5, 'fillna': 'mean'}, '1': {'n_harmonics': 20, 'detrend': 'quartic'}, '2': {'lag_1': 2, 'method': 'LastValue'}, '3': {'decomp_type': 'seasonal_decompose', 'part': 'trend'}, '4': {}, '5': {}}\") in model 647 in generation 4: GLM\n",
            "Model Number: 648 with model ARDL in generation 4 of 20\n",
            "Template Eval Error: Exception(\"Transformer AlignLastValue failed on inverse from params ffill {'0': {'rows': 1, 'lag': 28, 'method': 'additive', 'strength': 1.0, 'first_value_only': False}, '1': {'rows': 1, 'lag': 2, 'method': 'additive', 'strength': 0.2, 'first_value_only': True}}\") in model 648 in generation 4: ARDL\n",
            "Model Number: 649 with model MultivariateRegression in generation 4 of 20\n",
            "Model Number: 650 with model SeasonalityMotif in generation 4 of 20\n",
            "Template Eval Error: Exception(\"Transformer BTCD failed on fit from params ffill {'0': {'method': 'rolling_zscore', 'method_params': {'distribution': 'norm', 'alpha': 0.05, 'rolling_periods': 28, 'center': True}, 'fillna': 'rolling_mean_24', 'transform_dict': {'fillna': None, 'transformations': {'0': 'ClipOutliers'}, 'transformation_params': {'0': {'method': 'clip', 'std_threshold': 6}}}, 'isolated_only': False}, '1': {'regression_model': {'model': 'LinearRegression', 'model_params': {}}, 'max_lags': 1}, '2': {'window_size': 364, 'alpha': 3.0, 'grouping_forward_limit': 2, 'max_level_shifts': 10, 'alignment': 'average'}}\") in model 650 in generation 4: SeasonalityMotif\n",
            "Model Number: 651 with model MultivariateMotif in generation 4 of 20\n",
            "Model Number: 652 with model WindowRegression in generation 4 of 20\n",
            "Model Number: 653 with model SeasonalNaive in generation 4 of 20\n"
          ]
        },
        {
          "name": "stderr",
          "output_type": "stream",
          "text": [
            "/usr/local/lib/python3.10/dist-packages/sklearn/neural_network/_multilayer_perceptron.py:541: ConvergenceWarning:\n",
            "\n",
            "lbfgs failed to converge (status=1):\n",
            "STOP: TOTAL NO. of ITERATIONS REACHED LIMIT.\n",
            "\n",
            "Increase the number of iterations (max_iter) or scale the data as shown in:\n",
            "    https://scikit-learn.org/stable/modules/preprocessing.html\n",
            "\n"
          ]
        },
        {
          "name": "stdout",
          "output_type": "stream",
          "text": [
            "Model Number: 654 with model GLS in generation 4 of 20\n",
            "Template Eval Error: Exception(\"Transformer Cointegration failed on fit from params ffill {'0': {'det_order': 1, 'k_ar_diff': 1}, '1': {'window_size': 364, 'alpha': 2.5, 'grouping_forward_limit': 3, 'max_level_shifts': 10, 'alignment': 'average'}, '2': {'lag_1': 24, 'method': 'LastValue'}, '3': {}, '4': {'rows': 1, 'lag': 1, 'method': 'additive', 'strength': 1.0, 'first_value_only': True}, '5': {'rows': 1, 'lag': 1, 'method': 'additive', 'strength': 1.0, 'first_value_only': False}}\") in model 654 in generation 4: GLS\n",
            "Model Number: 655 with model GLS in generation 4 of 20\n",
            "Model Number: 656 with model UnobservedComponents in generation 4 of 20\n",
            "Model Number: 657 with model WindowRegression in generation 4 of 20\n",
            "Model Number: 658 with model UnobservedComponents in generation 4 of 20\n",
            "Model Number: 659 with model ConstantNaive in generation 4 of 20\n"
          ]
        },
        {
          "name": "stderr",
          "output_type": "stream",
          "text": [
            "/usr/local/lib/python3.10/dist-packages/sklearn/neural_network/_multilayer_perceptron.py:541: ConvergenceWarning:\n",
            "\n",
            "lbfgs failed to converge (status=1):\n",
            "STOP: TOTAL NO. of ITERATIONS REACHED LIMIT.\n",
            "\n",
            "Increase the number of iterations (max_iter) or scale the data as shown in:\n",
            "    https://scikit-learn.org/stable/modules/preprocessing.html\n",
            "\n",
            "/usr/local/lib/python3.10/dist-packages/sklearn/neighbors/_classification.py:215: DataConversionWarning:\n",
            "\n",
            "A column-vector y was passed when a 1d array was expected. Please change the shape of y to (n_samples,), for example using ravel().\n",
            "\n",
            "/usr/local/lib/python3.10/dist-packages/sklearn/neighbors/_classification.py:215: DataConversionWarning:\n",
            "\n",
            "A column-vector y was passed when a 1d array was expected. Please change the shape of y to (n_samples,), for example using ravel().\n",
            "\n",
            "/usr/local/lib/python3.10/dist-packages/statsmodels/genmod/generalized_linear_model.py:308: DomainWarning:\n",
            "\n",
            "The InversePower link function does not respect the domain of the Gamma family.\n",
            "\n"
          ]
        },
        {
          "name": "stdout",
          "output_type": "stream",
          "text": [
            "Model Number: 660 with model GLM in generation 4 of 20\n",
            "Template Eval Error: ValueError('NaN, inf or invalid value detected in weights, estimation infeasible.') in model 660 in generation 4: GLM\n",
            "Model Number: 661 with model Theta in generation 4 of 20\n"
          ]
        },
        {
          "name": "stderr",
          "output_type": "stream",
          "text": [
            "/usr/local/lib/python3.10/dist-packages/statsmodels/genmod/families/family.py:143: RuntimeWarning:\n",
            "\n",
            "overflow encountered in square\n",
            "\n",
            "/usr/local/lib/python3.10/dist-packages/statsmodels/genmod/families/links.py:325: RuntimeWarning:\n",
            "\n",
            "divide by zero encountered in power\n",
            "\n",
            "/usr/local/lib/python3.10/dist-packages/statsmodels/genmod/families/family.py:775: RuntimeWarning:\n",
            "\n",
            "invalid value encountered in divide\n",
            "\n",
            "/usr/local/lib/python3.10/dist-packages/statsmodels/genmod/generalized_linear_model.py:898: RuntimeWarning:\n",
            "\n",
            "invalid value encountered in divide\n",
            "\n",
            "/usr/local/lib/python3.10/dist-packages/statsmodels/genmod/families/family.py:143: RuntimeWarning:\n",
            "\n",
            "invalid value encountered in multiply\n",
            "\n",
            "/usr/local/lib/python3.10/dist-packages/statsmodels/genmod/generalized_linear_model.py:1328: RuntimeWarning:\n",
            "\n",
            "invalid value encountered in multiply\n",
            "\n",
            "/usr/local/lib/python3.10/dist-packages/sklearn/neighbors/_classification.py:215: DataConversionWarning:\n",
            "\n",
            "A column-vector y was passed when a 1d array was expected. Please change the shape of y to (n_samples,), for example using ravel().\n",
            "\n"
          ]
        },
        {
          "name": "stdout",
          "output_type": "stream",
          "text": [
            "Model Number: 662 with model FBProphet in generation 4 of 20\n",
            "Model Number: 663 with model WindowRegression in generation 4 of 20\n",
            "Model Number: 664 with model SectionalMotif in generation 4 of 20\n"
          ]
        },
        {
          "name": "stderr",
          "output_type": "stream",
          "text": [
            "/usr/local/lib/python3.10/dist-packages/sklearn/neural_network/_multilayer_perceptron.py:541: ConvergenceWarning:\n",
            "\n",
            "lbfgs failed to converge (status=1):\n",
            "STOP: TOTAL NO. of ITERATIONS REACHED LIMIT.\n",
            "\n",
            "Increase the number of iterations (max_iter) or scale the data as shown in:\n",
            "    https://scikit-learn.org/stable/modules/preprocessing.html\n",
            "\n"
          ]
        },
        {
          "name": "stdout",
          "output_type": "stream",
          "text": [
            "Model Number: 665 with model Theta in generation 4 of 20\n",
            "Template Eval Error: Exception(\"Transformer Cointegration failed on fit from params ffill {'0': {'det_order': 1, 'k_ar_diff': 2}}\") in model 665 in generation 4: Theta\n",
            "Model Number: 666 with model MultivariateRegression in generation 4 of 20\n",
            "Model Number: 667 with model GLS in generation 4 of 20\n",
            "Model Number: 668 with model SeasonalityMotif in generation 4 of 20\n",
            "Model Number: 669 with model LastValueNaive in generation 4 of 20\n",
            "Model Number: 670 with model UnobservedComponents in generation 4 of 20\n",
            "Model Number: 671 with model FBProphet in generation 4 of 20\n",
            "Model Number: 672 with model MetricMotif in generation 4 of 20\n",
            "Template Eval Error: Exception(\"Transformer ScipyFilter failed on fit from params ffill_mean_biased {'0': {}, '1': {'method': 'butter', 'method_args': {'N': 4, 'btype': 'highpass', 'analog': False, 'output': 'sos', 'Wn': 0.25}}, '2': {'fillna': 'ffill', 'center': 'zero'}}\") in model 672 in generation 4: MetricMotif\n",
            "Model Number: 673 with model ConstantNaive in generation 4 of 20\n",
            "Model Number: 674 with model MultivariateRegression in generation 4 of 20\n",
            "Template Eval Error: LightGBMError('[gamma]: at least one target label is negative') in model 674 in generation 4: MultivariateRegression\n",
            "Model Number: 675 with model MultivariateRegression in generation 4 of 20\n"
          ]
        },
        {
          "name": "stderr",
          "output_type": "stream",
          "text": [
            "/usr/local/lib/python3.10/dist-packages/sklearn/linear_model/_ridge.py:216: LinAlgWarning:\n",
            "\n",
            "Ill-conditioned matrix (rcond=1.44548e-25): result may not be accurate.\n",
            "\n"
          ]
        },
        {
          "name": "stdout",
          "output_type": "stream",
          "text": [
            "Model Number: 676 with model UnivariateMotif in generation 4 of 20\n",
            "Template Eval Error: Exception(\"Transformer ReplaceConstant failed on fit from params cubic {'0': {}, '1': {'constant': 0, 'reintroduction_model': {'model': 'xgboost', 'model_params': {'booster': 'gblinear', 'max_depth': 6, 'eta': 0.01, 'min_child_weight': 1, 'subsample': 1, 'colsample_bylevel': 0.5, 'reg_alpha': 0, 'reg_lambda': 1, 'n_estimators': 1000}, 'datepart_method': 'expanded_binarized'}, 'fillna': None}, '2': {'span': 24}}\") in model 676 in generation 4: UnivariateMotif\n",
            "Model Number: 677 with model UnivariateRegression in generation 4 of 20\n",
            "Model Number: 678 with model LastValueNaive in generation 4 of 20\n",
            "Model Number: 679 with model SeasonalNaive in generation 4 of 20\n",
            "Model Number: 680 with model MultivariateMotif in generation 4 of 20\n",
            "Model Number: 681 with model UnobservedComponents in generation 4 of 20\n",
            "New Generation: 5 of 20\n",
            "Model Number: 682 with model Theta in generation 5 of 20\n",
            "Template Eval Error: Exception(\"Transformer PowerTransformer failed on fit from params zero {'0': {'rolling_window': 30, 'n_tails': 0.1, 'n_future': 0.2, 'method': 'median', 'macro_micro': True}, '1': {}, '2': {'rows': 1, 'lag': 1, 'method': 'additive', 'strength': 1.0, 'first_value_only': False}, '3': {'fixed': False, 'window': 10}}\") in model 682 in generation 5: Theta\n",
            "Model Number: 683 with model ETS in generation 5 of 20\n",
            "Model Number: 684 with model UnobservedComponents in generation 5 of 20\n",
            "Model Number: 685 with model MultivariateRegression in generation 5 of 20\n",
            "Template Eval Error: Exception(\"Transformer ScipyFilter failed on fit from params fake_date {'0': {'method': 'butter', 'method_args': {'N': 7, 'btype': 'lowpass', 'analog': False, 'output': 'sos', 'Wn': 0.14285714285714285}}, '1': {}, '2': {'model': 'Linear', 'phi': 1, 'window': None, 'transform_dict': None}}\") in model 685 in generation 5: MultivariateRegression\n",
            "Model Number: 686 with model Theta in generation 5 of 20\n",
            "Model Number: 687 with model ARDL in generation 5 of 20\n",
            "Model Number: 688 with model ARDL in generation 5 of 20\n",
            "Model Number: 689 with model MetricMotif in generation 5 of 20\n",
            "Model Number: 690 with model Theta in generation 5 of 20\n",
            "Model Number: 691 with model LastValueNaive in generation 5 of 20\n",
            "Model Number: 692 with model SeasonalityMotif in generation 5 of 20\n",
            "Model Number: 693 with model SeasonalNaive in generation 5 of 20\n",
            "Model Number: 694 with model ConstantNaive in generation 5 of 20\n",
            "Model Number: 695 with model GLS in generation 5 of 20\n",
            "Model Number: 696 with model UnivariateMotif in generation 5 of 20\n",
            "Model Number: 697 with model AverageValueNaive in generation 5 of 20\n",
            "Model Number: 698 with model NVAR in generation 5 of 20\n",
            "Model Number: 699 with model ARIMA in generation 5 of 20\n",
            "Model Number: 700 with model MultivariateRegression in generation 5 of 20\n",
            "Template Eval Error: ValueError(\"regression_type='User' but not future_regressor supplied.\") in model 700 in generation 5: MultivariateRegression\n",
            "Model Number: 701 with model GLS in generation 5 of 20\n",
            "Model Number: 702 with model WindowRegression in generation 5 of 20\n",
            "Template Eval Error: ValueError(\"regression_type='User' but no future_regressor passed\") in model 702 in generation 5: WindowRegression\n",
            "Model Number: 703 with model NVAR in generation 5 of 20\n",
            "Template Eval Error: Exception(\"Transformer BTCD failed on fit from params ffill {'0': {'regression_model': {'model': 'FastRidge', 'model_params': {}}, 'max_lags': 2}, '1': {'rows': 1, 'lag': 1, 'method': 'additive', 'strength': 1.0, 'first_value_only': False}, '2': {}}\") in model 703 in generation 5: NVAR\n",
            "Model Number: 704 with model Theta in generation 5 of 20\n",
            "Model Number: 705 with model SeasonalityMotif in generation 5 of 20\n",
            "Template Eval Error: Exception(\"Transformer Cointegration failed on fit from params ffill_mean_biased {'0': {}, '1': {'model_name': 'spline', 'state_transition': [[2, -1], [1, 0]], 'process_noise': [[1, 0], [0, 0]], 'observation_model': [[1, 0]], 'observation_noise': 0.1, 'em_iter': None}, '2': {'model_name': 'dynamic linear', 'state_transition': [[1, 1, 0, 0], [0, 1, 0, 0], [0, 0, 1.0, 1], [0, 0, 1.5, 0]], 'process_noise': [[0.5, 0, 0, 0], [0, 0.7, 0, 0], [0, 0, 0.4, 0], [0, 0, 0, 0]], 'observation_model': [[1, 0, 1, 0]], 'observation_noise': 0.25, 'em_iter': 30}, '3': {'det_order': 0, 'k_ar_diff': 0}, '4': {'rows': 1, 'lag': 1, 'method': 'additive', 'strength': 1.0, 'first_value_only': False}, '5': {'output_distribution': 'normal', 'n_quantiles': 1000}}\") in model 705 in generation 5: SeasonalityMotif\n",
            "Model Number: 706 with model UnobservedComponents in generation 5 of 20\n",
            "Template Eval Error: Exception(\"Transformer Cointegration failed on fit from params ffill {'0': {'decimals': 0, 'on_transform': True, 'on_inverse': True}, '1': {'output_distribution': 'uniform', 'n_quantiles': 246}, '2': {}, '3': {'det_order': 0, 'k_ar_diff': 1}}\") in model 706 in generation 5: UnobservedComponents\n",
            "Model Number: 707 with model NVAR in generation 5 of 20\n",
            "Model Number: 708 with model SeasonalNaive in generation 5 of 20\n",
            "Model Number: 709 with model UnivariateRegression in generation 5 of 20\n",
            "Model Number: 710 with model LastValueNaive in generation 5 of 20\n",
            "Model Number: 711 with model MultivariateRegression in generation 5 of 20\n",
            "Model Number: 712 with model AverageValueNaive in generation 5 of 20\n",
            "Model Number: 713 with model GLS in generation 5 of 20\n",
            "Model Number: 714 with model MultivariateMotif in generation 5 of 20\n",
            "Model Number: 715 with model WindowRegression in generation 5 of 20\n",
            "Model Number: 716 with model ETS in generation 5 of 20\n",
            "Model Number: 717 with model DatepartRegression in generation 5 of 20\n"
          ]
        },
        {
          "name": "stderr",
          "output_type": "stream",
          "text": [
            "/usr/local/lib/python3.10/dist-packages/sklearn/neighbors/_classification.py:215: DataConversionWarning:\n",
            "\n",
            "A column-vector y was passed when a 1d array was expected. Please change the shape of y to (n_samples,), for example using ravel().\n",
            "\n"
          ]
        },
        {
          "name": "stdout",
          "output_type": "stream",
          "text": [
            "Model Number: 718 with model GLM in generation 5 of 20\n",
            "Model Number: 719 with model MultivariateRegression in generation 5 of 20\n",
            "Model Number: 720 with model LastValueNaive in generation 5 of 20\n",
            "Model Number: 721 with model FBProphet in generation 5 of 20\n",
            "Model Number: 722 with model DatepartRegression in generation 5 of 20\n",
            "Model Number: 723 with model UnobservedComponents in generation 5 of 20\n",
            "Template Eval Error: Exception(\"Transformer AlignLastValue failed on inverse from params linear {'0': {'rows': 1, 'lag': 1, 'method': 'additive', 'strength': 1.0, 'first_value_only': True}, '1': {'lag_1': 2, 'method': 20}}\") in model 723 in generation 5: UnobservedComponents\n",
            "Model Number: 724 with model MultivariateRegression in generation 5 of 20\n",
            "Model Number: 725 with model ARDL in generation 5 of 20\n",
            "Template Eval Error: ValueError(\"ARDL series Close failed with error ValueError('The number of regressors (237) including deterministics, lags of the endog, lags of the exogenous, and fixed regressors is larger than the sample available for estimation (144).') exog train             weekend  quarter      epoch  month_1  month_2  month_3  month_4  \\\\\\nDate                                                                          \\n2023-09-23        1        3  2460210.5      0.0      0.0      0.0      0.0   \\n2023-09-24        1        3  2460211.5      0.0      0.0      0.0      0.0   \\n2023-09-25        0        3  2460212.5      0.0      0.0      0.0      0.0   \\n2023-09-26        0        3  2460213.5      0.0      0.0      0.0      0.0   \\n2023-09-27        0        3  2460214.5      0.0      0.0      0.0      0.0   \\n...             ...      ...        ...      ...      ...      ...      ...   \\n2024-02-12        0        1  2460352.5      0.0      1.0      0.0      0.0   \\n2024-02-13        0        1  2460353.5      0.0      1.0      0.0      0.0   \\n2024-02-14        0        1  2460354.5      0.0      1.0      0.0      0.0   \\n2024-02-15        0        1  2460355.5      0.0      1.0      0.0      0.0   \\n2024-02-16        0        1  2460356.5      0.0      1.0      0.0      0.0   \\n\\n            month_5  month_6  month_7  ...  day_27  day_28  day_29  day_30  \\\\\\nDate                                   ...                                   \\n2023-09-23      0.0      0.0      0.0  ...     0.0     0.0     0.0     0.0   \\n2023-09-24      0.0      0.0      0.0  ...     0.0     0.0     0.0     0.0   \\n2023-09-25      0.0      0.0      0.0  ...     0.0     0.0     0.0     0.0   \\n2023-09-26      0.0      0.0      0.0  ...     0.0     0.0     0.0     0.0   \\n2023-09-27      0.0      0.0      0.0  ...     1.0     0.0     0.0     0.0   \\n...             ...      ...      ...  ...     ...     ...     ...     ...   \\n2024-02-12      0.0      0.0      0.0  ...     0.0     0.0     0.0     0.0   \\n2024-02-13      0.0      0.0      0.0  ...     0.0     0.0     0.0     0.0   \\n2024-02-14      0.0      0.0      0.0  ...     0.0     0.0     0.0     0.0   \\n2024-02-15      0.0      0.0      0.0  ...     0.0     0.0     0.0     0.0   \\n2024-02-16      0.0      0.0      0.0  ...     0.0     0.0     0.0     0.0   \\n\\n            day_31  weekdayofmonth_1  weekdayofmonth_2  weekdayofmonth_3  \\\\\\nDate                                                                       \\n2023-09-23     0.0               0.0               0.0               0.0   \\n2023-09-24     0.0               0.0               0.0               0.0   \\n2023-09-25     0.0               0.0               0.0               0.0   \\n2023-09-26     0.0               0.0               0.0               0.0   \\n2023-09-27     0.0               0.0               0.0               0.0   \\n...            ...               ...               ...               ...   \\n2024-02-12     0.0               0.0               1.0               0.0   \\n2024-02-13     0.0               0.0               1.0               0.0   \\n2024-02-14     0.0               0.0               1.0               0.0   \\n2024-02-15     0.0               0.0               0.0               1.0   \\n2024-02-16     0.0               0.0               0.0               1.0   \\n\\n            weekdayofmonth_4  weekdayofmonth_5  \\nDate                                            \\n2023-09-23               1.0               0.0  \\n2023-09-24               1.0               0.0  \\n2023-09-25               1.0               0.0  \\n2023-09-26               1.0               0.0  \\n2023-09-27               1.0               0.0  \\n...                      ...               ...  \\n2024-02-12               0.0               0.0  \\n2024-02-13               0.0               0.0  \\n2024-02-14               0.0               0.0  \\n2024-02-15               0.0               0.0  \\n2024-02-16               0.0               0.0  \\n\\n[147 rows x 58 columns] and predict             weekend  quarter      epoch  month_1  month_2  month_3  month_4  \\\\\\n2024-02-17        1        1  2460357.5      0.0      1.0      0.0      0.0   \\n2024-02-18        1        1  2460358.5      0.0      1.0      0.0      0.0   \\n2024-02-19        0        1  2460359.5      0.0      1.0      0.0      0.0   \\n2024-02-20        0        1  2460360.5      0.0      1.0      0.0      0.0   \\n2024-02-21        0        1  2460361.5      0.0      1.0      0.0      0.0   \\n2024-02-22        0        1  2460362.5      0.0      1.0      0.0      0.0   \\n2024-02-23        0        1  2460363.5      0.0      1.0      0.0      0.0   \\n2024-02-24        1        1  2460364.5      0.0      1.0      0.0      0.0   \\n2024-02-25        1        1  2460365.5      0.0      1.0      0.0      0.0   \\n2024-02-26        0        1  2460366.5      0.0      1.0      0.0      0.0   \\n2024-02-27        0        1  2460367.5      0.0      1.0      0.0      0.0   \\n2024-02-28        0        1  2460368.5      0.0      1.0      0.0      0.0   \\n2024-02-29        0        1  2460369.5      0.0      1.0      0.0      0.0   \\n2024-03-01        0        1  2460370.5      0.0      0.0      1.0      0.0   \\n2024-03-02        1        1  2460371.5      0.0      0.0      1.0      0.0   \\n2024-03-03        1        1  2460372.5      0.0      0.0      1.0      0.0   \\n2024-03-04        0        1  2460373.5      0.0      0.0      1.0      0.0   \\n2024-03-05        0        1  2460374.5      0.0      0.0      1.0      0.0   \\n2024-03-06        0        1  2460375.5      0.0      0.0      1.0      0.0   \\n2024-03-07        0        1  2460376.5      0.0      0.0      1.0      0.0   \\n2024-03-08        0        1  2460377.5      0.0      0.0      1.0      0.0   \\n2024-03-09        1        1  2460378.5      0.0      0.0      1.0      0.0   \\n2024-03-10        1        1  2460379.5      0.0      0.0      1.0      0.0   \\n2024-03-11        0        1  2460380.5      0.0      0.0      1.0      0.0   \\n2024-03-12        0        1  2460381.5      0.0      0.0      1.0      0.0   \\n2024-03-13        0        1  2460382.5      0.0      0.0      1.0      0.0   \\n2024-03-14        0        1  2460383.5      0.0      0.0      1.0      0.0   \\n2024-03-15        0        1  2460384.5      0.0      0.0      1.0      0.0   \\n2024-03-16        1        1  2460385.5      0.0      0.0      1.0      0.0   \\n2024-03-17        1        1  2460386.5      0.0      0.0      1.0      0.0   \\n\\n            month_5  month_6  month_7  ...  day_27  day_28  day_29  day_30  \\\\\\n2024-02-17      0.0      0.0      0.0  ...     0.0     0.0     0.0     0.0   \\n2024-02-18      0.0      0.0      0.0  ...     0.0     0.0     0.0     0.0   \\n2024-02-19      0.0      0.0      0.0  ...     0.0     0.0     0.0     0.0   \\n2024-02-20      0.0      0.0      0.0  ...     0.0     0.0     0.0     0.0   \\n2024-02-21      0.0      0.0      0.0  ...     0.0     0.0     0.0     0.0   \\n2024-02-22      0.0      0.0      0.0  ...     0.0     0.0     0.0     0.0   \\n2024-02-23      0.0      0.0      0.0  ...     0.0     0.0     0.0     0.0   \\n2024-02-24      0.0      0.0      0.0  ...     0.0     0.0     0.0     0.0   \\n2024-02-25      0.0      0.0      0.0  ...     0.0     0.0     0.0     0.0   \\n2024-02-26      0.0      0.0      0.0  ...     0.0     0.0     0.0     0.0   \\n2024-02-27      0.0      0.0      0.0  ...     1.0     0.0     0.0     0.0   \\n2024-02-28      0.0      0.0      0.0  ...     0.0     1.0     0.0     0.0   \\n2024-02-29      0.0      0.0      0.0  ...     0.0     0.0     1.0     0.0   \\n2024-03-01      0.0      0.0      0.0  ...     0.0     0.0     0.0     0.0   \\n2024-03-02      0.0      0.0      0.0  ...     0.0     0.0     0.0     0.0   \\n2024-03-03      0.0      0.0      0.0  ...     0.0     0.0     0.0     0.0   \\n2024-03-04      0.0      0.0      0.0  ...     0.0     0.0     0.0     0.0   \\n2024-03-05      0.0      0.0      0.0  ...     0.0     0.0     0.0     0.0   \\n2024-03-06      0.0      0.0      0.0  ...     0.0     0.0     0.0     0.0   \\n2024-03-07      0.0      0.0      0.0  ...     0.0     0.0     0.0     0.0   \\n2024-03-08      0.0      0.0      0.0  ...     0.0     0.0     0.0     0.0   \\n2024-03-09      0.0      0.0      0.0  ...     0.0     0.0     0.0     0.0   \\n2024-03-10      0.0      0.0      0.0  ...     0.0     0.0     0.0     0.0   \\n2024-03-11      0.0      0.0      0.0  ...     0.0     0.0     0.0     0.0   \\n2024-03-12      0.0      0.0      0.0  ...     0.0     0.0     0.0     0.0   \\n2024-03-13      0.0      0.0      0.0  ...     0.0     0.0     0.0     0.0   \\n2024-03-14      0.0      0.0      0.0  ...     0.0     0.0     0.0     0.0   \\n2024-03-15      0.0      0.0      0.0  ...     0.0     0.0     0.0     0.0   \\n2024-03-16      0.0      0.0      0.0  ...     0.0     0.0     0.0     0.0   \\n2024-03-17      0.0      0.0      0.0  ...     0.0     0.0     0.0     0.0   \\n\\n            day_31  weekdayofmonth_1  weekdayofmonth_2  weekdayofmonth_3  \\\\\\n2024-02-17     0.0               0.0               0.0               1.0   \\n2024-02-18     0.0               0.0               0.0               1.0   \\n2024-02-19     0.0               0.0               0.0               1.0   \\n2024-02-20     0.0               0.0               0.0               1.0   \\n2024-02-21     0.0               0.0               0.0               1.0   \\n2024-02-22     0.0               0.0               0.0               0.0   \\n2024-02-23     0.0               0.0               0.0               0.0   \\n2024-02-24     0.0               0.0               0.0               0.0   \\n2024-02-25     0.0               0.0               0.0               0.0   \\n2024-02-26     0.0               0.0               0.0               0.0   \\n2024-02-27     0.0               0.0               0.0               0.0   \\n2024-02-28     0.0               0.0               0.0               0.0   \\n2024-02-29     0.0               0.0               0.0               0.0   \\n2024-03-01     0.0               1.0               0.0               0.0   \\n2024-03-02     0.0               1.0               0.0               0.0   \\n2024-03-03     0.0               1.0               0.0               0.0   \\n2024-03-04     0.0               1.0               0.0               0.0   \\n2024-03-05     0.0               1.0               0.0               0.0   \\n2024-03-06     0.0               1.0               0.0               0.0   \\n2024-03-07     0.0               1.0               0.0               0.0   \\n2024-03-08     0.0               0.0               1.0               0.0   \\n2024-03-09     0.0               0.0               1.0               0.0   \\n2024-03-10     0.0               0.0               1.0               0.0   \\n2024-03-11     0.0               0.0               1.0               0.0   \\n2024-03-12     0.0               0.0               1.0               0.0   \\n2024-03-13     0.0               0.0               1.0               0.0   \\n2024-03-14     0.0               0.0               1.0               0.0   \\n2024-03-15     0.0               0.0               0.0               1.0   \\n2024-03-16     0.0               0.0               0.0               1.0   \\n2024-03-17     0.0               0.0               0.0               1.0   \\n\\n            weekdayofmonth_4  weekdayofmonth_5  \\n2024-02-17               0.0               0.0  \\n2024-02-18               0.0               0.0  \\n2024-02-19               0.0               0.0  \\n2024-02-20               0.0               0.0  \\n2024-02-21               0.0               0.0  \\n2024-02-22               1.0               0.0  \\n2024-02-23               1.0               0.0  \\n2024-02-24               1.0               0.0  \\n2024-02-25               1.0               0.0  \\n2024-02-26               1.0               0.0  \\n2024-02-27               1.0               0.0  \\n2024-02-28               1.0               0.0  \\n2024-02-29               0.0               1.0  \\n2024-03-01               0.0               0.0  \\n2024-03-02               0.0               0.0  \\n2024-03-03               0.0               0.0  \\n2024-03-04               0.0               0.0  \\n2024-03-05               0.0               0.0  \\n2024-03-06               0.0               0.0  \\n2024-03-07               0.0               0.0  \\n2024-03-08               0.0               0.0  \\n2024-03-09               0.0               0.0  \\n2024-03-10               0.0               0.0  \\n2024-03-11               0.0               0.0  \\n2024-03-12               0.0               0.0  \\n2024-03-13               0.0               0.0  \\n2024-03-14               0.0               0.0  \\n2024-03-15               0.0               0.0  \\n2024-03-16               0.0               0.0  \\n2024-03-17               0.0               0.0  \\n\\n[30 rows x 58 columns]\") in model 725 in generation 5: ARDL\n",
            "Model Number: 726 with model MultivariateRegression in generation 5 of 20\n",
            "Template Eval Error: KeyError('model') in model 726 in generation 5: MultivariateRegression\n",
            "Model Number: 727 with model Theta in generation 5 of 20\n",
            "Model Number: 728 with model SeasonalityMotif in generation 5 of 20\n",
            "Model Number: 729 with model UnivariateRegression in generation 5 of 20\n",
            "Model Number: 730 with model ETS in generation 5 of 20\n",
            "Model Number: 731 with model SeasonalNaive in generation 5 of 20\n",
            "Model Number: 732 with model WindowRegression in generation 5 of 20\n"
          ]
        },
        {
          "name": "stderr",
          "output_type": "stream",
          "text": [
            "/usr/local/lib/python3.10/dist-packages/sklearn/neighbors/_classification.py:215: DataConversionWarning:\n",
            "\n",
            "A column-vector y was passed when a 1d array was expected. Please change the shape of y to (n_samples,), for example using ravel().\n",
            "\n"
          ]
        },
        {
          "name": "stdout",
          "output_type": "stream",
          "text": [
            "Template Eval Error: Exception(\"Transformer AlignLastValue failed on inverse from params nearest {'0': {'method': 'rolling_zscore', 'method_params': {'distribution': 'norm', 'alpha': 0.05, 'rolling_periods': 28, 'center': True}, 'fillna': 'rolling_mean_24', 'transform_dict': {'fillna': None, 'transformations': {'0': 'ClipOutliers'}, 'transformation_params': {'0': {'method': 'clip', 'std_threshold': 6}}}, 'isolated_only': False}, '1': {'rows': 1, 'lag': 1, 'method': 'additive', 'strength': 1.0, 'first_value_only': True}, '2': {}, '3': {}}\") in model 732 in generation 5: WindowRegression\n",
            "Model Number: 733 with model UnivariateMotif in generation 5 of 20\n",
            "Model Number: 734 with model WindowRegression in generation 5 of 20\n"
          ]
        },
        {
          "name": "stderr",
          "output_type": "stream",
          "text": [
            "/usr/local/lib/python3.10/dist-packages/sklearn/neural_network/_multilayer_perceptron.py:541: ConvergenceWarning:\n",
            "\n",
            "lbfgs failed to converge (status=1):\n",
            "STOP: TOTAL NO. of ITERATIONS REACHED LIMIT.\n",
            "\n",
            "Increase the number of iterations (max_iter) or scale the data as shown in:\n",
            "    https://scikit-learn.org/stable/modules/preprocessing.html\n",
            "\n"
          ]
        },
        {
          "name": "stdout",
          "output_type": "stream",
          "text": [
            "Model Number: 735 with model UnobservedComponents in generation 5 of 20\n",
            "Model Number: 736 with model AverageValueNaive in generation 5 of 20\n",
            "Model Number: 737 with model GLS in generation 5 of 20\n",
            "Model Number: 738 with model FBProphet in generation 5 of 20\n",
            "Model Number: 739 with model MultivariateMotif in generation 5 of 20\n",
            "Model Number: 740 with model FBProphet in generation 5 of 20\n",
            "Model Number: 741 with model FBProphet in generation 5 of 20\n",
            "Model Number: 742 with model MultivariateRegression in generation 5 of 20\n",
            "Template Eval Error: Exception(\"Transformer BTCD failed on fit from params cubic {'0': {'algorithm': 'deflation', 'fun': 'exp', 'max_iter': 100, 'whiten': True}, '1': {'regression_model': {'model': 'LinearRegression', 'model_params': {}}, 'max_lags': 2}}\") in model 742 in generation 5: MultivariateRegression\n",
            "Model Number: 743 with model GLM in generation 5 of 20\n",
            "Template Eval Error: ValueError('NaN, inf or invalid value detected in weights, estimation infeasible.') in model 743 in generation 5: GLM\n",
            "Model Number: 744 with model ETS in generation 5 of 20\n",
            "Model Number: 745 with model FBProphet in generation 5 of 20\n"
          ]
        },
        {
          "name": "stderr",
          "output_type": "stream",
          "text": [
            "/usr/local/lib/python3.10/dist-packages/sklearn/decomposition/_fastica.py:708: FutureWarning:\n",
            "\n",
            "Starting in v1.3, whiten=True should be specified as whiten='arbitrary-variance' (its current behaviour). This behavior is deprecated in 1.1 and will raise ValueError in 1.3.\n",
            "\n",
            "/usr/local/lib/python3.10/dist-packages/statsmodels/genmod/families/family.py:445: RuntimeWarning:\n",
            "\n",
            "divide by zero encountered in divide\n",
            "\n",
            "/usr/local/lib/python3.10/dist-packages/statsmodels/genmod/families/family.py:143: RuntimeWarning:\n",
            "\n",
            "divide by zero encountered in divide\n",
            "\n"
          ]
        },
        {
          "name": "stdout",
          "output_type": "stream",
          "text": [
            "Model Number: 746 with model MetricMotif in generation 5 of 20\n",
            "Model Number: 747 with model MultivariateRegression in generation 5 of 20\n",
            "Model Number: 748 with model FBProphet in generation 5 of 20\n",
            "Model Number: 749 with model MultivariateMotif in generation 5 of 20\n",
            "Model Number: 750 with model MultivariateMotif in generation 5 of 20\n",
            "Template Eval Error: Exception(\"Transformer BTCD failed on fit from params pad {'0': {'regression_model': {'model': 'LinearRegression', 'model_params': {}}, 'max_lags': 1}, '1': {'fixed': True, 'window': 10}, '2': {'discretization': 'upper', 'n_bins': 50}, '3': {}}\") in model 750 in generation 5: MultivariateMotif\n",
            "Model Number: 751 with model GLM in generation 5 of 20\n",
            "Model Number: 752 with model MultivariateRegression in generation 5 of 20\n"
          ]
        },
        {
          "name": "stderr",
          "output_type": "stream",
          "text": [
            "/usr/local/lib/python3.10/dist-packages/statsmodels/genmod/families/family.py:1367: ValueWarning:\n",
            "\n",
            "Negative binomial dispersion parameter alpha not set. Using default value alpha=1.0.\n",
            "\n"
          ]
        },
        {
          "name": "stdout",
          "output_type": "stream",
          "text": [
            "Model Number: 753 with model DatepartRegression in generation 5 of 20\n",
            "Model Number: 754 with model FBProphet in generation 5 of 20\n",
            "Model Number: 755 with model AverageValueNaive in generation 5 of 20\n",
            "Model Number: 756 with model UnivariateRegression in generation 5 of 20\n",
            "Model Number: 757 with model AverageValueNaive in generation 5 of 20\n",
            "Model Number: 758 with model UnivariateMotif in generation 5 of 20\n",
            "Model Number: 759 with model FBProphet in generation 5 of 20\n",
            "Model Number: 760 with model GLS in generation 5 of 20\n",
            "Model Number: 761 with model GLS in generation 5 of 20\n",
            "Model Number: 762 with model AverageValueNaive in generation 5 of 20\n",
            "Model Number: 763 with model LastValueNaive in generation 5 of 20\n",
            "Model Number: 764 with model ETS in generation 5 of 20\n",
            "Model Number: 765 with model ARDL in generation 5 of 20\n",
            "Model Number: 766 with model AverageValueNaive in generation 5 of 20\n",
            "Model Number: 767 with model SeasonalNaive in generation 5 of 20\n",
            "Model Number: 768 with model LastValueNaive in generation 5 of 20\n",
            "Model Number: 769 with model FBProphet in generation 5 of 20\n",
            "Model Number: 770 with model ETS in generation 5 of 20\n",
            "Model Number: 771 with model ETS in generation 5 of 20\n",
            "Model Number: 772 with model ARDL in generation 5 of 20\n",
            "Model Number: 773 with model GLS in generation 5 of 20\n",
            "Model Number: 774 with model UnivariateMotif in generation 5 of 20\n",
            "Model Number: 775 with model GLS in generation 5 of 20\n",
            "Model Number: 776 with model Theta in generation 5 of 20\n",
            "Model Number: 777 with model FBProphet in generation 5 of 20\n",
            "Model Number: 778 with model NVAR in generation 5 of 20\n",
            "Template Eval Error: Exception(\"Transformer BTCD failed on fit from params ffill {'0': {'regression_model': {'model': 'FastRidge', 'model_params': {}}, 'max_lags': 2}, '1': {'rows': 1, 'lag': 1, 'method': 'additive', 'strength': 1.0, 'first_value_only': False}}\") in model 778 in generation 5: NVAR\n",
            "Model Number: 779 with model Theta in generation 5 of 20\n",
            "Model Number: 780 with model SeasonalityMotif in generation 5 of 20\n",
            "Model Number: 781 with model SeasonalNaive in generation 5 of 20\n",
            "New Generation: 6 of 20\n",
            "Model Number: 782 with model GLS in generation 6 of 20\n",
            "Model Number: 783 with model UnobservedComponents in generation 6 of 20\n",
            "Model Number: 784 with model AverageValueNaive in generation 6 of 20\n",
            "Model Number: 785 with model DatepartRegression in generation 6 of 20\n",
            "Model Number: 786 with model SeasonalityMotif in generation 6 of 20\n",
            "Model Number: 787 with model ARIMA in generation 6 of 20\n",
            "Model Number: 788 with model GLS in generation 6 of 20\n",
            "Model Number: 789 with model FBProphet in generation 6 of 20\n"
          ]
        },
        {
          "name": "stderr",
          "output_type": "stream",
          "text": [
            "/usr/local/lib/python3.10/dist-packages/autots/tools/percentile.py:47: RuntimeWarning:\n",
            "\n",
            "All-NaN slice encountered\n",
            "\n"
          ]
        },
        {
          "name": "stdout",
          "output_type": "stream",
          "text": [
            "Model Number: 790 with model UnivariateMotif in generation 6 of 20\n",
            "Model Number: 791 with model AverageValueNaive in generation 6 of 20\n",
            "Model Number: 792 with model DatepartRegression in generation 6 of 20\n",
            "Model Number: 793 with model LastValueNaive in generation 6 of 20\n",
            "Model Number: 794 with model ETS in generation 6 of 20\n"
          ]
        },
        {
          "name": "stderr",
          "output_type": "stream",
          "text": [
            "/usr/local/lib/python3.10/dist-packages/sklearn/decomposition/_fastica.py:583: UserWarning:\n",
            "\n",
            "Ignoring n_components with whiten=False.\n",
            "\n"
          ]
        },
        {
          "name": "stdout",
          "output_type": "stream",
          "text": [
            "Model Number: 795 with model MultivariateMotif in generation 6 of 20\n",
            "Model Number: 796 with model SeasonalityMotif in generation 6 of 20\n",
            "Model Number: 797 with model AverageValueNaive in generation 6 of 20\n",
            "Model Number: 798 with model UnivariateRegression in generation 6 of 20\n",
            "Template Eval Error: Exception(\"Transformer Cointegration failed on fit from params linear {'0': {'method': 'remove', 'std_threshold': 4, 'fillna': 'ffill'}, '1': {'det_order': 1, 'k_ar_diff': 1}}\") in model 798 in generation 6: UnivariateRegression\n",
            "Model Number: 799 with model LastValueNaive in generation 6 of 20\n",
            "Model Number: 800 with model MultivariateRegression in generation 6 of 20\n",
            "Model Number: 801 with model ARDL in generation 6 of 20\n",
            "Model Number: 802 with model UnivariateRegression in generation 6 of 20\n",
            "Model Number: 803 with model SeasonalityMotif in generation 6 of 20\n",
            "Model Number: 804 with model GLS in generation 6 of 20\n",
            "Model Number: 805 with model ARDL in generation 6 of 20\n",
            "Model Number: 806 with model Theta in generation 6 of 20\n"
          ]
        },
        {
          "name": "stderr",
          "output_type": "stream",
          "text": [
            "/usr/local/lib/python3.10/dist-packages/sklearn/neighbors/_classification.py:215: DataConversionWarning:\n",
            "\n",
            "A column-vector y was passed when a 1d array was expected. Please change the shape of y to (n_samples,), for example using ravel().\n",
            "\n"
          ]
        },
        {
          "name": "stdout",
          "output_type": "stream",
          "text": [
            "Model Number: 807 with model SeasonalNaive in generation 6 of 20\n",
            "Template Eval Error: Exception(\"Transformer ScipyFilter failed on fit from params ffill {'0': {'method': 'rolling_zscore', 'method_params': {'distribution': 'norm', 'alpha': 0.05, 'rolling_periods': 28, 'center': True}, 'fillna': 'rolling_mean_24', 'transform_dict': {'fillna': None, 'transformations': {'0': 'ClipOutliers'}, 'transformation_params': {'0': {'method': 'clip', 'std_threshold': 6}}}, 'isolated_only': False}, '1': {'method': 'butter', 'method_args': {'N': 7, 'btype': 'highpass', 'analog': False, 'output': 'sos', 'Wn': 0.041666666666666664}}, '2': {}, '3': {'model_name': 'spline', 'state_transition': [[2, -1], [1, 0]], 'process_noise': [[1, 0], [0, 0]], 'observation_model': [[1, 0]], 'observation_noise': 0.1, 'em_iter': 30}}\") in model 807 in generation 6: SeasonalNaive\n",
            "Model Number: 808 with model SeasonalNaive in generation 6 of 20\n",
            "Model Number: 809 with model UnobservedComponents in generation 6 of 20\n",
            "Template Eval Error: Exception(\"Transformer DatepartRegression failed on inverse from params ffill {'0': {}, '1': {'part': 'trend', 'lamb': 1600}, '2': {'regression_model': {'model': 'RandomForest', 'model_params': {'n_estimators': 300, 'min_samples_leaf': 2, 'bootstrap': True}}, 'datepart_method': 'simple_binarized', 'polynomial_degree': None, 'transform_dict': None, 'holiday_countries_used': True}}\") in model 809 in generation 6: UnobservedComponents\n",
            "Model Number: 810 with model LastValueNaive in generation 6 of 20\n",
            "Model Number: 811 with model UnivariateMotif in generation 6 of 20\n",
            "Model Number: 812 with model SeasonalNaive in generation 6 of 20\n",
            "Model Number: 813 with model NVAR in generation 6 of 20\n",
            "Model Number: 814 with model ETS in generation 6 of 20\n",
            "Model Number: 815 with model UnivariateRegression in generation 6 of 20\n",
            "Model Number: 816 with model LastValueNaive in generation 6 of 20\n",
            "Model Number: 817 with model AverageValueNaive in generation 6 of 20\n",
            "Model Number: 818 with model ETS in generation 6 of 20\n",
            "Model Number: 819 with model Theta in generation 6 of 20\n",
            "Model Number: 820 with model SeasonalityMotif in generation 6 of 20\n",
            "Model Number: 821 with model Theta in generation 6 of 20\n",
            "Model Number: 822 with model FBProphet in generation 6 of 20\n",
            "Model Number: 823 with model AverageValueNaive in generation 6 of 20\n",
            "Model Number: 824 with model LastValueNaive in generation 6 of 20\n",
            "Model Number: 825 with model FBProphet in generation 6 of 20\n",
            "Model Number: 826 with model AverageValueNaive in generation 6 of 20\n",
            "Model Number: 827 with model UnobservedComponents in generation 6 of 20\n",
            "Model Number: 828 with model ARDL in generation 6 of 20\n",
            "Template Eval Error: Exception(\"Transformer AlignLastValue failed on inverse from params ffill {'0': {'method': 'rolling_zscore', 'method_params': {'distribution': 'norm', 'alpha': 0.05, 'rolling_periods': 28, 'center': True}, 'fillna': 'rolling_mean_24', 'transform_dict': {'fillna': None, 'transformations': {'0': 'ClipOutliers'}, 'transformation_params': {'0': {'method': 'clip', 'std_threshold': 6}}}, 'isolated_only': False}, '1': {'model_name': 'local linear hidden state with seasonal 7', 'state_transition': [[1.0, 0.0, 0.0, 0.0, 0.0, 0.0, 0.0, 0.0], [0.0, -1.0, -1.0, -1.0, -1.0, -1.0, -1.0, 0.0], [0.0, 1.0, 0.0, 0.0, 0.0, 0.0, 0.0, 0.0], [0.0, 0.0, 1.0, 0.0, 0.0, 0.0, 0.0, 0.0], [0.0, 0.0, 0.0, 1.0, 0.0, 0.0, 0.0, 0.0], [0.0, 0.0, 0.0, 0.0, 1.0, 0.0, 0.0, 0.0], [0.0, 0.0, 0.0, 0.0, 0.0, 1.0, 0.0, 0.0], [0.0, 0.0, 0.0, 0.0, 0.0, 0.0, 1.0, 0.0]], 'process_noise': [[0.0016, 0.0, 0.0, 0.0, 0.0, 0.0, 0.0, 0.0], [0.0, 1e-06, 0.0, 0.0, 0.0, 0.0, 0.0, 0.0], [0.0, 0.0, 0.0, 0.0, 0.0, 0.0, 0.0, 0.0], [0.0, 0.0, 0.0, 0.0, 0.0, 0.0, 0.0, 0.0], [0.0, 0.0, 0.0, 0.0, 0.0, 0.0, 0.0, 0.0], [0.0, 0.0, 0.0, 0.0, 0.0, 0.0, 0.0, 0.0], [0.0, 0.0, 0.0, 0.0, 0.0, 0.0, 0.0, 0.0], [0.0, 0.0, 0.0, 0.0, 0.0, 0.0, 0.0, 0.0]], 'observation_model': [[1, 1, 0, 0, 0, 0, 0, 0]], 'observation_noise': 0.5, 'em_iter': 10}, '2': {'rows': 1, 'lag': 1, 'method': 'additive', 'strength': 1.0, 'first_value_only': True}}\") in model 828 in generation 6: ARDL\n",
            "Model Number: 829 with model MultivariateRegression in generation 6 of 20\n",
            "Model Number: 830 with model ETS in generation 6 of 20\n",
            "Model Number: 831 with model ETS in generation 6 of 20\n",
            "Model Number: 832 with model Theta in generation 6 of 20\n",
            "Model Number: 833 with model MultivariateRegression in generation 6 of 20\n",
            "Model Number: 834 with model UnobservedComponents in generation 6 of 20\n",
            "Model Number: 835 with model GLM in generation 6 of 20\n",
            "Model Number: 836 with model SeasonalityMotif in generation 6 of 20\n",
            "Model Number: 837 with model UnivariateMotif in generation 6 of 20\n",
            "Model Number: 838 with model ETS in generation 6 of 20\n",
            "Model Number: 839 with model ARDL in generation 6 of 20\n",
            "Model Number: 840 with model UnivariateMotif in generation 6 of 20\n",
            "Model Number: 841 with model UnobservedComponents in generation 6 of 20\n"
          ]
        },
        {
          "name": "stderr",
          "output_type": "stream",
          "text": [
            "/usr/local/lib/python3.10/dist-packages/autots/tools/percentile.py:47: RuntimeWarning:\n",
            "\n",
            "All-NaN slice encountered\n",
            "\n"
          ]
        },
        {
          "name": "stdout",
          "output_type": "stream",
          "text": [
            "Model Number: 842 with model UnivariateMotif in generation 6 of 20\n",
            "Model Number: 843 with model MultivariateRegression in generation 6 of 20\n",
            "Model Number: 844 with model MultivariateMotif in generation 6 of 20\n",
            "Model Number: 845 with model ARDL in generation 6 of 20\n",
            "Model Number: 846 with model NVAR in generation 6 of 20\n",
            "Template Eval Error: Exception(\"Transformer AlignLastValue failed on inverse from params cubic {'0': {'rows': 7, 'lag': 7, 'method': 'additive', 'strength': 1.0, 'first_value_only': False}, '1': {'method': 'zscore', 'method_params': {'distribution': 'norm', 'alpha': 0.1}, 'fillna': 'linear', 'transform_dict': None, 'isolated_only': False}, '2': {'rows': 1, 'lag': 28, 'method': 'additive', 'strength': 1.0, 'first_value_only': True}, '3': {'span': 28}}\") in model 846 in generation 6: NVAR\n",
            "Model Number: 847 with model DatepartRegression in generation 6 of 20\n",
            "Model Number: 848 with model MultivariateMotif in generation 6 of 20\n",
            "Model Number: 849 with model SeasonalNaive in generation 6 of 20\n",
            "Model Number: 850 with model GLM in generation 6 of 20\n",
            "Model Number: 851 with model GLS in generation 6 of 20\n",
            "Model Number: 852 with model MetricMotif in generation 6 of 20\n"
          ]
        },
        {
          "name": "stderr",
          "output_type": "stream",
          "text": [
            "/usr/local/lib/python3.10/dist-packages/statsmodels/genmod/families/family.py:1367: ValueWarning:\n",
            "\n",
            "Negative binomial dispersion parameter alpha not set. Using default value alpha=1.0.\n",
            "\n"
          ]
        },
        {
          "name": "stdout",
          "output_type": "stream",
          "text": [
            "Model Number: 853 with model ConstantNaive in generation 6 of 20\n",
            "Model Number: 854 with model Theta in generation 6 of 20\n",
            "Model Number: 855 with model ETS in generation 6 of 20\n",
            "Model Number: 856 with model SeasonalityMotif in generation 6 of 20\n",
            "Model Number: 857 with model Theta in generation 6 of 20\n"
          ]
        },
        {
          "name": "stderr",
          "output_type": "stream",
          "text": [
            "/usr/local/lib/python3.10/dist-packages/sklearn/neighbors/_classification.py:215: DataConversionWarning:\n",
            "\n",
            "A column-vector y was passed when a 1d array was expected. Please change the shape of y to (n_samples,), for example using ravel().\n",
            "\n"
          ]
        },
        {
          "name": "stdout",
          "output_type": "stream",
          "text": [
            "Model Number: 858 with model UnivariateMotif in generation 6 of 20\n",
            "Model Number: 859 with model AverageValueNaive in generation 6 of 20\n",
            "Model Number: 860 with model FBProphet in generation 6 of 20\n",
            "Template Eval Error: Exception(\"Transformer AlignLastValue failed on inverse from params pchip {'0': {}, '1': {'model': 'GLS', 'phi': 1, 'window': None, 'transform_dict': {'fillna': None, 'transformations': {'0': 'EWMAFilter'}, 'transformation_params': {'0': {'span': 2}}}}, '2': {'center': 'midhinge'}, '3': {}, '4': {'method': 'clip', 'std_threshold': 4.5, 'fillna': None}, '5': {'rows': 1, 'lag': 1, 'method': 'additive', 'strength': 1.0, 'first_value_only': True}}\") in model 860 in generation 6: FBProphet\n",
            "Model Number: 861 with model UnobservedComponents in generation 6 of 20\n",
            "Model Number: 862 with model WindowRegression in generation 6 of 20\n",
            "Model Number: 863 with model MultivariateRegression in generation 6 of 20\n",
            "Model Number: 864 with model UnobservedComponents in generation 6 of 20\n",
            "Model Number: 865 with model SeasonalNaive in generation 6 of 20\n",
            "Model Number: 866 with model NVAR in generation 6 of 20\n",
            "Model Number: 867 with model NVAR in generation 6 of 20\n",
            "Model Number: 868 with model SeasonalityMotif in generation 6 of 20\n",
            "Model Number: 869 with model UnobservedComponents in generation 6 of 20\n",
            "Model Number: 870 with model SeasonalNaive in generation 6 of 20\n",
            "Model Number: 871 with model UnobservedComponents in generation 6 of 20\n",
            "Model Number: 872 with model MultivariateMotif in generation 6 of 20\n",
            "Model Number: 873 with model GLM in generation 6 of 20\n",
            "Template Eval Error: ValueError('regression_type=user and no future_regressor passed') in model 873 in generation 6: GLM\n",
            "Model Number: 874 with model MultivariateRegression in generation 6 of 20\n",
            "Model Number: 875 with model MetricMotif in generation 6 of 20\n",
            "Model Number: 876 with model UnobservedComponents in generation 6 of 20\n",
            "Model Number: 877 with model AverageValueNaive in generation 6 of 20\n",
            "Model Number: 878 with model FBProphet in generation 6 of 20\n",
            "Template Eval Error: Exception(\"Transformer BTCD failed on fit from params zero {'0': {'method': 'rolling_zscore', 'method_params': {'distribution': 'norm', 'alpha': 0.05, 'rolling_periods': 28, 'center': True}, 'fillna': 'rolling_mean_24', 'transform_dict': {'fillna': None, 'transformations': {'0': 'ClipOutliers'}, 'transformation_params': {'0': {'method': 'clip', 'std_threshold': 6}}}, 'isolated_only': False}, '1': {'regression_model': {'model': 'FastRidge', 'model_params': {}}, 'max_lags': 2}}\") in model 878 in generation 6: FBProphet\n",
            "Model Number: 879 with model FBProphet in generation 6 of 20\n",
            "Model Number: 880 with model ETS in generation 6 of 20\n",
            "Model Number: 881 with model ARDL in generation 6 of 20\n",
            "New Generation: 7 of 20\n",
            "Model Number: 882 with model ETS in generation 7 of 20\n",
            "Model Number: 883 with model ETS in generation 7 of 20\n",
            "Model Number: 884 with model SeasonalityMotif in generation 7 of 20\n",
            "Model Number: 885 with model AverageValueNaive in generation 7 of 20\n",
            "Model Number: 886 with model UnobservedComponents in generation 7 of 20\n",
            "Model Number: 887 with model Theta in generation 7 of 20\n",
            "Model Number: 888 with model UnobservedComponents in generation 7 of 20\n",
            "Model Number: 889 with model UnivariateMotif in generation 7 of 20\n",
            "Template Eval Error: Exception(\"Transformer RegressionFilter failed on fit from params ffill {'0': {}, '1': {'whiten': False}, '2': {}, '3': {'sigma': 1.5, 'rolling_window': 90, 'run_order': 'season_first', 'regression_params': {'regression_model': {'model': 'ElasticNet', 'model_params': {}}, 'datepart_method': 'common_fourier', 'polynomial_degree': None, 'transform_dict': {'fillna': None, 'transformations': {'0': 'AnomalyRemoval'}, 'transformation_params': {'0': {'method': 'zscore', 'transform_dict': {'transformations': {'0': 'DatepartRegression'}, 'transformation_params': {'0': {'datepart_method': 'simple_3', 'regression_model': {'model': 'ElasticNet', 'model_params': {}}}}}, 'method_params': {'distribution': 'uniform', 'alpha': 0.05}}}}, 'holiday_countries_used': True}, 'holiday_params': {'threshold': 0.9, 'splash_threshold': None, 'use_dayofmonth_holidays': True, 'use_wkdom_holidays': True, 'use_wkdeom_holidays': False, 'use_lunar_holidays': False, 'use_lunar_weekday': False, 'use_islamic_holidays': False, 'use_hebrew_holidays': False, 'anomaly_detector_params': {'method': 'zscore', 'method_params': {'distribution': 'norm', 'alpha': 0.05}, 'fillna': 'rolling_mean_24', 'transform_dict': {'transformations': {'0': 'DifferencedTransformer'}, 'transformation_params': {'0': {}}}, 'isolated_only': False}, 'remove_excess_anomalies': True, 'impact': 'datepart_regression', 'regression_params': {'regression_model': {'model': 'ElasticNet', 'model_params': {}}, 'datepart_method': 'common_fourier', 'polynomial_degree': None, 'transform_dict': {'fillna': None, 'transformations': {'0': 'AnomalyRemoval'}, 'transformation_params': {'0': {'method': 'zscore', 'transform_dict': {'transformations': {'0': 'DatepartRegression'}, 'transformation_params': {'0': {'datepart_method': 'simple_3', 'regression_model': {'model': 'ElasticNet', 'model_params': {}}}}}, 'method_params': {'distribution': 'uniform', 'alpha': 0.05}}}}, 'holiday_countries_used': True}}}, '4': {}}\") in model 889 in generation 7: UnivariateMotif\n",
            "Model Number: 890 with model SeasonalityMotif in generation 7 of 20\n",
            "Model Number: 891 with model ETS in generation 7 of 20\n",
            "Model Number: 892 with model UnobservedComponents in generation 7 of 20\n",
            "Model Number: 893 with model ETS in generation 7 of 20\n",
            "Model Number: 894 with model NVAR in generation 7 of 20\n",
            "Model Number: 895 with model SeasonalNaive in generation 7 of 20\n",
            "Model Number: 896 with model LastValueNaive in generation 7 of 20\n",
            "Model Number: 897 with model GLS in generation 7 of 20\n",
            "Model Number: 898 with model Theta in generation 7 of 20\n",
            "Model Number: 899 with model UnivariateMotif in generation 7 of 20\n",
            "Model Number: 900 with model ARDL in generation 7 of 20\n",
            "Model Number: 901 with model Theta in generation 7 of 20\n",
            "Model Number: 902 with model NVAR in generation 7 of 20\n",
            "Model Number: 903 with model MultivariateRegression in generation 7 of 20\n",
            "Model Number: 904 with model SeasonalNaive in generation 7 of 20\n",
            "Model Number: 905 with model UnivariateMotif in generation 7 of 20\n",
            "Model Number: 906 with model ETS in generation 7 of 20\n",
            "Model Number: 907 with model MultivariateRegression in generation 7 of 20\n",
            "Template Eval Error: ValueError(\"loss='poisson' requires non-negative y and sum(y) > 0.\") in model 907 in generation 7: MultivariateRegression\n",
            "Model Number: 908 with model MetricMotif in generation 7 of 20\n",
            "Model Number: 909 with model FBProphet in generation 7 of 20\n",
            "Model Number: 910 with model MultivariateRegression in generation 7 of 20\n",
            "Model Number: 911 with model NVAR in generation 7 of 20\n",
            "Model Number: 912 with model GLS in generation 7 of 20\n",
            "Model Number: 913 with model UnobservedComponents in generation 7 of 20\n",
            "Model Number: 914 with model SeasonalityMotif in generation 7 of 20\n",
            "Model Number: 915 with model MultivariateMotif in generation 7 of 20\n",
            "Model Number: 916 with model UnivariateMotif in generation 7 of 20\n",
            "Model Number: 917 with model SeasonalNaive in generation 7 of 20\n",
            "Template Eval Error: Exception(\"Transformer BTCD failed on fit from params ffill {'0': {'regression_model': {'model': 'FastRidge', 'model_params': {}}, 'max_lags': 1}, '1': {}, '2': {'window_size': 30, 'alpha': 2.5, 'grouping_forward_limit': 2, 'max_level_shifts': 5, 'alignment': 'rolling_diff_3nn'}}\") in model 917 in generation 7: SeasonalNaive\n",
            "Model Number: 918 with model FBProphet in generation 7 of 20\n",
            "Model Number: 919 with model LastValueNaive in generation 7 of 20\n",
            "Model Number: 920 with model SeasonalNaive in generation 7 of 20\n",
            "Model Number: 921 with model SeasonalityMotif in generation 7 of 20\n",
            "Model Number: 922 with model UnivariateRegression in generation 7 of 20\n",
            "Template Eval Error: Exception(\"Transformer AlignLastValue failed on inverse from params median {'0': {}, '1': {}, '2': {'rows': 1, 'lag': 1, 'method': 'additive', 'strength': 1.0, 'first_value_only': True}}\") in model 922 in generation 7: UnivariateRegression\n",
            "Model Number: 923 with model ARDL in generation 7 of 20\n",
            "Model Number: 924 with model FBProphet in generation 7 of 20\n",
            "Model Number: 925 with model NVAR in generation 7 of 20\n",
            "Model Number: 926 with model AverageValueNaive in generation 7 of 20\n",
            "Model Number: 927 with model SeasonalityMotif in generation 7 of 20\n",
            "Model Number: 928 with model ConstantNaive in generation 7 of 20\n"
          ]
        },
        {
          "name": "stderr",
          "output_type": "stream",
          "text": [
            "/usr/local/lib/python3.10/dist-packages/sklearn/neural_network/_multilayer_perceptron.py:541: ConvergenceWarning:\n",
            "\n",
            "lbfgs failed to converge (status=1):\n",
            "STOP: TOTAL NO. of ITERATIONS REACHED LIMIT.\n",
            "\n",
            "Increase the number of iterations (max_iter) or scale the data as shown in:\n",
            "    https://scikit-learn.org/stable/modules/preprocessing.html\n",
            "\n"
          ]
        },
        {
          "name": "stdout",
          "output_type": "stream",
          "text": [
            "Model Number: 929 with model UnobservedComponents in generation 7 of 20\n",
            "Model Number: 930 with model MetricMotif in generation 7 of 20\n",
            "Model Number: 931 with model FBProphet in generation 7 of 20\n",
            "Template Eval Error: Exception(\"Transformer AlignLastValue failed on inverse from params ffill {'0': {'n_harmonics': -0.5, 'detrend': 'linear'}, '1': {'rows': 1, 'lag': 1, 'method': 'additive', 'strength': 1.0, 'first_value_only': True}, '2': {'model_name': 'spline', 'state_transition': [[2, -1], [1, 0]], 'process_noise': [[1, 0], [0, 0]], 'observation_model': [[1, 0]], 'observation_noise': 0.1, 'em_iter': 10}}\") in model 931 in generation 7: FBProphet\n",
            "Model Number: 932 with model AverageValueNaive in generation 7 of 20\n",
            "Model Number: 933 with model NVAR in generation 7 of 20\n",
            "Model Number: 934 with model LastValueNaive in generation 7 of 20\n",
            "Model Number: 935 with model ETS in generation 7 of 20\n",
            "Model Number: 936 with model MultivariateRegression in generation 7 of 20\n",
            "Model Number: 937 with model WindowRegression in generation 7 of 20\n",
            "Template Eval Error: Exception(\"Transformer Cointegration failed on fit from params median {'0': {'output_distribution': 'uniform', 'n_quantiles': 100}, '1': {'rows': 1, 'lag': 1, 'method': 'additive', 'strength': 1.0, 'first_value_only': False}, '2': {'model': 'GLS', 'phi': 1, 'window': None, 'transform_dict': None}, '3': {'det_order': 1, 'k_ar_diff': 0}}\") in model 937 in generation 7: WindowRegression\n",
            "Model Number: 938 with model GLM in generation 7 of 20\n",
            "Template Eval Error: ValueError('The first guess on the deviance function returned a nan.  This could be a boundary  problem and should be reported.') in model 938 in generation 7: GLM\n",
            "Model Number: 939 with model UnivariateRegression in generation 7 of 20\n"
          ]
        },
        {
          "name": "stderr",
          "output_type": "stream",
          "text": [
            "/usr/local/lib/python3.10/dist-packages/statsmodels/genmod/families/family.py:1367: ValueWarning:\n",
            "\n",
            "Negative binomial dispersion parameter alpha not set. Using default value alpha=1.0.\n",
            "\n",
            "/usr/local/lib/python3.10/dist-packages/statsmodels/genmod/families/family.py:1406: RuntimeWarning:\n",
            "\n",
            "invalid value encountered in log\n",
            "\n"
          ]
        },
        {
          "name": "stdout",
          "output_type": "stream",
          "text": [
            "Model Number: 940 with model MultivariateRegression in generation 7 of 20\n",
            "Model Number: 941 with model Theta in generation 7 of 20\n",
            "Model Number: 942 with model ARDL in generation 7 of 20\n",
            "Template Eval Error: ValueError(\"ARDL series Close failed with error ValueError('The number of regressors (236) including deterministics, lags of the endog, lags of the exogenous, and fixed regressors is larger than the sample available for estimation (144).') exog train             weekend  quarter      epoch  month_1  month_2  month_3  month_4  \\\\\\nDate                                                                          \\n2023-09-23        1        3  2460210.5      0.0      0.0      0.0      0.0   \\n2023-09-24        1        3  2460211.5      0.0      0.0      0.0      0.0   \\n2023-09-25        0        3  2460212.5      0.0      0.0      0.0      0.0   \\n2023-09-26        0        3  2460213.5      0.0      0.0      0.0      0.0   \\n2023-09-27        0        3  2460214.5      0.0      0.0      0.0      0.0   \\n...             ...      ...        ...      ...      ...      ...      ...   \\n2024-02-12        0        1  2460352.5      0.0      1.0      0.0      0.0   \\n2024-02-13        0        1  2460353.5      0.0      1.0      0.0      0.0   \\n2024-02-14        0        1  2460354.5      0.0      1.0      0.0      0.0   \\n2024-02-15        0        1  2460355.5      0.0      1.0      0.0      0.0   \\n2024-02-16        0        1  2460356.5      0.0      1.0      0.0      0.0   \\n\\n            month_5  month_6  month_7  ...  day_27  day_28  day_29  day_30  \\\\\\nDate                                   ...                                   \\n2023-09-23      0.0      0.0      0.0  ...     0.0     0.0     0.0     0.0   \\n2023-09-24      0.0      0.0      0.0  ...     0.0     0.0     0.0     0.0   \\n2023-09-25      0.0      0.0      0.0  ...     0.0     0.0     0.0     0.0   \\n2023-09-26      0.0      0.0      0.0  ...     0.0     0.0     0.0     0.0   \\n2023-09-27      0.0      0.0      0.0  ...     1.0     0.0     0.0     0.0   \\n...             ...      ...      ...  ...     ...     ...     ...     ...   \\n2024-02-12      0.0      0.0      0.0  ...     0.0     0.0     0.0     0.0   \\n2024-02-13      0.0      0.0      0.0  ...     0.0     0.0     0.0     0.0   \\n2024-02-14      0.0      0.0      0.0  ...     0.0     0.0     0.0     0.0   \\n2024-02-15      0.0      0.0      0.0  ...     0.0     0.0     0.0     0.0   \\n2024-02-16      0.0      0.0      0.0  ...     0.0     0.0     0.0     0.0   \\n\\n            day_31  weekdayofmonth_1  weekdayofmonth_2  weekdayofmonth_3  \\\\\\nDate                                                                       \\n2023-09-23     0.0               0.0               0.0               0.0   \\n2023-09-24     0.0               0.0               0.0               0.0   \\n2023-09-25     0.0               0.0               0.0               0.0   \\n2023-09-26     0.0               0.0               0.0               0.0   \\n2023-09-27     0.0               0.0               0.0               0.0   \\n...            ...               ...               ...               ...   \\n2024-02-12     0.0               0.0               1.0               0.0   \\n2024-02-13     0.0               0.0               1.0               0.0   \\n2024-02-14     0.0               0.0               1.0               0.0   \\n2024-02-15     0.0               0.0               0.0               1.0   \\n2024-02-16     0.0               0.0               0.0               1.0   \\n\\n            weekdayofmonth_4  weekdayofmonth_5  \\nDate                                            \\n2023-09-23               1.0               0.0  \\n2023-09-24               1.0               0.0  \\n2023-09-25               1.0               0.0  \\n2023-09-26               1.0               0.0  \\n2023-09-27               1.0               0.0  \\n...                      ...               ...  \\n2024-02-12               0.0               0.0  \\n2024-02-13               0.0               0.0  \\n2024-02-14               0.0               0.0  \\n2024-02-15               0.0               0.0  \\n2024-02-16               0.0               0.0  \\n\\n[147 rows x 58 columns] and predict             weekend  quarter      epoch  month_1  month_2  month_3  month_4  \\\\\\n2024-02-17        1        1  2460357.5      0.0      1.0      0.0      0.0   \\n2024-02-18        1        1  2460358.5      0.0      1.0      0.0      0.0   \\n2024-02-19        0        1  2460359.5      0.0      1.0      0.0      0.0   \\n2024-02-20        0        1  2460360.5      0.0      1.0      0.0      0.0   \\n2024-02-21        0        1  2460361.5      0.0      1.0      0.0      0.0   \\n2024-02-22        0        1  2460362.5      0.0      1.0      0.0      0.0   \\n2024-02-23        0        1  2460363.5      0.0      1.0      0.0      0.0   \\n2024-02-24        1        1  2460364.5      0.0      1.0      0.0      0.0   \\n2024-02-25        1        1  2460365.5      0.0      1.0      0.0      0.0   \\n2024-02-26        0        1  2460366.5      0.0      1.0      0.0      0.0   \\n2024-02-27        0        1  2460367.5      0.0      1.0      0.0      0.0   \\n2024-02-28        0        1  2460368.5      0.0      1.0      0.0      0.0   \\n2024-02-29        0        1  2460369.5      0.0      1.0      0.0      0.0   \\n2024-03-01        0        1  2460370.5      0.0      0.0      1.0      0.0   \\n2024-03-02        1        1  2460371.5      0.0      0.0      1.0      0.0   \\n2024-03-03        1        1  2460372.5      0.0      0.0      1.0      0.0   \\n2024-03-04        0        1  2460373.5      0.0      0.0      1.0      0.0   \\n2024-03-05        0        1  2460374.5      0.0      0.0      1.0      0.0   \\n2024-03-06        0        1  2460375.5      0.0      0.0      1.0      0.0   \\n2024-03-07        0        1  2460376.5      0.0      0.0      1.0      0.0   \\n2024-03-08        0        1  2460377.5      0.0      0.0      1.0      0.0   \\n2024-03-09        1        1  2460378.5      0.0      0.0      1.0      0.0   \\n2024-03-10        1        1  2460379.5      0.0      0.0      1.0      0.0   \\n2024-03-11        0        1  2460380.5      0.0      0.0      1.0      0.0   \\n2024-03-12        0        1  2460381.5      0.0      0.0      1.0      0.0   \\n2024-03-13        0        1  2460382.5      0.0      0.0      1.0      0.0   \\n2024-03-14        0        1  2460383.5      0.0      0.0      1.0      0.0   \\n2024-03-15        0        1  2460384.5      0.0      0.0      1.0      0.0   \\n2024-03-16        1        1  2460385.5      0.0      0.0      1.0      0.0   \\n2024-03-17        1        1  2460386.5      0.0      0.0      1.0      0.0   \\n\\n            month_5  month_6  month_7  ...  day_27  day_28  day_29  day_30  \\\\\\n2024-02-17      0.0      0.0      0.0  ...     0.0     0.0     0.0     0.0   \\n2024-02-18      0.0      0.0      0.0  ...     0.0     0.0     0.0     0.0   \\n2024-02-19      0.0      0.0      0.0  ...     0.0     0.0     0.0     0.0   \\n2024-02-20      0.0      0.0      0.0  ...     0.0     0.0     0.0     0.0   \\n2024-02-21      0.0      0.0      0.0  ...     0.0     0.0     0.0     0.0   \\n2024-02-22      0.0      0.0      0.0  ...     0.0     0.0     0.0     0.0   \\n2024-02-23      0.0      0.0      0.0  ...     0.0     0.0     0.0     0.0   \\n2024-02-24      0.0      0.0      0.0  ...     0.0     0.0     0.0     0.0   \\n2024-02-25      0.0      0.0      0.0  ...     0.0     0.0     0.0     0.0   \\n2024-02-26      0.0      0.0      0.0  ...     0.0     0.0     0.0     0.0   \\n2024-02-27      0.0      0.0      0.0  ...     1.0     0.0     0.0     0.0   \\n2024-02-28      0.0      0.0      0.0  ...     0.0     1.0     0.0     0.0   \\n2024-02-29      0.0      0.0      0.0  ...     0.0     0.0     1.0     0.0   \\n2024-03-01      0.0      0.0      0.0  ...     0.0     0.0     0.0     0.0   \\n2024-03-02      0.0      0.0      0.0  ...     0.0     0.0     0.0     0.0   \\n2024-03-03      0.0      0.0      0.0  ...     0.0     0.0     0.0     0.0   \\n2024-03-04      0.0      0.0      0.0  ...     0.0     0.0     0.0     0.0   \\n2024-03-05      0.0      0.0      0.0  ...     0.0     0.0     0.0     0.0   \\n2024-03-06      0.0      0.0      0.0  ...     0.0     0.0     0.0     0.0   \\n2024-03-07      0.0      0.0      0.0  ...     0.0     0.0     0.0     0.0   \\n2024-03-08      0.0      0.0      0.0  ...     0.0     0.0     0.0     0.0   \\n2024-03-09      0.0      0.0      0.0  ...     0.0     0.0     0.0     0.0   \\n2024-03-10      0.0      0.0      0.0  ...     0.0     0.0     0.0     0.0   \\n2024-03-11      0.0      0.0      0.0  ...     0.0     0.0     0.0     0.0   \\n2024-03-12      0.0      0.0      0.0  ...     0.0     0.0     0.0     0.0   \\n2024-03-13      0.0      0.0      0.0  ...     0.0     0.0     0.0     0.0   \\n2024-03-14      0.0      0.0      0.0  ...     0.0     0.0     0.0     0.0   \\n2024-03-15      0.0      0.0      0.0  ...     0.0     0.0     0.0     0.0   \\n2024-03-16      0.0      0.0      0.0  ...     0.0     0.0     0.0     0.0   \\n2024-03-17      0.0      0.0      0.0  ...     0.0     0.0     0.0     0.0   \\n\\n            day_31  weekdayofmonth_1  weekdayofmonth_2  weekdayofmonth_3  \\\\\\n2024-02-17     0.0               0.0               0.0               1.0   \\n2024-02-18     0.0               0.0               0.0               1.0   \\n2024-02-19     0.0               0.0               0.0               1.0   \\n2024-02-20     0.0               0.0               0.0               1.0   \\n2024-02-21     0.0               0.0               0.0               1.0   \\n2024-02-22     0.0               0.0               0.0               0.0   \\n2024-02-23     0.0               0.0               0.0               0.0   \\n2024-02-24     0.0               0.0               0.0               0.0   \\n2024-02-25     0.0               0.0               0.0               0.0   \\n2024-02-26     0.0               0.0               0.0               0.0   \\n2024-02-27     0.0               0.0               0.0               0.0   \\n2024-02-28     0.0               0.0               0.0               0.0   \\n2024-02-29     0.0               0.0               0.0               0.0   \\n2024-03-01     0.0               1.0               0.0               0.0   \\n2024-03-02     0.0               1.0               0.0               0.0   \\n2024-03-03     0.0               1.0               0.0               0.0   \\n2024-03-04     0.0               1.0               0.0               0.0   \\n2024-03-05     0.0               1.0               0.0               0.0   \\n2024-03-06     0.0               1.0               0.0               0.0   \\n2024-03-07     0.0               1.0               0.0               0.0   \\n2024-03-08     0.0               0.0               1.0               0.0   \\n2024-03-09     0.0               0.0               1.0               0.0   \\n2024-03-10     0.0               0.0               1.0               0.0   \\n2024-03-11     0.0               0.0               1.0               0.0   \\n2024-03-12     0.0               0.0               1.0               0.0   \\n2024-03-13     0.0               0.0               1.0               0.0   \\n2024-03-14     0.0               0.0               1.0               0.0   \\n2024-03-15     0.0               0.0               0.0               1.0   \\n2024-03-16     0.0               0.0               0.0               1.0   \\n2024-03-17     0.0               0.0               0.0               1.0   \\n\\n            weekdayofmonth_4  weekdayofmonth_5  \\n2024-02-17               0.0               0.0  \\n2024-02-18               0.0               0.0  \\n2024-02-19               0.0               0.0  \\n2024-02-20               0.0               0.0  \\n2024-02-21               0.0               0.0  \\n2024-02-22               1.0               0.0  \\n2024-02-23               1.0               0.0  \\n2024-02-24               1.0               0.0  \\n2024-02-25               1.0               0.0  \\n2024-02-26               1.0               0.0  \\n2024-02-27               1.0               0.0  \\n2024-02-28               1.0               0.0  \\n2024-02-29               0.0               1.0  \\n2024-03-01               0.0               0.0  \\n2024-03-02               0.0               0.0  \\n2024-03-03               0.0               0.0  \\n2024-03-04               0.0               0.0  \\n2024-03-05               0.0               0.0  \\n2024-03-06               0.0               0.0  \\n2024-03-07               0.0               0.0  \\n2024-03-08               0.0               0.0  \\n2024-03-09               0.0               0.0  \\n2024-03-10               0.0               0.0  \\n2024-03-11               0.0               0.0  \\n2024-03-12               0.0               0.0  \\n2024-03-13               0.0               0.0  \\n2024-03-14               0.0               0.0  \\n2024-03-15               0.0               0.0  \\n2024-03-16               0.0               0.0  \\n2024-03-17               0.0               0.0  \\n\\n[30 rows x 58 columns]\") in model 942 in generation 7: ARDL\n",
            "Model Number: 943 with model ETS in generation 7 of 20\n",
            "Template Eval Error: Exception(\"Transformer Cointegration failed on fit from params zero {'0': {'fixed': True, 'window': 420}, '1': {'det_order': 1, 'k_ar_diff': 2}, '2': {'method': 'mad', 'method_params': {'distribution': 'norm', 'alpha': 0.05}, 'fillna': 'mean', 'transform_dict': None, 'isolated_only': False}}\") in model 943 in generation 7: ETS\n",
            "Model Number: 944 with model MetricMotif in generation 7 of 20\n",
            "Model Number: 945 with model SeasonalNaive in generation 7 of 20\n",
            "Model Number: 946 with model FBProphet in generation 7 of 20\n"
          ]
        },
        {
          "name": "stderr",
          "output_type": "stream",
          "text": [
            "/usr/local/lib/python3.10/dist-packages/sklearn/neighbors/_classification.py:215: DataConversionWarning:\n",
            "\n",
            "A column-vector y was passed when a 1d array was expected. Please change the shape of y to (n_samples,), for example using ravel().\n",
            "\n"
          ]
        },
        {
          "name": "stdout",
          "output_type": "stream",
          "text": [
            "Model Number: 947 with model ARIMA in generation 7 of 20\n",
            "Model Number: 948 with model SeasonalNaive in generation 7 of 20\n",
            "Model Number: 949 with model MultivariateRegression in generation 7 of 20\n",
            "Model Number: 950 with model UnivariateMotif in generation 7 of 20\n",
            "Model Number: 951 with model ARIMA in generation 7 of 20\n",
            "Template Eval Error: Exception(\"Transformer BTCD failed on fit from params ffill_mean_biased {'0': {'regression_model': {'model': 'LinearRegression', 'model_params': {}}, 'max_lags': 2}, '1': {'method': 'rolling_zscore', 'method_params': {'distribution': 'norm', 'alpha': 0.03, 'rolling_periods': 300, 'center': True}, 'fillna': 'linear', 'transform_dict': None, 'isolated_only': False}, '2': {}, '3': {}}\") in model 951 in generation 7: ARIMA\n",
            "Model Number: 952 with model FBProphet in generation 7 of 20\n",
            "Model Number: 953 with model FBProphet in generation 7 of 20\n",
            "Model Number: 954 with model UnivariateMotif in generation 7 of 20\n",
            "Model Number: 955 with model WindowRegression in generation 7 of 20\n",
            "Model Number: 956 with model GLS in generation 7 of 20\n"
          ]
        },
        {
          "name": "stderr",
          "output_type": "stream",
          "text": [
            "/usr/local/lib/python3.10/dist-packages/sklearn/neural_network/_multilayer_perceptron.py:541: ConvergenceWarning:\n",
            "\n",
            "lbfgs failed to converge (status=1):\n",
            "STOP: TOTAL NO. of ITERATIONS REACHED LIMIT.\n",
            "\n",
            "Increase the number of iterations (max_iter) or scale the data as shown in:\n",
            "    https://scikit-learn.org/stable/modules/preprocessing.html\n",
            "\n"
          ]
        },
        {
          "name": "stdout",
          "output_type": "stream",
          "text": [
            "Model Number: 957 with model ARDL in generation 7 of 20\n",
            "Template Eval Error: ValueError(\"regression_type='User' but future_regressor not supplied\") in model 957 in generation 7: ARDL\n",
            "Model Number: 958 with model FBProphet in generation 7 of 20\n",
            "Model Number: 959 with model Theta in generation 7 of 20\n",
            "Template Eval Error: Exception(\"Transformer BTCD failed on fit from params zero {'0': {}, '1': {'rows': None, 'displacement_rows': 1, 'quantile': 1.0, 'decay_span': 90}, '2': {'output_distribution': 'uniform', 'n_quantiles': 246}, '3': {'regression_model': {'model': 'FastRidge', 'model_params': {}}, 'max_lags': 2}}\") in model 959 in generation 7: Theta\n",
            "Model Number: 960 with model WindowRegression in generation 7 of 20\n",
            "Model Number: 961 with model FBProphet in generation 7 of 20\n",
            "Model Number: 962 with model LastValueNaive in generation 7 of 20\n",
            "Model Number: 963 with model UnobservedComponents in generation 7 of 20\n",
            "Template Eval Error: ValueError(\"regression_type='User' but no future_regressor supplied\") in model 963 in generation 7: UnobservedComponents\n",
            "Model Number: 964 with model UnobservedComponents in generation 7 of 20\n",
            "Model Number: 965 with model AverageValueNaive in generation 7 of 20\n",
            "Model Number: 966 with model UnivariateMotif in generation 7 of 20\n",
            "Model Number: 967 with model LastValueNaive in generation 7 of 20\n",
            "Model Number: 968 with model AverageValueNaive in generation 7 of 20\n",
            "Model Number: 969 with model MetricMotif in generation 7 of 20\n",
            "Model Number: 970 with model ETS in generation 7 of 20\n",
            "Model Number: 971 with model SeasonalNaive in generation 7 of 20\n",
            "Model Number: 972 with model SeasonalNaive in generation 7 of 20\n",
            "Model Number: 973 with model Theta in generation 7 of 20\n",
            "Model Number: 974 with model ARDL in generation 7 of 20\n",
            "Model Number: 975 with model FBProphet in generation 7 of 20\n",
            "Model Number: 976 with model UnivariateRegression in generation 7 of 20\n",
            "Model Number: 977 with model WindowRegression in generation 7 of 20\n",
            "Model Number: 978 with model ETS in generation 7 of 20\n",
            "Model Number: 979 with model ETS in generation 7 of 20\n",
            "Model Number: 980 with model UnobservedComponents in generation 7 of 20\n",
            "Model Number: 981 with model MultivariateRegression in generation 7 of 20\n",
            "New Generation: 8 of 20\n",
            "Model Number: 982 with model ARIMA in generation 8 of 20\n",
            "Model Number: 983 with model ARIMA in generation 8 of 20\n",
            "Template Eval Error: ValueError(\"regression_type='User' but future_regressor not supplied\") in model 983 in generation 8: ARIMA\n",
            "Model Number: 984 with model MultivariateRegression in generation 8 of 20\n",
            "Template Eval Error: ValueError(\"regression_type='User' but not future_regressor supplied.\") in model 984 in generation 8: MultivariateRegression\n",
            "Model Number: 985 with model FBProphet in generation 8 of 20\n",
            "Model Number: 986 with model WindowRegression in generation 8 of 20\n"
          ]
        },
        {
          "name": "stderr",
          "output_type": "stream",
          "text": [
            "/usr/local/lib/python3.10/dist-packages/sklearn/neural_network/_multilayer_perceptron.py:541: ConvergenceWarning:\n",
            "\n",
            "lbfgs failed to converge (status=1):\n",
            "STOP: TOTAL NO. of ITERATIONS REACHED LIMIT.\n",
            "\n",
            "Increase the number of iterations (max_iter) or scale the data as shown in:\n",
            "    https://scikit-learn.org/stable/modules/preprocessing.html\n",
            "\n"
          ]
        },
        {
          "name": "stdout",
          "output_type": "stream",
          "text": [
            "Model Number: 987 with model MultivariateRegression in generation 8 of 20\n",
            "Model Number: 988 with model LastValueNaive in generation 8 of 20\n",
            "Model Number: 989 with model UnivariateRegression in generation 8 of 20\n",
            "Model Number: 990 with model MetricMotif in generation 8 of 20\n",
            "Model Number: 991 with model UnivariateRegression in generation 8 of 20\n",
            "Template Eval Error: ValueError(\"regression_type='User' but not future_regressor supplied.\") in model 991 in generation 8: UnivariateRegression\n",
            "Model Number: 992 with model Theta in generation 8 of 20\n",
            "Model Number: 993 with model MultivariateRegression in generation 8 of 20\n",
            "Model Number: 994 with model UnobservedComponents in generation 8 of 20\n",
            "Model Number: 995 with model UnivariateMotif in generation 8 of 20\n",
            "Model Number: 996 with model UnobservedComponents in generation 8 of 20\n",
            "Template Eval Error: Exception(\"Transformer ScipyFilter failed on fit from params fake_date {'0': {'method': 'butter', 'method_args': {'N': 2, 'btype': 'highpass', 'analog': False, 'output': 'sos', 'Wn': 0.25}}, '1': {'rows': 1, 'lag': 1, 'method': 'additive', 'strength': 0.5, 'first_value_only': False}, '2': {}, '3': {}}\") in model 996 in generation 8: UnobservedComponents\n",
            "Model Number: 997 with model UnivariateMotif in generation 8 of 20\n",
            "Model Number: 998 with model MultivariateRegression in generation 8 of 20\n",
            "Template Eval Error: Exception(\"Transformer AlignLastValue failed on inverse from params rolling_mean_24 {'0': {'rows': 1, 'lag': 1, 'method': 'additive', 'strength': 1.0, 'first_value_only': True}}\") in model 998 in generation 8: MultivariateRegression\n",
            "Model Number: 999 with model ARDL in generation 8 of 20\n",
            "Model Number: 1000 with model FBProphet in generation 8 of 20\n",
            "Template Eval Error: ValueError(\"regression_type='User' but no future_regressor passed\") in model 1000 in generation 8: FBProphet\n",
            "Model Number: 1001 with model MetricMotif in generation 8 of 20\n",
            "Model Number: 1002 with model MultivariateRegression in generation 8 of 20\n",
            "Model Number: 1003 with model MultivariateMotif in generation 8 of 20\n",
            "Model Number: 1004 with model ARIMA in generation 8 of 20\n",
            "Model Number: 1005 with model Theta in generation 8 of 20\n",
            "Template Eval Error: ValueError(\"Model returned NaN due to a preprocessing transformer {'fillna': 'ffill', 'transformations': {'0': 'ScipyFilter', '1': 'PowerTransformer', '2': 'SeasonalDifference', '3': 'RollingMeanTransformer', '4': 'CumSumTransformer'}, 'transformation_params': {'0': {'method': 'wiener', 'method_args': None}, '1': {}, '2': {'lag_1': 28, 'method': 'Mean'}, '3': {'fixed': False, 'window': 10}, '4': {}}}. fail_on_forecast_nan=True\") in model 1005 in generation 8: Theta\n",
            "Model Number: 1006 with model UnobservedComponents in generation 8 of 20\n",
            "Template Eval Error: Exception(\"Transformer AlignLastValue failed on inverse from params linear {'0': {'rows': 1, 'lag': 1, 'method': 'additive', 'strength': 1.0, 'first_value_only': True}, '1': {}, '2': {}, '3': {'lag_1': 2, 'method': 20}}\") in model 1006 in generation 8: UnobservedComponents\n",
            "Model Number: 1007 with model UnivariateRegression in generation 8 of 20\n",
            "Model Number: 1008 with model AverageValueNaive in generation 8 of 20\n",
            "Template Eval Error: Exception(\"Transformer STLFilter failed on fit from params ffill {'0': {}, '1': {'rows': 2, 'lag': 1, 'method': 'additive', 'strength': 1.0, 'first_value_only': False}, '2': {'decomp_type': 'seasonal_decompose', 'part': 'trend'}}\") in model 1008 in generation 8: AverageValueNaive\n",
            "Model Number: 1009 with model UnivariateRegression in generation 8 of 20\n",
            "Model Number: 1010 with model FBProphet in generation 8 of 20\n",
            "Model Number: 1011 with model MetricMotif in generation 8 of 20\n",
            "Model Number: 1012 with model ETS in generation 8 of 20\n",
            "Model Number: 1013 with model GLS in generation 8 of 20\n",
            "Model Number: 1014 with model NVAR in generation 8 of 20\n",
            "Model Number: 1015 with model NVAR in generation 8 of 20\n",
            "Model Number: 1016 with model UnobservedComponents in generation 8 of 20\n",
            "Model Number: 1017 with model Theta in generation 8 of 20\n",
            "Model Number: 1018 with model ARDL in generation 8 of 20\n",
            "Model Number: 1019 with model FBProphet in generation 8 of 20\n",
            "Model Number: 1020 with model NVAR in generation 8 of 20\n",
            "Template Eval Error: Exception(\"Transformer BTCD failed on fit from params ffill {'0': {'regression_model': {'model': 'FastRidge', 'model_params': {}}, 'max_lags': 2}}\") in model 1020 in generation 8: NVAR\n",
            "Model Number: 1021 with model UnivariateRegression in generation 8 of 20\n",
            "Model Number: 1022 with model DatepartRegression in generation 8 of 20\n",
            "Template Eval Error: ValueError(\"regression_type='User' but no future_regressor passed\") in model 1022 in generation 8: DatepartRegression\n",
            "Model Number: 1023 with model FBProphet in generation 8 of 20\n",
            "Model Number: 1024 with model SeasonalityMotif in generation 8 of 20\n",
            "Model Number: 1025 with model WindowRegression in generation 8 of 20\n",
            "Model Number: 1026 with model NVAR in generation 8 of 20\n",
            "Template Eval Error: Exception(\"Transformer STLFilter failed on fit from params ffill {'0': {'model': 'Tweedie', 'phi': 1, 'window': None, 'transform_dict': {'fillna': None, 'transformations': {'0': 'EWMAFilter'}, 'transformation_params': {'0': {'span': 2}}}}, '1': {'rows': 4, 'lag': 1, 'method': 'additive', 'strength': 1.0, 'first_value_only': False}, '2': {'decomp_type': 'seasonal_decompose', 'part': 'trend'}, '3': {'whiten': True}, '4': {'threshold': 0.9, 'splash_threshold': None, 'use_dayofmonth_holidays': True, 'use_wkdom_holidays': True, 'use_wkdeom_holidays': False, 'use_lunar_holidays': False, 'use_lunar_weekday': False, 'use_islamic_holidays': False, 'use_hebrew_holidays': False, 'anomaly_detector_params': {'method': 'IQR', 'method_params': {'iqr_threshold': 2.5, 'iqr_quantiles': [0.25, 0.75]}, 'fillna': 'fake_date', 'transform_dict': {'transformations': {'0': 'DatepartRegression'}, 'transformation_params': {'0': {'datepart_method': 'simple_3', 'regression_model': {'model': 'ElasticNet', 'model_params': {}}}}}, 'isolated_only': True}, 'remove_excess_anomalies': True, 'impact': 'median_value', 'regression_params': {}}}\") in model 1026 in generation 8: NVAR\n",
            "Model Number: 1027 with model SeasonalityMotif in generation 8 of 20\n"
          ]
        },
        {
          "name": "stderr",
          "output_type": "stream",
          "text": [
            "/usr/local/lib/python3.10/dist-packages/sklearn/linear_model/_coordinate_descent.py:2418: ConvergenceWarning:\n",
            "\n",
            "Objective did not converge. You might want to increase the number of iterations. Duality gap: 729611632640.0, tolerance: 219833565184.0\n",
            "\n"
          ]
        },
        {
          "name": "stdout",
          "output_type": "stream",
          "text": [
            "Model Number: 1028 with model AverageValueNaive in generation 8 of 20\n",
            "Template Eval Error: Exception(\"Transformer AlignLastValue failed on inverse from params ffill {'0': {'lag_1': 96, 'method': 5}, '1': {'rows': 1, 'lag': 1, 'method': 'additive', 'strength': 0.2, 'first_value_only': True}, '2': {'span': 364}}\") in model 1028 in generation 8: AverageValueNaive\n",
            "Model Number: 1029 with model Theta in generation 8 of 20\n",
            "Model Number: 1030 with model FBProphet in generation 8 of 20\n",
            "Model Number: 1031 with model ETS in generation 8 of 20\n",
            "Model Number: 1032 with model MultivariateMotif in generation 8 of 20\n",
            "Model Number: 1033 with model LastValueNaive in generation 8 of 20\n",
            "Template Eval Error: Exception(\"Transformer ReplaceConstant failed on fit from params ffill {'0': {'method': 'rolling_zscore', 'method_params': {'distribution': 'norm', 'alpha': 0.05, 'rolling_periods': 28, 'center': True}, 'fillna': 'rolling_mean_24', 'transform_dict': {'fillna': None, 'transformations': {'0': 'ClipOutliers'}, 'transformation_params': {'0': {'method': 'clip', 'std_threshold': 6}}}, 'isolated_only': False}, '1': {'method': 'EE', 'method_params': {'contamination': 0.02, 'assume_centered': False, 'support_fraction': None}, 'fillna': 'ffill', 'transform_dict': None, 'isolated_only': False}, '2': {'method': 'remove', 'std_threshold': 3.5, 'fillna': 'rolling_mean_24'}, '3': {'constant': 0, 'reintroduction_model': {'model': 'xgboost', 'model_params': {'booster': 'gbtree', 'max_depth': 3, 'eta': 0.03, 'min_child_weight': 1, 'subsample': 1, 'colsample_bylevel': 1, 'reg_alpha': 0, 'reg_lambda': 1, 'grow_policy': 'lossguide'}, 'datepart_method': 'common_fourier'}, 'fillna': 'mean'}}\") in model 1033 in generation 8: LastValueNaive\n",
            "Model Number: 1034 with model UnivariateRegression in generation 8 of 20\n",
            "Model Number: 1035 with model SeasonalNaive in generation 8 of 20\n",
            "Model Number: 1036 with model MultivariateMotif in generation 8 of 20\n",
            "Model Number: 1037 with model UnivariateRegression in generation 8 of 20\n",
            "Model Number: 1038 with model UnivariateRegression in generation 8 of 20\n",
            "Model Number: 1039 with model MultivariateRegression in generation 8 of 20\n",
            "Model Number: 1040 with model MetricMotif in generation 8 of 20\n",
            "Model Number: 1041 with model UnobservedComponents in generation 8 of 20\n",
            "Model Number: 1042 with model FBProphet in generation 8 of 20\n",
            "Model Number: 1043 with model LastValueNaive in generation 8 of 20\n",
            "Model Number: 1044 with model SeasonalityMotif in generation 8 of 20\n",
            "Template Eval Error: Exception(\"Transformer BTCD failed on fit from params ffill {'0': {'method': 'rolling_zscore', 'method_params': {'distribution': 'norm', 'alpha': 0.05, 'rolling_periods': 28, 'center': True}, 'fillna': 'rolling_mean_24', 'transform_dict': {'fillna': None, 'transformations': {'0': 'ClipOutliers'}, 'transformation_params': {'0': {'method': 'clip', 'std_threshold': 6}}}, 'isolated_only': False}, '1': {'lag_1': 41, 'method': 'Median'}, '2': {'regression_model': {'model': 'FastRidge', 'model_params': {}}, 'max_lags': 1}}\") in model 1044 in generation 8: SeasonalityMotif\n",
            "Model Number: 1045 with model UnivariateMotif in generation 8 of 20\n",
            "Model Number: 1046 with model SeasonalNaive in generation 8 of 20\n",
            "Model Number: 1047 with model UnivariateRegression in generation 8 of 20\n"
          ]
        },
        {
          "name": "stderr",
          "output_type": "stream",
          "text": [
            "/usr/local/lib/python3.10/dist-packages/sklearn/neighbors/_classification.py:215: DataConversionWarning:\n",
            "\n",
            "A column-vector y was passed when a 1d array was expected. Please change the shape of y to (n_samples,), for example using ravel().\n",
            "\n",
            "/usr/local/lib/python3.10/dist-packages/autots/tools/thresholding.py:204: RuntimeWarning:\n",
            "\n",
            "overflow encountered in scalar power\n",
            "\n"
          ]
        },
        {
          "name": "stdout",
          "output_type": "stream",
          "text": [
            "Model Number: 1048 with model MultivariateRegression in generation 8 of 20\n",
            "Model Number: 1049 with model ETS in generation 8 of 20\n",
            "Model Number: 1050 with model ARDL in generation 8 of 20\n",
            "Model Number: 1051 with model Theta in generation 8 of 20\n",
            "Model Number: 1052 with model NVAR in generation 8 of 20\n",
            "Model Number: 1053 with model AverageValueNaive in generation 8 of 20\n",
            "Model Number: 1054 with model ETS in generation 8 of 20\n",
            "Model Number: 1055 with model Theta in generation 8 of 20\n"
          ]
        },
        {
          "name": "stderr",
          "output_type": "stream",
          "text": [
            "/usr/local/lib/python3.10/dist-packages/sklearn/linear_model/_ridge.py:216: LinAlgWarning:\n",
            "\n",
            "Ill-conditioned matrix (rcond=1.44548e-25): result may not be accurate.\n",
            "\n"
          ]
        },
        {
          "name": "stdout",
          "output_type": "stream",
          "text": [
            "Model Number: 1056 with model WindowRegression in generation 8 of 20\n",
            "Model Number: 1057 with model GLS in generation 8 of 20\n"
          ]
        },
        {
          "name": "stderr",
          "output_type": "stream",
          "text": [
            "/usr/local/lib/python3.10/dist-packages/sklearn/neural_network/_multilayer_perceptron.py:541: ConvergenceWarning:\n",
            "\n",
            "lbfgs failed to converge (status=1):\n",
            "STOP: TOTAL NO. of ITERATIONS REACHED LIMIT.\n",
            "\n",
            "Increase the number of iterations (max_iter) or scale the data as shown in:\n",
            "    https://scikit-learn.org/stable/modules/preprocessing.html\n",
            "\n"
          ]
        },
        {
          "name": "stdout",
          "output_type": "stream",
          "text": [
            "Model Number: 1058 with model MultivariateRegression in generation 8 of 20\n",
            "Model Number: 1059 with model MetricMotif in generation 8 of 20\n",
            "Model Number: 1060 with model Theta in generation 8 of 20\n",
            "Model Number: 1061 with model GLM in generation 8 of 20\n",
            "Model Number: 1062 with model ETS in generation 8 of 20\n",
            "Model Number: 1063 with model SeasonalNaive in generation 8 of 20\n"
          ]
        },
        {
          "name": "stderr",
          "output_type": "stream",
          "text": [
            "/usr/local/lib/python3.10/dist-packages/statsmodels/genmod/families/family.py:1367: ValueWarning:\n",
            "\n",
            "Negative binomial dispersion parameter alpha not set. Using default value alpha=1.0.\n",
            "\n"
          ]
        },
        {
          "name": "stdout",
          "output_type": "stream",
          "text": [
            "Model Number: 1064 with model UnivariateRegression in generation 8 of 20\n"
          ]
        },
        {
          "name": "stderr",
          "output_type": "stream",
          "text": [
            "/usr/local/lib/python3.10/dist-packages/sklearn/linear_model/_coordinate_descent.py:631: ConvergenceWarning:\n",
            "\n",
            "Objective did not converge. You might want to increase the number of iterations, check the scale of the features or consider increasing regularisation. Duality gap: 1.193e+07, tolerance: 2.440e+03\n",
            "\n"
          ]
        },
        {
          "name": "stdout",
          "output_type": "stream",
          "text": [
            "Model Number: 1065 with model GLM in generation 8 of 20\n",
            "Template Eval Error: ValueError('The first guess on the deviance function returned a nan.  This could be a boundary  problem and should be reported.') in model 1065 in generation 8: GLM\n",
            "Model Number: 1066 with model LastValueNaive in generation 8 of 20\n",
            "Model Number: 1067 with model LastValueNaive in generation 8 of 20\n"
          ]
        },
        {
          "name": "stderr",
          "output_type": "stream",
          "text": [
            "/usr/local/lib/python3.10/dist-packages/statsmodels/genmod/families/family.py:1367: ValueWarning:\n",
            "\n",
            "Negative binomial dispersion parameter alpha not set. Using default value alpha=1.0.\n",
            "\n",
            "/usr/local/lib/python3.10/dist-packages/statsmodels/genmod/families/family.py:1406: RuntimeWarning:\n",
            "\n",
            "invalid value encountered in log\n",
            "\n"
          ]
        },
        {
          "name": "stdout",
          "output_type": "stream",
          "text": [
            "Model Number: 1068 with model FBProphet in generation 8 of 20\n",
            "Model Number: 1069 with model MultivariateRegression in generation 8 of 20\n",
            "Model Number: 1070 with model ARDL in generation 8 of 20\n",
            "Template Eval Error: Exception(\"Transformer DatepartRegression failed on inverse from params pchip {'0': {'regression_model': {'model': 'RandomForest', 'model_params': {'n_estimators': 4, 'min_samples_leaf': 1, 'bootstrap': True}}, 'datepart_method': 'simple', 'polynomial_degree': 2, 'transform_dict': {'fillna': None, 'transformations': {'0': 'bkfilter'}, 'transformation_params': {'0': {}}}, 'holiday_countries_used': True}, '1': {'rows': 1, 'lag': 1, 'method': 'additive', 'strength': 1.0, 'first_value_only': False}, '2': {'method': 0.2}, '3': {}}\") in model 1070 in generation 8: ARDL\n",
            "Model Number: 1071 with model DatepartRegression in generation 8 of 20\n",
            "Model Number: 1072 with model ETS in generation 8 of 20\n",
            "Model Number: 1073 with model ARIMA in generation 8 of 20\n",
            "Model Number: 1074 with model SeasonalityMotif in generation 8 of 20\n",
            "Model Number: 1075 with model WindowRegression in generation 8 of 20\n"
          ]
        },
        {
          "name": "stderr",
          "output_type": "stream",
          "text": [
            "/usr/local/lib/python3.10/dist-packages/sklearn/neighbors/_classification.py:215: DataConversionWarning:\n",
            "\n",
            "A column-vector y was passed when a 1d array was expected. Please change the shape of y to (n_samples,), for example using ravel().\n",
            "\n",
            "/usr/local/lib/python3.10/dist-packages/sklearn/neural_network/_multilayer_perceptron.py:541: ConvergenceWarning:\n",
            "\n",
            "lbfgs failed to converge (status=1):\n",
            "STOP: TOTAL NO. of ITERATIONS REACHED LIMIT.\n",
            "\n",
            "Increase the number of iterations (max_iter) or scale the data as shown in:\n",
            "    https://scikit-learn.org/stable/modules/preprocessing.html\n",
            "\n"
          ]
        },
        {
          "name": "stdout",
          "output_type": "stream",
          "text": [
            "Model Number: 1076 with model SeasonalNaive in generation 8 of 20\n",
            "Model Number: 1077 with model SeasonalNaive in generation 8 of 20\n",
            "Model Number: 1078 with model GLS in generation 8 of 20\n",
            "Model Number: 1079 with model UnivariateRegression in generation 8 of 20\n",
            "Model Number: 1080 with model ARDL in generation 8 of 20\n",
            "Model Number: 1081 with model DatepartRegression in generation 8 of 20\n",
            "New Generation: 9 of 20\n",
            "Model Number: 1082 with model ARIMA in generation 9 of 20\n",
            "Template Eval Error: ValueError(\"regression_type='User' but future_regressor not supplied\") in model 1082 in generation 9: ARIMA\n",
            "Model Number: 1083 with model WindowRegression in generation 9 of 20\n",
            "Model Number: 1084 with model ARDL in generation 9 of 20\n",
            "Model Number: 1085 with model UnobservedComponents in generation 9 of 20\n",
            "Template Eval Error: ValueError(\"regression_type='User' but no future_regressor supplied\") in model 1085 in generation 9: UnobservedComponents\n",
            "Model Number: 1086 with model UnivariateMotif in generation 9 of 20\n",
            "Model Number: 1087 with model MetricMotif in generation 9 of 20\n",
            "Model Number: 1088 with model SeasonalityMotif in generation 9 of 20\n",
            "Model Number: 1089 with model SeasonalityMotif in generation 9 of 20\n",
            "Template Eval Error: Exception(\"Transformer DatepartRegression failed on fit from params mean {'0': {'regression_model': {'C': 1.0, 'tol': 0.0001, 'loss': 'epsilon_insensitive', 'max_iter': 500}, 'datepart_method': 'common_fourier', 'polynomial_degree': None, 'transform_dict': None, 'holiday_countries_used': True}, '1': {}, '2': {'method': 'rolling_zscore', 'method_params': {'distribution': 'gamma', 'alpha': 0.05, 'rolling_periods': 200, 'center': True}, 'fillna': 'rolling_mean_24', 'transform_dict': {'fillna': 'time', 'transformations': {'0': 'DifferencedTransformer', '1': 'HistoricValues'}, 'transformation_params': {'0': {}, '1': {'window': None}}}, 'isolated_only': False}, '3': {'rows': 1, 'lag': 1, 'method': 'additive', 'strength': 1.0, 'first_value_only': False}}\") in model 1089 in generation 9: SeasonalityMotif\n",
            "Model Number: 1090 with model AverageValueNaive in generation 9 of 20\n"
          ]
        },
        {
          "name": "stderr",
          "output_type": "stream",
          "text": [
            "/usr/local/lib/python3.10/dist-packages/sklearn/neural_network/_multilayer_perceptron.py:541: ConvergenceWarning:\n",
            "\n",
            "lbfgs failed to converge (status=1):\n",
            "STOP: TOTAL NO. of ITERATIONS REACHED LIMIT.\n",
            "\n",
            "Increase the number of iterations (max_iter) or scale the data as shown in:\n",
            "    https://scikit-learn.org/stable/modules/preprocessing.html\n",
            "\n"
          ]
        },
        {
          "name": "stdout",
          "output_type": "stream",
          "text": [
            "Model Number: 1091 with model ETS in generation 9 of 20\n",
            "Model Number: 1092 with model UnivariateRegression in generation 9 of 20\n",
            "Model Number: 1093 with model FBProphet in generation 9 of 20\n",
            "Model Number: 1094 with model NVAR in generation 9 of 20\n",
            "Model Number: 1095 with model SeasonalNaive in generation 9 of 20\n",
            "Model Number: 1096 with model SeasonalNaive in generation 9 of 20\n",
            "Model Number: 1097 with model UnivariateRegression in generation 9 of 20\n",
            "Model Number: 1098 with model UnobservedComponents in generation 9 of 20\n",
            "Model Number: 1099 with model ARDL in generation 9 of 20\n",
            "Model Number: 1100 with model UnivariateRegression in generation 9 of 20\n",
            "Model Number: 1101 with model UnobservedComponents in generation 9 of 20\n",
            "Model Number: 1102 with model FBProphet in generation 9 of 20\n",
            "Model Number: 1103 with model SeasonalNaive in generation 9 of 20\n",
            "Model Number: 1104 with model ConstantNaive in generation 9 of 20\n",
            "Model Number: 1105 with model UnivariateRegression in generation 9 of 20\n",
            "Model Number: 1106 with model FBProphet in generation 9 of 20\n",
            "Template Eval Error: Exception(\"Transformer HolidayTransformer failed on fit from params pad {'0': {'threshold': 0.9, 'splash_threshold': None, 'use_dayofmonth_holidays': True, 'use_wkdom_holidays': True, 'use_wkdeom_holidays': False, 'use_lunar_holidays': False, 'use_lunar_weekday': False, 'use_islamic_holidays': False, 'use_hebrew_holidays': True, 'anomaly_detector_params': {'method': 'IQR', 'method_params': {'iqr_threshold': 2.0, 'iqr_quantiles': [0.25, 0.75]}, 'fillna': 'fake_date', 'transform_dict': {'transformations': {'0': 'DatepartRegression'}, 'transformation_params': {'0': {'datepart_method': 'simple_3', 'regression_model': {'model': 'DecisionTree', 'model_params': {'max_depth': None, 'min_samples_split': 0.1}}}}}, 'isolated_only': False}, 'remove_excess_anomalies': True, 'impact': 'regression', 'regression_params': {}}, '1': {'whiten': False}, '2': {'lag_1': 28, 'method': 'LastValue'}, '3': {}, '4': {}}\") in model 1106 in generation 9: FBProphet\n",
            "Model Number: 1107 with model FBProphet in generation 9 of 20\n",
            "Model Number: 1108 with model MultivariateRegression in generation 9 of 20\n",
            "Model Number: 1109 with model UnivariateMotif in generation 9 of 20\n",
            "Model Number: 1110 with model NVAR in generation 9 of 20\n",
            "Model Number: 1111 with model LastValueNaive in generation 9 of 20\n",
            "Model Number: 1112 with model ARIMA in generation 9 of 20\n",
            "Model Number: 1113 with model UnobservedComponents in generation 9 of 20\n",
            "Model Number: 1114 with model DatepartRegression in generation 9 of 20\n",
            "Model Number: 1115 with model SeasonalNaive in generation 9 of 20\n"
          ]
        },
        {
          "name": "stderr",
          "output_type": "stream",
          "text": [
            "/usr/local/lib/python3.10/dist-packages/sklearn/neural_network/_multilayer_perceptron.py:686: ConvergenceWarning:\n",
            "\n",
            "Stochastic Optimizer: Maximum iterations (250) reached and the optimization hasn't converged yet.\n",
            "\n"
          ]
        },
        {
          "name": "stdout",
          "output_type": "stream",
          "text": [
            "Model Number: 1116 with model FBProphet in generation 9 of 20\n",
            "Model Number: 1117 with model SeasonalNaive in generation 9 of 20\n",
            "Model Number: 1118 with model ETS in generation 9 of 20\n",
            "Model Number: 1119 with model MultivariateRegression in generation 9 of 20\n",
            "Model Number: 1120 with model AverageValueNaive in generation 9 of 20\n",
            "Model Number: 1121 with model MultivariateRegression in generation 9 of 20\n",
            "Model Number: 1122 with model UnivariateMotif in generation 9 of 20\n",
            "Model Number: 1123 with model MultivariateRegression in generation 9 of 20\n",
            "Model Number: 1124 with model MultivariateRegression in generation 9 of 20\n",
            "Model Number: 1125 with model Theta in generation 9 of 20\n",
            "Model Number: 1126 with model MultivariateMotif in generation 9 of 20\n",
            "Model Number: 1127 with model Theta in generation 9 of 20\n",
            "Model Number: 1128 with model FBProphet in generation 9 of 20\n",
            "Model Number: 1129 with model FBProphet in generation 9 of 20\n",
            "Template Eval Error: ValueError(\"regression_type='User' but no future_regressor passed\") in model 1129 in generation 9: FBProphet\n",
            "Model Number: 1130 with model ARDL in generation 9 of 20\n",
            "Template Eval Error: Exception(\"Transformer Cointegration failed on fit from params rolling_mean_24 {'0': {'det_order': 1, 'k_ar_diff': 1}, '1': {'output_distribution': 'uniform', 'n_quantiles': 1000}}\") in model 1130 in generation 9: ARDL\n",
            "Model Number: 1131 with model UnobservedComponents in generation 9 of 20\n",
            "Model Number: 1132 with model UnobservedComponents in generation 9 of 20\n",
            "Model Number: 1133 with model ARDL in generation 9 of 20\n",
            "Template Eval Error: ValueError(\"ARDL series Close failed with error ValueError('The number of regressors (236) including deterministics, lags of the endog, lags of the exogenous, and fixed regressors is larger than the sample available for estimation (144).') exog train             weekend  quarter      epoch  month_1  month_2  month_3  month_4  \\\\\\nDate                                                                          \\n2023-09-23        1        3  2460210.5      0.0      0.0      0.0      0.0   \\n2023-09-24        1        3  2460211.5      0.0      0.0      0.0      0.0   \\n2023-09-25        0        3  2460212.5      0.0      0.0      0.0      0.0   \\n2023-09-26        0        3  2460213.5      0.0      0.0      0.0      0.0   \\n2023-09-27        0        3  2460214.5      0.0      0.0      0.0      0.0   \\n...             ...      ...        ...      ...      ...      ...      ...   \\n2024-02-12        0        1  2460352.5      0.0      1.0      0.0      0.0   \\n2024-02-13        0        1  2460353.5      0.0      1.0      0.0      0.0   \\n2024-02-14        0        1  2460354.5      0.0      1.0      0.0      0.0   \\n2024-02-15        0        1  2460355.5      0.0      1.0      0.0      0.0   \\n2024-02-16        0        1  2460356.5      0.0      1.0      0.0      0.0   \\n\\n            month_5  month_6  month_7  ...  day_27  day_28  day_29  day_30  \\\\\\nDate                                   ...                                   \\n2023-09-23      0.0      0.0      0.0  ...     0.0     0.0     0.0     0.0   \\n2023-09-24      0.0      0.0      0.0  ...     0.0     0.0     0.0     0.0   \\n2023-09-25      0.0      0.0      0.0  ...     0.0     0.0     0.0     0.0   \\n2023-09-26      0.0      0.0      0.0  ...     0.0     0.0     0.0     0.0   \\n2023-09-27      0.0      0.0      0.0  ...     1.0     0.0     0.0     0.0   \\n...             ...      ...      ...  ...     ...     ...     ...     ...   \\n2024-02-12      0.0      0.0      0.0  ...     0.0     0.0     0.0     0.0   \\n2024-02-13      0.0      0.0      0.0  ...     0.0     0.0     0.0     0.0   \\n2024-02-14      0.0      0.0      0.0  ...     0.0     0.0     0.0     0.0   \\n2024-02-15      0.0      0.0      0.0  ...     0.0     0.0     0.0     0.0   \\n2024-02-16      0.0      0.0      0.0  ...     0.0     0.0     0.0     0.0   \\n\\n            day_31  weekdayofmonth_1  weekdayofmonth_2  weekdayofmonth_3  \\\\\\nDate                                                                       \\n2023-09-23     0.0               0.0               0.0               0.0   \\n2023-09-24     0.0               0.0               0.0               0.0   \\n2023-09-25     0.0               0.0               0.0               0.0   \\n2023-09-26     0.0               0.0               0.0               0.0   \\n2023-09-27     0.0               0.0               0.0               0.0   \\n...            ...               ...               ...               ...   \\n2024-02-12     0.0               0.0               1.0               0.0   \\n2024-02-13     0.0               0.0               1.0               0.0   \\n2024-02-14     0.0               0.0               1.0               0.0   \\n2024-02-15     0.0               0.0               0.0               1.0   \\n2024-02-16     0.0               0.0               0.0               1.0   \\n\\n            weekdayofmonth_4  weekdayofmonth_5  \\nDate                                            \\n2023-09-23               1.0               0.0  \\n2023-09-24               1.0               0.0  \\n2023-09-25               1.0               0.0  \\n2023-09-26               1.0               0.0  \\n2023-09-27               1.0               0.0  \\n...                      ...               ...  \\n2024-02-12               0.0               0.0  \\n2024-02-13               0.0               0.0  \\n2024-02-14               0.0               0.0  \\n2024-02-15               0.0               0.0  \\n2024-02-16               0.0               0.0  \\n\\n[147 rows x 58 columns] and predict             weekend  quarter      epoch  month_1  month_2  month_3  month_4  \\\\\\n2024-02-17        1        1  2460357.5      0.0      1.0      0.0      0.0   \\n2024-02-18        1        1  2460358.5      0.0      1.0      0.0      0.0   \\n2024-02-19        0        1  2460359.5      0.0      1.0      0.0      0.0   \\n2024-02-20        0        1  2460360.5      0.0      1.0      0.0      0.0   \\n2024-02-21        0        1  2460361.5      0.0      1.0      0.0      0.0   \\n2024-02-22        0        1  2460362.5      0.0      1.0      0.0      0.0   \\n2024-02-23        0        1  2460363.5      0.0      1.0      0.0      0.0   \\n2024-02-24        1        1  2460364.5      0.0      1.0      0.0      0.0   \\n2024-02-25        1        1  2460365.5      0.0      1.0      0.0      0.0   \\n2024-02-26        0        1  2460366.5      0.0      1.0      0.0      0.0   \\n2024-02-27        0        1  2460367.5      0.0      1.0      0.0      0.0   \\n2024-02-28        0        1  2460368.5      0.0      1.0      0.0      0.0   \\n2024-02-29        0        1  2460369.5      0.0      1.0      0.0      0.0   \\n2024-03-01        0        1  2460370.5      0.0      0.0      1.0      0.0   \\n2024-03-02        1        1  2460371.5      0.0      0.0      1.0      0.0   \\n2024-03-03        1        1  2460372.5      0.0      0.0      1.0      0.0   \\n2024-03-04        0        1  2460373.5      0.0      0.0      1.0      0.0   \\n2024-03-05        0        1  2460374.5      0.0      0.0      1.0      0.0   \\n2024-03-06        0        1  2460375.5      0.0      0.0      1.0      0.0   \\n2024-03-07        0        1  2460376.5      0.0      0.0      1.0      0.0   \\n2024-03-08        0        1  2460377.5      0.0      0.0      1.0      0.0   \\n2024-03-09        1        1  2460378.5      0.0      0.0      1.0      0.0   \\n2024-03-10        1        1  2460379.5      0.0      0.0      1.0      0.0   \\n2024-03-11        0        1  2460380.5      0.0      0.0      1.0      0.0   \\n2024-03-12        0        1  2460381.5      0.0      0.0      1.0      0.0   \\n2024-03-13        0        1  2460382.5      0.0      0.0      1.0      0.0   \\n2024-03-14        0        1  2460383.5      0.0      0.0      1.0      0.0   \\n2024-03-15        0        1  2460384.5      0.0      0.0      1.0      0.0   \\n2024-03-16        1        1  2460385.5      0.0      0.0      1.0      0.0   \\n2024-03-17        1        1  2460386.5      0.0      0.0      1.0      0.0   \\n\\n            month_5  month_6  month_7  ...  day_27  day_28  day_29  day_30  \\\\\\n2024-02-17      0.0      0.0      0.0  ...     0.0     0.0     0.0     0.0   \\n2024-02-18      0.0      0.0      0.0  ...     0.0     0.0     0.0     0.0   \\n2024-02-19      0.0      0.0      0.0  ...     0.0     0.0     0.0     0.0   \\n2024-02-20      0.0      0.0      0.0  ...     0.0     0.0     0.0     0.0   \\n2024-02-21      0.0      0.0      0.0  ...     0.0     0.0     0.0     0.0   \\n2024-02-22      0.0      0.0      0.0  ...     0.0     0.0     0.0     0.0   \\n2024-02-23      0.0      0.0      0.0  ...     0.0     0.0     0.0     0.0   \\n2024-02-24      0.0      0.0      0.0  ...     0.0     0.0     0.0     0.0   \\n2024-02-25      0.0      0.0      0.0  ...     0.0     0.0     0.0     0.0   \\n2024-02-26      0.0      0.0      0.0  ...     0.0     0.0     0.0     0.0   \\n2024-02-27      0.0      0.0      0.0  ...     1.0     0.0     0.0     0.0   \\n2024-02-28      0.0      0.0      0.0  ...     0.0     1.0     0.0     0.0   \\n2024-02-29      0.0      0.0      0.0  ...     0.0     0.0     1.0     0.0   \\n2024-03-01      0.0      0.0      0.0  ...     0.0     0.0     0.0     0.0   \\n2024-03-02      0.0      0.0      0.0  ...     0.0     0.0     0.0     0.0   \\n2024-03-03      0.0      0.0      0.0  ...     0.0     0.0     0.0     0.0   \\n2024-03-04      0.0      0.0      0.0  ...     0.0     0.0     0.0     0.0   \\n2024-03-05      0.0      0.0      0.0  ...     0.0     0.0     0.0     0.0   \\n2024-03-06      0.0      0.0      0.0  ...     0.0     0.0     0.0     0.0   \\n2024-03-07      0.0      0.0      0.0  ...     0.0     0.0     0.0     0.0   \\n2024-03-08      0.0      0.0      0.0  ...     0.0     0.0     0.0     0.0   \\n2024-03-09      0.0      0.0      0.0  ...     0.0     0.0     0.0     0.0   \\n2024-03-10      0.0      0.0      0.0  ...     0.0     0.0     0.0     0.0   \\n2024-03-11      0.0      0.0      0.0  ...     0.0     0.0     0.0     0.0   \\n2024-03-12      0.0      0.0      0.0  ...     0.0     0.0     0.0     0.0   \\n2024-03-13      0.0      0.0      0.0  ...     0.0     0.0     0.0     0.0   \\n2024-03-14      0.0      0.0      0.0  ...     0.0     0.0     0.0     0.0   \\n2024-03-15      0.0      0.0      0.0  ...     0.0     0.0     0.0     0.0   \\n2024-03-16      0.0      0.0      0.0  ...     0.0     0.0     0.0     0.0   \\n2024-03-17      0.0      0.0      0.0  ...     0.0     0.0     0.0     0.0   \\n\\n            day_31  weekdayofmonth_1  weekdayofmonth_2  weekdayofmonth_3  \\\\\\n2024-02-17     0.0               0.0               0.0               1.0   \\n2024-02-18     0.0               0.0               0.0               1.0   \\n2024-02-19     0.0               0.0               0.0               1.0   \\n2024-02-20     0.0               0.0               0.0               1.0   \\n2024-02-21     0.0               0.0               0.0               1.0   \\n2024-02-22     0.0               0.0               0.0               0.0   \\n2024-02-23     0.0               0.0               0.0               0.0   \\n2024-02-24     0.0               0.0               0.0               0.0   \\n2024-02-25     0.0               0.0               0.0               0.0   \\n2024-02-26     0.0               0.0               0.0               0.0   \\n2024-02-27     0.0               0.0               0.0               0.0   \\n2024-02-28     0.0               0.0               0.0               0.0   \\n2024-02-29     0.0               0.0               0.0               0.0   \\n2024-03-01     0.0               1.0               0.0               0.0   \\n2024-03-02     0.0               1.0               0.0               0.0   \\n2024-03-03     0.0               1.0               0.0               0.0   \\n2024-03-04     0.0               1.0               0.0               0.0   \\n2024-03-05     0.0               1.0               0.0               0.0   \\n2024-03-06     0.0               1.0               0.0               0.0   \\n2024-03-07     0.0               1.0               0.0               0.0   \\n2024-03-08     0.0               0.0               1.0               0.0   \\n2024-03-09     0.0               0.0               1.0               0.0   \\n2024-03-10     0.0               0.0               1.0               0.0   \\n2024-03-11     0.0               0.0               1.0               0.0   \\n2024-03-12     0.0               0.0               1.0               0.0   \\n2024-03-13     0.0               0.0               1.0               0.0   \\n2024-03-14     0.0               0.0               1.0               0.0   \\n2024-03-15     0.0               0.0               0.0               1.0   \\n2024-03-16     0.0               0.0               0.0               1.0   \\n2024-03-17     0.0               0.0               0.0               1.0   \\n\\n            weekdayofmonth_4  weekdayofmonth_5  \\n2024-02-17               0.0               0.0  \\n2024-02-18               0.0               0.0  \\n2024-02-19               0.0               0.0  \\n2024-02-20               0.0               0.0  \\n2024-02-21               0.0               0.0  \\n2024-02-22               1.0               0.0  \\n2024-02-23               1.0               0.0  \\n2024-02-24               1.0               0.0  \\n2024-02-25               1.0               0.0  \\n2024-02-26               1.0               0.0  \\n2024-02-27               1.0               0.0  \\n2024-02-28               1.0               0.0  \\n2024-02-29               0.0               1.0  \\n2024-03-01               0.0               0.0  \\n2024-03-02               0.0               0.0  \\n2024-03-03               0.0               0.0  \\n2024-03-04               0.0               0.0  \\n2024-03-05               0.0               0.0  \\n2024-03-06               0.0               0.0  \\n2024-03-07               0.0               0.0  \\n2024-03-08               0.0               0.0  \\n2024-03-09               0.0               0.0  \\n2024-03-10               0.0               0.0  \\n2024-03-11               0.0               0.0  \\n2024-03-12               0.0               0.0  \\n2024-03-13               0.0               0.0  \\n2024-03-14               0.0               0.0  \\n2024-03-15               0.0               0.0  \\n2024-03-16               0.0               0.0  \\n2024-03-17               0.0               0.0  \\n\\n[30 rows x 58 columns]\") in model 1133 in generation 9: ARDL\n",
            "Model Number: 1134 with model SeasonalityMotif in generation 9 of 20\n",
            "Model Number: 1135 with model NVAR in generation 9 of 20\n",
            "Model Number: 1136 with model DatepartRegression in generation 9 of 20\n",
            "Template Eval Error: ValueError('Model DatepartRegression returned NaN for one or more series. fail_on_forecast_nan=True') in model 1136 in generation 9: DatepartRegression\n",
            "Model Number: 1137 with model MultivariateMotif in generation 9 of 20\n"
          ]
        },
        {
          "name": "stderr",
          "output_type": "stream",
          "text": [
            "/usr/local/lib/python3.10/dist-packages/sklearn/decomposition/_fastica.py:583: UserWarning:\n",
            "\n",
            "Ignoring n_components with whiten=False.\n",
            "\n",
            "/usr/local/lib/python3.10/dist-packages/sklearn/neighbors/_regression.py:494: UserWarning:\n",
            "\n",
            "One or more samples have no neighbors within specified radius; predicting NaN.\n",
            "\n"
          ]
        },
        {
          "name": "stdout",
          "output_type": "stream",
          "text": [
            "Model Number: 1138 with model GLS in generation 9 of 20\n",
            "Model Number: 1139 with model UnivariateRegression in generation 9 of 20\n",
            "Model Number: 1140 with model Theta in generation 9 of 20\n",
            "Model Number: 1141 with model GLS in generation 9 of 20\n",
            "Model Number: 1142 with model ETS in generation 9 of 20\n",
            "Model Number: 1143 with model UnivariateRegression in generation 9 of 20\n",
            "Model Number: 1144 with model UnivariateMotif in generation 9 of 20\n",
            "Model Number: 1145 with model MetricMotif in generation 9 of 20\n",
            "Model Number: 1146 with model MetricMotif in generation 9 of 20\n",
            "Model Number: 1147 with model MetricMotif in generation 9 of 20\n",
            "Model Number: 1148 with model MultivariateMotif in generation 9 of 20\n",
            "Model Number: 1149 with model UnivariateRegression in generation 9 of 20\n",
            "Model Number: 1150 with model SeasonalityMotif in generation 9 of 20\n",
            "Model Number: 1151 with model FBProphet in generation 9 of 20\n"
          ]
        },
        {
          "name": "stderr",
          "output_type": "stream",
          "text": [
            "/usr/local/lib/python3.10/dist-packages/sklearn/linear_model/_ridge.py:216: LinAlgWarning:\n",
            "\n",
            "Ill-conditioned matrix (rcond=5.26325e-27): result may not be accurate.\n",
            "\n"
          ]
        },
        {
          "name": "stdout",
          "output_type": "stream",
          "text": [
            "Model Number: 1152 with model NVAR in generation 9 of 20\n",
            "Model Number: 1153 with model LastValueNaive in generation 9 of 20\n",
            "Model Number: 1154 with model UnobservedComponents in generation 9 of 20\n",
            "Model Number: 1155 with model GLM in generation 9 of 20\n",
            "Model Number: 1156 with model ETS in generation 9 of 20\n",
            "Model Number: 1157 with model AverageValueNaive in generation 9 of 20\n",
            "Model Number: 1158 with model ETS in generation 9 of 20\n"
          ]
        },
        {
          "name": "stderr",
          "output_type": "stream",
          "text": [
            "/usr/local/lib/python3.10/dist-packages/sklearn/linear_model/_ridge.py:216: LinAlgWarning:\n",
            "\n",
            "Ill-conditioned matrix (rcond=1.44548e-25): result may not be accurate.\n",
            "\n"
          ]
        },
        {
          "name": "stdout",
          "output_type": "stream",
          "text": [
            "Model Number: 1159 with model MultivariateRegression in generation 9 of 20\n",
            "Model Number: 1160 with model ARDL in generation 9 of 20\n",
            "Model Number: 1161 with model MultivariateRegression in generation 9 of 20\n",
            "Model Number: 1162 with model SeasonalityMotif in generation 9 of 20\n",
            "Model Number: 1163 with model Theta in generation 9 of 20\n",
            "Template Eval Error: Exception(\"Transformer STLFilter failed on fit from params ffill {'0': {'decimals': 0, 'on_transform': True, 'on_inverse': True}, '1': {'model_name': 'MA', 'state_transition': [[1, 0], [1, 0]], 'process_noise': [[0.2, 0.0], [0.0, 0]], 'observation_model': [[1, 0.1]], 'observation_noise': 1.0, 'em_iter': None}, '2': {'rows': 1, 'lag': 1, 'method': 'multiplicative', 'strength': 1.0, 'first_value_only': False}, '3': {'decomp_type': 'seasonal_decompose', 'part': 'trend'}}\") in model 1163 in generation 9: Theta\n",
            "Model Number: 1164 with model NVAR in generation 9 of 20\n",
            "Model Number: 1165 with model DatepartRegression in generation 9 of 20\n",
            "Template Eval Error: ValueError(\"regression_type='User' but no future_regressor passed\") in model 1165 in generation 9: DatepartRegression\n",
            "Model Number: 1166 with model MetricMotif in generation 9 of 20\n",
            "Model Number: 1167 with model SeasonalityMotif in generation 9 of 20\n",
            "Model Number: 1168 with model SeasonalNaive in generation 9 of 20\n",
            "Model Number: 1169 with model MultivariateMotif in generation 9 of 20\n",
            "Model Number: 1170 with model MetricMotif in generation 9 of 20\n",
            "Model Number: 1171 with model ARIMA in generation 9 of 20\n",
            "Model Number: 1172 with model MultivariateRegression in generation 9 of 20\n",
            "Model Number: 1173 with model UnivariateRegression in generation 9 of 20\n",
            "Model Number: 1174 with model ETS in generation 9 of 20\n",
            "Model Number: 1175 with model UnivariateRegression in generation 9 of 20\n",
            "Model Number: 1176 with model LastValueNaive in generation 9 of 20\n",
            "Model Number: 1177 with model FBProphet in generation 9 of 20\n",
            "Model Number: 1178 with model MultivariateRegression in generation 9 of 20\n",
            "Model Number: 1179 with model ARDL in generation 9 of 20\n",
            "Template Eval Error: ValueError(\"regression_type='User' but future_regressor not supplied\") in model 1179 in generation 9: ARDL\n",
            "Model Number: 1180 with model AverageValueNaive in generation 9 of 20\n",
            "Template Eval Error: Exception(\"Transformer ScipyFilter failed on fit from params fake_date {'0': {'method': 'remove', 'std_threshold': 2, 'fillna': 'rolling_mean_24'}, '1': {'method': 'butter', 'method_args': {'N': 7, 'btype': 'lowpass', 'analog': False, 'output': 'sos', 'Wn': 0.08333333333333333}}, '2': {'model': 'Linear', 'phi': 0.999, 'window': 90, 'transform_dict': None}, '3': {}}\") in model 1180 in generation 9: AverageValueNaive\n",
            "Model Number: 1181 with model UnivariateMotif in generation 9 of 20\n",
            "New Generation: 10 of 20\n",
            "Model Number: 1182 with model AverageValueNaive in generation 10 of 20\n",
            "Model Number: 1183 with model ARIMA in generation 10 of 20\n",
            "Model Number: 1184 with model UnivariateMotif in generation 10 of 20\n",
            "Model Number: 1185 with model WindowRegression in generation 10 of 20\n",
            "Model Number: 1186 with model UnobservedComponents in generation 10 of 20\n",
            "Model Number: 1187 with model UnobservedComponents in generation 10 of 20\n",
            "Model Number: 1188 with model NVAR in generation 10 of 20\n",
            "Model Number: 1189 with model Theta in generation 10 of 20\n",
            "Model Number: 1190 with model SeasonalNaive in generation 10 of 20\n",
            "Model Number: 1191 with model FBProphet in generation 10 of 20\n",
            "Model Number: 1192 with model ETS in generation 10 of 20\n",
            "Model Number: 1193 with model AverageValueNaive in generation 10 of 20\n",
            "Template Eval Error: Exception(\"Transformer AlignLastValue failed on inverse from params nearest {'0': {}, '1': {'rows': 1, 'lag': 1, 'method': 'additive', 'strength': 0.7, 'first_value_only': True}, '2': {'model': 'Linear', 'phi': 0.999, 'window': 90, 'transform_dict': None}}\") in model 1193 in generation 10: AverageValueNaive\n",
            "Model Number: 1194 with model FBProphet in generation 10 of 20\n",
            "Model Number: 1195 with model FBProphet in generation 10 of 20\n",
            "Model Number: 1196 with model UnivariateRegression in generation 10 of 20\n",
            "Model Number: 1197 with model MultivariateMotif in generation 10 of 20\n",
            "Model Number: 1198 with model FBProphet in generation 10 of 20\n",
            "Model Number: 1199 with model FBProphet in generation 10 of 20\n",
            "Model Number: 1200 with model UnivariateRegression in generation 10 of 20\n",
            "Template Eval Error: Exception(\"Transformer AlignLastValue failed on inverse from params ffill {'0': {'rows': 1, 'lag': 1, 'method': 'additive', 'strength': 1.0, 'first_value_only': False}, '1': {'lag_1': 7, 'method': 'Mean'}, '2': {'rows': 1, 'lag': 1, 'method': 'additive', 'strength': 1.0, 'first_value_only': True}, '3': {'rows': 1, 'lag': 1, 'method': 'additive', 'strength': 0.2, 'first_value_only': False}, '4': {}}\") in model 1200 in generation 10: UnivariateRegression\n",
            "Model Number: 1201 with model UnivariateMotif in generation 10 of 20\n",
            "Model Number: 1202 with model ARDL in generation 10 of 20\n",
            "Template Eval Error: ValueError(\"regression_type='User' but future_regressor not supplied\") in model 1202 in generation 10: ARDL\n",
            "Model Number: 1203 with model LastValueNaive in generation 10 of 20\n",
            "Model Number: 1204 with model NVAR in generation 10 of 20\n",
            "Model Number: 1205 with model UnivariateRegression in generation 10 of 20\n",
            "Model Number: 1206 with model UnivariateRegression in generation 10 of 20\n"
          ]
        },
        {
          "name": "stderr",
          "output_type": "stream",
          "text": [
            "/usr/local/lib/python3.10/dist-packages/sklearn/linear_model/_ridge.py:216: LinAlgWarning:\n",
            "\n",
            "Ill-conditioned matrix (rcond=1.03808e-18): result may not be accurate.\n",
            "\n"
          ]
        },
        {
          "name": "stdout",
          "output_type": "stream",
          "text": [
            "Model Number: 1207 with model SeasonalNaive in generation 10 of 20\n",
            "Model Number: 1208 with model SeasonalityMotif in generation 10 of 20\n",
            "Model Number: 1209 with model GLM in generation 10 of 20\n",
            "Model Number: 1210 with model UnivariateRegression in generation 10 of 20\n"
          ]
        },
        {
          "name": "stderr",
          "output_type": "stream",
          "text": [
            "/usr/local/lib/python3.10/dist-packages/statsmodels/genmod/generalized_linear_model.py:308: DomainWarning:\n",
            "\n",
            "The InversePower link function does not respect the domain of the Gamma family.\n",
            "\n"
          ]
        },
        {
          "name": "stdout",
          "output_type": "stream",
          "text": [
            "Model Number: 1211 with model ARDL in generation 10 of 20\n",
            "Template Eval Error: Exception(\"Transformer STLFilter failed on fit from params rolling_mean_24 {'0': {}, '1': {}, '2': {'fixed': False, 'window': 12}, '3': {'decomp_type': 'STL', 'part': 'trend', 'seasonal': 7}}\") in model 1211 in generation 10: ARDL\n",
            "Model Number: 1212 with model ARDL in generation 10 of 20\n",
            "Model Number: 1213 with model UnivariateRegression in generation 10 of 20\n",
            "Model Number: 1214 with model MultivariateRegression in generation 10 of 20\n",
            "Model Number: 1215 with model LastValueNaive in generation 10 of 20\n",
            "Model Number: 1216 with model AverageValueNaive in generation 10 of 20\n",
            "Model Number: 1217 with model AverageValueNaive in generation 10 of 20\n",
            "Model Number: 1218 with model ARIMA in generation 10 of 20\n"
          ]
        },
        {
          "name": "stderr",
          "output_type": "stream",
          "text": [
            "/usr/local/lib/python3.10/dist-packages/sklearn/decomposition/_fastica.py:708: FutureWarning:\n",
            "\n",
            "Starting in v1.3, whiten=True should be specified as whiten='arbitrary-variance' (its current behaviour). This behavior is deprecated in 1.1 and will raise ValueError in 1.3.\n",
            "\n"
          ]
        },
        {
          "name": "stdout",
          "output_type": "stream",
          "text": [
            "Model Number: 1219 with model MultivariateRegression in generation 10 of 20\n",
            "Template Eval Error: Exception(\"Transformer AlignLastValue failed on inverse from params ffill {'0': {'center': 'midhinge'}, '1': {}, '2': {'rows': 7, 'lag': 1, 'method': 'additive', 'strength': 1.0, 'first_value_only': True}}\") in model 1219 in generation 10: MultivariateRegression\n",
            "Model Number: 1220 with model MultivariateRegression in generation 10 of 20\n",
            "Model Number: 1221 with model LastValueNaive in generation 10 of 20\n",
            "Model Number: 1222 with model NVAR in generation 10 of 20\n",
            "Model Number: 1223 with model Theta in generation 10 of 20\n",
            "Model Number: 1224 with model UnivariateRegression in generation 10 of 20\n",
            "Model Number: 1225 with model Theta in generation 10 of 20\n",
            "Model Number: 1226 with model SeasonalityMotif in generation 10 of 20\n",
            "Model Number: 1227 with model ETS in generation 10 of 20\n",
            "Model Number: 1228 with model AverageValueNaive in generation 10 of 20\n",
            "Model Number: 1229 with model UnivariateRegression in generation 10 of 20\n",
            "Model Number: 1230 with model SeasonalityMotif in generation 10 of 20\n",
            "Model Number: 1231 with model AverageValueNaive in generation 10 of 20\n",
            "Model Number: 1232 with model FBProphet in generation 10 of 20\n",
            "Template Eval Error: ValueError(\"regression_type='User' but no future_regressor passed\") in model 1232 in generation 10: FBProphet\n",
            "Model Number: 1233 with model FBProphet in generation 10 of 20\n",
            "Model Number: 1234 with model NVAR in generation 10 of 20\n",
            "Model Number: 1235 with model UnivariateRegression in generation 10 of 20\n",
            "Model Number: 1236 with model UnivariateRegression in generation 10 of 20\n",
            "Template Eval Error: Exception(\"Transformer DatepartRegression failed on fit from params quadratic {'0': {'rows': 1, 'lag': 1, 'method': 'additive', 'strength': 1.0, 'first_value_only': False}, '1': {}, '2': {'model': 'Gamma', 'phi': 1, 'window': None, 'transform_dict': {'fillna': None, 'transformations': {'0': 'AnomalyRemoval'}, 'transformation_params': {'0': {'method': 'zscore', 'transform_dict': {'transformations': {'0': 'DatepartRegression'}, 'transformation_params': {'0': {'datepart_method': 'simple_3', 'regression_model': {'model': 'ElasticNet', 'model_params': {}}}}}, 'method_params': {'distribution': 'uniform', 'alpha': 0.05}}}}}, '3': {'rolling_window': 0.05, 'n_tails': 180, 'n_future': 0.2, 'method': 'mean', 'macro_micro': True}, '4': {'regression_model': {'C': 1.0, 'tol': 0.0001, 'loss': 'epsilon_insensitive', 'max_iter': 500}, 'datepart_method': 'simple_binarized', 'polynomial_degree': None, 'transform_dict': None, 'holiday_countries_used': True}}\") in model 1236 in generation 10: UnivariateRegression\n",
            "Model Number: 1237 with model ARDL in generation 10 of 20\n",
            "Model Number: 1238 with model UnobservedComponents in generation 10 of 20\n",
            "Model Number: 1239 with model UnobservedComponents in generation 10 of 20\n"
          ]
        },
        {
          "name": "stderr",
          "output_type": "stream",
          "text": [
            "/usr/local/lib/python3.10/dist-packages/sklearn/linear_model/_ridge.py:216: LinAlgWarning:\n",
            "\n",
            "Ill-conditioned matrix (rcond=1.44548e-25): result may not be accurate.\n",
            "\n"
          ]
        },
        {
          "name": "stdout",
          "output_type": "stream",
          "text": [
            "Model Number: 1240 with model SeasonalNaive in generation 10 of 20\n",
            "Model Number: 1241 with model SeasonalNaive in generation 10 of 20\n",
            "Model Number: 1242 with model MultivariateRegression in generation 10 of 20\n",
            "Model Number: 1243 with model NVAR in generation 10 of 20\n",
            "Model Number: 1244 with model NVAR in generation 10 of 20\n",
            "Model Number: 1245 with model UnobservedComponents in generation 10 of 20\n",
            "Model Number: 1246 with model ARDL in generation 10 of 20\n",
            "Template Eval Error: ValueError(\"ARDL series Close failed with error ValueError('The number of regressors (176) including deterministics, lags of the endog, lags of the exogenous, and fixed regressors is larger than the sample available for estimation (145).') exog train             weekend  quarter      epoch  month_1  month_2  month_3  month_4  \\\\\\nDate                                                                          \\n2023-09-23        1        3  2460210.5      0.0      0.0      0.0      0.0   \\n2023-09-24        1        3  2460211.5      0.0      0.0      0.0      0.0   \\n2023-09-25        0        3  2460212.5      0.0      0.0      0.0      0.0   \\n2023-09-26        0        3  2460213.5      0.0      0.0      0.0      0.0   \\n2023-09-27        0        3  2460214.5      0.0      0.0      0.0      0.0   \\n...             ...      ...        ...      ...      ...      ...      ...   \\n2024-02-12        0        1  2460352.5      0.0      1.0      0.0      0.0   \\n2024-02-13        0        1  2460353.5      0.0      1.0      0.0      0.0   \\n2024-02-14        0        1  2460354.5      0.0      1.0      0.0      0.0   \\n2024-02-15        0        1  2460355.5      0.0      1.0      0.0      0.0   \\n2024-02-16        0        1  2460356.5      0.0      1.0      0.0      0.0   \\n\\n            month_5  month_6  month_7  ...  day_27  day_28  day_29  day_30  \\\\\\nDate                                   ...                                   \\n2023-09-23      0.0      0.0      0.0  ...     0.0     0.0     0.0     0.0   \\n2023-09-24      0.0      0.0      0.0  ...     0.0     0.0     0.0     0.0   \\n2023-09-25      0.0      0.0      0.0  ...     0.0     0.0     0.0     0.0   \\n2023-09-26      0.0      0.0      0.0  ...     0.0     0.0     0.0     0.0   \\n2023-09-27      0.0      0.0      0.0  ...     1.0     0.0     0.0     0.0   \\n...             ...      ...      ...  ...     ...     ...     ...     ...   \\n2024-02-12      0.0      0.0      0.0  ...     0.0     0.0     0.0     0.0   \\n2024-02-13      0.0      0.0      0.0  ...     0.0     0.0     0.0     0.0   \\n2024-02-14      0.0      0.0      0.0  ...     0.0     0.0     0.0     0.0   \\n2024-02-15      0.0      0.0      0.0  ...     0.0     0.0     0.0     0.0   \\n2024-02-16      0.0      0.0      0.0  ...     0.0     0.0     0.0     0.0   \\n\\n            day_31  weekdayofmonth_1  weekdayofmonth_2  weekdayofmonth_3  \\\\\\nDate                                                                       \\n2023-09-23     0.0               0.0               0.0               0.0   \\n2023-09-24     0.0               0.0               0.0               0.0   \\n2023-09-25     0.0               0.0               0.0               0.0   \\n2023-09-26     0.0               0.0               0.0               0.0   \\n2023-09-27     0.0               0.0               0.0               0.0   \\n...            ...               ...               ...               ...   \\n2024-02-12     0.0               0.0               1.0               0.0   \\n2024-02-13     0.0               0.0               1.0               0.0   \\n2024-02-14     0.0               0.0               1.0               0.0   \\n2024-02-15     0.0               0.0               0.0               1.0   \\n2024-02-16     0.0               0.0               0.0               1.0   \\n\\n            weekdayofmonth_4  weekdayofmonth_5  \\nDate                                            \\n2023-09-23               1.0               0.0  \\n2023-09-24               1.0               0.0  \\n2023-09-25               1.0               0.0  \\n2023-09-26               1.0               0.0  \\n2023-09-27               1.0               0.0  \\n...                      ...               ...  \\n2024-02-12               0.0               0.0  \\n2024-02-13               0.0               0.0  \\n2024-02-14               0.0               0.0  \\n2024-02-15               0.0               0.0  \\n2024-02-16               0.0               0.0  \\n\\n[147 rows x 58 columns] and predict             weekend  quarter      epoch  month_1  month_2  month_3  month_4  \\\\\\n2024-02-17        1        1  2460357.5      0.0      1.0      0.0      0.0   \\n2024-02-18        1        1  2460358.5      0.0      1.0      0.0      0.0   \\n2024-02-19        0        1  2460359.5      0.0      1.0      0.0      0.0   \\n2024-02-20        0        1  2460360.5      0.0      1.0      0.0      0.0   \\n2024-02-21        0        1  2460361.5      0.0      1.0      0.0      0.0   \\n2024-02-22        0        1  2460362.5      0.0      1.0      0.0      0.0   \\n2024-02-23        0        1  2460363.5      0.0      1.0      0.0      0.0   \\n2024-02-24        1        1  2460364.5      0.0      1.0      0.0      0.0   \\n2024-02-25        1        1  2460365.5      0.0      1.0      0.0      0.0   \\n2024-02-26        0        1  2460366.5      0.0      1.0      0.0      0.0   \\n2024-02-27        0        1  2460367.5      0.0      1.0      0.0      0.0   \\n2024-02-28        0        1  2460368.5      0.0      1.0      0.0      0.0   \\n2024-02-29        0        1  2460369.5      0.0      1.0      0.0      0.0   \\n2024-03-01        0        1  2460370.5      0.0      0.0      1.0      0.0   \\n2024-03-02        1        1  2460371.5      0.0      0.0      1.0      0.0   \\n2024-03-03        1        1  2460372.5      0.0      0.0      1.0      0.0   \\n2024-03-04        0        1  2460373.5      0.0      0.0      1.0      0.0   \\n2024-03-05        0        1  2460374.5      0.0      0.0      1.0      0.0   \\n2024-03-06        0        1  2460375.5      0.0      0.0      1.0      0.0   \\n2024-03-07        0        1  2460376.5      0.0      0.0      1.0      0.0   \\n2024-03-08        0        1  2460377.5      0.0      0.0      1.0      0.0   \\n2024-03-09        1        1  2460378.5      0.0      0.0      1.0      0.0   \\n2024-03-10        1        1  2460379.5      0.0      0.0      1.0      0.0   \\n2024-03-11        0        1  2460380.5      0.0      0.0      1.0      0.0   \\n2024-03-12        0        1  2460381.5      0.0      0.0      1.0      0.0   \\n2024-03-13        0        1  2460382.5      0.0      0.0      1.0      0.0   \\n2024-03-14        0        1  2460383.5      0.0      0.0      1.0      0.0   \\n2024-03-15        0        1  2460384.5      0.0      0.0      1.0      0.0   \\n2024-03-16        1        1  2460385.5      0.0      0.0      1.0      0.0   \\n2024-03-17        1        1  2460386.5      0.0      0.0      1.0      0.0   \\n\\n            month_5  month_6  month_7  ...  day_27  day_28  day_29  day_30  \\\\\\n2024-02-17      0.0      0.0      0.0  ...     0.0     0.0     0.0     0.0   \\n2024-02-18      0.0      0.0      0.0  ...     0.0     0.0     0.0     0.0   \\n2024-02-19      0.0      0.0      0.0  ...     0.0     0.0     0.0     0.0   \\n2024-02-20      0.0      0.0      0.0  ...     0.0     0.0     0.0     0.0   \\n2024-02-21      0.0      0.0      0.0  ...     0.0     0.0     0.0     0.0   \\n2024-02-22      0.0      0.0      0.0  ...     0.0     0.0     0.0     0.0   \\n2024-02-23      0.0      0.0      0.0  ...     0.0     0.0     0.0     0.0   \\n2024-02-24      0.0      0.0      0.0  ...     0.0     0.0     0.0     0.0   \\n2024-02-25      0.0      0.0      0.0  ...     0.0     0.0     0.0     0.0   \\n2024-02-26      0.0      0.0      0.0  ...     0.0     0.0     0.0     0.0   \\n2024-02-27      0.0      0.0      0.0  ...     1.0     0.0     0.0     0.0   \\n2024-02-28      0.0      0.0      0.0  ...     0.0     1.0     0.0     0.0   \\n2024-02-29      0.0      0.0      0.0  ...     0.0     0.0     1.0     0.0   \\n2024-03-01      0.0      0.0      0.0  ...     0.0     0.0     0.0     0.0   \\n2024-03-02      0.0      0.0      0.0  ...     0.0     0.0     0.0     0.0   \\n2024-03-03      0.0      0.0      0.0  ...     0.0     0.0     0.0     0.0   \\n2024-03-04      0.0      0.0      0.0  ...     0.0     0.0     0.0     0.0   \\n2024-03-05      0.0      0.0      0.0  ...     0.0     0.0     0.0     0.0   \\n2024-03-06      0.0      0.0      0.0  ...     0.0     0.0     0.0     0.0   \\n2024-03-07      0.0      0.0      0.0  ...     0.0     0.0     0.0     0.0   \\n2024-03-08      0.0      0.0      0.0  ...     0.0     0.0     0.0     0.0   \\n2024-03-09      0.0      0.0      0.0  ...     0.0     0.0     0.0     0.0   \\n2024-03-10      0.0      0.0      0.0  ...     0.0     0.0     0.0     0.0   \\n2024-03-11      0.0      0.0      0.0  ...     0.0     0.0     0.0     0.0   \\n2024-03-12      0.0      0.0      0.0  ...     0.0     0.0     0.0     0.0   \\n2024-03-13      0.0      0.0      0.0  ...     0.0     0.0     0.0     0.0   \\n2024-03-14      0.0      0.0      0.0  ...     0.0     0.0     0.0     0.0   \\n2024-03-15      0.0      0.0      0.0  ...     0.0     0.0     0.0     0.0   \\n2024-03-16      0.0      0.0      0.0  ...     0.0     0.0     0.0     0.0   \\n2024-03-17      0.0      0.0      0.0  ...     0.0     0.0     0.0     0.0   \\n\\n            day_31  weekdayofmonth_1  weekdayofmonth_2  weekdayofmonth_3  \\\\\\n2024-02-17     0.0               0.0               0.0               1.0   \\n2024-02-18     0.0               0.0               0.0               1.0   \\n2024-02-19     0.0               0.0               0.0               1.0   \\n2024-02-20     0.0               0.0               0.0               1.0   \\n2024-02-21     0.0               0.0               0.0               1.0   \\n2024-02-22     0.0               0.0               0.0               0.0   \\n2024-02-23     0.0               0.0               0.0               0.0   \\n2024-02-24     0.0               0.0               0.0               0.0   \\n2024-02-25     0.0               0.0               0.0               0.0   \\n2024-02-26     0.0               0.0               0.0               0.0   \\n2024-02-27     0.0               0.0               0.0               0.0   \\n2024-02-28     0.0               0.0               0.0               0.0   \\n2024-02-29     0.0               0.0               0.0               0.0   \\n2024-03-01     0.0               1.0               0.0               0.0   \\n2024-03-02     0.0               1.0               0.0               0.0   \\n2024-03-03     0.0               1.0               0.0               0.0   \\n2024-03-04     0.0               1.0               0.0               0.0   \\n2024-03-05     0.0               1.0               0.0               0.0   \\n2024-03-06     0.0               1.0               0.0               0.0   \\n2024-03-07     0.0               1.0               0.0               0.0   \\n2024-03-08     0.0               0.0               1.0               0.0   \\n2024-03-09     0.0               0.0               1.0               0.0   \\n2024-03-10     0.0               0.0               1.0               0.0   \\n2024-03-11     0.0               0.0               1.0               0.0   \\n2024-03-12     0.0               0.0               1.0               0.0   \\n2024-03-13     0.0               0.0               1.0               0.0   \\n2024-03-14     0.0               0.0               1.0               0.0   \\n2024-03-15     0.0               0.0               0.0               1.0   \\n2024-03-16     0.0               0.0               0.0               1.0   \\n2024-03-17     0.0               0.0               0.0               1.0   \\n\\n            weekdayofmonth_4  weekdayofmonth_5  \\n2024-02-17               0.0               0.0  \\n2024-02-18               0.0               0.0  \\n2024-02-19               0.0               0.0  \\n2024-02-20               0.0               0.0  \\n2024-02-21               0.0               0.0  \\n2024-02-22               1.0               0.0  \\n2024-02-23               1.0               0.0  \\n2024-02-24               1.0               0.0  \\n2024-02-25               1.0               0.0  \\n2024-02-26               1.0               0.0  \\n2024-02-27               1.0               0.0  \\n2024-02-28               1.0               0.0  \\n2024-02-29               0.0               1.0  \\n2024-03-01               0.0               0.0  \\n2024-03-02               0.0               0.0  \\n2024-03-03               0.0               0.0  \\n2024-03-04               0.0               0.0  \\n2024-03-05               0.0               0.0  \\n2024-03-06               0.0               0.0  \\n2024-03-07               0.0               0.0  \\n2024-03-08               0.0               0.0  \\n2024-03-09               0.0               0.0  \\n2024-03-10               0.0               0.0  \\n2024-03-11               0.0               0.0  \\n2024-03-12               0.0               0.0  \\n2024-03-13               0.0               0.0  \\n2024-03-14               0.0               0.0  \\n2024-03-15               0.0               0.0  \\n2024-03-16               0.0               0.0  \\n2024-03-17               0.0               0.0  \\n\\n[30 rows x 58 columns]\") in model 1246 in generation 10: ARDL\n",
            "Model Number: 1247 with model UnobservedComponents in generation 10 of 20\n",
            "Model Number: 1248 with model MultivariateMotif in generation 10 of 20\n",
            "Model Number: 1249 with model GLS in generation 10 of 20\n",
            "Model Number: 1250 with model SeasonalNaive in generation 10 of 20\n",
            "Model Number: 1251 with model Theta in generation 10 of 20\n",
            "Model Number: 1252 with model MultivariateRegression in generation 10 of 20\n",
            "Model Number: 1253 with model ETS in generation 10 of 20\n",
            "Model Number: 1254 with model SeasonalityMotif in generation 10 of 20\n",
            "Model Number: 1255 with model MetricMotif in generation 10 of 20\n",
            "Model Number: 1256 with model UnobservedComponents in generation 10 of 20\n",
            "New Generation: 11 of 20\n",
            "Model Number: 1257 with model LastValueNaive in generation 11 of 20\n",
            "Model Number: 1258 with model ETS in generation 11 of 20\n",
            "Model Number: 1259 with model SeasonalityMotif in generation 11 of 20\n",
            "Model Number: 1260 with model FBProphet in generation 11 of 20\n",
            "Template Eval Error: ValueError(\"regression_type='User' but no future_regressor passed\") in model 1260 in generation 11: FBProphet\n",
            "Model Number: 1261 with model NVAR in generation 11 of 20\n",
            "Model Number: 1262 with model UnivariateMotif in generation 11 of 20\n",
            "Model Number: 1263 with model MultivariateRegression in generation 11 of 20\n",
            "Template Eval Error: Exception(\"Transformer AlignLastValue failed on inverse from params piecewise_polynomial {'0': {'rows': 7, 'lag': 1, 'method': 'additive', 'strength': 1.0, 'first_value_only': True}, '1': {'sigma': 1, 'rolling_window': 90, 'run_order': 'season_first', 'regression_params': {'regression_model': {'model': 'ElasticNet', 'model_params': {}}, 'datepart_method': 'recurring', 'polynomial_degree': None, 'transform_dict': None, 'holiday_countries_used': False}, 'holiday_params': None}}\") in model 1263 in generation 11: MultivariateRegression\n",
            "Model Number: 1264 with model UnivariateRegression in generation 11 of 20\n",
            "Template Eval Error: ValueError(\"regression_type='User' but not future_regressor supplied.\") in model 1264 in generation 11: UnivariateRegression\n",
            "Model Number: 1265 with model NVAR in generation 11 of 20\n",
            "Model Number: 1266 with model NVAR in generation 11 of 20\n",
            "Model Number: 1267 with model Theta in generation 11 of 20\n",
            "Model Number: 1268 with model UnivariateRegression in generation 11 of 20\n",
            "Model Number: 1269 with model MultivariateRegression in generation 11 of 20\n",
            "Template Eval Error: ValueError(\"regression_type='User' but not future_regressor supplied.\") in model 1269 in generation 11: MultivariateRegression\n",
            "Model Number: 1270 with model FBProphet in generation 11 of 20\n",
            "Model Number: 1271 with model NVAR in generation 11 of 20\n",
            "Model Number: 1272 with model MultivariateMotif in generation 11 of 20\n",
            "Model Number: 1273 with model FBProphet in generation 11 of 20\n",
            "Model Number: 1274 with model NVAR in generation 11 of 20\n",
            "Model Number: 1275 with model MultivariateRegression in generation 11 of 20\n",
            "Model Number: 1276 with model SeasonalityMotif in generation 11 of 20\n",
            "Model Number: 1277 with model UnobservedComponents in generation 11 of 20\n"
          ]
        },
        {
          "name": "stderr",
          "output_type": "stream",
          "text": [
            "/usr/local/lib/python3.10/dist-packages/sklearn/decomposition/_fastica.py:708: FutureWarning:\n",
            "\n",
            "Starting in v1.3, whiten=True should be specified as whiten='arbitrary-variance' (its current behaviour). This behavior is deprecated in 1.1 and will raise ValueError in 1.3.\n",
            "\n"
          ]
        },
        {
          "name": "stdout",
          "output_type": "stream",
          "text": [
            "Model Number: 1278 with model FBProphet in generation 11 of 20\n",
            "Model Number: 1279 with model FBProphet in generation 11 of 20\n",
            "Model Number: 1280 with model WindowRegression in generation 11 of 20\n",
            "Model Number: 1281 with model SeasonalityMotif in generation 11 of 20\n",
            "Model Number: 1282 with model UnobservedComponents in generation 11 of 20\n",
            "Model Number: 1283 with model SeasonalityMotif in generation 11 of 20\n",
            "Model Number: 1284 with model Theta in generation 11 of 20\n",
            "Model Number: 1285 with model UnobservedComponents in generation 11 of 20\n",
            "Model Number: 1286 with model UnobservedComponents in generation 11 of 20\n",
            "Model Number: 1287 with model UnivariateRegression in generation 11 of 20\n",
            "Model Number: 1288 with model FBProphet in generation 11 of 20\n",
            "Model Number: 1289 with model NVAR in generation 11 of 20\n",
            "Model Number: 1290 with model AverageValueNaive in generation 11 of 20\n",
            "Model Number: 1291 with model NVAR in generation 11 of 20\n",
            "Model Number: 1292 with model MetricMotif in generation 11 of 20\n",
            "Model Number: 1293 with model ARDL in generation 11 of 20\n",
            "Model Number: 1294 with model ARIMA in generation 11 of 20\n",
            "Model Number: 1295 with model ARDL in generation 11 of 20\n",
            "Model Number: 1296 with model FBProphet in generation 11 of 20\n",
            "Model Number: 1297 with model Theta in generation 11 of 20\n",
            "Model Number: 1298 with model SeasonalityMotif in generation 11 of 20\n",
            "Model Number: 1299 with model UnivariateRegression in generation 11 of 20\n",
            "Model Number: 1300 with model ETS in generation 11 of 20\n",
            "Model Number: 1301 with model LastValueNaive in generation 11 of 20\n",
            "Model Number: 1302 with model SeasonalNaive in generation 11 of 20\n",
            "Model Number: 1303 with model MetricMotif in generation 11 of 20\n",
            "Model Number: 1304 with model MultivariateRegression in generation 11 of 20\n",
            "Template Eval Error: Exception(\"Transformer ScipyFilter failed on fit from params rolling_mean_24 {'0': {'method': 'butter', 'method_args': {'N': 7, 'btype': 'highpass', 'analog': False, 'output': 'sos', 'Wn': 0.14285714285714285}}}\") in model 1304 in generation 11: MultivariateRegression\n",
            "Model Number: 1305 with model SeasonalNaive in generation 11 of 20\n",
            "Model Number: 1306 with model Theta in generation 11 of 20\n",
            "Model Number: 1307 with model UnobservedComponents in generation 11 of 20\n",
            "Model Number: 1308 with model SeasonalityMotif in generation 11 of 20\n",
            "Model Number: 1309 with model Theta in generation 11 of 20\n",
            "Model Number: 1310 with model UnivariateMotif in generation 11 of 20\n",
            "Model Number: 1311 with model ETS in generation 11 of 20\n",
            "Model Number: 1312 with model SeasonalityMotif in generation 11 of 20\n",
            "Model Number: 1313 with model FBProphet in generation 11 of 20\n",
            "No anomalies detected.\n",
            "Model Number: 1314 with model UnivariateRegression in generation 11 of 20\n",
            "Model Number: 1315 with model LastValueNaive in generation 11 of 20\n",
            "Model Number: 1316 with model LastValueNaive in generation 11 of 20\n",
            "Model Number: 1317 with model SeasonalityMotif in generation 11 of 20\n",
            "Model Number: 1318 with model SeasonalNaive in generation 11 of 20\n",
            "Model Number: 1319 with model FBProphet in generation 11 of 20\n",
            "No anomalies detected.\n",
            "Model Number: 1320 with model UnivariateMotif in generation 11 of 20\n",
            "Model Number: 1321 with model FBProphet in generation 11 of 20\n",
            "Template Eval Error: Exception(\"Transformer STLFilter failed on fit from params ffill {'0': {'decomp_type': 'seasonal_decompose', 'part': 'trend'}, '1': {'method': 0.8}}\") in model 1321 in generation 11: FBProphet\n",
            "Model Number: 1322 with model NVAR in generation 11 of 20\n",
            "Model Number: 1323 with model NVAR in generation 11 of 20\n",
            "Model Number: 1324 with model UnobservedComponents in generation 11 of 20\n",
            "Template Eval Error: ValueError(\"regression_type='User' but no future_regressor supplied\") in model 1324 in generation 11: UnobservedComponents\n",
            "Model Number: 1325 with model MultivariateRegression in generation 11 of 20\n",
            "Template Eval Error: KeyError('model') in model 1325 in generation 11: MultivariateRegression\n",
            "Model Number: 1326 with model UnivariateRegression in generation 11 of 20\n",
            "Model Number: 1327 with model AverageValueNaive in generation 11 of 20\n",
            "Model Number: 1328 with model SeasonalNaive in generation 11 of 20\n",
            "Model Number: 1329 with model UnobservedComponents in generation 11 of 20\n",
            "Model Number: 1330 with model UnivariateRegression in generation 11 of 20\n",
            "Model Number: 1331 with model UnivariateRegression in generation 11 of 20\n",
            "Template Eval Error: Exception(\"Transformer STLFilter failed on fit from params ffill {'0': {'decomp_type': 'seasonal_decompose', 'part': 'trend'}, '1': {'method': 'IQR', 'method_params': {'iqr_threshold': 2.0, 'iqr_quantiles': [0.25, 0.75]}, 'fillna': 'ffill', 'transform_dict': {'fillna': 'rolling_mean', 'transformations': {'0': 'Log', '1': 'IntermittentOccurrence'}, 'transformation_params': {'0': {}, '1': {'center': 'mean'}}}, 'isolated_only': True}, '2': {'rows': 1, 'lag': 1, 'method': 'additive', 'strength': 1.0, 'first_value_only': False}}\") in model 1331 in generation 11: UnivariateRegression\n",
            "New Generation: 12 of 20\n",
            "Model Number: 1332 with model GLM in generation 12 of 20\n",
            "Model Number: 1333 with model UnivariateRegression in generation 12 of 20\n",
            "Model Number: 1334 with model MultivariateRegression in generation 12 of 20\n"
          ]
        },
        {
          "name": "stderr",
          "output_type": "stream",
          "text": [
            "/usr/local/lib/python3.10/dist-packages/numpy/lib/function_base.py:2889: RuntimeWarning:\n",
            "\n",
            "Degrees of freedom <= 0 for slice\n",
            "\n"
          ]
        },
        {
          "name": "stdout",
          "output_type": "stream",
          "text": [
            "Template Eval Error: ValueError('Input X contains NaN.\\nRandomForestRegressor does not accept missing values encoded as NaN natively. For supervised learning, you might want to consider sklearn.ensemble.HistGradientBoostingClassifier and Regressor which accept missing values encoded as NaNs natively. Alternatively, it is possible to preprocess the data, for instance by using an imputer transformer in a pipeline or drop samples with missing values. See https://scikit-learn.org/stable/modules/impute.html You can find a list of all estimators that handle NaN values at the following page: https://scikit-learn.org/stable/modules/impute.html#estimators-that-handle-nan-values') in model 1334 in generation 12: MultivariateRegression\n",
            "Model Number: 1335 with model UnivariateRegression in generation 12 of 20\n",
            "Model Number: 1336 with model NVAR in generation 12 of 20\n",
            "Model Number: 1337 with model UnivariateMotif in generation 12 of 20\n"
          ]
        },
        {
          "name": "stderr",
          "output_type": "stream",
          "text": [
            "/usr/local/lib/python3.10/dist-packages/numpy/lib/function_base.py:2889: RuntimeWarning:\n",
            "\n",
            "Degrees of freedom <= 0 for slice\n",
            "\n"
          ]
        },
        {
          "name": "stdout",
          "output_type": "stream",
          "text": [
            "Model Number: 1338 with model UnobservedComponents in generation 12 of 20\n",
            "Model Number: 1339 with model MultivariateRegression in generation 12 of 20\n",
            "Model Number: 1340 with model NVAR in generation 12 of 20\n",
            "Model Number: 1341 with model ETS in generation 12 of 20\n",
            "Model Number: 1342 with model MultivariateRegression in generation 12 of 20\n",
            "Model Number: 1343 with model ARIMA in generation 12 of 20\n",
            "Model Number: 1344 with model FBProphet in generation 12 of 20\n",
            "Model Number: 1345 with model FBProphet in generation 12 of 20\n",
            "Model Number: 1346 with model FBProphet in generation 12 of 20\n",
            "Model Number: 1347 with model UnobservedComponents in generation 12 of 20\n",
            "Model Number: 1348 with model NVAR in generation 12 of 20\n",
            "Model Number: 1349 with model LastValueNaive in generation 12 of 20\n",
            "Model Number: 1350 with model UnobservedComponents in generation 12 of 20\n",
            "Model Number: 1351 with model SeasonalityMotif in generation 12 of 20\n",
            "Model Number: 1352 with model UnivariateRegression in generation 12 of 20\n",
            "Model Number: 1353 with model LastValueNaive in generation 12 of 20\n",
            "Model Number: 1354 with model MetricMotif in generation 12 of 20\n",
            "Model Number: 1355 with model FBProphet in generation 12 of 20\n"
          ]
        },
        {
          "name": "stderr",
          "output_type": "stream",
          "text": [
            "/usr/local/lib/python3.10/dist-packages/sklearn/linear_model/_coordinate_descent.py:2418: ConvergenceWarning:\n",
            "\n",
            "Objective did not converge. You might want to increase the number of iterations. Duality gap: 225701239.97469804, tolerance: 167404.37481408424\n",
            "\n"
          ]
        },
        {
          "name": "stdout",
          "output_type": "stream",
          "text": [
            "Model Number: 1356 with model FBProphet in generation 12 of 20\n",
            "Model Number: 1357 with model ARIMA in generation 12 of 20\n",
            "Model Number: 1358 with model NVAR in generation 12 of 20\n",
            "Template Eval Error: Exception(\"Transformer AlignLastValue failed on inverse from params barycentric {'0': {'rows': 7, 'lag': 1, 'method': 'additive', 'strength': 1.0, 'first_value_only': False}, '1': {}, '2': {'rows': 7, 'lag': 1, 'method': 'additive', 'strength': 1.0, 'first_value_only': True}, '3': {'rows': 1, 'lag': 1, 'method': 'multiplicative', 'strength': 0.2, 'first_value_only': False}, '4': {}}\") in model 1358 in generation 12: NVAR\n",
            "Model Number: 1359 with model ARIMA in generation 12 of 20\n",
            "Model Number: 1360 with model GLS in generation 12 of 20\n",
            "Model Number: 1361 with model NVAR in generation 12 of 20\n",
            "Model Number: 1362 with model ETS in generation 12 of 20\n",
            "Template Eval Error: Exception(\"Transformer ReplaceConstant failed on fit from params ffill {'0': {'constant': 0, 'reintroduction_model': {'model': 'xgboost', 'model_params': {'base_score': 0.5, 'booster': 'gbtree', 'colsample_bylevel': 0.692, 'learning_rate': 0.022, 'max_bin': 256, 'max_depth': 14, 'max_leaves': 0, 'min_child_weight': 0.024, 'n_estimators': 162}, 'datepart_method': 'common_fourier'}, 'fillna': 'ffill'}, '1': {}, '2': {'whiten': False}, '3': {'rows': 4}}\") in model 1362 in generation 12: ETS\n",
            "Model Number: 1363 with model NVAR in generation 12 of 20\n",
            "Model Number: 1364 with model UnivariateMotif in generation 12 of 20\n",
            "Model Number: 1365 with model FBProphet in generation 12 of 20\n",
            "Model Number: 1366 with model AverageValueNaive in generation 12 of 20\n",
            "Model Number: 1367 with model AverageValueNaive in generation 12 of 20\n",
            "Model Number: 1368 with model Theta in generation 12 of 20\n",
            "Model Number: 1369 with model MultivariateMotif in generation 12 of 20\n",
            "Model Number: 1370 with model ETS in generation 12 of 20\n",
            "Model Number: 1371 with model LastValueNaive in generation 12 of 20\n",
            "Template Eval Error: Exception(\"Transformer KalmanSmoothing failed on fit from params ffill {'0': {'model_name': 'ucm_deterministictrend_seasonal7', 'state_transition': [[1, 1, 0, 0, 0, 0, 0, 0], [0, 1, 0, 0, 0, 0, 0, 0], [0, 0, 1, 0, 0, 0, 0, 0], [0, 0, 0, 1, 0, 0, 0, 0], [0, 0, 0, 0, 1, 0, 0, 0], [0, 0, 0, 0, 0, 1, 0, 0], [0, 0, 0, 0, 0, 0, 1, 0], [0, 0, -1, -1, -1, -1, -1, -1]], 'process_noise': [[0.001, 0, 0, 0, 0, 0, 0, 0], [0, 0.001, 0, 0, 0, 0, 0, 0], [0, 0, 0.001, 0, 0, 0, 0, 0], [0, 0, 0, 0.001, 0, 0, 0, 0], [0, 0, 0, 0, 0.001, 0, 0, 0], [0, 0, 0, 0, 0, 0.001, 0, 0], [0, 0, 0, 0, 0, 0, 0.001, 0], [0, 0, 0, 0, 0, 0, 0, 0]], 'observation_model': [[1, 0, 1, 1, 1, 1, 1, 1]], 'observation_noise': 0.03, 'em_iter': None}, '1': {}, '2': {'model_name': 'ucm_deterministictrend_seasonal7', 'state_transition': [[1, 1, 0, 0, 0, 0, 0, 0], [0, 1, 0, 0, 0, 0, 0, 0], [0, 0, 1, 0, 0, 0, 0, 0], [0, 0, 0, 1, 0, 0, 0, 0], [0, 0, 0, 0, 1, 0, 0, 0], [0, 0, 0, 0, 0, 1, 0, 0], [0, 0, 0, 0, 0, 0, 1, 0], [0, 0, -1, -1, -1, -1, -1, -1]], 'process_noise': [[0.001, 0, 0, 0, 0, 0, 0, 0], [0, 0.001, 0, 0, 0, 0, 0, 0], [0, 0, 0.001, 0, 0, 0, 0, 0], [0, 0, 0, 0.001, 0, 0, 0, 0], [0, 0, 0, 0, 0.001, 0, 0, 0], [0, 0, 0, 0, 0, 0.001, 0, 0], [0, 0, 0, 0, 0, 0, 0.001, 0], [0, 0, 0, 0, 0, 0, 0, 0]], 'observation_model': [[1, 0, 1, 1, 1, 1, 1, 1]], 'observation_noise': 0.1, 'em_iter': 30}, '3': {}}\") in model 1371 in generation 12: LastValueNaive\n",
            "Model Number: 1372 with model SeasonalityMotif in generation 12 of 20\n"
          ]
        },
        {
          "name": "stderr",
          "output_type": "stream",
          "text": [
            "/usr/local/lib/python3.10/dist-packages/autots/tools/fast_kalman.py:1092: RuntimeWarning:\n",
            "\n",
            "overflow encountered in cast\n",
            "\n",
            "/usr/local/lib/python3.10/dist-packages/autots/tools/fast_kalman.py:1098: RuntimeWarning:\n",
            "\n",
            "overflow encountered in cast\n",
            "\n",
            "/usr/local/lib/python3.10/dist-packages/autots/tools/fast_kalman.py:1309: RuntimeWarning:\n",
            "\n",
            "invalid value encountered in matmul\n",
            "\n"
          ]
        },
        {
          "name": "stdout",
          "output_type": "stream",
          "text": [
            "Model Number: 1373 with model MultivariateRegression in generation 12 of 20\n",
            "Model Number: 1374 with model UnivariateRegression in generation 12 of 20\n",
            "Model Number: 1375 with model UnivariateMotif in generation 12 of 20\n",
            "Model Number: 1376 with model Theta in generation 12 of 20\n",
            "Model Number: 1377 with model ARIMA in generation 12 of 20\n",
            "Model Number: 1378 with model ETS in generation 12 of 20\n",
            "Model Number: 1379 with model SeasonalityMotif in generation 12 of 20\n",
            "Model Number: 1380 with model UnobservedComponents in generation 12 of 20\n",
            "Model Number: 1381 with model NVAR in generation 12 of 20\n",
            "Template Eval Error: Exception(\"Transformer AlignLastValue failed on inverse from params ffill_mean_biased {'0': {}, '1': {}, '2': {}, '3': {'rows': 1, 'lag': 1, 'method': 'additive', 'strength': 1.0, 'first_value_only': False}, '4': {'rows': 4, 'lag': 1, 'method': 'additive', 'strength': 1.0, 'first_value_only': True}, '5': {}}\") in model 1381 in generation 12: NVAR\n",
            "Model Number: 1382 with model UnivariateRegression in generation 12 of 20\n",
            "Model Number: 1383 with model WindowRegression in generation 12 of 20\n",
            "Model Number: 1384 with model MultivariateRegression in generation 12 of 20\n",
            "Template Eval Error: ValueError(\"regression_type='User' but not future_regressor supplied.\") in model 1384 in generation 12: MultivariateRegression\n",
            "Model Number: 1385 with model AverageValueNaive in generation 12 of 20\n"
          ]
        },
        {
          "name": "stderr",
          "output_type": "stream",
          "text": [
            "/usr/local/lib/python3.10/dist-packages/sklearn/neural_network/_multilayer_perceptron.py:541: ConvergenceWarning:\n",
            "\n",
            "lbfgs failed to converge (status=1):\n",
            "STOP: TOTAL NO. of ITERATIONS REACHED LIMIT.\n",
            "\n",
            "Increase the number of iterations (max_iter) or scale the data as shown in:\n",
            "    https://scikit-learn.org/stable/modules/preprocessing.html\n",
            "\n"
          ]
        },
        {
          "name": "stdout",
          "output_type": "stream",
          "text": [
            "Model Number: 1386 with model ARDL in generation 12 of 20\n",
            "Template Eval Error: Exception(\"Transformer AlignLastValue failed on inverse from params ffill_mean_biased {'0': {'rows': 1, 'lag': 1, 'method': 'additive', 'strength': 1.0, 'first_value_only': True}, '1': {'method': 0.8}}\") in model 1386 in generation 12: ARDL\n",
            "Model Number: 1387 with model UnobservedComponents in generation 12 of 20\n",
            "Model Number: 1388 with model UnivariateRegression in generation 12 of 20\n",
            "Model Number: 1389 with model FBProphet in generation 12 of 20\n",
            "Template Eval Error: Exception(\"Transformer ReplaceConstant failed on fit from params zero {'0': {'constant': 0, 'reintroduction_model': {'model': 'xgboost', 'model_params': {'booster': 'gbtree', 'colsample_bylevel': 0.54, 'learning_rate': 0.0125, 'max_depth': 11, 'min_child_weight': 0.0127203, 'n_estimators': 319}, 'datepart_method': 'simple'}, 'fillna': 'akima'}, '1': {'decimals': 0, 'on_transform': True, 'on_inverse': True}, '2': {'rows': 1, 'lag': 1, 'method': 'additive', 'strength': 0.2, 'first_value_only': False}}\") in model 1389 in generation 12: FBProphet\n",
            "Model Number: 1390 with model ETS in generation 12 of 20\n",
            "Model Number: 1391 with model FBProphet in generation 12 of 20\n",
            "Model Number: 1392 with model ETS in generation 12 of 20\n",
            "Model Number: 1393 with model FBProphet in generation 12 of 20\n",
            "Model Number: 1394 with model UnivariateRegression in generation 12 of 20\n",
            "Model Number: 1395 with model GLS in generation 12 of 20\n",
            "Model Number: 1396 with model MultivariateRegression in generation 12 of 20\n",
            "Model Number: 1397 with model FBProphet in generation 12 of 20\n",
            "Model Number: 1398 with model SeasonalNaive in generation 12 of 20\n",
            "Model Number: 1399 with model SeasonalityMotif in generation 12 of 20\n",
            "Model Number: 1400 with model UnobservedComponents in generation 12 of 20\n",
            "Model Number: 1401 with model ETS in generation 12 of 20\n",
            "Model Number: 1402 with model LastValueNaive in generation 12 of 20\n",
            "Model Number: 1403 with model Theta in generation 12 of 20\n",
            "Model Number: 1404 with model ARDL in generation 12 of 20\n"
          ]
        },
        {
          "name": "stderr",
          "output_type": "stream",
          "text": [
            "/usr/local/lib/python3.10/dist-packages/sklearn/decomposition/_fastica.py:708: FutureWarning:\n",
            "\n",
            "Starting in v1.3, whiten=True should be specified as whiten='arbitrary-variance' (its current behaviour). This behavior is deprecated in 1.1 and will raise ValueError in 1.3.\n",
            "\n"
          ]
        },
        {
          "name": "stdout",
          "output_type": "stream",
          "text": [
            "Model Number: 1405 with model LastValueNaive in generation 12 of 20\n",
            "Model Number: 1406 with model ETS in generation 12 of 20\n",
            "New Generation: 13 of 20\n",
            "Model Number: 1407 with model FBProphet in generation 13 of 20\n",
            "Model Number: 1408 with model MultivariateRegression in generation 13 of 20\n",
            "Model Number: 1409 with model NVAR in generation 13 of 20\n",
            "Model Number: 1410 with model LastValueNaive in generation 13 of 20\n",
            "Model Number: 1411 with model UnivariateRegression in generation 13 of 20\n",
            "Model Number: 1412 with model FBProphet in generation 13 of 20\n",
            "No anomalies detected.\n",
            "Model Number: 1413 with model ETS in generation 13 of 20\n",
            "Model Number: 1414 with model AverageValueNaive in generation 13 of 20\n",
            "Model Number: 1415 with model ARIMA in generation 13 of 20\n",
            "Model Number: 1416 with model ETS in generation 13 of 20\n",
            "Template Eval Error: Exception(\"Transformer BTCD failed on fit from params fake_date {'0': {}, '1': {'regression_model': {'model': 'LinearRegression', 'model_params': {}}, 'max_lags': 1}, '2': {}}\") in model 1416 in generation 13: ETS\n",
            "Model Number: 1417 with model NVAR in generation 13 of 20\n",
            "Model Number: 1418 with model AverageValueNaive in generation 13 of 20\n",
            "Template Eval Error: Exception(\"Transformer ScipyFilter failed on fit from params cubic {'0': {'rows': 1, 'lag': 1, 'method': 'additive', 'strength': 1.0, 'first_value_only': False}, '1': {'method': 0.8}, '2': {}, '3': {'rolling_window': 0.1, 'n_tails': 0.05, 'n_future': 0.2, 'method': 'median', 'macro_micro': False}, '4': {'method': 'butter', 'method_args': {'N': 3, 'btype': 'lowpass', 'analog': False, 'output': 'sos', 'Wn': 0.25}}}\") in model 1418 in generation 13: AverageValueNaive\n",
            "Model Number: 1419 with model NVAR in generation 13 of 20\n",
            "Model Number: 1420 with model ETS in generation 13 of 20\n",
            "Model Number: 1421 with model Theta in generation 13 of 20\n",
            "Model Number: 1422 with model LastValueNaive in generation 13 of 20\n",
            "Model Number: 1423 with model SeasonalityMotif in generation 13 of 20\n",
            "Model Number: 1424 with model NVAR in generation 13 of 20\n",
            "Model Number: 1425 with model Theta in generation 13 of 20\n",
            "Model Number: 1426 with model SeasonalityMotif in generation 13 of 20\n",
            "Model Number: 1427 with model FBProphet in generation 13 of 20\n",
            "Model Number: 1428 with model UnivariateRegression in generation 13 of 20\n",
            "Model Number: 1429 with model NVAR in generation 13 of 20\n",
            "Model Number: 1430 with model ARIMA in generation 13 of 20\n",
            "Model Number: 1431 with model UnobservedComponents in generation 13 of 20\n",
            "Model Number: 1432 with model UnobservedComponents in generation 13 of 20\n",
            "Model Number: 1433 with model LastValueNaive in generation 13 of 20\n",
            "Model Number: 1434 with model MetricMotif in generation 13 of 20\n",
            "Model Number: 1435 with model UnivariateRegression in generation 13 of 20\n",
            "Model Number: 1436 with model NVAR in generation 13 of 20\n",
            "Model Number: 1437 with model UnivariateMotif in generation 13 of 20\n",
            "Model Number: 1438 with model NVAR in generation 13 of 20\n",
            "Model Number: 1439 with model SeasonalityMotif in generation 13 of 20\n",
            "Model Number: 1440 with model WindowRegression in generation 13 of 20\n",
            "Model Number: 1441 with model FBProphet in generation 13 of 20\n",
            "Model Number: 1442 with model ARIMA in generation 13 of 20\n",
            "Model Number: 1443 with model UnivariateMotif in generation 13 of 20\n",
            "Model Number: 1444 with model FBProphet in generation 13 of 20\n",
            "Model Number: 1445 with model FBProphet in generation 13 of 20\n",
            "Model Number: 1446 with model MultivariateRegression in generation 13 of 20\n",
            "Model Number: 1447 with model UnobservedComponents in generation 13 of 20\n",
            "Model Number: 1448 with model ARIMA in generation 13 of 20\n"
          ]
        },
        {
          "name": "stderr",
          "output_type": "stream",
          "text": [
            "/usr/local/lib/python3.10/dist-packages/sklearn/neighbors/_classification.py:215: DataConversionWarning:\n",
            "\n",
            "A column-vector y was passed when a 1d array was expected. Please change the shape of y to (n_samples,), for example using ravel().\n",
            "\n",
            "/usr/local/lib/python3.10/dist-packages/sklearn/decomposition/_fastica.py:708: FutureWarning:\n",
            "\n",
            "Starting in v1.3, whiten=True should be specified as whiten='arbitrary-variance' (its current behaviour). This behavior is deprecated in 1.1 and will raise ValueError in 1.3.\n",
            "\n"
          ]
        },
        {
          "name": "stdout",
          "output_type": "stream",
          "text": [
            "Model Number: 1449 with model SeasonalityMotif in generation 13 of 20\n",
            "Model Number: 1450 with model FBProphet in generation 13 of 20\n",
            "Template Eval Error: Exception(\"Transformer AlignLastValue failed on inverse from params rolling_mean_24 {'0': {'rows': 1, 'lag': 1, 'method': 'additive', 'strength': 1.0, 'first_value_only': False}, '1': {'rows': 1, 'lag': 1, 'method': 'additive', 'strength': 1.0, 'first_value_only': False}, '2': {'rows': 1, 'lag': 1, 'method': 'additive', 'strength': 0.5, 'first_value_only': False}, '3': {'rows': 1, 'lag': 1, 'method': 'additive', 'strength': 0.9, 'first_value_only': True}}\") in model 1450 in generation 13: FBProphet\n",
            "Model Number: 1451 with model ETS in generation 13 of 20\n",
            "Model Number: 1452 with model NVAR in generation 13 of 20\n",
            "Model Number: 1453 with model NVAR in generation 13 of 20\n",
            "Model Number: 1454 with model SeasonalityMotif in generation 13 of 20\n",
            "Model Number: 1455 with model MultivariateRegression in generation 13 of 20\n",
            "Model Number: 1456 with model UnobservedComponents in generation 13 of 20\n",
            "Model Number: 1457 with model UnivariateMotif in generation 13 of 20\n",
            "Model Number: 1458 with model MultivariateRegression in generation 13 of 20\n",
            "Template Eval Error: ValueError(\"regression_type='User' but not future_regressor supplied.\") in model 1458 in generation 13: MultivariateRegression\n",
            "Model Number: 1459 with model MetricMotif in generation 13 of 20\n",
            "Model Number: 1460 with model SeasonalityMotif in generation 13 of 20\n",
            "Model Number: 1461 with model LastValueNaive in generation 13 of 20\n",
            "Model Number: 1462 with model Theta in generation 13 of 20\n",
            "Model Number: 1463 with model Theta in generation 13 of 20\n",
            "Model Number: 1464 with model NVAR in generation 13 of 20\n",
            "Model Number: 1465 with model GLM in generation 13 of 20\n",
            "Template Eval Error: Exception(\"Transformer Detrend failed on fit from params ffill {'0': {'method': 'clip', 'std_threshold': 2, 'fillna': None}, '1': {'model': 'Gamma', 'phi': 1, 'window': 10, 'transform_dict': None}, '2': {'method': 0.3}, '3': {'rows': 1, 'lag': 1, 'method': 'additive', 'strength': 1.0, 'first_value_only': False}}\") in model 1465 in generation 13: GLM\n",
            "Model Number: 1466 with model ARIMA in generation 13 of 20\n",
            "Model Number: 1467 with model ARIMA in generation 13 of 20\n",
            "Model Number: 1468 with model AverageValueNaive in generation 13 of 20\n",
            "Model Number: 1469 with model MultivariateRegression in generation 13 of 20\n",
            "Model Number: 1470 with model SeasonalityMotif in generation 13 of 20\n",
            "Model Number: 1471 with model Theta in generation 13 of 20\n",
            "Model Number: 1472 with model ARIMA in generation 13 of 20\n",
            "Model Number: 1473 with model UnobservedComponents in generation 13 of 20\n",
            "Template Eval Error: ValueError(\"regression_type='User' but no future_regressor supplied\") in model 1473 in generation 13: UnobservedComponents\n",
            "Model Number: 1474 with model UnivariateRegression in generation 13 of 20\n",
            "Template Eval Error: Exception(\"Transformer Cointegration failed on fit from params ffill {'0': {'rows': 1, 'lag': 1, 'method': 'additive', 'strength': 1.0, 'first_value_only': False}, '1': {'method': 0.9}, '2': {'rows': 1, 'lag': 1, 'method': 'additive', 'strength': 0.5, 'first_value_only': False}, '3': {'det_order': -1, 'k_ar_diff': 2}, '4': {'rows': 1, 'lag': 1, 'method': 'additive', 'strength': 1.0, 'first_value_only': True}}\") in model 1474 in generation 13: UnivariateRegression\n",
            "Model Number: 1475 with model MultivariateRegression in generation 13 of 20\n",
            "Model Number: 1476 with model SeasonalityMotif in generation 13 of 20\n",
            "Model Number: 1477 with model ETS in generation 13 of 20\n",
            "Model Number: 1478 with model SeasonalityMotif in generation 13 of 20\n",
            "Model Number: 1479 with model UnivariateRegression in generation 13 of 20\n",
            "Model Number: 1480 with model LastValueNaive in generation 13 of 20\n"
          ]
        },
        {
          "name": "stderr",
          "output_type": "stream",
          "text": [
            "/usr/local/lib/python3.10/dist-packages/sklearn/linear_model/_ridge.py:216: LinAlgWarning:\n",
            "\n",
            "Ill-conditioned matrix (rcond=3.93357e-17): result may not be accurate.\n",
            "\n"
          ]
        },
        {
          "name": "stdout",
          "output_type": "stream",
          "text": [
            "Model Number: 1481 with model ARDL in generation 13 of 20\n",
            "Template Eval Error: Exception(\"Transformer BTCD failed on fit from params ffill {'0': {'rows': 7, 'lag': 1, 'method': 'additive', 'strength': 1.0, 'first_value_only': False}, '1': {'regression_model': {'model': 'LinearRegression', 'model_params': {}}, 'max_lags': 2}}\") in model 1481 in generation 13: ARDL\n",
            "New Generation: 14 of 20\n",
            "Model Number: 1482 with model UnivariateRegression in generation 14 of 20\n",
            "Model Number: 1483 with model ARDL in generation 14 of 20\n",
            "Model Number: 1484 with model NVAR in generation 14 of 20\n",
            "Model Number: 1485 with model LastValueNaive in generation 14 of 20\n",
            "Model Number: 1486 with model ARDL in generation 14 of 20\n",
            "Template Eval Error: ValueError(\"ARDL series Close failed with error IndexError('tuple index out of range') exog train None and predict None\") in model 1486 in generation 14: ARDL\n",
            "Model Number: 1487 with model Theta in generation 14 of 20\n",
            "Model Number: 1488 with model AverageValueNaive in generation 14 of 20\n",
            "Model Number: 1489 with model Theta in generation 14 of 20\n",
            "Model Number: 1490 with model UnivariateRegression in generation 14 of 20\n",
            "Model Number: 1491 with model LastValueNaive in generation 14 of 20\n",
            "Template Eval Error: Exception(\"Transformer AlignLastValue failed on inverse from params ffill {'0': {}, '1': {'window_size': 30, 'alpha': 3.0, 'grouping_forward_limit': 2, 'max_level_shifts': 10, 'alignment': 'average'}, '2': {'rows': 1, 'lag': 1, 'method': 'additive', 'strength': 1.0, 'first_value_only': True}, '3': {}}\") in model 1491 in generation 14: LastValueNaive\n",
            "Model Number: 1492 with model SeasonalityMotif in generation 14 of 20\n",
            "Model Number: 1493 with model AverageValueNaive in generation 14 of 20\n",
            "Model Number: 1494 with model UnivariateRegression in generation 14 of 20\n",
            "Model Number: 1495 with model UnivariateRegression in generation 14 of 20\n",
            "Model Number: 1496 with model MultivariateRegression in generation 14 of 20\n",
            "Model Number: 1497 with model ETS in generation 14 of 20\n",
            "Model Number: 1498 with model UnobservedComponents in generation 14 of 20\n",
            "Model Number: 1499 with model Theta in generation 14 of 20\n",
            "Model Number: 1500 with model UnobservedComponents in generation 14 of 20\n",
            "Template Eval Error: ValueError(\"regression_type='User' but no future_regressor supplied\") in model 1500 in generation 14: UnobservedComponents\n",
            "Model Number: 1501 with model AverageValueNaive in generation 14 of 20\n",
            "Model Number: 1502 with model NVAR in generation 14 of 20\n",
            "Model Number: 1503 with model MultivariateRegression in generation 14 of 20\n",
            "Model Number: 1504 with model AverageValueNaive in generation 14 of 20\n",
            "Model Number: 1505 with model LastValueNaive in generation 14 of 20\n",
            "Template Eval Error: Exception(\"Transformer AlignLastValue failed on inverse from params ffill {'0': {'lag_1': 28, 'method': 2}, '1': {'rows': 1, 'lag': 2, 'method': 'additive', 'strength': 1.0, 'first_value_only': False}, '2': {'rows': 1, 'lag': 1, 'method': 'additive', 'strength': 1.0, 'first_value_only': True}, '3': {}, '4': {'rows': 1, 'lag': 28, 'method': 'multiplicative', 'strength': 1.0, 'first_value_only': False}}\") in model 1505 in generation 14: LastValueNaive\n",
            "Model Number: 1506 with model UnobservedComponents in generation 14 of 20\n",
            "Model Number: 1507 with model MultivariateRegression in generation 14 of 20\n",
            "Model Number: 1508 with model ETS in generation 14 of 20\n",
            "Model Number: 1509 with model ETS in generation 14 of 20\n",
            "Model Number: 1510 with model MetricMotif in generation 14 of 20\n",
            "Model Number: 1511 with model MultivariateRegression in generation 14 of 20\n",
            "Template Eval Error: ValueError(\"regression_type='User' but not future_regressor supplied.\") in model 1511 in generation 14: MultivariateRegression\n",
            "Model Number: 1512 with model FBProphet in generation 14 of 20\n",
            "Model Number: 1513 with model NVAR in generation 14 of 20\n",
            "Model Number: 1514 with model ARIMA in generation 14 of 20\n",
            "Model Number: 1515 with model MetricMotif in generation 14 of 20\n",
            "Model Number: 1516 with model SeasonalityMotif in generation 14 of 20\n",
            "Model Number: 1517 with model FBProphet in generation 14 of 20\n"
          ]
        },
        {
          "name": "stderr",
          "output_type": "stream",
          "text": [
            "/usr/local/lib/python3.10/dist-packages/sklearn/neighbors/_classification.py:215: DataConversionWarning:\n",
            "\n",
            "A column-vector y was passed when a 1d array was expected. Please change the shape of y to (n_samples,), for example using ravel().\n",
            "\n"
          ]
        },
        {
          "name": "stdout",
          "output_type": "stream",
          "text": [
            "Template Eval Error: Exception(\"Transformer AlignLastValue failed on inverse from params ffill {'0': {'lag_1': 4, 'method': 20}, '1': {'rows': 1, 'lag': 1, 'method': 'additive', 'strength': 1.0, 'first_value_only': True}, '2': {'rows': 1, 'lag': 1, 'method': 'additive', 'strength': 1.0, 'first_value_only': False}}\") in model 1517 in generation 14: FBProphet\n",
            "Model Number: 1518 with model MultivariateRegression in generation 14 of 20\n",
            "Model Number: 1519 with model ARIMA in generation 14 of 20\n",
            "Model Number: 1520 with model FBProphet in generation 14 of 20\n",
            "Model Number: 1521 with model ARDL in generation 14 of 20\n",
            "Template Eval Error: ValueError(\"regression_type='User' but future_regressor not supplied\") in model 1521 in generation 14: ARDL\n",
            "Model Number: 1522 with model UnivariateMotif in generation 14 of 20\n",
            "Model Number: 1523 with model AverageValueNaive in generation 14 of 20\n",
            "Model Number: 1524 with model MultivariateRegression in generation 14 of 20\n",
            "Model Number: 1525 with model UnobservedComponents in generation 14 of 20\n",
            "Template Eval Error: Exception(\"Transformer BTCD failed on fit from params ffill {'0': {'rows': 1, 'lag': 1, 'method': 'additive', 'strength': 1.0, 'first_value_only': False}, '1': {}, '2': {}, '3': {'regression_model': {'model': 'LinearRegression', 'model_params': {}}, 'max_lags': 2}}\") in model 1525 in generation 14: UnobservedComponents\n",
            "Model Number: 1526 with model MetricMotif in generation 14 of 20\n",
            "Model Number: 1527 with model NVAR in generation 14 of 20\n",
            "Model Number: 1528 with model LastValueNaive in generation 14 of 20\n",
            "Model Number: 1529 with model UnivariateMotif in generation 14 of 20\n",
            "Model Number: 1530 with model SeasonalityMotif in generation 14 of 20\n",
            "Model Number: 1531 with model ARIMA in generation 14 of 20\n",
            "Model Number: 1532 with model LastValueNaive in generation 14 of 20\n",
            "Model Number: 1533 with model AverageValueNaive in generation 14 of 20\n",
            "Model Number: 1534 with model NVAR in generation 14 of 20\n",
            "Model Number: 1535 with model LastValueNaive in generation 14 of 20\n",
            "Model Number: 1536 with model Theta in generation 14 of 20\n",
            "Model Number: 1537 with model SeasonalityMotif in generation 14 of 20\n",
            "Model Number: 1538 with model LastValueNaive in generation 14 of 20\n",
            "Model Number: 1539 with model FBProphet in generation 14 of 20\n",
            "Model Number: 1540 with model WindowRegression in generation 14 of 20\n"
          ]
        },
        {
          "name": "stderr",
          "output_type": "stream",
          "text": [
            "/usr/local/lib/python3.10/dist-packages/sklearn/neural_network/_multilayer_perceptron.py:541: ConvergenceWarning:\n",
            "\n",
            "lbfgs failed to converge (status=1):\n",
            "STOP: TOTAL NO. of ITERATIONS REACHED LIMIT.\n",
            "\n",
            "Increase the number of iterations (max_iter) or scale the data as shown in:\n",
            "    https://scikit-learn.org/stable/modules/preprocessing.html\n",
            "\n"
          ]
        },
        {
          "name": "stdout",
          "output_type": "stream",
          "text": [
            "Model Number: 1541 with model FBProphet in generation 14 of 20\n",
            "Model Number: 1542 with model MultivariateRegression in generation 14 of 20\n",
            "Template Eval Error: ValueError(\"regression_type='User' but not future_regressor supplied.\") in model 1542 in generation 14: MultivariateRegression\n",
            "Model Number: 1543 with model NVAR in generation 14 of 20\n",
            "Model Number: 1544 with model SeasonalityMotif in generation 14 of 20\n",
            "Model Number: 1545 with model UnobservedComponents in generation 14 of 20\n",
            "Model Number: 1546 with model ARDL in generation 14 of 20\n",
            "Template Eval Error: ValueError(\"regression_type='User' but future_regressor not supplied\") in model 1546 in generation 14: ARDL\n",
            "Model Number: 1547 with model LastValueNaive in generation 14 of 20\n",
            "Model Number: 1548 with model UnobservedComponents in generation 14 of 20\n",
            "Template Eval Error: ValueError(\"regression_type='User' but no future_regressor supplied\") in model 1548 in generation 14: UnobservedComponents\n",
            "Model Number: 1549 with model UnobservedComponents in generation 14 of 20\n",
            "Template Eval Error: Exception(\"Transformer RegressionFilter failed on fit from params ffill {'0': {}, '1': {'rows': 7, 'lag': 1, 'method': 'additive', 'strength': 1.0, 'first_value_only': False}, '2': {'cutoff': 0.2, 'reverse': False}, '3': {'sigma': 1, 'rolling_window': 90, 'run_order': 'trend_first', 'regression_params': {'regression_model': {'model': 'ElasticNet', 'model_params': {}}, 'datepart_method': 'simple_binarized', 'polynomial_degree': None, 'transform_dict': None, 'holiday_countries_used': False}, 'holiday_params': {'threshold': 0.8, 'splash_threshold': None, 'use_dayofmonth_holidays': True, 'use_wkdom_holidays': True, 'use_wkdeom_holidays': False, 'use_lunar_holidays': False, 'use_lunar_weekday': False, 'use_islamic_holidays': False, 'use_hebrew_holidays': False, 'anomaly_detector_params': {'method': 'zscore', 'method_params': {'distribution': 'gamma', 'alpha': 0.1}, 'fillna': None, 'transform_dict': {'transformations': {'0': 'DifferencedTransformer'}, 'transformation_params': {'0': {}}}, 'isolated_only': False}, 'remove_excess_anomalies': True, 'impact': 'datepart_regression', 'regression_params': {'regression_model': {'model': 'ElasticNet', 'model_params': {}}, 'datepart_method': 'simple_binarized', 'polynomial_degree': None, 'transform_dict': None, 'holiday_countries_used': False}}}}\") in model 1549 in generation 14: UnobservedComponents\n",
            "Model Number: 1550 with model FBProphet in generation 14 of 20\n",
            "Model Number: 1551 with model UnivariateMotif in generation 14 of 20\n",
            "Model Number: 1552 with model SeasonalNaive in generation 14 of 20\n",
            "Model Number: 1553 with model ETS in generation 14 of 20\n",
            "Model Number: 1554 with model UnobservedComponents in generation 14 of 20\n",
            "Model Number: 1555 with model AverageValueNaive in generation 14 of 20\n",
            "Model Number: 1556 with model UnobservedComponents in generation 14 of 20\n",
            "New Generation: 15 of 20\n",
            "Model Number: 1557 with model Theta in generation 15 of 20\n",
            "Model Number: 1558 with model UnivariateRegression in generation 15 of 20\n",
            "Model Number: 1559 with model UnivariateRegression in generation 15 of 20\n",
            "Template Eval Error: Exception(\"Transformer BTCD failed on fit from params ffill {'0': {'regression_model': {'model': 'FastRidge', 'model_params': {}}, 'max_lags': 2}, '1': {'method': 0.8}, '2': {'rows': 1, 'lag': 1, 'method': 'multiplicative', 'strength': 1.0, 'first_value_only': False}}\") in model 1559 in generation 15: UnivariateRegression\n",
            "Model Number: 1560 with model UnobservedComponents in generation 15 of 20\n",
            "Model Number: 1561 with model ARIMA in generation 15 of 20\n",
            "Template Eval Error: ValueError(\"regression_type='User' but future_regressor not supplied\") in model 1561 in generation 15: ARIMA\n",
            "Model Number: 1562 with model MultivariateRegression in generation 15 of 20\n",
            "Model Number: 1563 with model FBProphet in generation 15 of 20\n",
            "Model Number: 1564 with model UnivariateMotif in generation 15 of 20\n",
            "Model Number: 1565 with model AverageValueNaive in generation 15 of 20\n",
            "Model Number: 1566 with model UnivariateRegression in generation 15 of 20\n",
            "Model Number: 1567 with model UnivariateRegression in generation 15 of 20\n",
            "Model Number: 1568 with model MultivariateRegression in generation 15 of 20\n",
            "Template Eval Error: KeyError('model') in model 1568 in generation 15: MultivariateRegression\n",
            "Model Number: 1569 with model ARDL in generation 15 of 20\n",
            "Template Eval Error: ValueError(\"regression_type='User' but future_regressor not supplied\") in model 1569 in generation 15: ARDL\n",
            "Model Number: 1570 with model MultivariateRegression in generation 15 of 20\n",
            "Model Number: 1571 with model LastValueNaive in generation 15 of 20\n",
            "Template Eval Error: Exception(\"Transformer QuantileTransformer failed on fit from params rolling_mean_24 {'0': {'rolling_window': 0.1, 'n_tails': 90, 'n_future': 0.05, 'method': 'median', 'macro_micro': True}, '1': {}, '2': {'sigma': 3, 'rolling_window': 90, 'run_order': 'season_first', 'regression_params': {'regression_model': {'model': 'KNN', 'model_params': {'n_neighbors': 5, 'weights': 'distance', 'p': 1, 'leaf_size': 10}}, 'datepart_method': 'simple_binarized', 'polynomial_degree': None, 'transform_dict': None, 'holiday_countries_used': False}, 'holiday_params': None}, '3': {'output_distribution': 'uniform', 'n_quantiles': 246}, '4': {}}\") in model 1571 in generation 15: LastValueNaive\n",
            "Model Number: 1572 with model UnobservedComponents in generation 15 of 20\n",
            "Model Number: 1573 with model MetricMotif in generation 15 of 20\n",
            "Model Number: 1574 with model LastValueNaive in generation 15 of 20\n",
            "Model Number: 1575 with model UnobservedComponents in generation 15 of 20\n",
            "Model Number: 1576 with model Theta in generation 15 of 20\n",
            "Model Number: 1577 with model NVAR in generation 15 of 20\n",
            "Model Number: 1578 with model ETS in generation 15 of 20\n",
            "Model Number: 1579 with model ETS in generation 15 of 20\n",
            "Model Number: 1580 with model UnobservedComponents in generation 15 of 20\n",
            "Template Eval Error: ValueError(\"regression_type='User' but no future_regressor supplied\") in model 1580 in generation 15: UnobservedComponents\n",
            "Model Number: 1581 with model GLS in generation 15 of 20\n",
            "Model Number: 1582 with model FBProphet in generation 15 of 20\n",
            "Model Number: 1583 with model AverageValueNaive in generation 15 of 20\n",
            "Model Number: 1584 with model Theta in generation 15 of 20\n",
            "Model Number: 1585 with model UnivariateRegression in generation 15 of 20\n",
            "Template Eval Error: ValueError(\"regression_type='User' but not future_regressor supplied.\") in model 1585 in generation 15: UnivariateRegression\n",
            "Model Number: 1586 with model AverageValueNaive in generation 15 of 20\n",
            "Model Number: 1587 with model Theta in generation 15 of 20\n",
            "Model Number: 1588 with model SeasonalityMotif in generation 15 of 20\n",
            "Model Number: 1589 with model NVAR in generation 15 of 20\n",
            "Template Eval Error: Exception(\"Transformer Cointegration failed on fit from params rolling_mean {'0': {'rows': 1, 'lag': 1, 'method': 'additive', 'strength': 1.0, 'first_value_only': False}, '1': {'det_order': 0, 'k_ar_diff': 2}, '2': {}, '3': {'output_distribution': 'uniform', 'n_quantiles': 1000}}\") in model 1589 in generation 15: NVAR\n",
            "Model Number: 1590 with model AverageValueNaive in generation 15 of 20\n",
            "Model Number: 1591 with model SeasonalityMotif in generation 15 of 20\n",
            "Template Eval Error: Exception(\"Transformer BTCD failed on fit from params time {'0': {'regression_model': {'model': 'LinearRegression', 'model_params': {}}, 'max_lags': 2}, '1': {'model': 'Linear', 'phi': 1, 'window': None, 'transform_dict': {'fillna': None, 'transformations': {'0': 'ScipyFilter'}, 'transformation_params': {'0': {'method': 'savgol_filter', 'method_args': {'window_length': 31, 'polyorder': 3, 'deriv': 0, 'mode': 'interp'}}}}}, '2': {'n_harmonics': -0.5, 'detrend': 'quadratic'}, '3': {'rows': 1, 'lag': 1, 'method': 'additive', 'strength': 1.0, 'first_value_only': False}}\") in model 1591 in generation 15: SeasonalityMotif\n",
            "Model Number: 1592 with model LastValueNaive in generation 15 of 20\n",
            "Model Number: 1593 with model MultivariateRegression in generation 15 of 20\n",
            "Model Number: 1594 with model NVAR in generation 15 of 20\n",
            "Model Number: 1595 with model MultivariateRegression in generation 15 of 20\n",
            "Model Number: 1596 with model NVAR in generation 15 of 20\n",
            "Model Number: 1597 with model SeasonalityMotif in generation 15 of 20\n",
            "Model Number: 1598 with model ARIMA in generation 15 of 20\n",
            "Model Number: 1599 with model ARDL in generation 15 of 20\n",
            "Template Eval Error: ValueError(\"regression_type='User' but future_regressor not supplied\") in model 1599 in generation 15: ARDL\n",
            "Model Number: 1600 with model SeasonalNaive in generation 15 of 20\n",
            "Template Eval Error: Exception(\"Transformer BTCD failed on fit from params cubic {'0': {}, '1': {}, '2': {'regression_model': {'model': 'FastRidge', 'model_params': {}}, 'max_lags': 2}, '3': {}, '4': {'method': 0.5}}\") in model 1600 in generation 15: SeasonalNaive\n",
            "Model Number: 1601 with model UnivariateMotif in generation 15 of 20\n",
            "Model Number: 1602 with model FBProphet in generation 15 of 20\n",
            "Model Number: 1603 with model LastValueNaive in generation 15 of 20\n",
            "Model Number: 1604 with model AverageValueNaive in generation 15 of 20\n",
            "Model Number: 1605 with model SeasonalityMotif in generation 15 of 20\n",
            "Model Number: 1606 with model NVAR in generation 15 of 20\n",
            "Model Number: 1607 with model LastValueNaive in generation 15 of 20\n",
            "Model Number: 1608 with model ETS in generation 15 of 20\n",
            "Model Number: 1609 with model LastValueNaive in generation 15 of 20\n",
            "Model Number: 1610 with model UnobservedComponents in generation 15 of 20\n",
            "Template Eval Error: ValueError(\"regression_type='User' but no future_regressor supplied\") in model 1610 in generation 15: UnobservedComponents\n",
            "Model Number: 1611 with model NVAR in generation 15 of 20\n",
            "Template Eval Error: ValueError('Model NVAR returned NaN for one or more series. fail_on_forecast_nan=True') in model 1611 in generation 15: NVAR\n",
            "Model Number: 1612 with model AverageValueNaive in generation 15 of 20\n"
          ]
        },
        {
          "name": "stderr",
          "output_type": "stream",
          "text": [
            "/usr/local/lib/python3.10/dist-packages/sklearn/linear_model/_ridge.py:216: LinAlgWarning:\n",
            "\n",
            "Ill-conditioned matrix (rcond=1.80808e-25): result may not be accurate.\n",
            "\n"
          ]
        },
        {
          "name": "stdout",
          "output_type": "stream",
          "text": [
            "Template Eval Error: Exception(\"Transformer AlignLastValue failed on inverse from params akima {'0': {'rows': 1, 'lag': 7, 'method': 'additive', 'strength': 1.0, 'first_value_only': True}, '1': {'model_name': 'local linear hidden state with seasonal 7', 'state_transition': [[1.0, 0.0, 0.0, 0.0, 0.0, 0.0, 0.0, 0.0], [0.0, -1.0, -1.0, -1.0, -1.0, -1.0, -1.0, 0.0], [0.0, 1.0, 0.0, 0.0, 0.0, 0.0, 0.0, 0.0], [0.0, 0.0, 1.0, 0.0, 0.0, 0.0, 0.0, 0.0], [0.0, 0.0, 0.0, 1.0, 0.0, 0.0, 0.0, 0.0], [0.0, 0.0, 0.0, 0.0, 1.0, 0.0, 0.0, 0.0], [0.0, 0.0, 0.0, 0.0, 0.0, 1.0, 0.0, 0.0], [0.0, 0.0, 0.0, 0.0, 0.0, 0.0, 1.0, 0.0]], 'process_noise': [[0.16000000000000003, 0.0, 0.0, 0.0, 0.0, 0.0, 0.0, 0.0], [0.0, 0.010000000000000002, 0.0, 0.0, 0.0, 0.0, 0.0, 0.0], [0.0, 0.0, 0.0, 0.0, 0.0, 0.0, 0.0, 0.0], [0.0, 0.0, 0.0, 0.0, 0.0, 0.0, 0.0, 0.0], [0.0, 0.0, 0.0, 0.0, 0.0, 0.0, 0.0, 0.0], [0.0, 0.0, 0.0, 0.0, 0.0, 0.0, 0.0, 0.0], [0.0, 0.0, 0.0, 0.0, 0.0, 0.0, 0.0, 0.0], [0.0, 0.0, 0.0, 0.0, 0.0, 0.0, 0.0, 0.0]], 'observation_model': [[1, 1, 0, 0, 0, 0, 0, 0]], 'observation_noise': 0.04, 'em_iter': 10}, '2': {'model_name': 'holt_winters_damped', 'state_transition': [[1.006, 0.98, 0.0, 0.0, 0.0, 0.0, 0.0, 0.0, 0.0], [0.0, 0.98, 0.0, 0.0, 0.0, 0.0, 0.0, 0.0, 0.0], [0.0, 0.0, 0.0, 0.0, 0.0, 0.0, 0.0, 0.0, 1.0], [0.0, 0.0, 0.0, 0.0, 0.0, 0.0, 0.0, 0.0, 0.0], [0.0, 0.0, 1.0, 0.0, 0.0, 0.0, 0.0, 0.0, 0.0], [0.0, 0.0, 0.0, 1.0, 0.0, 0.0, 0.0, 0.0, 0.0], [0.0, 0.0, 0.0, 0.0, 1.0, 0.0, 0.0, 0.0, 0.0], [0.0, 0.0, 0.0, 0.0, 0.0, 1.0, 0.0, 0.0, 0.0], [0.0, 0.0, 0.0, 0.0, 0.0, 0.0, 1.0, 0.0, 0.0]], 'process_noise': [[0.3, 0.0, 0.0, 0.0, 0.0, 0.0, 0.0, 0.0, 0.0], [0.0, 0.0, 0.0, 0.0, 0.0, 0.0, 0.0, 0.0, 0.0], [0.0, 0.0, 0.0, 0.0, 0.0, 0.0, 0.0, 0.0, 0.0], [0.0, 0.0, 0.0, 0.0, 0.0, 0.0, 0.0, 0.0, 0.0], [0.0, 0.0, 0.0, 0.0, 0.0, 0.0, 0.0, 0.0, 0.0], [0.0, 0.0, 0.0, 0.0, 0.0, 0.0, 0.0, 0.0, 0.0], [0.0, 0.0, 0.0, 0.0, 0.0, 0.0, 0.0, 0.0, 0.0], [0.0, 0.0, 0.0, 0.0, 0.0, 0.0, 0.0, 0.0, 0.0], [0.0, 0.0, 0.0, 0.0, 0.0, 0.0, 0.0, 0.0, 0.0]], 'observation_model': [[1.0, 1.0, 0.0, 0.0, 0.0, 0.0, 0.0, 0.0, 1.0]], 'observation_noise': 0.01, 'em_iter': 10}, '3': {'rows': 1, 'lag': 1, 'method': 'multiplicative', 'strength': 1.0, 'first_value_only': True}}\") in model 1612 in generation 15: AverageValueNaive\n",
            "Model Number: 1613 with model MultivariateRegression in generation 15 of 20\n",
            "Model Number: 1614 with model NVAR in generation 15 of 20\n",
            "Model Number: 1615 with model UnobservedComponents in generation 15 of 20\n",
            "Model Number: 1616 with model Theta in generation 15 of 20\n",
            "Model Number: 1617 with model NVAR in generation 15 of 20\n",
            "Model Number: 1618 with model ETS in generation 15 of 20\n",
            "Model Number: 1619 with model ARIMA in generation 15 of 20\n",
            "Model Number: 1620 with model FBProphet in generation 15 of 20\n",
            "Model Number: 1621 with model UnobservedComponents in generation 15 of 20\n",
            "Model Number: 1622 with model MetricMotif in generation 15 of 20\n",
            "Model Number: 1623 with model UnivariateMotif in generation 15 of 20\n",
            "Model Number: 1624 with model NVAR in generation 15 of 20\n",
            "Model Number: 1625 with model WindowRegression in generation 15 of 20\n",
            "Model Number: 1626 with model SeasonalityMotif in generation 15 of 20\n",
            "Model Number: 1627 with model SeasonalityMotif in generation 15 of 20\n",
            "Model Number: 1628 with model FBProphet in generation 15 of 20\n"
          ]
        },
        {
          "name": "stderr",
          "output_type": "stream",
          "text": [
            "/usr/local/lib/python3.10/dist-packages/sklearn/neighbors/_classification.py:215: DataConversionWarning:\n",
            "\n",
            "A column-vector y was passed when a 1d array was expected. Please change the shape of y to (n_samples,), for example using ravel().\n",
            "\n"
          ]
        },
        {
          "name": "stdout",
          "output_type": "stream",
          "text": [
            "Model Number: 1629 with model UnivariateMotif in generation 15 of 20\n",
            "Template Eval Error: Exception(\"Transformer DatepartRegression failed on fit from params ffill {'0': {'regression_model': {'C': 1.0, 'tol': 0.0001, 'loss': 'epsilon_insensitive', 'max_iter': 1000}, 'datepart_method': 'recurring', 'polynomial_degree': None, 'transform_dict': None, 'holiday_countries_used': True}, '1': {'center': 'mean'}, '2': {}, '3': {'method': 'remove', 'std_threshold': 4, 'fillna': 'ffill'}}\") in model 1629 in generation 15: UnivariateMotif\n",
            "Model Number: 1630 with model ARIMA in generation 15 of 20\n",
            "Template Eval Error: Exception(\"Transformer QuantileTransformer failed on fit from params mean {'0': {'rolling_window': 0.1, 'n_tails': 0.05, 'n_future': 360, 'method': 'mean', 'macro_micro': True}, '1': {'output_distribution': 'uniform', 'n_quantiles': 246}, '2': {'rows': 7, 'lag': 1, 'method': 'additive', 'strength': 1.0, 'first_value_only': False}}\") in model 1630 in generation 15: ARIMA\n",
            "Model Number: 1631 with model UnivariateRegression in generation 15 of 20\n",
            "New Generation: 16 of 20\n",
            "Model Number: 1632 with model NVAR in generation 16 of 20\n",
            "Model Number: 1633 with model AverageValueNaive in generation 16 of 20\n",
            "Model Number: 1634 with model SeasonalityMotif in generation 16 of 20\n",
            "Model Number: 1635 with model UnivariateMotif in generation 16 of 20\n",
            "Model Number: 1636 with model SeasonalityMotif in generation 16 of 20\n",
            "Model Number: 1637 with model NVAR in generation 16 of 20\n",
            "Model Number: 1638 with model AverageValueNaive in generation 16 of 20\n",
            "Model Number: 1639 with model AverageValueNaive in generation 16 of 20\n",
            "Model Number: 1640 with model UnivariateRegression in generation 16 of 20\n",
            "Template Eval Error: ValueError(\"regression_type='User' but not future_regressor supplied.\") in model 1640 in generation 16: UnivariateRegression\n",
            "Model Number: 1641 with model FBProphet in generation 16 of 20\n",
            "Model Number: 1642 with model LastValueNaive in generation 16 of 20\n",
            "Model Number: 1643 with model UnobservedComponents in generation 16 of 20\n",
            "Model Number: 1644 with model SeasonalNaive in generation 16 of 20\n",
            "Model Number: 1645 with model ETS in generation 16 of 20\n",
            "Model Number: 1646 with model LastValueNaive in generation 16 of 20\n",
            "Model Number: 1647 with model NVAR in generation 16 of 20\n",
            "Model Number: 1648 with model UnobservedComponents in generation 16 of 20\n",
            "Model Number: 1649 with model SeasonalityMotif in generation 16 of 20\n",
            "Model Number: 1650 with model NVAR in generation 16 of 20\n",
            "Model Number: 1651 with model SeasonalityMotif in generation 16 of 20\n",
            "Template Eval Error: Exception(\"Transformer DatepartRegression failed on inverse from params rolling_mean_24 {'0': {'regression_model': {'model': 'ElasticNet', 'model_params': {}}, 'datepart_method': 'simple_binarized', 'polynomial_degree': None, 'transform_dict': {'fillna': None, 'transformations': {'0': 'ScipyFilter'}, 'transformation_params': {'0': {'method': 'savgol_filter', 'method_args': {'window_length': 31, 'polyorder': 3, 'deriv': 0, 'mode': 'interp'}}}}, 'holiday_countries_used': True}, '1': {'rows': 1, 'lag': 28, 'method': 'additive', 'strength': 1.0, 'first_value_only': False}, '2': {'n_harmonics': -0.5, 'detrend': 'quadratic'}, '3': {'rows': 1, 'lag': 1, 'method': 'additive', 'strength': 1.0, 'first_value_only': False}}\") in model 1651 in generation 16: SeasonalityMotif\n",
            "Model Number: 1652 with model UnivariateRegression in generation 16 of 20\n",
            "Model Number: 1653 with model UnobservedComponents in generation 16 of 20\n",
            "Model Number: 1654 with model ARIMA in generation 16 of 20\n",
            "Model Number: 1655 with model Theta in generation 16 of 20\n",
            "Model Number: 1656 with model UnivariateMotif in generation 16 of 20\n",
            "Model Number: 1657 with model AverageValueNaive in generation 16 of 20\n",
            "Template Eval Error: Exception(\"Transformer Cointegration failed on fit from params nearest {'0': {}, '1': {'det_order': 1, 'k_ar_diff': 0}}\") in model 1657 in generation 16: AverageValueNaive\n",
            "Model Number: 1658 with model SeasonalityMotif in generation 16 of 20\n",
            "Template Eval Error: Exception(\"Transformer Cointegration failed on fit from params quadratic {'0': {'method': 'clip', 'std_threshold': 3, 'fillna': None}, '1': {'model': 'Linear', 'phi': 1, 'window': None, 'transform_dict': {'fillna': None, 'transformations': {'0': 'ScipyFilter'}, 'transformation_params': {'0': {'method': 'savgol_filter', 'method_args': {'window_length': 31, 'polyorder': 3, 'deriv': 0, 'mode': 'interp'}}}}}, '2': {'n_harmonics': -0.5, 'detrend': 'quadratic'}, '3': {}, '4': {'det_order': 1, 'k_ar_diff': 2}, '5': {'window': 10}}\") in model 1658 in generation 16: SeasonalityMotif\n",
            "Model Number: 1659 with model UnobservedComponents in generation 16 of 20\n",
            "Model Number: 1660 with model NVAR in generation 16 of 20\n",
            "Model Number: 1661 with model MultivariateRegression in generation 16 of 20\n",
            "Model Number: 1662 with model MultivariateRegression in generation 16 of 20\n",
            "Template Eval Error: Exception(\"Transformer Cointegration failed on fit from params fake_date {'0': {'window_size': 90, 'alpha': 2.5, 'grouping_forward_limit': 3, 'max_level_shifts': 10, 'alignment': 'average'}, '1': {'lag_1': 2, 'method': 'LastValue'}, '2': {'det_order': 0, 'k_ar_diff': 1}}\") in model 1662 in generation 16: MultivariateRegression\n",
            "Model Number: 1663 with model FBProphet in generation 16 of 20\n",
            "Model Number: 1664 with model UnivariateMotif in generation 16 of 20\n",
            "Template Eval Error: Exception(\"Transformer STLFilter failed on fit from params ffill {'0': {'method': 0.8}, '1': {'rows': 1, 'lag': 1, 'method': 'additive', 'strength': 1.0, 'first_value_only': False}, '2': {'decomp_type': 'STL', 'part': 'trend', 'seasonal': 7}}\") in model 1664 in generation 16: UnivariateMotif\n",
            "Model Number: 1665 with model NVAR in generation 16 of 20\n",
            "Template Eval Error: Exception(\"Transformer AlignLastValue failed on inverse from params ffill {'0': {}, '1': {}, '2': {'rows': 1, 'lag': 7, 'method': 'additive', 'strength': 1.0, 'first_value_only': True}}\") in model 1665 in generation 16: NVAR\n",
            "Model Number: 1666 with model NVAR in generation 16 of 20\n",
            "Model Number: 1667 with model Theta in generation 16 of 20\n",
            "Model Number: 1668 with model ETS in generation 16 of 20\n",
            "Model Number: 1669 with model LastValueNaive in generation 16 of 20\n",
            "Model Number: 1670 with model NVAR in generation 16 of 20\n",
            "Model Number: 1671 with model UnivariateRegression in generation 16 of 20\n",
            "Model Number: 1672 with model FBProphet in generation 16 of 20\n",
            "Model Number: 1673 with model ETS in generation 16 of 20\n",
            "Model Number: 1674 with model SeasonalityMotif in generation 16 of 20\n",
            "Model Number: 1675 with model Theta in generation 16 of 20\n",
            "Model Number: 1676 with model NVAR in generation 16 of 20\n",
            "Model Number: 1677 with model FBProphet in generation 16 of 20\n",
            "Model Number: 1678 with model Theta in generation 16 of 20\n",
            "Model Number: 1679 with model UnivariateRegression in generation 16 of 20\n",
            "Template Eval Error: Exception(\"Transformer BTCD failed on fit from params ffill {'0': {'window': 730}, '1': {'regression_model': {'model': 'FastRidge', 'model_params': {}}, 'max_lags': 2}}\") in model 1679 in generation 16: UnivariateRegression\n",
            "Model Number: 1680 with model UnivariateMotif in generation 16 of 20\n",
            "Model Number: 1681 with model UnivariateMotif in generation 16 of 20\n",
            "Template Eval Error: Exception(\"Transformer STLFilter failed on fit from params linear {'0': {'method': 0.8}, '1': {}, '2': {'decomp_type': 'STL', 'part': 'trend', 'seasonal': 7}, '3': {'fillna': 'akima', 'center': 'zero'}}\") in model 1681 in generation 16: UnivariateMotif\n",
            "Model Number: 1682 with model ETS in generation 16 of 20\n",
            "Template Eval Error: Exception(\"Transformer AlignLastValue failed on inverse from params pchip {'0': {'rows': 1, 'lag': 1, 'method': 'additive', 'strength': 1.0, 'first_value_only': False}, '1': {}, '2': {'rows': 1, 'lag': 1, 'method': 'additive', 'strength': 1.0, 'first_value_only': True}, '3': {'lag_1': 30, 'method': 20}}\") in model 1682 in generation 16: ETS\n",
            "Model Number: 1683 with model UnobservedComponents in generation 16 of 20\n",
            "Model Number: 1684 with model MultivariateMotif in generation 16 of 20\n",
            "Model Number: 1685 with model MultivariateRegression in generation 16 of 20\n",
            "Model Number: 1686 with model SeasonalityMotif in generation 16 of 20\n",
            "Model Number: 1687 with model ETS in generation 16 of 20\n",
            "Model Number: 1688 with model FBProphet in generation 16 of 20\n",
            "Template Eval Error: Exception(\"Transformer BTCD failed on fit from params rolling_mean_24 {'0': {'rows': 1, 'lag': 1, 'method': 'additive', 'strength': 1.0, 'first_value_only': False}, '1': {'method': 0.8}, '2': {'rows': 4, 'lag': 1, 'method': 'additive', 'strength': 1.0, 'first_value_only': False}, '3': {'n_harmonics': 20, 'detrend': 'linear'}, '4': {'regression_model': {'model': 'LinearRegression', 'model_params': {}}, 'max_lags': 2}}\") in model 1688 in generation 16: FBProphet\n",
            "Model Number: 1689 with model LastValueNaive in generation 16 of 20\n",
            "Model Number: 1690 with model FBProphet in generation 16 of 20\n"
          ]
        },
        {
          "name": "stderr",
          "output_type": "stream",
          "text": [
            "/usr/local/lib/python3.10/dist-packages/sklearn/neighbors/_classification.py:215: DataConversionWarning:\n",
            "\n",
            "A column-vector y was passed when a 1d array was expected. Please change the shape of y to (n_samples,), for example using ravel().\n",
            "\n"
          ]
        },
        {
          "name": "stdout",
          "output_type": "stream",
          "text": [
            "Model Number: 1691 with model NVAR in generation 16 of 20\n",
            "Model Number: 1692 with model NVAR in generation 16 of 20\n",
            "Model Number: 1693 with model UnobservedComponents in generation 16 of 20\n",
            "Model Number: 1694 with model ARIMA in generation 16 of 20\n",
            "Model Number: 1695 with model SeasonalityMotif in generation 16 of 20\n",
            "Model Number: 1696 with model SeasonalityMotif in generation 16 of 20\n",
            "Model Number: 1697 with model FBProphet in generation 16 of 20\n",
            "Model Number: 1698 with model MetricMotif in generation 16 of 20\n",
            "Model Number: 1699 with model LastValueNaive in generation 16 of 20\n",
            "Template Eval Error: Exception(\"Transformer AlignLastValue failed on inverse from params ffill {'0': {'rows': 1, 'lag': 1, 'method': 'additive', 'strength': 1.0, 'first_value_only': True}, '1': {'model_name': 'ucm_deterministictrend_seasonal7', 'state_transition': [[1, 1, 0, 0, 0, 0, 0, 0], [0, 1, 0, 0, 0, 0, 0, 0], [0, 0, 1, 0, 0, 0, 0, 0], [0, 0, 0, 1, 0, 0, 0, 0], [0, 0, 0, 0, 1, 0, 0, 0], [0, 0, 0, 0, 0, 1, 0, 0], [0, 0, 0, 0, 0, 0, 1, 0], [0, 0, -1, -1, -1, -1, -1, -1]], 'process_noise': [[0.001, 0, 0, 0, 0, 0, 0, 0], [0, 0.001, 0, 0, 0, 0, 0, 0], [0, 0, 0.001, 0, 0, 0, 0, 0], [0, 0, 0, 0.001, 0, 0, 0, 0], [0, 0, 0, 0, 0.001, 0, 0, 0], [0, 0, 0, 0, 0, 0.001, 0, 0], [0, 0, 0, 0, 0, 0, 0.001, 0], [0, 0, 0, 0, 0, 0, 0, 0]], 'observation_model': [[1, 0, 1, 1, 1, 1, 1, 1]], 'observation_noise': 0.1, 'em_iter': 30}}\") in model 1699 in generation 16: LastValueNaive\n",
            "Model Number: 1700 with model FBProphet in generation 16 of 20\n",
            "Model Number: 1701 with model ARDL in generation 16 of 20\n",
            "Model Number: 1702 with model SeasonalNaive in generation 16 of 20\n",
            "Model Number: 1703 with model UnobservedComponents in generation 16 of 20\n",
            "Model Number: 1704 with model NVAR in generation 16 of 20\n",
            "Model Number: 1705 with model LastValueNaive in generation 16 of 20\n",
            "Model Number: 1706 with model ARDL in generation 16 of 20\n",
            "Template Eval Error: ValueError(\"regression_type='User' but future_regressor not supplied\") in model 1706 in generation 16: ARDL\n",
            "New Generation: 17 of 20\n",
            "Model Number: 1707 with model NVAR in generation 17 of 20\n",
            "Model Number: 1708 with model NVAR in generation 17 of 20\n",
            "Model Number: 1709 with model AverageValueNaive in generation 17 of 20\n",
            "Model Number: 1710 with model ETS in generation 17 of 20\n",
            "Template Eval Error: Exception(\"Transformer Cointegration failed on fit from params ffill {'0': {'rows': 1, 'lag': 28, 'method': 'additive', 'strength': 0.9, 'first_value_only': False}, '1': {'det_order': -1, 'k_ar_diff': 2}, '2': {}, '3': {'fixed': True, 'window': 53}}\") in model 1710 in generation 17: ETS\n",
            "Model Number: 1711 with model AverageValueNaive in generation 17 of 20\n",
            "Model Number: 1712 with model SeasonalNaive in generation 17 of 20\n",
            "Model Number: 1713 with model SeasonalityMotif in generation 17 of 20\n",
            "Model Number: 1714 with model MultivariateRegression in generation 17 of 20\n",
            "Template Eval Error: Exception(\"Transformer BTCD failed on fit from params ffill {'0': {}, '1': {'regression_model': {'model': 'FastRidge', 'model_params': {}}, 'max_lags': 2}, '2': {'whiten': False}, '3': {'rows': 1, 'lag': 1, 'method': 'additive', 'strength': 1.0, 'first_value_only': False}}\") in model 1714 in generation 17: MultivariateRegression\n",
            "Model Number: 1715 with model SeasonalityMotif in generation 17 of 20\n",
            "Model Number: 1716 with model FBProphet in generation 17 of 20\n",
            "Model Number: 1717 with model SeasonalityMotif in generation 17 of 20\n",
            "Model Number: 1718 with model UnivariateMotif in generation 17 of 20\n",
            "Model Number: 1719 with model FBProphet in generation 17 of 20\n"
          ]
        },
        {
          "name": "stderr",
          "output_type": "stream",
          "text": [
            "/usr/local/lib/python3.10/dist-packages/sklearn/decomposition/_fastica.py:583: UserWarning:\n",
            "\n",
            "Ignoring n_components with whiten=False.\n",
            "\n",
            "/usr/local/lib/python3.10/dist-packages/sklearn/neighbors/_classification.py:215: DataConversionWarning:\n",
            "\n",
            "A column-vector y was passed when a 1d array was expected. Please change the shape of y to (n_samples,), for example using ravel().\n",
            "\n"
          ]
        },
        {
          "name": "stdout",
          "output_type": "stream",
          "text": [
            "Model Number: 1720 with model LastValueNaive in generation 17 of 20\n",
            "Model Number: 1721 with model NVAR in generation 17 of 20\n",
            "Model Number: 1722 with model FBProphet in generation 17 of 20\n"
          ]
        },
        {
          "name": "stderr",
          "output_type": "stream",
          "text": [
            "/usr/local/lib/python3.10/dist-packages/autots/tools/percentile.py:47: RuntimeWarning:\n",
            "\n",
            "All-NaN slice encountered\n",
            "\n"
          ]
        },
        {
          "name": "stdout",
          "output_type": "stream",
          "text": [
            "Model Number: 1723 with model AverageValueNaive in generation 17 of 20\n",
            "Model Number: 1724 with model ETS in generation 17 of 20\n",
            "Template Eval Error: Exception(\"Transformer Cointegration failed on fit from params ffill {'0': {'rows': 1, 'lag': 28, 'method': 'additive', 'strength': 0.9, 'first_value_only': False}, '1': {'det_order': -1, 'k_ar_diff': 2}}\") in model 1724 in generation 17: ETS\n",
            "Model Number: 1725 with model SeasonalityMotif in generation 17 of 20\n",
            "Model Number: 1726 with model MultivariateRegression in generation 17 of 20\n",
            "Model Number: 1727 with model MultivariateRegression in generation 17 of 20\n",
            "Model Number: 1728 with model UnivariateRegression in generation 17 of 20\n",
            "Model Number: 1729 with model ARIMA in generation 17 of 20\n",
            "Model Number: 1730 with model ARDL in generation 17 of 20\n",
            "Model Number: 1731 with model MultivariateRegression in generation 17 of 20\n",
            "Template Eval Error: ValueError(\"regression_type='User' but not future_regressor supplied.\") in model 1731 in generation 17: MultivariateRegression\n",
            "Model Number: 1732 with model FBProphet in generation 17 of 20\n",
            "Model Number: 1733 with model FBProphet in generation 17 of 20\n",
            "Model Number: 1734 with model FBProphet in generation 17 of 20\n",
            "No anomalies detected.\n",
            "Model Number: 1735 with model UnobservedComponents in generation 17 of 20\n",
            "Model Number: 1736 with model UnivariateRegression in generation 17 of 20\n",
            "Model Number: 1737 with model LastValueNaive in generation 17 of 20\n",
            "Model Number: 1738 with model UnobservedComponents in generation 17 of 20\n",
            "Model Number: 1739 with model NVAR in generation 17 of 20\n",
            "Model Number: 1740 with model SeasonalityMotif in generation 17 of 20\n",
            "Model Number: 1741 with model LastValueNaive in generation 17 of 20\n",
            "Model Number: 1742 with model UnobservedComponents in generation 17 of 20\n",
            "Template Eval Error: Exception(\"Transformer Cointegration failed on fit from params rolling_mean_24 {'0': {'rows': 1, 'lag': 1, 'method': 'additive', 'strength': 1.0, 'first_value_only': False}, '1': {'det_order': 1, 'k_ar_diff': 1}, '2': {}, '3': {'rows': 1, 'lag': 1, 'method': 'additive', 'strength': 1.0, 'first_value_only': False}, '4': {'rows': 1, 'lag': 1, 'method': 'multiplicative', 'strength': 1.0, 'first_value_only': False}}\") in model 1742 in generation 17: UnobservedComponents\n",
            "Model Number: 1743 with model ARIMA in generation 17 of 20\n",
            "Template Eval Error: Exception(\"Transformer DatepartRegression failed on fit from params akima {'0': {}, '1': {'method': 0.8}, '2': {'regression_model': {'model': 'ExtraTrees', 'model_params': {'n_estimators': 100, 'min_samples_leaf': 1, 'min_samples_split': 2, 'max_depth': 20, 'criterion': 'poisson', 'max_features': 1}}, 'datepart_method': 'simple_binarized', 'polynomial_degree': None, 'transform_dict': {'fillna': None, 'transformations': {'0': 'ClipOutliers'}, 'transformation_params': {'0': {'method': 'clip', 'std_threshold': 4}}}, 'holiday_countries_used': False}}\") in model 1743 in generation 17: ARIMA\n",
            "Model Number: 1744 with model UnobservedComponents in generation 17 of 20\n",
            "Model Number: 1745 with model FBProphet in generation 17 of 20\n",
            "Model Number: 1746 with model NVAR in generation 17 of 20\n",
            "Model Number: 1747 with model LastValueNaive in generation 17 of 20\n",
            "Model Number: 1748 with model ETS in generation 17 of 20\n",
            "Model Number: 1749 with model LastValueNaive in generation 17 of 20\n",
            "Model Number: 1750 with model MultivariateRegression in generation 17 of 20\n",
            "Model Number: 1751 with model AverageValueNaive in generation 17 of 20\n",
            "Model Number: 1752 with model UnivariateRegression in generation 17 of 20\n",
            "Model Number: 1753 with model AverageValueNaive in generation 17 of 20\n",
            "Model Number: 1754 with model AverageValueNaive in generation 17 of 20\n",
            "Model Number: 1755 with model ETS in generation 17 of 20\n",
            "Template Eval Error: Exception(\"Transformer STLFilter failed on fit from params fake_date {'0': {'decomp_type': 'seasonal_decompose', 'part': 'trend'}, '1': {}, '2': {}, '3': {'decimals': 0, 'on_transform': True, 'on_inverse': False}, '4': {'window_size': 7, 'alpha': 1.0, 'grouping_forward_limit': 3, 'max_level_shifts': 30, 'alignment': 'last_value'}}\") in model 1755 in generation 17: ETS\n",
            "Model Number: 1756 with model FBProphet in generation 17 of 20\n",
            "No anomalies detected.\n",
            "Model Number: 1757 with model UnivariateRegression in generation 17 of 20\n",
            "Model Number: 1758 with model UnobservedComponents in generation 17 of 20\n",
            "Model Number: 1759 with model UnivariateRegression in generation 17 of 20\n",
            "Model Number: 1760 with model AverageValueNaive in generation 17 of 20\n",
            "Model Number: 1761 with model NVAR in generation 17 of 20\n",
            "Model Number: 1762 with model GLM in generation 17 of 20\n",
            "Model Number: 1763 with model UnobservedComponents in generation 17 of 20\n",
            "Model Number: 1764 with model Theta in generation 17 of 20\n",
            "Template Eval Error: Exception(\"Transformer AlignLastValue failed on inverse from params fake_date {'0': {'model': 'GLS', 'phi': 1, 'window': None, 'transform_dict': {'fillna': None, 'transformations': {'0': 'AnomalyRemoval'}, 'transformation_params': {'0': {'method': 'zscore', 'transform_dict': {'transformations': {'0': 'DatepartRegression'}, 'transformation_params': {'0': {'datepart_method': 'simple_3', 'regression_model': {'model': 'ElasticNet', 'model_params': {}}}}}, 'method_params': {'distribution': 'uniform', 'alpha': 0.05}}}}}, '1': {'part': 'trend', 'lamb': 1600}, '2': {'rows': 1, 'lag': 1, 'method': 'additive', 'strength': 1.0, 'first_value_only': True}, '3': {'center': 'mean'}, '4': {'constant': 0, 'reintroduction_model': None, 'fillna': 'ffill'}}\") in model 1764 in generation 17: Theta\n",
            "Model Number: 1765 with model LastValueNaive in generation 17 of 20\n",
            "Model Number: 1766 with model SeasonalityMotif in generation 17 of 20\n",
            "Model Number: 1767 with model UnivariateRegression in generation 17 of 20\n",
            "Model Number: 1768 with model NVAR in generation 17 of 20\n",
            "Model Number: 1769 with model Theta in generation 17 of 20\n",
            "Model Number: 1770 with model MetricMotif in generation 17 of 20\n",
            "Model Number: 1771 with model SeasonalNaive in generation 17 of 20\n",
            "Model Number: 1772 with model ARIMA in generation 17 of 20\n",
            "Model Number: 1773 with model MultivariateRegression in generation 17 of 20\n",
            "Model Number: 1774 with model MultivariateRegression in generation 17 of 20\n",
            "Template Eval Error: ValueError(\"regression_type='User' but not future_regressor supplied.\") in model 1774 in generation 17: MultivariateRegression\n",
            "Model Number: 1775 with model Theta in generation 17 of 20\n",
            "Template Eval Error: Exception(\"Transformer AlignLastValue failed on inverse from params ffill {'0': {'rows': 2, 'lag': 1, 'method': 'additive', 'strength': 0.2, 'first_value_only': True}, '1': {'lag_1': 24, 'method': 'LastValue'}, '2': {'n_harmonics': 10, 'detrend': None}, '3': {}, '4': {'output_distribution': 'uniform', 'n_quantiles': 147}}\") in model 1775 in generation 17: Theta\n",
            "Model Number: 1776 with model MultivariateRegression in generation 17 of 20\n",
            "Model Number: 1777 with model FBProphet in generation 17 of 20\n",
            "No anomalies detected.\n",
            "Model Number: 1778 with model UnobservedComponents in generation 17 of 20\n",
            "Model Number: 1779 with model WindowRegression in generation 17 of 20\n",
            "Template Eval Error: ValueError(\"regression_type='User' but no future_regressor passed\") in model 1779 in generation 17: WindowRegression\n",
            "Model Number: 1780 with model FBProphet in generation 17 of 20\n",
            "Model Number: 1781 with model SeasonalNaive in generation 17 of 20\n",
            "New Generation: 18 of 20\n",
            "Model Number: 1782 with model FBProphet in generation 18 of 20\n",
            "Model Number: 1783 with model SeasonalNaive in generation 18 of 20\n",
            "Model Number: 1784 with model FBProphet in generation 18 of 20\n",
            "No anomalies detected.\n",
            "Model Number: 1785 with model Theta in generation 18 of 20\n",
            "Model Number: 1786 with model LastValueNaive in generation 18 of 20\n",
            "Model Number: 1787 with model UnivariateRegression in generation 18 of 20\n",
            "Model Number: 1788 with model NVAR in generation 18 of 20\n",
            "Model Number: 1789 with model MultivariateRegression in generation 18 of 20\n",
            "Model Number: 1790 with model SeasonalityMotif in generation 18 of 20\n",
            "Model Number: 1791 with model AverageValueNaive in generation 18 of 20\n",
            "Model Number: 1792 with model FBProphet in generation 18 of 20\n",
            "Model Number: 1793 with model NVAR in generation 18 of 20\n",
            "Model Number: 1794 with model SeasonalityMotif in generation 18 of 20\n",
            "Model Number: 1795 with model UnobservedComponents in generation 18 of 20\n",
            "Model Number: 1796 with model MultivariateRegression in generation 18 of 20\n",
            "Template Eval Error: Exception(\"Transformer Cointegration failed on fit from params ffill {'0': {}, '1': {'det_order': -1, 'k_ar_diff': 2}}\") in model 1796 in generation 18: MultivariateRegression\n",
            "Model Number: 1797 with model MultivariateRegression in generation 18 of 20\n"
          ]
        },
        {
          "name": "stderr",
          "output_type": "stream",
          "text": [
            "/usr/local/lib/python3.10/dist-packages/sklearn/neighbors/_classification.py:215: DataConversionWarning:\n",
            "\n",
            "A column-vector y was passed when a 1d array was expected. Please change the shape of y to (n_samples,), for example using ravel().\n",
            "\n"
          ]
        },
        {
          "name": "stdout",
          "output_type": "stream",
          "text": [
            "Model Number: 1798 with model SeasonalNaive in generation 18 of 20\n",
            "Model Number: 1799 with model ETS in generation 18 of 20\n",
            "Model Number: 1800 with model ARDL in generation 18 of 20\n",
            "Model Number: 1801 with model UnivariateRegression in generation 18 of 20\n",
            "Model Number: 1802 with model AverageValueNaive in generation 18 of 20\n",
            "Model Number: 1803 with model NVAR in generation 18 of 20\n",
            "Model Number: 1804 with model ARIMA in generation 18 of 20\n"
          ]
        },
        {
          "name": "stderr",
          "output_type": "stream",
          "text": [
            "/usr/local/lib/python3.10/dist-packages/sklearn/neighbors/_classification.py:215: DataConversionWarning:\n",
            "\n",
            "A column-vector y was passed when a 1d array was expected. Please change the shape of y to (n_samples,), for example using ravel().\n",
            "\n"
          ]
        },
        {
          "name": "stdout",
          "output_type": "stream",
          "text": [
            "Model Number: 1805 with model ETS in generation 18 of 20\n",
            "Model Number: 1806 with model SeasonalityMotif in generation 18 of 20\n",
            "Model Number: 1807 with model UnivariateRegression in generation 18 of 20\n",
            "Model Number: 1808 with model NVAR in generation 18 of 20\n",
            "Model Number: 1809 with model UnobservedComponents in generation 18 of 20\n",
            "Template Eval Error: ValueError('Model UnobservedComponents returned NaN for one or more series. fail_on_forecast_nan=True') in model 1809 in generation 18: UnobservedComponents\n",
            "Model Number: 1810 with model MultivariateRegression in generation 18 of 20\n",
            "Template Eval Error: ValueError(\"regression_type='User' but not future_regressor supplied.\") in model 1810 in generation 18: MultivariateRegression\n",
            "Model Number: 1811 with model LastValueNaive in generation 18 of 20\n",
            "Model Number: 1812 with model LastValueNaive in generation 18 of 20\n",
            "Model Number: 1813 with model FBProphet in generation 18 of 20\n",
            "Model Number: 1814 with model AverageValueNaive in generation 18 of 20\n",
            "Model Number: 1815 with model NVAR in generation 18 of 20\n",
            "Model Number: 1816 with model NVAR in generation 18 of 20\n",
            "Model Number: 1817 with model MultivariateRegression in generation 18 of 20\n",
            "Model Number: 1818 with model NVAR in generation 18 of 20\n",
            "Model Number: 1819 with model SeasonalNaive in generation 18 of 20\n",
            "Model Number: 1820 with model SeasonalNaive in generation 18 of 20\n",
            "Model Number: 1821 with model ARDL in generation 18 of 20\n",
            "Model Number: 1822 with model FBProphet in generation 18 of 20\n",
            "Model Number: 1823 with model UnobservedComponents in generation 18 of 20\n",
            "Model Number: 1824 with model MultivariateRegression in generation 18 of 20\n",
            "Model Number: 1825 with model FBProphet in generation 18 of 20\n",
            "Model Number: 1826 with model MultivariateMotif in generation 18 of 20\n",
            "Template Eval Error: Exception(\"Transformer AlignLastValue failed on inverse from params ffill {'0': {'rows': 1, 'lag': 1, 'method': 'additive', 'strength': 1.0, 'first_value_only': True}, '1': {'method': 0.8}, '2': {}}\") in model 1826 in generation 18: MultivariateMotif\n",
            "Model Number: 1827 with model MultivariateRegression in generation 18 of 20\n",
            "Model Number: 1828 with model LastValueNaive in generation 18 of 20\n",
            "Model Number: 1829 with model UnivariateRegression in generation 18 of 20\n",
            "Model Number: 1830 with model ARDL in generation 18 of 20\n",
            "Model Number: 1831 with model MultivariateRegression in generation 18 of 20\n",
            "Model Number: 1832 with model FBProphet in generation 18 of 20\n"
          ]
        },
        {
          "name": "stderr",
          "output_type": "stream",
          "text": [
            "/usr/local/lib/python3.10/dist-packages/sklearn/decomposition/_fastica.py:708: FutureWarning:\n",
            "\n",
            "Starting in v1.3, whiten=True should be specified as whiten='arbitrary-variance' (its current behaviour). This behavior is deprecated in 1.1 and will raise ValueError in 1.3.\n",
            "\n"
          ]
        },
        {
          "name": "stdout",
          "output_type": "stream",
          "text": [
            "Model Number: 1833 with model LastValueNaive in generation 18 of 20\n",
            "Model Number: 1834 with model ARDL in generation 18 of 20\n",
            "Model Number: 1835 with model ARDL in generation 18 of 20\n",
            "Model Number: 1836 with model LastValueNaive in generation 18 of 20\n",
            "Model Number: 1837 with model MultivariateRegression in generation 18 of 20\n",
            "Model Number: 1838 with model UnivariateMotif in generation 18 of 20\n",
            "Template Eval Error: Exception(\"Transformer STLFilter failed on fit from params ffill {'0': {}, '1': {'lag_1': 24, 'method': 'LastValue'}, '2': {'decomp_type': 'seasonal_decompose', 'part': 'trend'}, '3': {}, '4': {'lag_1': 364, 'method': 'Median'}, '5': {'rows': 5}}\") in model 1838 in generation 18: UnivariateMotif\n",
            "Model Number: 1839 with model UnivariateRegression in generation 18 of 20\n",
            "Model Number: 1840 with model SeasonalityMotif in generation 18 of 20\n",
            "Model Number: 1841 with model FBProphet in generation 18 of 20\n",
            "Model Number: 1842 with model SeasonalityMotif in generation 18 of 20\n",
            "Model Number: 1843 with model FBProphet in generation 18 of 20\n",
            "Model Number: 1844 with model UnivariateRegression in generation 18 of 20\n",
            "Template Eval Error: Exception(\"Transformer ReplaceConstant failed on fit from params fake_date {'0': {'rows': 4, 'lag': 7, 'method': 'additive', 'strength': 0.2, 'first_value_only': False}, '1': {'lag_1': 7, 'method': 20}, '2': {}, '3': {'constant': 0, 'reintroduction_model': {'model': 'SGD', 'model_params': {}, 'datepart_method': 'common_fourier'}, 'fillna': 'mean'}, '4': {}}\") in model 1844 in generation 18: UnivariateRegression\n",
            "Model Number: 1845 with model UnobservedComponents in generation 18 of 20\n",
            "Model Number: 1846 with model NVAR in generation 18 of 20\n",
            "Model Number: 1847 with model Theta in generation 18 of 20\n",
            "Model Number: 1848 with model SeasonalityMotif in generation 18 of 20\n"
          ]
        },
        {
          "name": "stderr",
          "output_type": "stream",
          "text": [
            "/usr/local/lib/python3.10/dist-packages/sklearn/utils/validation.py:1143: DataConversionWarning:\n",
            "\n",
            "A column-vector y was passed when a 1d array was expected. Please change the shape of y to (n_samples, ), for example using ravel().\n",
            "\n"
          ]
        },
        {
          "name": "stdout",
          "output_type": "stream",
          "text": [
            "Model Number: 1849 with model AverageValueNaive in generation 18 of 20\n",
            "Model Number: 1850 with model NVAR in generation 18 of 20\n",
            "Model Number: 1851 with model ETS in generation 18 of 20\n",
            "Model Number: 1852 with model UnivariateRegression in generation 18 of 20\n",
            "Model Number: 1853 with model UnobservedComponents in generation 18 of 20\n",
            "Template Eval Error: Exception(\"Transformer ScipyFilter failed on fit from params ffill {'0': {}, '1': {'method': 'butter', 'method_args': {'N': 5, 'btype': 'lowpass', 'analog': False, 'output': 'sos', 'Wn': 0.016666666666666666}}}\") in model 1853 in generation 18: UnobservedComponents\n",
            "Model Number: 1854 with model MetricMotif in generation 18 of 20\n",
            "Model Number: 1855 with model FBProphet in generation 18 of 20\n",
            "Model Number: 1856 with model NVAR in generation 18 of 20\n",
            "New Generation: 19 of 20\n",
            "Model Number: 1857 with model Theta in generation 19 of 20\n",
            "Template Eval Error: Exception(\"Transformer AlignLastValue failed on inverse from params ffill {'0': {}, '1': {'fixed': True, 'window': 4}, '2': {}, '3': {'rows': 1, 'lag': 1, 'method': 'additive', 'strength': 1.0, 'first_value_only': True}}\") in model 1857 in generation 19: Theta\n",
            "Model Number: 1858 with model UnobservedComponents in generation 19 of 20\n",
            "Model Number: 1859 with model LastValueNaive in generation 19 of 20\n",
            "Model Number: 1860 with model ETS in generation 19 of 20\n",
            "Template Eval Error: Exception(\"Transformer BTCD failed on fit from params piecewise_polynomial {'0': {'regression_model': {'model': 'FastRidge', 'model_params': {}}, 'max_lags': 2}, '1': {}}\") in model 1860 in generation 19: ETS\n",
            "Model Number: 1861 with model MultivariateRegression in generation 19 of 20\n",
            "Model Number: 1862 with model ETS in generation 19 of 20\n",
            "Template Eval Error: Exception(\"Transformer AlignLastValue failed on inverse from params ffill {'0': {'rows': 1, 'lag': 1, 'method': 'additive', 'strength': 1.0, 'first_value_only': True}}\") in model 1862 in generation 19: ETS\n",
            "Model Number: 1863 with model MultivariateRegression in generation 19 of 20\n",
            "Model Number: 1864 with model SeasonalNaive in generation 19 of 20\n",
            "Model Number: 1865 with model UnobservedComponents in generation 19 of 20\n",
            "Template Eval Error: ValueError(\"regression_type='User' but no future_regressor supplied\") in model 1865 in generation 19: UnobservedComponents\n",
            "Model Number: 1866 with model FBProphet in generation 19 of 20\n"
          ]
        },
        {
          "name": "stderr",
          "output_type": "stream",
          "text": [
            "/usr/local/lib/python3.10/dist-packages/sklearn/linear_model/_ridge.py:216: LinAlgWarning:\n",
            "\n",
            "Ill-conditioned matrix (rcond=1.44548e-25): result may not be accurate.\n",
            "\n"
          ]
        },
        {
          "name": "stdout",
          "output_type": "stream",
          "text": [
            "Model Number: 1867 with model UnobservedComponents in generation 19 of 20\n",
            "Model Number: 1868 with model AverageValueNaive in generation 19 of 20\n",
            "Model Number: 1869 with model AverageValueNaive in generation 19 of 20\n",
            "Model Number: 1870 with model WindowRegression in generation 19 of 20\n",
            "Model Number: 1871 with model UnobservedComponents in generation 19 of 20\n"
          ]
        },
        {
          "name": "stderr",
          "output_type": "stream",
          "text": [
            "/usr/local/lib/python3.10/dist-packages/sklearn/neural_network/_multilayer_perceptron.py:541: ConvergenceWarning:\n",
            "\n",
            "lbfgs failed to converge (status=1):\n",
            "STOP: TOTAL NO. of ITERATIONS REACHED LIMIT.\n",
            "\n",
            "Increase the number of iterations (max_iter) or scale the data as shown in:\n",
            "    https://scikit-learn.org/stable/modules/preprocessing.html\n",
            "\n"
          ]
        },
        {
          "name": "stdout",
          "output_type": "stream",
          "text": [
            "Model Number: 1872 with model ARIMA in generation 19 of 20\n",
            "Model Number: 1873 with model MultivariateRegression in generation 19 of 20\n",
            "Model Number: 1874 with model NVAR in generation 19 of 20\n",
            "Model Number: 1875 with model UnivariateRegression in generation 19 of 20\n",
            "Model Number: 1876 with model FBProphet in generation 19 of 20\n",
            "Model Number: 1877 with model AverageValueNaive in generation 19 of 20\n",
            "Model Number: 1878 with model NVAR in generation 19 of 20\n",
            "Model Number: 1879 with model SeasonalityMotif in generation 19 of 20\n",
            "Model Number: 1880 with model MultivariateRegression in generation 19 of 20\n",
            "Model Number: 1881 with model Theta in generation 19 of 20\n",
            "Model Number: 1882 with model SeasonalityMotif in generation 19 of 20\n",
            "Model Number: 1883 with model NVAR in generation 19 of 20\n",
            "Model Number: 1884 with model UnivariateMotif in generation 19 of 20\n",
            "Template Eval Error: ValueError('Model UnivariateMotif returned NaN for one or more series. fail_on_forecast_nan=True') in model 1884 in generation 19: UnivariateMotif\n",
            "Model Number: 1885 with model UnobservedComponents in generation 19 of 20\n",
            "Model Number: 1886 with model UnivariateRegression in generation 19 of 20\n",
            "Model Number: 1887 with model SeasonalNaive in generation 19 of 20\n"
          ]
        },
        {
          "name": "stderr",
          "output_type": "stream",
          "text": [
            "/usr/local/lib/python3.10/dist-packages/numpy/core/_methods.py:49: RuntimeWarning:\n",
            "\n",
            "invalid value encountered in reduce\n",
            "\n",
            "/usr/local/lib/python3.10/dist-packages/numpy/lib/function_base.py:553: RuntimeWarning:\n",
            "\n",
            "invalid value encountered in divide\n",
            "\n"
          ]
        },
        {
          "name": "stdout",
          "output_type": "stream",
          "text": [
            "Model Number: 1888 with model UnobservedComponents in generation 19 of 20\n",
            "Template Eval Error: ValueError('Model UnobservedComponents returned NaN for one or more series. fail_on_forecast_nan=True') in model 1888 in generation 19: UnobservedComponents\n",
            "Model Number: 1889 with model FBProphet in generation 19 of 20\n",
            "Template Eval Error: Exception(\"Transformer Cointegration failed on fit from params nearest {'0': {'det_order': -1, 'k_ar_diff': 0}, '1': {'fixed': True, 'window': 48}, '2': {'rows': 4, 'lag': 1, 'method': 'additive', 'strength': 0.5, 'first_value_only': False}, '3': {'window': 364}, '4': {'rows': 1, 'lag': 1, 'method': 'additive', 'strength': 1.0, 'first_value_only': False}}\") in model 1889 in generation 19: FBProphet\n",
            "Model Number: 1890 with model LastValueNaive in generation 19 of 20\n",
            "Model Number: 1891 with model AverageValueNaive in generation 19 of 20\n",
            "Model Number: 1892 with model SeasonalNaive in generation 19 of 20\n",
            "Model Number: 1893 with model SeasonalityMotif in generation 19 of 20\n",
            "Model Number: 1894 with model MultivariateRegression in generation 19 of 20\n",
            "Model Number: 1895 with model ARIMA in generation 19 of 20\n",
            "Model Number: 1896 with model LastValueNaive in generation 19 of 20\n",
            "Model Number: 1897 with model AverageValueNaive in generation 19 of 20\n",
            "Model Number: 1898 with model MultivariateMotif in generation 19 of 20\n",
            "Model Number: 1899 with model ARIMA in generation 19 of 20\n",
            "Model Number: 1900 with model FBProphet in generation 19 of 20\n",
            "Model Number: 1901 with model NVAR in generation 19 of 20\n",
            "Model Number: 1902 with model SeasonalityMotif in generation 19 of 20\n"
          ]
        },
        {
          "name": "stderr",
          "output_type": "stream",
          "text": [
            "/usr/local/lib/python3.10/dist-packages/sklearn/decomposition/_fastica.py:708: FutureWarning:\n",
            "\n",
            "Starting in v1.3, whiten=True should be specified as whiten='arbitrary-variance' (its current behaviour). This behavior is deprecated in 1.1 and will raise ValueError in 1.3.\n",
            "\n"
          ]
        },
        {
          "name": "stdout",
          "output_type": "stream",
          "text": [
            "Model Number: 1903 with model SeasonalNaive in generation 19 of 20\n",
            "Template Eval Error: Exception(\"Transformer ReplaceConstant failed on fit from params ffill {'0': {'rows': 1, 'lag': 1, 'method': 'additive', 'strength': 1.0, 'first_value_only': False}, '1': {'constant': 0, 'reintroduction_model': {'model': 'xgboost', 'model_params': {'base_score': 0.5, 'booster': 'gbtree', 'colsample_bylevel': 0.692, 'learning_rate': 0.022, 'max_bin': 256, 'max_depth': 14, 'max_leaves': 0, 'min_child_weight': 0.024, 'n_estimators': 162}, 'datepart_method': 'simple_binarized'}, 'fillna': 'SeasonalityMotifImputer1K'}, '2': {'rows': 4, 'lag': 1, 'method': 'additive', 'strength': 1.0, 'first_value_only': False}}\") in model 1903 in generation 19: SeasonalNaive\n",
            "Model Number: 1904 with model MultivariateRegression in generation 19 of 20\n",
            "Model Number: 1905 with model UnobservedComponents in generation 19 of 20\n",
            "Model Number: 1906 with model SeasonalityMotif in generation 19 of 20\n",
            "Model Number: 1907 with model NVAR in generation 19 of 20\n",
            "Model Number: 1908 with model AverageValueNaive in generation 19 of 20\n",
            "Template Eval Error: Exception(\"Transformer ReplaceConstant failed on fit from params fake_date {'0': {'method': 'remove', 'std_threshold': 5, 'fillna': 'mean'}, '1': {}, '2': {'constant': 0, 'reintroduction_model': {'model': 'xgboost', 'model_params': {'booster': 'gbtree', 'max_depth': 6, 'eta': 0.05, 'min_child_weight': 1, 'subsample': 1, 'colsample_bylevel': 0.5, 'reg_alpha': 0, 'reg_lambda': 1, 'n_estimators': 100}, 'datepart_method': 'common_fourier'}, 'fillna': 'linear'}, '3': {'lag_1': 24, 'method': 'Mean'}}\") in model 1908 in generation 19: AverageValueNaive\n",
            "Model Number: 1909 with model FBProphet in generation 19 of 20\n",
            "Model Number: 1910 with model UnobservedComponents in generation 19 of 20\n",
            "Model Number: 1911 with model ARIMA in generation 19 of 20\n",
            "Model Number: 1912 with model UnivariateRegression in generation 19 of 20\n",
            "Model Number: 1913 with model SeasonalityMotif in generation 19 of 20\n",
            "Model Number: 1914 with model MultivariateRegression in generation 19 of 20\n",
            "Model Number: 1915 with model LastValueNaive in generation 19 of 20\n",
            "Model Number: 1916 with model LastValueNaive in generation 19 of 20\n",
            "Model Number: 1917 with model ETS in generation 19 of 20\n",
            "Model Number: 1918 with model SeasonalityMotif in generation 19 of 20\n",
            "Model Number: 1919 with model NVAR in generation 19 of 20\n",
            "Model Number: 1920 with model UnivariateMotif in generation 19 of 20\n",
            "Model Number: 1921 with model LastValueNaive in generation 19 of 20\n",
            "Model Number: 1922 with model UnobservedComponents in generation 19 of 20\n",
            "Model Number: 1923 with model UnivariateRegression in generation 19 of 20\n",
            "Model Number: 1924 with model ETS in generation 19 of 20\n"
          ]
        },
        {
          "name": "stderr",
          "output_type": "stream",
          "text": [
            "/usr/local/lib/python3.10/dist-packages/sklearn/neighbors/_classification.py:215: DataConversionWarning:\n",
            "\n",
            "A column-vector y was passed when a 1d array was expected. Please change the shape of y to (n_samples,), for example using ravel().\n",
            "\n"
          ]
        },
        {
          "name": "stdout",
          "output_type": "stream",
          "text": [
            "Model Number: 1925 with model ETS in generation 19 of 20\n",
            "Template Eval Error: Exception(\"Transformer AlignLastValue failed on inverse from params fake_date {'0': {'rows': 1, 'lag': 1, 'method': 'additive', 'strength': 1.0, 'first_value_only': False}, '1': {'rows': 7, 'lag': 1, 'method': 'additive', 'strength': 1.0, 'first_value_only': True}, '2': {'span': 88}, '3': {}}\") in model 1925 in generation 19: ETS\n",
            "Model Number: 1926 with model ARDL in generation 19 of 20\n",
            "Template Eval Error: Exception(\"Transformer ScipyFilter failed on fit from params rolling_mean {'0': {'rows': 1, 'lag': 1, 'method': 'additive', 'strength': 1.0, 'first_value_only': False}, '1': {'method': 'butter', 'method_args': {'N': 7, 'btype': 'highpass', 'analog': False, 'output': 'sos', 'Wn': 0.05263157894736842}}, '2': {'sigma': 1, 'rolling_window': 90, 'run_order': 'season_first', 'regression_params': {'regression_model': {'model': 'ElasticNet', 'model_params': {}}, 'datepart_method': 'common_fourier', 'polynomial_degree': None, 'transform_dict': {'fillna': 'ffill', 'transformations': {'0': 'Slice', '1': 'MaxAbsScaler'}, 'transformation_params': {'0': {'method': 0.5}, '1': {}}}, 'holiday_countries_used': False}, 'holiday_params': None}, '3': {'lag_1': 78, 'method': 5}, '4': {'rows': 1, 'lag': 7, 'method': 'additive', 'strength': 1.0, 'first_value_only': False}}\") in model 1926 in generation 19: ARDL\n",
            "Model Number: 1927 with model FBProphet in generation 19 of 20\n",
            "Model Number: 1928 with model UnobservedComponents in generation 19 of 20\n",
            "Model Number: 1929 with model NVAR in generation 19 of 20\n"
          ]
        },
        {
          "name": "stderr",
          "output_type": "stream",
          "text": [
            "/usr/local/lib/python3.10/dist-packages/sklearn/neighbors/_classification.py:215: DataConversionWarning:\n",
            "\n",
            "A column-vector y was passed when a 1d array was expected. Please change the shape of y to (n_samples,), for example using ravel().\n",
            "\n"
          ]
        },
        {
          "name": "stdout",
          "output_type": "stream",
          "text": [
            "Model Number: 1930 with model FBProphet in generation 19 of 20\n",
            "Model Number: 1931 with model SeasonalityMotif in generation 19 of 20\n",
            "New Generation: 20 of 20\n",
            "Model Number: 1932 with model NVAR in generation 20 of 20\n",
            "Model Number: 1933 with model UnivariateRegression in generation 20 of 20\n",
            "Model Number: 1934 with model SeasonalityMotif in generation 20 of 20\n",
            "Model Number: 1935 with model NVAR in generation 20 of 20\n"
          ]
        },
        {
          "name": "stderr",
          "output_type": "stream",
          "text": [
            "/usr/local/lib/python3.10/dist-packages/sklearn/neighbors/_classification.py:215: DataConversionWarning:\n",
            "\n",
            "A column-vector y was passed when a 1d array was expected. Please change the shape of y to (n_samples,), for example using ravel().\n",
            "\n"
          ]
        },
        {
          "name": "stdout",
          "output_type": "stream",
          "text": [
            "Model Number: 1936 with model FBProphet in generation 20 of 20\n"
          ]
        },
        {
          "name": "stderr",
          "output_type": "stream",
          "text": [
            "/usr/local/lib/python3.10/dist-packages/sklearn/neighbors/_classification.py:215: DataConversionWarning:\n",
            "\n",
            "A column-vector y was passed when a 1d array was expected. Please change the shape of y to (n_samples,), for example using ravel().\n",
            "\n"
          ]
        },
        {
          "name": "stdout",
          "output_type": "stream",
          "text": [
            "Model Number: 1937 with model SeasonalityMotif in generation 20 of 20\n",
            "Model Number: 1938 with model ETS in generation 20 of 20\n",
            "Model Number: 1939 with model NVAR in generation 20 of 20\n",
            "Model Number: 1940 with model SeasonalityMotif in generation 20 of 20\n",
            "Model Number: 1941 with model NVAR in generation 20 of 20\n",
            "Model Number: 1942 with model FBProphet in generation 20 of 20\n",
            "Model Number: 1943 with model UnobservedComponents in generation 20 of 20\n",
            "Model Number: 1944 with model UnobservedComponents in generation 20 of 20\n",
            "Model Number: 1945 with model FBProphet in generation 20 of 20\n",
            "Model Number: 1946 with model NVAR in generation 20 of 20\n",
            "Model Number: 1947 with model AverageValueNaive in generation 20 of 20\n",
            "Model Number: 1948 with model UnobservedComponents in generation 20 of 20\n",
            "Model Number: 1949 with model ETS in generation 20 of 20\n",
            "Model Number: 1950 with model UnivariateMotif in generation 20 of 20\n",
            "Model Number: 1951 with model LastValueNaive in generation 20 of 20\n",
            "Model Number: 1952 with model UnobservedComponents in generation 20 of 20\n",
            "Template Eval Error: ValueError(\"regression_type='User' but no future_regressor supplied\") in model 1952 in generation 20: UnobservedComponents\n",
            "Model Number: 1953 with model LastValueNaive in generation 20 of 20\n",
            "Model Number: 1954 with model UnivariateRegression in generation 20 of 20\n",
            "Model Number: 1955 with model LastValueNaive in generation 20 of 20\n",
            "Template Eval Error: Exception(\"Transformer RegressionFilter failed on fit from params ffill {'0': {'output_distribution': 'uniform', 'n_quantiles': 246}, '1': {'sigma': 2, 'rolling_window': 90, 'run_order': 'trend_first', 'regression_params': {'regression_model': {'model': 'DecisionTree', 'model_params': {'max_depth': 9, 'min_samples_split': 2}}, 'datepart_method': 'common_fourier', 'polynomial_degree': None, 'transform_dict': {'fillna': None, 'transformations': {'0': 'AnomalyRemoval'}, 'transformation_params': {'0': {'method': 'zscore', 'transform_dict': {'transformations': {'0': 'DatepartRegression'}, 'transformation_params': {'0': {'datepart_method': 'simple_3', 'regression_model': {'model': 'ElasticNet', 'model_params': {}}}}}, 'method_params': {'distribution': 'uniform', 'alpha': 0.05}}}}, 'holiday_countries_used': True}, 'holiday_params': {'threshold': 0.8, 'splash_threshold': 0.65, 'use_dayofmonth_holidays': True, 'use_wkdom_holidays': True, 'use_wkdeom_holidays': False, 'use_lunar_holidays': True, 'use_lunar_weekday': False, 'use_islamic_holidays': False, 'use_hebrew_holidays': False, 'anomaly_detector_params': {'method': 'rolling_zscore', 'method_params': {'distribution': 'norm', 'alpha': 0.05, 'rolling_periods': 28, 'center': False}, 'fillna': 'rolling_mean_24', 'transform_dict': None, 'isolated_only': False}, 'remove_excess_anomalies': True, 'impact': 'datepart_regression', 'regression_params': {'regression_model': {'model': 'DecisionTree', 'model_params': {'max_depth': 9, 'min_samples_split': 2}}, 'datepart_method': 'common_fourier', 'polynomial_degree': None, 'transform_dict': {'fillna': None, 'transformations': {'0': 'AnomalyRemoval'}, 'transformation_params': {'0': {'method': 'zscore', 'transform_dict': {'transformations': {'0': 'DatepartRegression'}, 'transformation_params': {'0': {'datepart_method': 'simple_3', 'regression_model': {'model': 'ElasticNet', 'model_params': {}}}}}, 'method_params': {'distribution': 'uniform', 'alpha': 0.05}}}}, 'holiday_countries_used': True}}}}\") in model 1955 in generation 20: LastValueNaive\n",
            "Model Number: 1956 with model NVAR in generation 20 of 20\n",
            "Model Number: 1957 with model MultivariateRegression in generation 20 of 20\n",
            "Model Number: 1958 with model SeasonalityMotif in generation 20 of 20\n",
            "Model Number: 1959 with model MultivariateRegression in generation 20 of 20\n",
            "Model Number: 1960 with model FBProphet in generation 20 of 20\n",
            "Model Number: 1961 with model UnobservedComponents in generation 20 of 20\n",
            "Model Number: 1962 with model AverageValueNaive in generation 20 of 20\n",
            "Model Number: 1963 with model FBProphet in generation 20 of 20\n"
          ]
        },
        {
          "name": "stderr",
          "output_type": "stream",
          "text": [
            "/usr/local/lib/python3.10/dist-packages/sklearn/neighbors/_classification.py:215: DataConversionWarning:\n",
            "\n",
            "A column-vector y was passed when a 1d array was expected. Please change the shape of y to (n_samples,), for example using ravel().\n",
            "\n"
          ]
        },
        {
          "name": "stdout",
          "output_type": "stream",
          "text": [
            "Model Number: 1964 with model UnobservedComponents in generation 20 of 20\n",
            "Model Number: 1965 with model ARDL in generation 20 of 20\n",
            "Model Number: 1966 with model LastValueNaive in generation 20 of 20\n",
            "Model Number: 1967 with model UnobservedComponents in generation 20 of 20\n",
            "Template Eval Error: Exception(\"Transformer AlignLastValue failed on inverse from params rolling_mean_24 {'0': {'rows': 1, 'lag': 7, 'method': 'additive', 'strength': 1.0, 'first_value_only': True}}\") in model 1967 in generation 20: UnobservedComponents\n",
            "Model Number: 1968 with model MultivariateRegression in generation 20 of 20\n",
            "Model Number: 1969 with model MultivariateRegression in generation 20 of 20\n",
            "Model Number: 1970 with model MultivariateRegression in generation 20 of 20\n",
            "Model Number: 1971 with model SeasonalityMotif in generation 20 of 20\n",
            "Model Number: 1972 with model FBProphet in generation 20 of 20\n",
            "Template Eval Error: Exception(\"Transformer Cointegration failed on fit from params ffill {'0': {}, '1': {'det_order': 0, 'k_ar_diff': 2}, '2': {}, '3': {'algorithm': 'parallel', 'fun': 'exp', 'max_iter': 250, 'whiten': True}}\") in model 1972 in generation 20: FBProphet\n",
            "Model Number: 1973 with model FBProphet in generation 20 of 20\n",
            "Model Number: 1974 with model UnobservedComponents in generation 20 of 20\n",
            "Model Number: 1975 with model UnobservedComponents in generation 20 of 20\n",
            "Model Number: 1976 with model NVAR in generation 20 of 20\n",
            "Model Number: 1977 with model MultivariateRegression in generation 20 of 20\n",
            "Model Number: 1978 with model ARDL in generation 20 of 20\n",
            "Template Eval Error: ValueError(\"ARDL series Close failed with error IndexError('tuple index out of range') exog train None and predict None\") in model 1978 in generation 20: ARDL\n",
            "Model Number: 1979 with model MultivariateRegression in generation 20 of 20\n",
            "Model Number: 1980 with model NVAR in generation 20 of 20\n",
            "Model Number: 1981 with model UnobservedComponents in generation 20 of 20\n",
            "Model Number: 1982 with model Ensemble in generation 21 of Ensembles\n",
            "Model Number: 1983 with model Ensemble in generation 21 of Ensembles\n",
            "Model Number: 1984 with model Ensemble in generation 21 of Ensembles\n",
            "Model Number: 1985 with model Ensemble in generation 21 of Ensembles\n",
            "Model Number: 1986 with model Ensemble in generation 21 of Ensembles\n"
          ]
        },
        {
          "name": "stderr",
          "output_type": "stream",
          "text": [
            "/usr/local/lib/python3.10/dist-packages/sklearn/neighbors/_classification.py:215: DataConversionWarning:\n",
            "\n",
            "A column-vector y was passed when a 1d array was expected. Please change the shape of y to (n_samples,), for example using ravel().\n",
            "\n"
          ]
        },
        {
          "name": "stdout",
          "output_type": "stream",
          "text": [
            "Model Number: 1987 with model Ensemble in generation 21 of Ensembles\n"
          ]
        },
        {
          "name": "stderr",
          "output_type": "stream",
          "text": [
            "/usr/local/lib/python3.10/dist-packages/sklearn/neighbors/_classification.py:215: DataConversionWarning:\n",
            "\n",
            "A column-vector y was passed when a 1d array was expected. Please change the shape of y to (n_samples,), for example using ravel().\n",
            "\n"
          ]
        },
        {
          "name": "stdout",
          "output_type": "stream",
          "text": [
            "Model Number: 1988 with model Ensemble in generation 21 of Ensembles\n"
          ]
        },
        {
          "name": "stderr",
          "output_type": "stream",
          "text": [
            "/usr/local/lib/python3.10/dist-packages/sklearn/neighbors/_classification.py:215: DataConversionWarning:\n",
            "\n",
            "A column-vector y was passed when a 1d array was expected. Please change the shape of y to (n_samples,), for example using ravel().\n",
            "\n"
          ]
        },
        {
          "name": "stdout",
          "output_type": "stream",
          "text": [
            "Model Number: 1989 with model Ensemble in generation 21 of Ensembles\n"
          ]
        },
        {
          "name": "stderr",
          "output_type": "stream",
          "text": [
            "/usr/local/lib/python3.10/dist-packages/sklearn/neighbors/_classification.py:215: DataConversionWarning:\n",
            "\n",
            "A column-vector y was passed when a 1d array was expected. Please change the shape of y to (n_samples,), for example using ravel().\n",
            "\n"
          ]
        },
        {
          "name": "stdout",
          "output_type": "stream",
          "text": [
            "Validation Round: 1\n",
            "Model Number: 1 of 292 with model Ensemble for Validation 1\n"
          ]
        },
        {
          "name": "stderr",
          "output_type": "stream",
          "text": [
            "/usr/local/lib/python3.10/dist-packages/sklearn/neighbors/_classification.py:215: DataConversionWarning:\n",
            "\n",
            "A column-vector y was passed when a 1d array was expected. Please change the shape of y to (n_samples,), for example using ravel().\n",
            "\n"
          ]
        },
        {
          "name": "stdout",
          "output_type": "stream",
          "text": [
            "📈 1 - Ensemble with avg smape 14.15: \n",
            "Model Number: 2 of 292 with model Ensemble for Validation 1\n"
          ]
        },
        {
          "name": "stderr",
          "output_type": "stream",
          "text": [
            "/usr/local/lib/python3.10/dist-packages/sklearn/neighbors/_classification.py:215: DataConversionWarning:\n",
            "\n",
            "A column-vector y was passed when a 1d array was expected. Please change the shape of y to (n_samples,), for example using ravel().\n",
            "\n"
          ]
        },
        {
          "name": "stdout",
          "output_type": "stream",
          "text": [
            "2 - Ensemble with avg smape 14.27: \n",
            "Model Number: 3 of 292 with model Ensemble for Validation 1\n"
          ]
        },
        {
          "name": "stderr",
          "output_type": "stream",
          "text": [
            "/usr/local/lib/python3.10/dist-packages/sklearn/neighbors/_classification.py:215: DataConversionWarning:\n",
            "\n",
            "A column-vector y was passed when a 1d array was expected. Please change the shape of y to (n_samples,), for example using ravel().\n",
            "\n"
          ]
        },
        {
          "name": "stdout",
          "output_type": "stream",
          "text": [
            "📈 3 - Ensemble with avg smape 10.72: \n",
            "Model Number: 4 of 292 with model FBProphet for Validation 1\n",
            "4 - FBProphet with avg smape 18.41: \n",
            "Model Number: 5 of 292 with model Ensemble for Validation 1\n",
            "5 - Ensemble with avg smape 18.34: \n",
            "Model Number: 6 of 292 with model Ensemble for Validation 1\n",
            "6 - Ensemble with avg smape 18.41: \n",
            "Model Number: 7 of 292 with model FBProphet for Validation 1\n",
            "7 - FBProphet with avg smape 18.25: \n",
            "Model Number: 8 of 292 with model FBProphet for Validation 1\n",
            "8 - FBProphet with avg smape 18.41: \n",
            "Model Number: 9 of 292 with model FBProphet for Validation 1\n",
            "9 - FBProphet with avg smape 18.34: \n",
            "Model Number: 10 of 292 with model FBProphet for Validation 1\n",
            "10 - FBProphet with avg smape 18.41: \n",
            "Model Number: 11 of 292 with model FBProphet for Validation 1\n",
            "11 - FBProphet with avg smape 18.55: \n",
            "Model Number: 12 of 292 with model FBProphet for Validation 1\n",
            "12 - FBProphet with avg smape 18.34: \n",
            "Model Number: 13 of 292 with model FBProphet for Validation 1\n",
            "13 - FBProphet with avg smape 17.86: \n",
            "Model Number: 14 of 292 with model FBProphet for Validation 1\n",
            "No anomalies detected.\n",
            "14 - FBProphet with avg smape 18.41: \n",
            "Model Number: 15 of 292 with model FBProphet for Validation 1\n",
            "15 - FBProphet with avg smape 18.71: \n",
            "Model Number: 16 of 292 with model FBProphet for Validation 1\n",
            "16 - FBProphet with avg smape 18.71: \n",
            "Model Number: 17 of 292 with model FBProphet for Validation 1\n",
            "17 - FBProphet with avg smape 18.44: \n",
            "Model Number: 18 of 292 with model FBProphet for Validation 1\n",
            "18 - FBProphet with avg smape 19.04: \n",
            "Model Number: 19 of 292 with model Ensemble for Validation 1\n",
            "19 - Ensemble with avg smape 12.91: \n",
            "Model Number: 20 of 292 with model NVAR for Validation 1\n"
          ]
        },
        {
          "name": "stderr",
          "output_type": "stream",
          "text": [
            "/usr/local/lib/python3.10/dist-packages/sklearn/neighbors/_classification.py:215: DataConversionWarning:\n",
            "\n",
            "A column-vector y was passed when a 1d array was expected. Please change the shape of y to (n_samples,), for example using ravel().\n",
            "\n"
          ]
        },
        {
          "name": "stdout",
          "output_type": "stream",
          "text": [
            "📈 20 - NVAR with avg smape 9.74: \n",
            "Model Number: 21 of 292 with model LastValueNaive for Validation 1\n",
            "📈 21 - LastValueNaive with avg smape 7.44: \n",
            "Model Number: 22 of 292 with model UnobservedComponents for Validation 1\n",
            "22 - UnobservedComponents with avg smape 11.35: \n",
            "Model Number: 23 of 292 with model NVAR for Validation 1\n",
            "23 - NVAR with avg smape 13.67: \n",
            "Model Number: 24 of 292 with model UnobservedComponents for Validation 1\n"
          ]
        },
        {
          "name": "stderr",
          "output_type": "stream",
          "text": [
            "/usr/local/lib/python3.10/dist-packages/sklearn/neighbors/_classification.py:215: DataConversionWarning:\n",
            "\n",
            "A column-vector y was passed when a 1d array was expected. Please change the shape of y to (n_samples,), for example using ravel().\n",
            "\n"
          ]
        },
        {
          "name": "stdout",
          "output_type": "stream",
          "text": [
            "24 - UnobservedComponents with avg smape 7.53: \n",
            "Model Number: 25 of 292 with model UnobservedComponents for Validation 1\n",
            "25 - UnobservedComponents with avg smape 7.53: \n",
            "Model Number: 26 of 292 with model MultivariateRegression for Validation 1\n",
            "26 - MultivariateRegression with avg smape 13.11: \n",
            "Model Number: 27 of 292 with model MultivariateRegression for Validation 1\n",
            "27 - MultivariateRegression with avg smape 13.11: \n",
            "Model Number: 28 of 292 with model MultivariateRegression for Validation 1\n",
            "28 - MultivariateRegression with avg smape 13.11: \n",
            "Model Number: 29 of 292 with model NVAR for Validation 1\n",
            "29 - NVAR with avg smape 20.33: \n",
            "Model Number: 30 of 292 with model NVAR for Validation 1\n",
            "30 - NVAR with avg smape 20.33: \n",
            "Model Number: 31 of 292 with model NVAR for Validation 1\n",
            "31 - NVAR with avg smape 20.3: \n",
            "Model Number: 32 of 292 with model NVAR for Validation 1\n",
            "32 - NVAR with avg smape 20.3: \n",
            "Model Number: 33 of 292 with model NVAR for Validation 1\n",
            "33 - NVAR with avg smape 13.7: \n",
            "Model Number: 34 of 292 with model UnobservedComponents for Validation 1\n",
            "34 - UnobservedComponents with avg smape 11.35: \n",
            "Model Number: 35 of 292 with model UnobservedComponents for Validation 1\n",
            "35 - UnobservedComponents with avg smape 11.35: \n",
            "Model Number: 36 of 292 with model UnobservedComponents for Validation 1\n",
            "36 - UnobservedComponents with avg smape 11.35: \n",
            "Model Number: 37 of 292 with model MultivariateRegression for Validation 1\n",
            "37 - MultivariateRegression with avg smape 13.23: \n",
            "Model Number: 38 of 292 with model Ensemble for Validation 1\n",
            "38 - Ensemble with avg smape 18.34: \n",
            "Model Number: 39 of 292 with model MultivariateRegression for Validation 1\n",
            "39 - MultivariateRegression with avg smape 13.08: \n",
            "Model Number: 40 of 292 with model NVAR for Validation 1\n",
            "40 - NVAR with avg smape 13.21: \n",
            "Model Number: 41 of 292 with model UnobservedComponents for Validation 1\n",
            "41 - UnobservedComponents with avg smape 16.18: \n",
            "Model Number: 42 of 292 with model UnobservedComponents for Validation 1\n",
            "42 - UnobservedComponents with avg smape 18.61: \n",
            "Model Number: 43 of 292 with model NVAR for Validation 1\n",
            "43 - NVAR with avg smape 16.1: \n",
            "Model Number: 44 of 292 with model UnobservedComponents for Validation 1\n",
            "44 - UnobservedComponents with avg smape 7.6: \n",
            "Model Number: 45 of 292 with model UnobservedComponents for Validation 1\n",
            "45 - UnobservedComponents with avg smape 11.78: \n",
            "Model Number: 46 of 292 with model NVAR for Validation 1\n",
            "46 - NVAR with avg smape 12.82: \n",
            "Model Number: 47 of 292 with model NVAR for Validation 1\n",
            "47 - NVAR with avg smape 12.82: \n",
            "Model Number: 48 of 292 with model NVAR for Validation 1\n",
            "48 - NVAR with avg smape 12.8: \n",
            "Model Number: 49 of 292 with model NVAR for Validation 1\n",
            "49 - NVAR with avg smape 8.95: \n",
            "Model Number: 50 of 292 with model LastValueNaive for Validation 1\n",
            "50 - LastValueNaive with avg smape 7.59: \n",
            "Model Number: 51 of 292 with model UnobservedComponents for Validation 1\n",
            "51 - UnobservedComponents with avg smape 12.54: \n",
            "Model Number: 52 of 292 with model UnobservedComponents for Validation 1\n",
            "52 - UnobservedComponents with avg smape 11.79: \n",
            "Model Number: 53 of 292 with model UnivariateMotif for Validation 1\n",
            "53 - UnivariateMotif with avg smape 16.47: \n",
            "Model Number: 54 of 292 with model SeasonalityMotif for Validation 1\n",
            "54 - SeasonalityMotif with avg smape 21.31: \n",
            "Model Number: 55 of 292 with model AverageValueNaive for Validation 1\n",
            "📈 55 - AverageValueNaive with avg smape 7.09: \n",
            "Model Number: 56 of 292 with model AverageValueNaive for Validation 1\n",
            "56 - AverageValueNaive with avg smape 7.09: \n",
            "Model Number: 57 of 292 with model AverageValueNaive for Validation 1\n",
            "57 - AverageValueNaive with avg smape 7.09: \n",
            "Model Number: 58 of 292 with model AverageValueNaive for Validation 1\n",
            "58 - AverageValueNaive with avg smape 7.09: \n",
            "Model Number: 59 of 292 with model AverageValueNaive for Validation 1\n",
            "59 - AverageValueNaive with avg smape 7.09: \n",
            "Model Number: 60 of 292 with model SeasonalityMotif for Validation 1\n",
            "60 - SeasonalityMotif with avg smape 20.43: \n",
            "Model Number: 61 of 292 with model SeasonalityMotif for Validation 1\n",
            "61 - SeasonalityMotif with avg smape 20.43: \n",
            "Model Number: 62 of 292 with model SeasonalityMotif for Validation 1\n",
            "62 - SeasonalityMotif with avg smape 20.43: \n",
            "Model Number: 63 of 292 with model SeasonalityMotif for Validation 1\n",
            "63 - SeasonalityMotif with avg smape 19.96: \n",
            "Model Number: 64 of 292 with model SeasonalityMotif for Validation 1\n",
            "64 - SeasonalityMotif with avg smape 20.25: \n",
            "Model Number: 65 of 292 with model SeasonalityMotif for Validation 1\n",
            "65 - SeasonalityMotif with avg smape 20.25: \n",
            "Model Number: 66 of 292 with model SeasonalityMotif for Validation 1\n",
            "66 - SeasonalityMotif with avg smape 20.25: \n",
            "Model Number: 67 of 292 with model UnobservedComponents for Validation 1\n",
            "67 - UnobservedComponents with avg smape 14.14: \n",
            "Model Number: 68 of 292 with model ARIMA for Validation 1\n",
            "📈 68 - ARIMA with avg smape 6.95: \n",
            "Model Number: 69 of 292 with model ARIMA for Validation 1\n",
            "69 - ARIMA with avg smape 6.95: \n",
            "Model Number: 70 of 292 with model LastValueNaive for Validation 1\n",
            "70 - LastValueNaive with avg smape 11.24: \n",
            "Model Number: 71 of 292 with model ARDL for Validation 1\n",
            "71 - ARDL with avg smape 9.9: \n",
            "Model Number: 72 of 292 with model SeasonalNaive for Validation 1\n",
            "72 - SeasonalNaive with avg smape 27.14: \n",
            "Model Number: 73 of 292 with model ETS for Validation 1\n",
            "73 - ETS with avg smape 12.22: \n",
            "Model Number: 74 of 292 with model SeasonalNaive for Validation 1\n",
            "74 - SeasonalNaive with avg smape 22.66: \n",
            "Model Number: 75 of 292 with model LastValueNaive for Validation 1\n",
            "75 - LastValueNaive with avg smape 7.49: \n",
            "Model Number: 76 of 292 with model LastValueNaive for Validation 1\n",
            "76 - LastValueNaive with avg smape 9.64: \n",
            "Model Number: 77 of 292 with model LastValueNaive for Validation 1\n",
            "77 - LastValueNaive with avg smape 9.64: \n",
            "Model Number: 78 of 292 with model LastValueNaive for Validation 1\n",
            "78 - LastValueNaive with avg smape 7.44: \n",
            "Model Number: 79 of 292 with model SeasonalityMotif for Validation 1\n",
            "79 - SeasonalityMotif with avg smape 20.13: \n",
            "Model Number: 80 of 292 with model AverageValueNaive for Validation 1\n",
            "80 - AverageValueNaive with avg smape 9.02: \n",
            "Model Number: 81 of 292 with model MultivariateRegression for Validation 1\n",
            "81 - MultivariateRegression with avg smape 35.39: \n",
            "Model Number: 82 of 292 with model UnivariateRegression for Validation 1\n",
            "82 - UnivariateRegression with avg smape 23.31: \n",
            "Model Number: 83 of 292 with model UnivariateRegression for Validation 1\n",
            "83 - UnivariateRegression with avg smape 23.31: \n",
            "Model Number: 84 of 292 with model ETS for Validation 1\n",
            "84 - ETS with avg smape 13.06: \n",
            "Model Number: 85 of 292 with model MultivariateRegression for Validation 1\n",
            "85 - MultivariateRegression with avg smape 8.95: \n",
            "Model Number: 86 of 292 with model ETS for Validation 1\n",
            "86 - ETS with avg smape 13.25: \n",
            "Model Number: 87 of 292 with model ETS for Validation 1\n",
            "87 - ETS with avg smape 13.3: \n",
            "Model Number: 88 of 292 with model ETS for Validation 1\n",
            "88 - ETS with avg smape 13.3: \n",
            "Model Number: 89 of 292 with model ETS for Validation 1\n",
            "89 - ETS with avg smape 13.3: \n",
            "Model Number: 90 of 292 with model ETS for Validation 1\n",
            "90 - ETS with avg smape 13.27: \n",
            "Model Number: 91 of 292 with model UnivariateRegression for Validation 1\n",
            "91 - UnivariateRegression with avg smape 25.68: \n",
            "Model Number: 92 of 292 with model UnivariateRegression for Validation 1\n",
            "92 - UnivariateRegression with avg smape 37.8: \n",
            "Model Number: 93 of 292 with model AverageValueNaive for Validation 1\n",
            "📈 93 - AverageValueNaive with avg smape 6.91: \n",
            "Model Number: 94 of 292 with model SeasonalNaive for Validation 1\n",
            "94 - SeasonalNaive with avg smape 7.12: \n",
            "Model Number: 95 of 292 with model MultivariateRegression for Validation 1\n",
            "95 - MultivariateRegression with avg smape 9.06: \n",
            "Model Number: 96 of 292 with model UnivariateRegression for Validation 1\n",
            "96 - UnivariateRegression with avg smape 24.99: \n",
            "Model Number: 97 of 292 with model UnivariateRegression for Validation 1\n",
            "97 - UnivariateRegression with avg smape 24.99: \n",
            "Model Number: 98 of 292 with model UnivariateRegression for Validation 1\n",
            "98 - UnivariateRegression with avg smape 39.47: \n",
            "Model Number: 99 of 292 with model MultivariateRegression for Validation 1\n",
            "99 - MultivariateRegression with avg smape 9.28: \n",
            "Model Number: 100 of 292 with model MultivariateRegression for Validation 1\n",
            "100 - MultivariateRegression with avg smape 13.13: \n",
            "Model Number: 101 of 292 with model UnivariateRegression for Validation 1\n",
            "101 - UnivariateRegression with avg smape 39.8: \n",
            "Model Number: 102 of 292 with model UnivariateRegression for Validation 1\n",
            "102 - UnivariateRegression with avg smape 39.8: \n",
            "Model Number: 103 of 292 with model ARIMA for Validation 1\n",
            "103 - ARIMA with avg smape 19.37: \n",
            "Model Number: 104 of 292 with model ARIMA for Validation 1\n",
            "104 - ARIMA with avg smape 19.89: \n",
            "Model Number: 105 of 292 with model SeasonalityMotif for Validation 1\n",
            "105 - SeasonalityMotif with avg smape 10.79: \n",
            "Model Number: 106 of 292 with model SeasonalityMotif for Validation 1\n",
            "106 - SeasonalityMotif with avg smape 10.79: \n",
            "Model Number: 107 of 292 with model LastValueNaive for Validation 1\n",
            "107 - LastValueNaive with avg smape 7.34: \n",
            "Model Number: 108 of 292 with model LastValueNaive for Validation 1\n",
            "108 - LastValueNaive with avg smape 7.34: \n",
            "Model Number: 109 of 292 with model ETS for Validation 1\n",
            "109 - ETS with avg smape 12.86: \n",
            "Model Number: 110 of 292 with model MultivariateRegression for Validation 1\n",
            "110 - MultivariateRegression with avg smape 11.41: \n",
            "Model Number: 111 of 292 with model MultivariateRegression for Validation 1\n",
            "111 - MultivariateRegression with avg smape 11.24: \n",
            "Model Number: 112 of 292 with model SeasonalNaive for Validation 1\n",
            "112 - SeasonalNaive with avg smape 15.75: \n",
            "Model Number: 113 of 292 with model MultivariateRegression for Validation 1\n",
            "113 - MultivariateRegression with avg smape 11.71: \n",
            "Model Number: 114 of 292 with model SeasonalityMotif for Validation 1\n",
            "114 - SeasonalityMotif with avg smape 20.64: \n",
            "Model Number: 115 of 292 with model ARIMA for Validation 1\n",
            "115 - ARIMA with avg smape 7.96: \n",
            "Model Number: 116 of 292 with model ETS for Validation 1\n",
            "116 - ETS with avg smape 12.36: \n",
            "Model Number: 117 of 292 with model ETS for Validation 1\n",
            "117 - ETS with avg smape 11.67: \n",
            "Model Number: 118 of 292 with model Theta for Validation 1\n",
            "118 - Theta with avg smape 7.4: \n",
            "Model Number: 119 of 292 with model Theta for Validation 1\n",
            "119 - Theta with avg smape 7.41: \n",
            "Model Number: 120 of 292 with model Theta for Validation 1\n",
            "120 - Theta with avg smape 7.41: \n",
            "Model Number: 121 of 292 with model Theta for Validation 1\n",
            "121 - Theta with avg smape 7.41: \n",
            "Model Number: 122 of 292 with model Theta for Validation 1\n",
            "122 - Theta with avg smape 7.41: \n",
            "Model Number: 123 of 292 with model SeasonalityMotif for Validation 1\n",
            "123 - SeasonalityMotif with avg smape 14.31: \n",
            "Model Number: 124 of 292 with model ETS for Validation 1\n",
            "📈 124 - ETS with avg smape 6.71: \n",
            "Model Number: 125 of 292 with model Theta for Validation 1\n",
            "125 - Theta with avg smape 7.4: \n",
            "Model Number: 126 of 292 with model Theta for Validation 1\n",
            "126 - Theta with avg smape 7.52: \n",
            "Model Number: 127 of 292 with model Theta for Validation 1\n",
            "127 - Theta with avg smape 7.53: \n",
            "Model Number: 128 of 292 with model ARIMA for Validation 1\n",
            "128 - ARIMA with avg smape 8.5: \n",
            "Model Number: 129 of 292 with model Theta for Validation 1\n",
            "129 - Theta with avg smape 7.62: \n",
            "Model Number: 130 of 292 with model Theta for Validation 1\n",
            "130 - Theta with avg smape 7.63: \n",
            "Model Number: 131 of 292 with model ARIMA for Validation 1\n",
            "131 - ARIMA with avg smape 18.06: \n",
            "Model Number: 132 of 292 with model ARIMA for Validation 1\n",
            "132 - ARIMA with avg smape 20.7: \n",
            "Model Number: 133 of 292 with model SeasonalNaive for Validation 1\n",
            "133 - SeasonalNaive with avg smape 18.3: \n",
            "Model Number: 134 of 292 with model WindowRegression for Validation 1\n",
            "134 - WindowRegression with avg smape 19.68: \n",
            "Model Number: 135 of 292 with model SeasonalNaive for Validation 1\n",
            "135 - SeasonalNaive with avg smape 6.77: \n",
            "Model Number: 136 of 292 with model SeasonalNaive for Validation 1\n"
          ]
        },
        {
          "name": "stderr",
          "output_type": "stream",
          "text": [
            "/usr/local/lib/python3.10/dist-packages/sklearn/neural_network/_multilayer_perceptron.py:541: ConvergenceWarning:\n",
            "\n",
            "lbfgs failed to converge (status=1):\n",
            "STOP: TOTAL NO. of ITERATIONS REACHED LIMIT.\n",
            "\n",
            "Increase the number of iterations (max_iter) or scale the data as shown in:\n",
            "    https://scikit-learn.org/stable/modules/preprocessing.html\n",
            "\n"
          ]
        },
        {
          "name": "stdout",
          "output_type": "stream",
          "text": [
            "136 - SeasonalNaive with avg smape 14.31: \n",
            "Model Number: 137 of 292 with model ARIMA for Validation 1\n",
            "137 - ARIMA with avg smape 8.13: \n",
            "Model Number: 138 of 292 with model ARIMA for Validation 1\n",
            "138 - ARIMA with avg smape 8.46: \n",
            "Model Number: 139 of 292 with model ARDL for Validation 1\n",
            "139 - ARDL with avg smape 15.62: \n",
            "Model Number: 140 of 292 with model ARIMA for Validation 1\n",
            "140 - ARIMA with avg smape 8.56: \n",
            "Model Number: 141 of 292 with model LastValueNaive for Validation 1\n",
            "📈 141 - LastValueNaive with avg smape 6.59: \n",
            "Model Number: 142 of 292 with model LastValueNaive for Validation 1\n",
            "142 - LastValueNaive with avg smape 6.59: \n",
            "Model Number: 143 of 292 with model ETS for Validation 1\n",
            "143 - ETS with avg smape 7.22: \n",
            "Model Number: 144 of 292 with model LastValueNaive for Validation 1\n",
            "144 - LastValueNaive with avg smape 130.26: \n",
            "Model Number: 145 of 292 with model GLM for Validation 1\n",
            "145 - GLM with avg smape 30.36: \n",
            "Model Number: 146 of 292 with model GLM for Validation 1\n"
          ]
        },
        {
          "name": "stderr",
          "output_type": "stream",
          "text": [
            "/usr/local/lib/python3.10/dist-packages/statsmodels/genmod/families/family.py:1367: ValueWarning:\n",
            "\n",
            "Negative binomial dispersion parameter alpha not set. Using default value alpha=1.0.\n",
            "\n",
            "/usr/local/lib/python3.10/dist-packages/statsmodels/genmod/families/family.py:1367: ValueWarning:\n",
            "\n",
            "Negative binomial dispersion parameter alpha not set. Using default value alpha=1.0.\n",
            "\n"
          ]
        },
        {
          "name": "stdout",
          "output_type": "stream",
          "text": [
            "146 - GLM with avg smape 30.36: \n",
            "Model Number: 147 of 292 with model ARDL for Validation 1\n",
            "147 - ARDL with avg smape 17.72: \n",
            "Model Number: 148 of 292 with model UnivariateMotif for Validation 1\n",
            "148 - UnivariateMotif with avg smape 16.01: \n",
            "Model Number: 149 of 292 with model UnivariateRegression for Validation 1\n",
            "149 - UnivariateRegression with avg smape 25.56: \n",
            "Model Number: 150 of 292 with model UnivariateRegression for Validation 1\n"
          ]
        },
        {
          "name": "stderr",
          "output_type": "stream",
          "text": [
            "/usr/local/lib/python3.10/dist-packages/sklearn/neighbors/_classification.py:215: DataConversionWarning:\n",
            "\n",
            "A column-vector y was passed when a 1d array was expected. Please change the shape of y to (n_samples,), for example using ravel().\n",
            "\n"
          ]
        },
        {
          "name": "stdout",
          "output_type": "stream",
          "text": [
            "150 - UnivariateRegression with avg smape 26.16: \n",
            "Model Number: 151 of 292 with model UnivariateRegression for Validation 1\n",
            "151 - UnivariateRegression with avg smape 26.16: \n",
            "Model Number: 152 of 292 with model UnivariateRegression for Validation 1\n",
            "152 - UnivariateRegression with avg smape 26.16: \n",
            "Model Number: 153 of 292 with model SeasonalNaive for Validation 1\n",
            "153 - SeasonalNaive with avg smape 12.76: \n",
            "Model Number: 154 of 292 with model SeasonalNaive for Validation 1\n",
            "154 - SeasonalNaive with avg smape 7.83: \n",
            "Model Number: 155 of 292 with model AverageValueNaive for Validation 1\n",
            "155 - AverageValueNaive with avg smape 35.55: \n",
            "Model Number: 156 of 292 with model AverageValueNaive for Validation 1\n",
            "156 - AverageValueNaive with avg smape 35.52: \n",
            "Model Number: 157 of 292 with model AverageValueNaive for Validation 1\n",
            "157 - AverageValueNaive with avg smape 35.52: \n",
            "Model Number: 158 of 292 with model ARIMA for Validation 1\n",
            "158 - ARIMA with avg smape 9.57: \n",
            "Model Number: 159 of 292 with model AverageValueNaive for Validation 1\n",
            "159 - AverageValueNaive with avg smape 35.54: \n",
            "Model Number: 160 of 292 with model AverageValueNaive for Validation 1\n",
            "160 - AverageValueNaive with avg smape 35.54: \n",
            "Model Number: 161 of 292 with model ETS for Validation 1\n",
            "161 - ETS with avg smape 14.82: \n",
            "Model Number: 162 of 292 with model AverageValueNaive for Validation 1\n",
            "162 - AverageValueNaive with avg smape 36.05: \n",
            "Model Number: 163 of 292 with model MetricMotif for Validation 1\n",
            "163 - MetricMotif with avg smape 26.56: \n",
            "Model Number: 164 of 292 with model MetricMotif for Validation 1\n",
            "164 - MetricMotif with avg smape 25.73: \n",
            "Model Number: 165 of 292 with model MetricMotif for Validation 1\n",
            "165 - MetricMotif with avg smape 25.73: \n",
            "Model Number: 166 of 292 with model Theta for Validation 1\n",
            "166 - Theta with avg smape 13.72: \n",
            "Model Number: 167 of 292 with model UnivariateMotif for Validation 1\n",
            "167 - UnivariateMotif with avg smape 25.95: \n",
            "Model Number: 168 of 292 with model Theta for Validation 1\n",
            "168 - Theta with avg smape 14.47: \n",
            "Model Number: 169 of 292 with model ARDL for Validation 1\n",
            "169 - ARDL with avg smape 10.86: \n",
            "Model Number: 170 of 292 with model MultivariateMotif for Validation 1\n",
            "170 - MultivariateMotif with avg smape 25.07: \n",
            "Model Number: 171 of 292 with model UnivariateMotif for Validation 1\n",
            "171 - UnivariateMotif with avg smape 26.63: \n",
            "Model Number: 172 of 292 with model UnivariateMotif for Validation 1\n",
            "172 - UnivariateMotif with avg smape 26.55: \n",
            "Model Number: 173 of 292 with model UnivariateMotif for Validation 1\n",
            "173 - UnivariateMotif with avg smape 26.55: \n",
            "Model Number: 174 of 292 with model Theta for Validation 1\n",
            "174 - Theta with avg smape 14.26: \n",
            "Model Number: 175 of 292 with model UnivariateMotif for Validation 1\n",
            "175 - UnivariateMotif with avg smape 26.79: \n",
            "Model Number: 176 of 292 with model MetricMotif for Validation 1\n",
            "176 - MetricMotif with avg smape 26.43: \n",
            "Model Number: 177 of 292 with model ARDL for Validation 1\n",
            "177 - ARDL with avg smape 13.87: \n",
            "Model Number: 178 of 292 with model MetricMotif for Validation 1\n",
            "178 - MetricMotif with avg smape 26.48: \n",
            "Model Number: 179 of 292 with model MetricMotif for Validation 1\n",
            "179 - MetricMotif with avg smape 26.48: \n",
            "Model Number: 180 of 292 with model MetricMotif for Validation 1\n",
            "180 - MetricMotif with avg smape 26.41: \n",
            "Model Number: 181 of 292 with model MetricMotif for Validation 1\n",
            "181 - MetricMotif with avg smape 26.36: \n",
            "Model Number: 182 of 292 with model UnivariateMotif for Validation 1\n",
            "182 - UnivariateMotif with avg smape 18.97: \n",
            "Model Number: 183 of 292 with model MetricMotif for Validation 1\n",
            "183 - MetricMotif with avg smape 26.11: \n",
            "Model Number: 184 of 292 with model MetricMotif for Validation 1\n",
            "184 - MetricMotif with avg smape 26.03: \n",
            "Model Number: 185 of 292 with model UnivariateMotif for Validation 1\n",
            "185 - UnivariateMotif with avg smape 26.63: \n",
            "Model Number: 186 of 292 with model SeasonalNaive for Validation 1\n",
            "186 - SeasonalNaive with avg smape 7.61: \n",
            "Model Number: 187 of 292 with model UnivariateMotif for Validation 1\n",
            "187 - UnivariateMotif with avg smape 26.63: \n",
            "Model Number: 188 of 292 with model UnivariateMotif for Validation 1\n",
            "188 - UnivariateMotif with avg smape 26.63: \n",
            "Model Number: 189 of 292 with model GLS for Validation 1\n",
            "📈 189 - GLS with avg smape 5.61: \n",
            "Model Number: 190 of 292 with model MultivariateMotif for Validation 1\n",
            "190 - MultivariateMotif with avg smape 26.93: \n",
            "Model Number: 191 of 292 with model MultivariateMotif for Validation 1\n",
            "191 - MultivariateMotif with avg smape 23.97: \n",
            "Model Number: 192 of 292 with model ARDL for Validation 1\n",
            "192 - ARDL with avg smape 9.58: \n",
            "Model Number: 193 of 292 with model ARIMA for Validation 1\n",
            "193 - ARIMA with avg smape 9.01: \n",
            "Model Number: 194 of 292 with model MultivariateMotif for Validation 1\n",
            "194 - MultivariateMotif with avg smape 26.57: \n",
            "Model Number: 195 of 292 with model MetricMotif for Validation 1\n",
            "195 - MetricMotif with avg smape 25.69: \n",
            "Model Number: 196 of 292 with model MetricMotif for Validation 1\n",
            "196 - MetricMotif with avg smape 25.71: \n",
            "Model Number: 197 of 292 with model GLS for Validation 1\n",
            "197 - GLS with avg smape 11.59: \n",
            "Model Number: 198 of 292 with model ARDL for Validation 1\n",
            "198 - ARDL with avg smape 13.25: \n",
            "Model Number: 199 of 292 with model MetricMotif for Validation 1\n",
            "199 - MetricMotif with avg smape 26.33: \n",
            "Model Number: 200 of 292 with model SeasonalNaive for Validation 1\n",
            "200 - SeasonalNaive with avg smape 11.03: \n",
            "Model Number: 201 of 292 with model SeasonalNaive for Validation 1\n",
            "201 - SeasonalNaive with avg smape 7.87: \n",
            "Model Number: 202 of 292 with model ARDL for Validation 1\n",
            "202 - ARDL with avg smape 14.49: \n",
            "Model Number: 203 of 292 with model SeasonalNaive for Validation 1\n",
            "203 - SeasonalNaive with avg smape 10.97: \n",
            "Model Number: 204 of 292 with model UnivariateMotif for Validation 1\n",
            "204 - UnivariateMotif with avg smape 8.47: \n",
            "Model Number: 205 of 292 with model MultivariateMotif for Validation 1\n",
            "205 - MultivariateMotif with avg smape 13.68: \n",
            "Model Number: 206 of 292 with model LastValueNaive for Validation 1\n",
            "206 - LastValueNaive with avg smape 11.17: \n",
            "Model Number: 207 of 292 with model ARDL for Validation 1\n",
            "207 - ARDL with avg smape 9.71: \n",
            "Model Number: 208 of 292 with model WindowRegression for Validation 1\n",
            "208 - WindowRegression with avg smape 15.21: \n",
            "Model Number: 209 of 292 with model GLM for Validation 1\n"
          ]
        },
        {
          "name": "stderr",
          "output_type": "stream",
          "text": [
            "/usr/local/lib/python3.10/dist-packages/sklearn/neural_network/_multilayer_perceptron.py:541: ConvergenceWarning:\n",
            "\n",
            "lbfgs failed to converge (status=1):\n",
            "STOP: TOTAL NO. of ITERATIONS REACHED LIMIT.\n",
            "\n",
            "Increase the number of iterations (max_iter) or scale the data as shown in:\n",
            "    https://scikit-learn.org/stable/modules/preprocessing.html\n",
            "\n"
          ]
        },
        {
          "name": "stdout",
          "output_type": "stream",
          "text": [
            "209 - GLM with avg smape 17.31: \n",
            "Model Number: 210 of 292 with model WindowRegression for Validation 1\n",
            "210 - WindowRegression with avg smape 12.65: \n",
            "Model Number: 211 of 292 with model WindowRegression for Validation 1\n",
            "211 - WindowRegression with avg smape 7.49: \n",
            "Model Number: 212 of 292 with model MultivariateMotif for Validation 1\n",
            "212 - MultivariateMotif with avg smape 27.12: \n",
            "Model Number: 213 of 292 with model UnivariateMotif for Validation 1\n"
          ]
        },
        {
          "name": "stderr",
          "output_type": "stream",
          "text": [
            "/usr/local/lib/python3.10/dist-packages/sklearn/neural_network/_multilayer_perceptron.py:541: ConvergenceWarning:\n",
            "\n",
            "lbfgs failed to converge (status=1):\n",
            "STOP: TOTAL NO. of ITERATIONS REACHED LIMIT.\n",
            "\n",
            "Increase the number of iterations (max_iter) or scale the data as shown in:\n",
            "    https://scikit-learn.org/stable/modules/preprocessing.html\n",
            "\n"
          ]
        },
        {
          "name": "stdout",
          "output_type": "stream",
          "text": [
            "213 - UnivariateMotif with avg smape 18.15: \n",
            "Model Number: 214 of 292 with model WindowRegression for Validation 1\n",
            "214 - WindowRegression with avg smape 9.78: \n",
            "Model Number: 215 of 292 with model GLS for Validation 1\n",
            "215 - GLS with avg smape 10.81: \n",
            "Model Number: 216 of 292 with model DatepartRegression for Validation 1\n"
          ]
        },
        {
          "name": "stderr",
          "output_type": "stream",
          "text": [
            "/usr/local/lib/python3.10/dist-packages/sklearn/neural_network/_multilayer_perceptron.py:541: ConvergenceWarning:\n",
            "\n",
            "lbfgs failed to converge (status=1):\n",
            "STOP: TOTAL NO. of ITERATIONS REACHED LIMIT.\n",
            "\n",
            "Increase the number of iterations (max_iter) or scale the data as shown in:\n",
            "    https://scikit-learn.org/stable/modules/preprocessing.html\n",
            "\n"
          ]
        },
        {
          "name": "stdout",
          "output_type": "stream",
          "text": [
            "216 - DatepartRegression with avg smape 7.1: \n",
            "Model Number: 217 of 292 with model MultivariateMotif for Validation 1\n",
            "217 - MultivariateMotif with avg smape 11.65: \n",
            "Model Number: 218 of 292 with model MultivariateMotif for Validation 1\n",
            "218 - MultivariateMotif with avg smape 9.9: \n",
            "Model Number: 219 of 292 with model GLS for Validation 1\n",
            "219 - GLS with avg smape 9.93: \n",
            "Model Number: 220 of 292 with model GLS for Validation 1\n",
            "220 - GLS with avg smape 9.93: \n",
            "Model Number: 221 of 292 with model MultivariateMotif for Validation 1\n",
            "221 - MultivariateMotif with avg smape 23.46: \n",
            "Model Number: 222 of 292 with model WindowRegression for Validation 1\n",
            "222 - WindowRegression with avg smape 9.55: \n",
            "Model Number: 223 of 292 with model ARDL for Validation 1\n"
          ]
        },
        {
          "name": "stderr",
          "output_type": "stream",
          "text": [
            "/usr/local/lib/python3.10/dist-packages/sklearn/neural_network/_multilayer_perceptron.py:541: ConvergenceWarning:\n",
            "\n",
            "lbfgs failed to converge (status=1):\n",
            "STOP: TOTAL NO. of ITERATIONS REACHED LIMIT.\n",
            "\n",
            "Increase the number of iterations (max_iter) or scale the data as shown in:\n",
            "    https://scikit-learn.org/stable/modules/preprocessing.html\n",
            "\n"
          ]
        },
        {
          "name": "stdout",
          "output_type": "stream",
          "text": [
            "223 - ARDL with avg smape 10.14: \n",
            "Model Number: 224 of 292 with model WindowRegression for Validation 1\n",
            "224 - WindowRegression with avg smape 7.39: \n",
            "Model Number: 225 of 292 with model GLS for Validation 1\n",
            "225 - GLS with avg smape 10.36: \n",
            "Model Number: 226 of 292 with model WindowRegression for Validation 1\n"
          ]
        },
        {
          "name": "stderr",
          "output_type": "stream",
          "text": [
            "/usr/local/lib/python3.10/dist-packages/sklearn/neural_network/_multilayer_perceptron.py:541: ConvergenceWarning:\n",
            "\n",
            "lbfgs failed to converge (status=1):\n",
            "STOP: TOTAL NO. of ITERATIONS REACHED LIMIT.\n",
            "\n",
            "Increase the number of iterations (max_iter) or scale the data as shown in:\n",
            "    https://scikit-learn.org/stable/modules/preprocessing.html\n",
            "\n"
          ]
        },
        {
          "name": "stdout",
          "output_type": "stream",
          "text": [
            "226 - WindowRegression with avg smape 8.87: \n",
            "Model Number: 227 of 292 with model WindowRegression for Validation 1\n",
            "227 - WindowRegression with avg smape 7.41: \n",
            "Model Number: 228 of 292 with model DatepartRegression for Validation 1\n",
            "228 - DatepartRegression with avg smape 7.11: \n",
            "Model Number: 229 of 292 with model MultivariateMotif for Validation 1\n",
            "229 - MultivariateMotif with avg smape 22.26: \n",
            "Model Number: 230 of 292 with model ARDL for Validation 1\n",
            "230 - ARDL with avg smape 15.55: \n",
            "Model Number: 231 of 292 with model MultivariateMotif for Validation 1\n"
          ]
        },
        {
          "name": "stderr",
          "output_type": "stream",
          "text": [
            "/usr/local/lib/python3.10/dist-packages/sklearn/neural_network/_multilayer_perceptron.py:541: ConvergenceWarning:\n",
            "\n",
            "lbfgs failed to converge (status=2):\n",
            "ABNORMAL_TERMINATION_IN_LNSRCH.\n",
            "\n",
            "Increase the number of iterations (max_iter) or scale the data as shown in:\n",
            "    https://scikit-learn.org/stable/modules/preprocessing.html\n",
            "\n"
          ]
        },
        {
          "name": "stdout",
          "output_type": "stream",
          "text": [
            "231 - MultivariateMotif with avg smape 19.56: \n",
            "Model Number: 232 of 292 with model ARDL for Validation 1\n",
            "232 - ARDL with avg smape 25.51: \n",
            "Model Number: 233 of 292 with model ARDL for Validation 1\n",
            "233 - ARDL with avg smape 8.07: \n",
            "Model Number: 234 of 292 with model GLS for Validation 1\n",
            "234 - GLS with avg smape 8.98: \n",
            "Model Number: 235 of 292 with model WindowRegression for Validation 1\n",
            "235 - WindowRegression with avg smape 7.39: \n",
            "Model Number: 236 of 292 with model DatepartRegression for Validation 1\n"
          ]
        },
        {
          "name": "stderr",
          "output_type": "stream",
          "text": [
            "/usr/local/lib/python3.10/dist-packages/sklearn/neural_network/_multilayer_perceptron.py:686: ConvergenceWarning:\n",
            "\n",
            "Stochastic Optimizer: Maximum iterations (250) reached and the optimization hasn't converged yet.\n",
            "\n"
          ]
        },
        {
          "name": "stdout",
          "output_type": "stream",
          "text": [
            "236 - DatepartRegression with avg smape 7.39: \n",
            "Model Number: 237 of 292 with model WindowRegression for Validation 1\n",
            "237 - WindowRegression with avg smape 7.14: \n",
            "Model Number: 238 of 292 with model MultivariateMotif for Validation 1\n",
            "238 - MultivariateMotif with avg smape 9.27: \n",
            "Model Number: 239 of 292 with model GLS for Validation 1\n",
            "239 - GLS with avg smape 9.4: \n",
            "Model Number: 240 of 292 with model GLS for Validation 1\n",
            "240 - GLS with avg smape 7.4: \n",
            "Model Number: 241 of 292 with model GLS for Validation 1\n",
            "241 - GLS with avg smape 7.5: \n",
            "Model Number: 242 of 292 with model DatepartRegression for Validation 1\n",
            "242 - DatepartRegression with avg smape 22.19: \n",
            "Model Number: 243 of 292 with model WindowRegression for Validation 1\n",
            "243 - WindowRegression with avg smape 6.96: \n",
            "Model Number: 244 of 292 with model WindowRegression for Validation 1\n",
            "244 - WindowRegression with avg smape 7.39: \n",
            "Model Number: 245 of 292 with model ConstantNaive for Validation 1\n",
            "📈 245 - ConstantNaive with avg smape 4.81: \n",
            "Model Number: 246 of 292 with model ConstantNaive for Validation 1\n",
            "246 - ConstantNaive with avg smape 4.81: \n",
            "Model Number: 247 of 292 with model GLM for Validation 1\n",
            "247 - GLM with avg smape 7.56: \n",
            "Model Number: 248 of 292 with model GLS for Validation 1\n",
            "248 - GLS with avg smape 7.41: \n",
            "Model Number: 249 of 292 with model GLS for Validation 1\n",
            "249 - GLS with avg smape 7.4: \n",
            "Model Number: 250 of 292 with model GLS for Validation 1\n",
            "250 - GLS with avg smape 7.4: \n",
            "Model Number: 251 of 292 with model GLM for Validation 1\n",
            "251 - GLM with avg smape 7.41: \n",
            "Model Number: 252 of 292 with model ConstantNaive for Validation 1\n",
            "252 - ConstantNaive with avg smape 12.24: \n",
            "Model Number: 253 of 292 with model DatepartRegression for Validation 1\n",
            "253 - DatepartRegression with avg smape 8.72: \n",
            "Model Number: 254 of 292 with model DatepartRegression for Validation 1\n",
            "254 - DatepartRegression with avg smape 8.73: \n",
            "Model Number: 255 of 292 with model MultivariateMotif for Validation 1\n",
            "255 - MultivariateMotif with avg smape 5.82: \n",
            "Model Number: 256 of 292 with model ConstantNaive for Validation 1\n",
            "256 - ConstantNaive with avg smape 9.26: \n",
            "Model Number: 257 of 292 with model ConstantNaive for Validation 1\n",
            "257 - ConstantNaive with avg smape 9.26: \n",
            "Model Number: 258 of 292 with model DatepartRegression for Validation 1\n",
            "258 - DatepartRegression with avg smape 7.15: \n",
            "Model Number: 259 of 292 with model DatepartRegression for Validation 1\n",
            "259 - DatepartRegression with avg smape 7.79: \n",
            "Model Number: 260 of 292 with model DatepartRegression for Validation 1\n",
            "260 - DatepartRegression with avg smape 7.44: \n",
            "Model Number: 261 of 292 with model DatepartRegression for Validation 1\n",
            "261 - DatepartRegression with avg smape 6.78: \n",
            "Model Number: 262 of 292 with model ConstantNaive for Validation 1\n",
            "262 - ConstantNaive with avg smape 9.34: \n",
            "Model Number: 263 of 292 with model ConstantNaive for Validation 1\n",
            "263 - ConstantNaive with avg smape 9.34: \n",
            "Model Number: 264 of 292 with model DatepartRegression for Validation 1\n"
          ]
        },
        {
          "name": "stderr",
          "output_type": "stream",
          "text": [
            "/usr/local/lib/python3.10/dist-packages/sklearn/linear_model/_ridge.py:216: LinAlgWarning:\n",
            "\n",
            "Ill-conditioned matrix (rcond=1.50679e-25): result may not be accurate.\n",
            "\n"
          ]
        },
        {
          "name": "stdout",
          "output_type": "stream",
          "text": [
            "264 - DatepartRegression with avg smape 6.25: \n",
            "Model Number: 265 of 292 with model GLM for Validation 1\n"
          ]
        },
        {
          "name": "stderr",
          "output_type": "stream",
          "text": [
            "/usr/local/lib/python3.10/dist-packages/statsmodels/genmod/generalized_linear_model.py:308: DomainWarning:\n",
            "\n",
            "The InversePower link function does not respect the domain of the Gamma family.\n",
            "\n"
          ]
        },
        {
          "name": "stdout",
          "output_type": "stream",
          "text": [
            "265 - GLM with avg smape 25.81: \n",
            "Model Number: 266 of 292 with model SectionalMotif for Validation 1\n",
            "266 - SectionalMotif with avg smape 15.83: \n",
            "Model Number: 267 of 292 with model GLM for Validation 1\n"
          ]
        },
        {
          "name": "stderr",
          "output_type": "stream",
          "text": [
            "/usr/local/lib/python3.10/dist-packages/statsmodels/genmod/families/family.py:1367: ValueWarning:\n",
            "\n",
            "Negative binomial dispersion parameter alpha not set. Using default value alpha=1.0.\n",
            "\n"
          ]
        },
        {
          "name": "stdout",
          "output_type": "stream",
          "text": [
            "267 - GLM with avg smape 25.15: \n",
            "Model Number: 268 of 292 with model GLM for Validation 1\n",
            "268 - GLM with avg smape 7.78: \n",
            "Model Number: 269 of 292 with model ConstantNaive for Validation 1\n",
            "269 - ConstantNaive with avg smape 7.39: \n",
            "Model Number: 270 of 292 with model ConstantNaive for Validation 1\n",
            "270 - ConstantNaive with avg smape 7.39: \n",
            "Model Number: 271 of 292 with model ConstantNaive for Validation 1\n",
            "271 - ConstantNaive with avg smape 7.39: \n",
            "Model Number: 272 of 292 with model ConstantNaive for Validation 1\n"
          ]
        },
        {
          "name": "stderr",
          "output_type": "stream",
          "text": [
            "/usr/local/lib/python3.10/dist-packages/statsmodels/genmod/families/links.py:198: RuntimeWarning:\n",
            "\n",
            "overflow encountered in exp\n",
            "\n",
            "/usr/local/lib/python3.10/dist-packages/sklearn/decomposition/_fastica.py:708: FutureWarning:\n",
            "\n",
            "Starting in v1.3, whiten=True should be specified as whiten='arbitrary-variance' (its current behaviour). This behavior is deprecated in 1.1 and will raise ValueError in 1.3.\n",
            "\n"
          ]
        },
        {
          "name": "stdout",
          "output_type": "stream",
          "text": [
            "272 - ConstantNaive with avg smape 7.39: \n",
            "Model Number: 273 of 292 with model ConstantNaive for Validation 1\n",
            "273 - ConstantNaive with avg smape 7.28: \n",
            "Model Number: 274 of 292 with model DatepartRegression for Validation 1\n",
            "274 - DatepartRegression with avg smape 6.85: \n",
            "Model Number: 275 of 292 with model GLM for Validation 1\n",
            "275 - GLM with avg smape 7.78: \n",
            "Model Number: 276 of 292 with model ConstantNaive for Validation 1\n",
            "276 - ConstantNaive with avg smape 7.15: \n",
            "Model Number: 277 of 292 with model SectionalMotif for Validation 1\n",
            "277 - SectionalMotif with avg smape 10.6: \n",
            "Model Number: 278 of 292 with model GLM for Validation 1\n"
          ]
        },
        {
          "name": "stderr",
          "output_type": "stream",
          "text": [
            "/usr/local/lib/python3.10/dist-packages/statsmodels/genmod/families/links.py:198: RuntimeWarning:\n",
            "\n",
            "overflow encountered in exp\n",
            "\n"
          ]
        },
        {
          "name": "stdout",
          "output_type": "stream",
          "text": [
            "278 - GLM with avg smape 15.9: \n",
            "Model Number: 279 of 292 with model DatepartRegression for Validation 1\n",
            "279 - DatepartRegression with avg smape 6.47: \n",
            "Model Number: 280 of 292 with model GLM for Validation 1\n",
            "280 - GLM with avg smape 14.8: \n",
            "Model Number: 281 of 292 with model GLM for Validation 1\n"
          ]
        },
        {
          "name": "stderr",
          "output_type": "stream",
          "text": [
            "/usr/local/lib/python3.10/dist-packages/statsmodels/genmod/families/family.py:1367: ValueWarning:\n",
            "\n",
            "Negative binomial dispersion parameter alpha not set. Using default value alpha=1.0.\n",
            "\n",
            "/usr/local/lib/python3.10/dist-packages/statsmodels/genmod/families/family.py:1367: ValueWarning:\n",
            "\n",
            "Negative binomial dispersion parameter alpha not set. Using default value alpha=1.0.\n",
            "\n"
          ]
        },
        {
          "name": "stdout",
          "output_type": "stream",
          "text": [
            "281 - GLM with avg smape 14.82: \n",
            "Model Number: 282 of 292 with model GLM for Validation 1\n",
            "282 - GLM with avg smape 14.82: \n",
            "Model Number: 283 of 292 with model SectionalMotif for Validation 1\n",
            "283 - SectionalMotif with avg smape 24.15: \n",
            "Model Number: 284 of 292 with model SectionalMotif for Validation 1\n"
          ]
        },
        {
          "name": "stderr",
          "output_type": "stream",
          "text": [
            "/usr/local/lib/python3.10/dist-packages/statsmodels/genmod/families/family.py:1367: ValueWarning:\n",
            "\n",
            "Negative binomial dispersion parameter alpha not set. Using default value alpha=1.0.\n",
            "\n"
          ]
        },
        {
          "name": "stdout",
          "output_type": "stream",
          "text": [
            "284 - SectionalMotif with avg smape 8.75: \n",
            "Model Number: 285 of 292 with model SectionalMotif for Validation 1\n",
            "285 - SectionalMotif with avg smape 8.01: \n",
            "Model Number: 286 of 292 with model SectionalMotif for Validation 1\n",
            "286 - SectionalMotif with avg smape 9.69: \n",
            "Model Number: 287 of 292 with model SectionalMotif for Validation 1\n",
            "287 - SectionalMotif with avg smape 5.37: \n",
            "Model Number: 288 of 292 with model SectionalMotif for Validation 1\n",
            "288 - SectionalMotif with avg smape 5.14: \n",
            "Model Number: 289 of 292 with model SectionalMotif for Validation 1\n",
            "289 - SectionalMotif with avg smape 22.62: \n",
            "Model Number: 290 of 292 with model SectionalMotif for Validation 1\n",
            "290 - SectionalMotif with avg smape 27.71: \n",
            "Model Number: 291 of 292 with model SectionalMotif for Validation 1\n",
            "291 - SectionalMotif with avg smape 27.4: \n",
            "Model Number: 292 of 292 with model Ensemble for Validation 1\n",
            "292 - Ensemble with avg smape 25.1: \n",
            "Validation Round: 2\n",
            "Model Number: 1 of 292 with model Ensemble for Validation 2\n"
          ]
        },
        {
          "name": "stderr",
          "output_type": "stream",
          "text": [
            "/usr/local/lib/python3.10/dist-packages/sklearn/neighbors/_classification.py:215: DataConversionWarning:\n",
            "\n",
            "A column-vector y was passed when a 1d array was expected. Please change the shape of y to (n_samples,), for example using ravel().\n",
            "\n"
          ]
        },
        {
          "name": "stdout",
          "output_type": "stream",
          "text": [
            "📈 1 - Ensemble with avg smape 8.27: \n",
            "Model Number: 2 of 292 with model Ensemble for Validation 2\n"
          ]
        },
        {
          "name": "stderr",
          "output_type": "stream",
          "text": [
            "/usr/local/lib/python3.10/dist-packages/sklearn/neighbors/_classification.py:215: DataConversionWarning:\n",
            "\n",
            "A column-vector y was passed when a 1d array was expected. Please change the shape of y to (n_samples,), for example using ravel().\n",
            "\n"
          ]
        },
        {
          "name": "stdout",
          "output_type": "stream",
          "text": [
            "📈 2 - Ensemble with avg smape 8.26: \n",
            "Model Number: 3 of 292 with model Ensemble for Validation 2\n"
          ]
        },
        {
          "name": "stderr",
          "output_type": "stream",
          "text": [
            "/usr/local/lib/python3.10/dist-packages/sklearn/neighbors/_classification.py:215: DataConversionWarning:\n",
            "\n",
            "A column-vector y was passed when a 1d array was expected. Please change the shape of y to (n_samples,), for example using ravel().\n",
            "\n"
          ]
        },
        {
          "name": "stdout",
          "output_type": "stream",
          "text": [
            "📈 3 - Ensemble with avg smape 8.2: \n",
            "Model Number: 4 of 292 with model FBProphet for Validation 2\n",
            "📈 4 - FBProphet with avg smape 5.8: \n",
            "Model Number: 5 of 292 with model Ensemble for Validation 2\n",
            "📈 5 - Ensemble with avg smape 5.77: \n",
            "Model Number: 6 of 292 with model Ensemble for Validation 2\n",
            "6 - Ensemble with avg smape 5.8: \n",
            "Model Number: 7 of 292 with model FBProphet for Validation 2\n",
            "📈 7 - FBProphet with avg smape 5.6: \n",
            "Model Number: 8 of 292 with model FBProphet for Validation 2\n",
            "8 - FBProphet with avg smape 5.8: \n",
            "Model Number: 9 of 292 with model FBProphet for Validation 2\n",
            "9 - FBProphet with avg smape 5.91: \n",
            "Model Number: 10 of 292 with model FBProphet for Validation 2\n",
            "10 - FBProphet with avg smape 5.8: \n",
            "Model Number: 11 of 292 with model FBProphet for Validation 2\n",
            "11 - FBProphet with avg smape 5.75: \n",
            "Model Number: 12 of 292 with model FBProphet for Validation 2\n",
            "12 - FBProphet with avg smape 5.91: \n",
            "Model Number: 13 of 292 with model FBProphet for Validation 2\n",
            "13 - FBProphet with avg smape 6.07: \n",
            "Model Number: 14 of 292 with model FBProphet for Validation 2\n",
            "No anomalies detected.\n",
            "14 - FBProphet with avg smape 5.8: \n",
            "Model Number: 15 of 292 with model FBProphet for Validation 2\n",
            "📈 15 - FBProphet with avg smape 5.47: \n",
            "Model Number: 16 of 292 with model FBProphet for Validation 2\n",
            "16 - FBProphet with avg smape 5.47: \n",
            "Model Number: 17 of 292 with model FBProphet for Validation 2\n",
            "17 - FBProphet with avg smape 5.76: \n",
            "Model Number: 18 of 292 with model FBProphet for Validation 2\n",
            "18 - FBProphet with avg smape 5.5: \n",
            "Model Number: 19 of 292 with model Ensemble for Validation 2\n",
            "19 - Ensemble with avg smape 9.61: \n",
            "Model Number: 20 of 292 with model NVAR for Validation 2\n"
          ]
        },
        {
          "name": "stderr",
          "output_type": "stream",
          "text": [
            "/usr/local/lib/python3.10/dist-packages/sklearn/neighbors/_classification.py:215: DataConversionWarning:\n",
            "\n",
            "A column-vector y was passed when a 1d array was expected. Please change the shape of y to (n_samples,), for example using ravel().\n",
            "\n"
          ]
        },
        {
          "name": "stdout",
          "output_type": "stream",
          "text": [
            "20 - NVAR with avg smape 10.0: \n",
            "Model Number: 21 of 292 with model LastValueNaive for Validation 2\n",
            "21 - LastValueNaive with avg smape 7.34: \n",
            "Model Number: 22 of 292 with model UnobservedComponents for Validation 2\n",
            "22 - UnobservedComponents with avg smape 13.24: \n",
            "Model Number: 23 of 292 with model NVAR for Validation 2\n",
            "23 - NVAR with avg smape 8.45: \n",
            "Model Number: 24 of 292 with model UnobservedComponents for Validation 2\n"
          ]
        },
        {
          "name": "stderr",
          "output_type": "stream",
          "text": [
            "/usr/local/lib/python3.10/dist-packages/sklearn/neighbors/_classification.py:215: DataConversionWarning:\n",
            "\n",
            "A column-vector y was passed when a 1d array was expected. Please change the shape of y to (n_samples,), for example using ravel().\n",
            "\n"
          ]
        },
        {
          "name": "stdout",
          "output_type": "stream",
          "text": [
            "24 - UnobservedComponents with avg smape 11.56: \n",
            "Model Number: 25 of 292 with model UnobservedComponents for Validation 2\n",
            "25 - UnobservedComponents with avg smape 11.56: \n",
            "Model Number: 26 of 292 with model MultivariateRegression for Validation 2\n",
            "26 - MultivariateRegression with avg smape 6.7: \n",
            "Model Number: 27 of 292 with model MultivariateRegression for Validation 2\n",
            "27 - MultivariateRegression with avg smape 6.7: \n",
            "Model Number: 28 of 292 with model MultivariateRegression for Validation 2\n",
            "28 - MultivariateRegression with avg smape 6.7: \n",
            "Model Number: 29 of 292 with model NVAR for Validation 2\n",
            "29 - NVAR with avg smape 11.9: \n",
            "Model Number: 30 of 292 with model NVAR for Validation 2\n",
            "30 - NVAR with avg smape 11.9: \n",
            "Model Number: 31 of 292 with model NVAR for Validation 2\n",
            "31 - NVAR with avg smape 11.89: \n",
            "Model Number: 32 of 292 with model NVAR for Validation 2\n",
            "32 - NVAR with avg smape 11.89: \n",
            "Model Number: 33 of 292 with model NVAR for Validation 2\n",
            "33 - NVAR with avg smape 8.44: \n",
            "Model Number: 34 of 292 with model UnobservedComponents for Validation 2\n",
            "34 - UnobservedComponents with avg smape 13.24: \n",
            "Model Number: 35 of 292 with model UnobservedComponents for Validation 2\n",
            "35 - UnobservedComponents with avg smape 13.24: \n",
            "Model Number: 36 of 292 with model UnobservedComponents for Validation 2\n",
            "36 - UnobservedComponents with avg smape 13.24: \n",
            "Model Number: 37 of 292 with model MultivariateRegression for Validation 2\n",
            "37 - MultivariateRegression with avg smape 6.1: \n",
            "Model Number: 38 of 292 with model Ensemble for Validation 2\n",
            "38 - Ensemble with avg smape 15.87: \n",
            "Model Number: 39 of 292 with model MultivariateRegression for Validation 2\n",
            "39 - MultivariateRegression with avg smape 6.16: \n",
            "Model Number: 40 of 292 with model NVAR for Validation 2\n",
            "40 - NVAR with avg smape 8.2: \n",
            "Model Number: 41 of 292 with model UnobservedComponents for Validation 2\n",
            "41 - UnobservedComponents with avg smape 16.43: \n",
            "Model Number: 42 of 292 with model UnobservedComponents for Validation 2\n",
            "42 - UnobservedComponents with avg smape 18.28: \n",
            "Model Number: 43 of 292 with model NVAR for Validation 2\n",
            "43 - NVAR with avg smape 16.07: \n",
            "Model Number: 44 of 292 with model UnobservedComponents for Validation 2\n",
            "44 - UnobservedComponents with avg smape 11.51: \n",
            "Model Number: 45 of 292 with model UnobservedComponents for Validation 2\n",
            "45 - UnobservedComponents with avg smape 13.68: \n",
            "Model Number: 46 of 292 with model NVAR for Validation 2\n",
            "46 - NVAR with avg smape 8.28: \n",
            "Model Number: 47 of 292 with model NVAR for Validation 2\n",
            "47 - NVAR with avg smape 8.28: \n",
            "Model Number: 48 of 292 with model NVAR for Validation 2\n",
            "48 - NVAR with avg smape 8.28: \n",
            "Model Number: 49 of 292 with model NVAR for Validation 2\n",
            "📈 49 - NVAR with avg smape 4.86: \n",
            "Model Number: 50 of 292 with model LastValueNaive for Validation 2\n",
            "📈 50 - LastValueNaive with avg smape 2.94: \n",
            "Model Number: 51 of 292 with model UnobservedComponents for Validation 2\n",
            "51 - UnobservedComponents with avg smape 12.84: \n",
            "Model Number: 52 of 292 with model UnobservedComponents for Validation 2\n",
            "52 - UnobservedComponents with avg smape 13.38: \n",
            "Model Number: 53 of 292 with model UnivariateMotif for Validation 2\n",
            "53 - UnivariateMotif with avg smape 43.19: \n",
            "Model Number: 54 of 292 with model SeasonalityMotif for Validation 2\n",
            "54 - SeasonalityMotif with avg smape 5.61: \n",
            "Model Number: 55 of 292 with model AverageValueNaive for Validation 2\n",
            "55 - AverageValueNaive with avg smape 6.73: \n",
            "Model Number: 56 of 292 with model AverageValueNaive for Validation 2\n",
            "56 - AverageValueNaive with avg smape 6.73: \n",
            "Model Number: 57 of 292 with model AverageValueNaive for Validation 2\n",
            "57 - AverageValueNaive with avg smape 6.73: \n",
            "Model Number: 58 of 292 with model AverageValueNaive for Validation 2\n",
            "58 - AverageValueNaive with avg smape 6.73: \n",
            "Model Number: 59 of 292 with model AverageValueNaive for Validation 2\n",
            "59 - AverageValueNaive with avg smape 6.73: \n",
            "Model Number: 60 of 292 with model SeasonalityMotif for Validation 2\n",
            "60 - SeasonalityMotif with avg smape 5.73: \n",
            "Model Number: 61 of 292 with model SeasonalityMotif for Validation 2\n",
            "61 - SeasonalityMotif with avg smape 5.73: \n",
            "Model Number: 62 of 292 with model SeasonalityMotif for Validation 2\n",
            "62 - SeasonalityMotif with avg smape 5.73: \n",
            "Model Number: 63 of 292 with model SeasonalityMotif for Validation 2\n",
            "63 - SeasonalityMotif with avg smape 5.88: \n",
            "Model Number: 64 of 292 with model SeasonalityMotif for Validation 2\n",
            "64 - SeasonalityMotif with avg smape 5.68: \n",
            "Model Number: 65 of 292 with model SeasonalityMotif for Validation 2\n",
            "65 - SeasonalityMotif with avg smape 5.68: \n",
            "Model Number: 66 of 292 with model SeasonalityMotif for Validation 2\n",
            "66 - SeasonalityMotif with avg smape 5.68: \n",
            "Model Number: 67 of 292 with model UnobservedComponents for Validation 2\n",
            "67 - UnobservedComponents with avg smape 4.85: \n",
            "Model Number: 68 of 292 with model ARIMA for Validation 2\n",
            "68 - ARIMA with avg smape 7.95: \n",
            "Model Number: 69 of 292 with model ARIMA for Validation 2\n",
            "69 - ARIMA with avg smape 7.95: \n",
            "Model Number: 70 of 292 with model LastValueNaive for Validation 2\n",
            "70 - LastValueNaive with avg smape 14.7: \n",
            "Model Number: 71 of 292 with model ARDL for Validation 2\n",
            "71 - ARDL with avg smape 16.1: \n",
            "Model Number: 72 of 292 with model SeasonalNaive for Validation 2\n",
            "72 - SeasonalNaive with avg smape 7.82: \n",
            "Model Number: 73 of 292 with model ETS for Validation 2\n",
            "73 - ETS with avg smape 8.63: \n",
            "Model Number: 74 of 292 with model SeasonalNaive for Validation 2\n",
            "74 - SeasonalNaive with avg smape 6.8: \n",
            "Model Number: 75 of 292 with model LastValueNaive for Validation 2\n",
            "75 - LastValueNaive with avg smape 3.11: \n",
            "Model Number: 76 of 292 with model LastValueNaive for Validation 2\n",
            "76 - LastValueNaive with avg smape 14.24: \n",
            "Model Number: 77 of 292 with model LastValueNaive for Validation 2\n",
            "77 - LastValueNaive with avg smape 14.24: \n",
            "Model Number: 78 of 292 with model LastValueNaive for Validation 2\n",
            "78 - LastValueNaive with avg smape 3.15: \n",
            "Model Number: 79 of 292 with model SeasonalityMotif for Validation 2\n",
            "79 - SeasonalityMotif with avg smape 5.05: \n",
            "Model Number: 80 of 292 with model AverageValueNaive for Validation 2\n",
            "80 - AverageValueNaive with avg smape 4.14: \n",
            "Model Number: 81 of 292 with model MultivariateRegression for Validation 2\n",
            "81 - MultivariateRegression with avg smape 24.53: \n",
            "Model Number: 82 of 292 with model UnivariateRegression for Validation 2\n",
            "82 - UnivariateRegression with avg smape 22.16: \n",
            "Model Number: 83 of 292 with model UnivariateRegression for Validation 2\n",
            "83 - UnivariateRegression with avg smape 16.99: \n",
            "Model Number: 84 of 292 with model ETS for Validation 2\n",
            "84 - ETS with avg smape 7.19: \n",
            "Model Number: 85 of 292 with model MultivariateRegression for Validation 2\n",
            "85 - MultivariateRegression with avg smape 4.12: \n",
            "Model Number: 86 of 292 with model ETS for Validation 2\n",
            "86 - ETS with avg smape 6.88: \n",
            "Model Number: 87 of 292 with model ETS for Validation 2\n",
            "87 - ETS with avg smape 6.86: \n",
            "Model Number: 88 of 292 with model ETS for Validation 2\n",
            "88 - ETS with avg smape 6.86: \n",
            "Model Number: 89 of 292 with model ETS for Validation 2\n",
            "89 - ETS with avg smape 6.86: \n",
            "Model Number: 90 of 292 with model ETS for Validation 2\n",
            "90 - ETS with avg smape 6.88: \n",
            "Model Number: 91 of 292 with model UnivariateRegression for Validation 2\n",
            "91 - UnivariateRegression with avg smape 28.94: \n",
            "Model Number: 92 of 292 with model UnivariateRegression for Validation 2\n",
            "92 - UnivariateRegression with avg smape 26.42: \n",
            "Model Number: 93 of 292 with model AverageValueNaive for Validation 2\n",
            "93 - AverageValueNaive with avg smape 9.75: \n",
            "Model Number: 94 of 292 with model SeasonalNaive for Validation 2\n",
            "94 - SeasonalNaive with avg smape 8.67: \n",
            "Model Number: 95 of 292 with model MultivariateRegression for Validation 2\n",
            "95 - MultivariateRegression with avg smape 4.15: \n",
            "Model Number: 96 of 292 with model UnivariateRegression for Validation 2\n",
            "96 - UnivariateRegression with avg smape 15.94: \n",
            "Model Number: 97 of 292 with model UnivariateRegression for Validation 2\n",
            "97 - UnivariateRegression with avg smape 15.94: \n",
            "Model Number: 98 of 292 with model UnivariateRegression for Validation 2\n",
            "98 - UnivariateRegression with avg smape 28.77: \n",
            "Model Number: 99 of 292 with model MultivariateRegression for Validation 2\n",
            "99 - MultivariateRegression with avg smape 4.77: \n",
            "Model Number: 100 of 292 with model MultivariateRegression for Validation 2\n",
            "100 - MultivariateRegression with avg smape 7.42: \n",
            "Model Number: 101 of 292 with model UnivariateRegression for Validation 2\n",
            "101 - UnivariateRegression with avg smape 27.89: \n",
            "Model Number: 102 of 292 with model UnivariateRegression for Validation 2\n",
            "102 - UnivariateRegression with avg smape 27.89: \n",
            "Model Number: 103 of 292 with model ARIMA for Validation 2\n",
            "103 - ARIMA with avg smape 17.27: \n",
            "Model Number: 104 of 292 with model ARIMA for Validation 2\n",
            "104 - ARIMA with avg smape 18.4: \n",
            "Model Number: 105 of 292 with model SeasonalityMotif for Validation 2\n",
            "105 - SeasonalityMotif with avg smape 5.79: \n",
            "Model Number: 106 of 292 with model SeasonalityMotif for Validation 2\n",
            "106 - SeasonalityMotif with avg smape 5.79: \n",
            "Model Number: 107 of 292 with model LastValueNaive for Validation 2\n",
            "107 - LastValueNaive with avg smape 4.2: \n",
            "Model Number: 108 of 292 with model LastValueNaive for Validation 2\n",
            "108 - LastValueNaive with avg smape 4.2: \n",
            "Model Number: 109 of 292 with model ETS for Validation 2\n",
            "109 - ETS with avg smape 11.67: \n",
            "Model Number: 110 of 292 with model MultivariateRegression for Validation 2\n",
            "110 - MultivariateRegression with avg smape 6.08: \n",
            "Model Number: 111 of 292 with model MultivariateRegression for Validation 2\n",
            "111 - MultivariateRegression with avg smape 6.04: \n",
            "Model Number: 112 of 292 with model SeasonalNaive for Validation 2\n",
            "112 - SeasonalNaive with avg smape 3.12: \n",
            "Model Number: 113 of 292 with model MultivariateRegression for Validation 2\n",
            "113 - MultivariateRegression with avg smape 6.18: \n",
            "Model Number: 114 of 292 with model SeasonalityMotif for Validation 2\n",
            "114 - SeasonalityMotif with avg smape 5.05: \n",
            "Model Number: 115 of 292 with model ARIMA for Validation 2\n",
            "115 - ARIMA with avg smape 11.55: \n",
            "Model Number: 116 of 292 with model ETS for Validation 2\n",
            "116 - ETS with avg smape 6.63: \n",
            "Model Number: 117 of 292 with model ETS for Validation 2\n",
            "117 - ETS with avg smape 6.63: \n",
            "Model Number: 118 of 292 with model Theta for Validation 2\n",
            "118 - Theta with avg smape 24.7: \n",
            "Model Number: 119 of 292 with model Theta for Validation 2\n",
            "119 - Theta with avg smape 24.72: \n",
            "Model Number: 120 of 292 with model Theta for Validation 2\n",
            "120 - Theta with avg smape 24.72: \n",
            "Model Number: 121 of 292 with model Theta for Validation 2\n",
            "121 - Theta with avg smape 24.72: \n",
            "Model Number: 122 of 292 with model Theta for Validation 2\n",
            "122 - Theta with avg smape 24.73: \n",
            "Model Number: 123 of 292 with model SeasonalityMotif for Validation 2\n",
            "123 - SeasonalityMotif with avg smape 3.18: \n",
            "Model Number: 124 of 292 with model ETS for Validation 2\n",
            "124 - ETS with avg smape 11.66: \n",
            "Model Number: 125 of 292 with model Theta for Validation 2\n",
            "125 - Theta with avg smape 24.7: \n",
            "Model Number: 126 of 292 with model Theta for Validation 2\n",
            "126 - Theta with avg smape 24.51: \n",
            "Model Number: 127 of 292 with model Theta for Validation 2\n",
            "127 - Theta with avg smape 24.54: \n",
            "Model Number: 128 of 292 with model ARIMA for Validation 2\n",
            "128 - ARIMA with avg smape 11.76: \n",
            "Model Number: 129 of 292 with model Theta for Validation 2\n",
            "129 - Theta with avg smape 25.18: \n",
            "Model Number: 130 of 292 with model Theta for Validation 2\n",
            "130 - Theta with avg smape 25.2: \n",
            "Model Number: 131 of 292 with model ARIMA for Validation 2\n",
            "131 - ARIMA with avg smape 17.03: \n",
            "Model Number: 132 of 292 with model ARIMA for Validation 2\n",
            "132 - ARIMA with avg smape 17.97: \n",
            "Model Number: 133 of 292 with model SeasonalNaive for Validation 2\n",
            "133 - SeasonalNaive with avg smape 7.38: \n",
            "Model Number: 134 of 292 with model WindowRegression for Validation 2\n",
            "134 - WindowRegression with avg smape 15.6: \n",
            "Model Number: 135 of 292 with model SeasonalNaive for Validation 2\n",
            "135 - SeasonalNaive with avg smape 4.73: \n",
            "Model Number: 136 of 292 with model SeasonalNaive for Validation 2\n"
          ]
        },
        {
          "name": "stderr",
          "output_type": "stream",
          "text": [
            "/usr/local/lib/python3.10/dist-packages/sklearn/neural_network/_multilayer_perceptron.py:541: ConvergenceWarning:\n",
            "\n",
            "lbfgs failed to converge (status=1):\n",
            "STOP: TOTAL NO. of ITERATIONS REACHED LIMIT.\n",
            "\n",
            "Increase the number of iterations (max_iter) or scale the data as shown in:\n",
            "    https://scikit-learn.org/stable/modules/preprocessing.html\n",
            "\n"
          ]
        },
        {
          "name": "stdout",
          "output_type": "stream",
          "text": [
            "136 - SeasonalNaive with avg smape 5.13: \n",
            "Model Number: 137 of 292 with model ARIMA for Validation 2\n",
            "137 - ARIMA with avg smape 9.28: \n",
            "Model Number: 138 of 292 with model ARIMA for Validation 2\n",
            "138 - ARIMA with avg smape 11.34: \n",
            "Model Number: 139 of 292 with model ARDL for Validation 2\n",
            "139 - ARDL with avg smape 3.55: \n",
            "Model Number: 140 of 292 with model ARIMA for Validation 2\n",
            "140 - ARIMA with avg smape 11.24: \n",
            "Model Number: 141 of 292 with model LastValueNaive for Validation 2\n",
            "📈 141 - LastValueNaive with avg smape 2.9: \n",
            "Model Number: 142 of 292 with model LastValueNaive for Validation 2\n",
            "142 - LastValueNaive with avg smape 2.9: \n",
            "Model Number: 143 of 292 with model ETS for Validation 2\n",
            "143 - ETS with avg smape 8.07: \n",
            "Model Number: 144 of 292 with model LastValueNaive for Validation 2\n",
            "144 - LastValueNaive with avg smape 59.98: \n",
            "Model Number: 145 of 292 with model GLM for Validation 2\n",
            "145 - GLM with avg smape 36.92: \n",
            "Model Number: 146 of 292 with model GLM for Validation 2\n"
          ]
        },
        {
          "name": "stderr",
          "output_type": "stream",
          "text": [
            "/usr/local/lib/python3.10/dist-packages/statsmodels/genmod/families/family.py:1367: ValueWarning:\n",
            "\n",
            "Negative binomial dispersion parameter alpha not set. Using default value alpha=1.0.\n",
            "\n",
            "/usr/local/lib/python3.10/dist-packages/statsmodels/genmod/families/family.py:1367: ValueWarning:\n",
            "\n",
            "Negative binomial dispersion parameter alpha not set. Using default value alpha=1.0.\n",
            "\n"
          ]
        },
        {
          "name": "stdout",
          "output_type": "stream",
          "text": [
            "146 - GLM with avg smape 36.92: \n",
            "Model Number: 147 of 292 with model ARDL for Validation 2\n",
            "147 - ARDL with avg smape 11.18: \n",
            "Model Number: 148 of 292 with model UnivariateMotif for Validation 2\n",
            "148 - UnivariateMotif with avg smape 24.11: \n",
            "Model Number: 149 of 292 with model UnivariateRegression for Validation 2\n",
            "149 - UnivariateRegression with avg smape 10.04: \n",
            "Model Number: 150 of 292 with model UnivariateRegression for Validation 2\n"
          ]
        },
        {
          "name": "stderr",
          "output_type": "stream",
          "text": [
            "/usr/local/lib/python3.10/dist-packages/sklearn/neighbors/_classification.py:215: DataConversionWarning:\n",
            "\n",
            "A column-vector y was passed when a 1d array was expected. Please change the shape of y to (n_samples,), for example using ravel().\n",
            "\n"
          ]
        },
        {
          "name": "stdout",
          "output_type": "stream",
          "text": [
            "150 - UnivariateRegression with avg smape 9.15: \n",
            "Model Number: 151 of 292 with model UnivariateRegression for Validation 2\n",
            "151 - UnivariateRegression with avg smape 10.04: \n",
            "Model Number: 152 of 292 with model UnivariateRegression for Validation 2\n",
            "152 - UnivariateRegression with avg smape 10.04: \n",
            "Model Number: 153 of 292 with model SeasonalNaive for Validation 2\n",
            "153 - SeasonalNaive with avg smape 7.76: \n",
            "Model Number: 154 of 292 with model SeasonalNaive for Validation 2\n",
            "154 - SeasonalNaive with avg smape 6.45: \n",
            "Model Number: 155 of 292 with model AverageValueNaive for Validation 2\n",
            "155 - AverageValueNaive with avg smape 31.81: \n",
            "Model Number: 156 of 292 with model AverageValueNaive for Validation 2\n",
            "156 - AverageValueNaive with avg smape 31.69: \n",
            "Model Number: 157 of 292 with model AverageValueNaive for Validation 2\n",
            "157 - AverageValueNaive with avg smape 31.69: \n",
            "Model Number: 158 of 292 with model ARIMA for Validation 2\n",
            "158 - ARIMA with avg smape 4.85: \n",
            "Model Number: 159 of 292 with model AverageValueNaive for Validation 2\n",
            "159 - AverageValueNaive with avg smape 31.74: \n",
            "Model Number: 160 of 292 with model AverageValueNaive for Validation 2\n",
            "160 - AverageValueNaive with avg smape 31.74: \n",
            "Model Number: 161 of 292 with model ETS for Validation 2\n",
            "161 - ETS with avg smape 4.12: \n",
            "Model Number: 162 of 292 with model AverageValueNaive for Validation 2\n",
            "162 - AverageValueNaive with avg smape 32.5: \n",
            "Model Number: 163 of 292 with model MetricMotif for Validation 2\n",
            "163 - MetricMotif with avg smape 30.7: \n",
            "Model Number: 164 of 292 with model MetricMotif for Validation 2\n",
            "164 - MetricMotif with avg smape 31.99: \n",
            "Model Number: 165 of 292 with model MetricMotif for Validation 2\n",
            "165 - MetricMotif with avg smape 31.99: \n",
            "Model Number: 166 of 292 with model Theta for Validation 2\n",
            "166 - Theta with avg smape 9.65: \n",
            "Model Number: 167 of 292 with model UnivariateMotif for Validation 2\n",
            "167 - UnivariateMotif with avg smape 30.22: \n",
            "Model Number: 168 of 292 with model Theta for Validation 2\n",
            "168 - Theta with avg smape 9.06: \n",
            "Model Number: 169 of 292 with model ARDL for Validation 2\n",
            "169 - ARDL with avg smape 4.09: \n",
            "Model Number: 170 of 292 with model MultivariateMotif for Validation 2\n",
            "170 - MultivariateMotif with avg smape 30.75: \n",
            "Model Number: 171 of 292 with model UnivariateMotif for Validation 2\n",
            "171 - UnivariateMotif with avg smape 30.16: \n",
            "Model Number: 172 of 292 with model UnivariateMotif for Validation 2\n",
            "172 - UnivariateMotif with avg smape 29.95: \n",
            "Model Number: 173 of 292 with model UnivariateMotif for Validation 2\n",
            "173 - UnivariateMotif with avg smape 29.95: \n",
            "Model Number: 174 of 292 with model Theta for Validation 2\n",
            "174 - Theta with avg smape 9.14: \n",
            "Model Number: 175 of 292 with model UnivariateMotif for Validation 2\n",
            "175 - UnivariateMotif with avg smape 31.0: \n",
            "Model Number: 176 of 292 with model MetricMotif for Validation 2\n",
            "176 - MetricMotif with avg smape 30.02: \n",
            "Model Number: 177 of 292 with model ARDL for Validation 2\n",
            "📈 177 - ARDL with avg smape 2.83: \n",
            "Model Number: 178 of 292 with model MetricMotif for Validation 2\n",
            "178 - MetricMotif with avg smape 30.04: \n",
            "Model Number: 179 of 292 with model MetricMotif for Validation 2\n",
            "179 - MetricMotif with avg smape 30.04: \n",
            "Model Number: 180 of 292 with model MetricMotif for Validation 2\n",
            "180 - MetricMotif with avg smape 29.99: \n",
            "Model Number: 181 of 292 with model MetricMotif for Validation 2\n",
            "181 - MetricMotif with avg smape 30.17: \n",
            "Model Number: 182 of 292 with model UnivariateMotif for Validation 2\n",
            "182 - UnivariateMotif with avg smape 27.66: \n",
            "Model Number: 183 of 292 with model MetricMotif for Validation 2\n",
            "183 - MetricMotif with avg smape 30.04: \n",
            "Model Number: 184 of 292 with model MetricMotif for Validation 2\n",
            "184 - MetricMotif with avg smape 29.99: \n",
            "Model Number: 185 of 292 with model UnivariateMotif for Validation 2\n",
            "185 - UnivariateMotif with avg smape 30.16: \n",
            "Model Number: 186 of 292 with model SeasonalNaive for Validation 2\n",
            "186 - SeasonalNaive with avg smape 3.29: \n",
            "Model Number: 187 of 292 with model UnivariateMotif for Validation 2\n",
            "187 - UnivariateMotif with avg smape 30.16: \n",
            "Model Number: 188 of 292 with model UnivariateMotif for Validation 2\n",
            "188 - UnivariateMotif with avg smape 30.16: \n",
            "Model Number: 189 of 292 with model GLS for Validation 2\n",
            "189 - GLS with avg smape 27.51: \n",
            "Model Number: 190 of 292 with model MultivariateMotif for Validation 2\n",
            "190 - MultivariateMotif with avg smape 30.16: \n",
            "Model Number: 191 of 292 with model MultivariateMotif for Validation 2\n",
            "191 - MultivariateMotif with avg smape 25.37: \n",
            "Model Number: 192 of 292 with model ARDL for Validation 2\n",
            "192 - ARDL with avg smape 3.1: \n",
            "Model Number: 193 of 292 with model ARIMA for Validation 2\n",
            "193 - ARIMA with avg smape 10.89: \n",
            "Model Number: 194 of 292 with model MultivariateMotif for Validation 2\n",
            "194 - MultivariateMotif with avg smape 29.95: \n",
            "Model Number: 195 of 292 with model MetricMotif for Validation 2\n",
            "195 - MetricMotif with avg smape 29.8: \n",
            "Model Number: 196 of 292 with model MetricMotif for Validation 2\n",
            "196 - MetricMotif with avg smape 29.82: \n",
            "Model Number: 197 of 292 with model GLS for Validation 2\n",
            "197 - GLS with avg smape 3.16: \n",
            "Model Number: 198 of 292 with model ARDL for Validation 2\n",
            "198 - ARDL with avg smape 11.43: \n",
            "Model Number: 199 of 292 with model MetricMotif for Validation 2\n",
            "199 - MetricMotif with avg smape 30.7: \n",
            "Model Number: 200 of 292 with model SeasonalNaive for Validation 2\n",
            "200 - SeasonalNaive with avg smape 5.49: \n",
            "Model Number: 201 of 292 with model SeasonalNaive for Validation 2\n",
            "201 - SeasonalNaive with avg smape 3.3: \n",
            "Model Number: 202 of 292 with model ARDL for Validation 2\n",
            "202 - ARDL with avg smape 3.17: \n",
            "Model Number: 203 of 292 with model SeasonalNaive for Validation 2\n",
            "203 - SeasonalNaive with avg smape 3.81: \n",
            "Model Number: 204 of 292 with model UnivariateMotif for Validation 2\n",
            "204 - UnivariateMotif with avg smape 8.33: \n",
            "Model Number: 205 of 292 with model MultivariateMotif for Validation 2\n",
            "205 - MultivariateMotif with avg smape 15.46: \n",
            "Model Number: 206 of 292 with model LastValueNaive for Validation 2\n",
            "206 - LastValueNaive with avg smape 3.48: \n",
            "Model Number: 207 of 292 with model ARDL for Validation 2\n",
            "207 - ARDL with avg smape 6.21: \n",
            "Model Number: 208 of 292 with model WindowRegression for Validation 2\n",
            "208 - WindowRegression with avg smape 4.28: \n",
            "Model Number: 209 of 292 with model GLM for Validation 2\n"
          ]
        },
        {
          "name": "stderr",
          "output_type": "stream",
          "text": [
            "/usr/local/lib/python3.10/dist-packages/sklearn/neural_network/_multilayer_perceptron.py:541: ConvergenceWarning:\n",
            "\n",
            "lbfgs failed to converge (status=1):\n",
            "STOP: TOTAL NO. of ITERATIONS REACHED LIMIT.\n",
            "\n",
            "Increase the number of iterations (max_iter) or scale the data as shown in:\n",
            "    https://scikit-learn.org/stable/modules/preprocessing.html\n",
            "\n"
          ]
        },
        {
          "name": "stdout",
          "output_type": "stream",
          "text": [
            "209 - GLM with avg smape 37.56: \n",
            "Model Number: 210 of 292 with model WindowRegression for Validation 2\n",
            "210 - WindowRegression with avg smape 10.86: \n",
            "Model Number: 211 of 292 with model WindowRegression for Validation 2\n",
            "211 - WindowRegression with avg smape 9.95: \n",
            "Model Number: 212 of 292 with model MultivariateMotif for Validation 2\n",
            "212 - MultivariateMotif with avg smape 21.16: \n",
            "Model Number: 213 of 292 with model UnivariateMotif for Validation 2\n"
          ]
        },
        {
          "name": "stderr",
          "output_type": "stream",
          "text": [
            "/usr/local/lib/python3.10/dist-packages/sklearn/neural_network/_multilayer_perceptron.py:541: ConvergenceWarning:\n",
            "\n",
            "lbfgs failed to converge (status=1):\n",
            "STOP: TOTAL NO. of ITERATIONS REACHED LIMIT.\n",
            "\n",
            "Increase the number of iterations (max_iter) or scale the data as shown in:\n",
            "    https://scikit-learn.org/stable/modules/preprocessing.html\n",
            "\n"
          ]
        },
        {
          "name": "stdout",
          "output_type": "stream",
          "text": [
            "213 - UnivariateMotif with avg smape 25.75: \n",
            "Model Number: 214 of 292 with model WindowRegression for Validation 2\n",
            "214 - WindowRegression with avg smape 18.24: \n",
            "Model Number: 215 of 292 with model GLS for Validation 2\n",
            "215 - GLS with avg smape 3.16: \n",
            "Model Number: 216 of 292 with model DatepartRegression for Validation 2\n"
          ]
        },
        {
          "name": "stderr",
          "output_type": "stream",
          "text": [
            "/usr/local/lib/python3.10/dist-packages/sklearn/neural_network/_multilayer_perceptron.py:541: ConvergenceWarning:\n",
            "\n",
            "lbfgs failed to converge (status=1):\n",
            "STOP: TOTAL NO. of ITERATIONS REACHED LIMIT.\n",
            "\n",
            "Increase the number of iterations (max_iter) or scale the data as shown in:\n",
            "    https://scikit-learn.org/stable/modules/preprocessing.html\n",
            "\n"
          ]
        },
        {
          "name": "stdout",
          "output_type": "stream",
          "text": [
            "216 - DatepartRegression with avg smape 10.19: \n",
            "Model Number: 217 of 292 with model MultivariateMotif for Validation 2\n",
            "217 - MultivariateMotif with avg smape 6.39: \n",
            "Model Number: 218 of 292 with model MultivariateMotif for Validation 2\n",
            "218 - MultivariateMotif with avg smape 6.1: \n",
            "Model Number: 219 of 292 with model GLS for Validation 2\n",
            "219 - GLS with avg smape 3.12: \n",
            "Model Number: 220 of 292 with model GLS for Validation 2\n",
            "220 - GLS with avg smape 3.12: \n",
            "Model Number: 221 of 292 with model MultivariateMotif for Validation 2\n",
            "221 - MultivariateMotif with avg smape 17.32: \n",
            "Model Number: 222 of 292 with model WindowRegression for Validation 2\n",
            "222 - WindowRegression with avg smape 19.69: \n",
            "Model Number: 223 of 292 with model ARDL for Validation 2\n"
          ]
        },
        {
          "name": "stderr",
          "output_type": "stream",
          "text": [
            "/usr/local/lib/python3.10/dist-packages/sklearn/neural_network/_multilayer_perceptron.py:541: ConvergenceWarning:\n",
            "\n",
            "lbfgs failed to converge (status=1):\n",
            "STOP: TOTAL NO. of ITERATIONS REACHED LIMIT.\n",
            "\n",
            "Increase the number of iterations (max_iter) or scale the data as shown in:\n",
            "    https://scikit-learn.org/stable/modules/preprocessing.html\n",
            "\n"
          ]
        },
        {
          "name": "stdout",
          "output_type": "stream",
          "text": [
            "223 - ARDL with avg smape 4.89: \n",
            "Model Number: 224 of 292 with model WindowRegression for Validation 2\n",
            "224 - WindowRegression with avg smape 10.33: \n",
            "Model Number: 225 of 292 with model GLS for Validation 2\n",
            "225 - GLS with avg smape 3.4: \n",
            "Model Number: 226 of 292 with model WindowRegression for Validation 2\n"
          ]
        },
        {
          "name": "stderr",
          "output_type": "stream",
          "text": [
            "/usr/local/lib/python3.10/dist-packages/sklearn/neural_network/_multilayer_perceptron.py:541: ConvergenceWarning:\n",
            "\n",
            "lbfgs failed to converge (status=1):\n",
            "STOP: TOTAL NO. of ITERATIONS REACHED LIMIT.\n",
            "\n",
            "Increase the number of iterations (max_iter) or scale the data as shown in:\n",
            "    https://scikit-learn.org/stable/modules/preprocessing.html\n",
            "\n"
          ]
        },
        {
          "name": "stdout",
          "output_type": "stream",
          "text": [
            "226 - WindowRegression with avg smape 8.31: \n",
            "Model Number: 227 of 292 with model WindowRegression for Validation 2\n",
            "227 - WindowRegression with avg smape 9.46: \n",
            "Model Number: 228 of 292 with model DatepartRegression for Validation 2\n",
            "228 - DatepartRegression with avg smape 10.19: \n",
            "Model Number: 229 of 292 with model MultivariateMotif for Validation 2\n",
            "229 - MultivariateMotif with avg smape 18.24: \n",
            "Model Number: 230 of 292 with model ARDL for Validation 2\n",
            "230 - ARDL with avg smape 3.61: \n",
            "Model Number: 231 of 292 with model MultivariateMotif for Validation 2\n"
          ]
        },
        {
          "name": "stderr",
          "output_type": "stream",
          "text": [
            "/usr/local/lib/python3.10/dist-packages/sklearn/neural_network/_multilayer_perceptron.py:541: ConvergenceWarning:\n",
            "\n",
            "lbfgs failed to converge (status=1):\n",
            "STOP: TOTAL NO. of ITERATIONS REACHED LIMIT.\n",
            "\n",
            "Increase the number of iterations (max_iter) or scale the data as shown in:\n",
            "    https://scikit-learn.org/stable/modules/preprocessing.html\n",
            "\n"
          ]
        },
        {
          "name": "stdout",
          "output_type": "stream",
          "text": [
            "231 - MultivariateMotif with avg smape 15.15: \n",
            "Model Number: 232 of 292 with model ARDL for Validation 2\n",
            "232 - ARDL with avg smape 10.49: \n",
            "Model Number: 233 of 292 with model ARDL for Validation 2\n",
            "233 - ARDL with avg smape 6.34: \n",
            "Model Number: 234 of 292 with model GLS for Validation 2\n",
            "234 - GLS with avg smape 4.31: \n",
            "Model Number: 235 of 292 with model WindowRegression for Validation 2\n",
            "235 - WindowRegression with avg smape 6.02: \n",
            "Model Number: 236 of 292 with model DatepartRegression for Validation 2\n"
          ]
        },
        {
          "name": "stderr",
          "output_type": "stream",
          "text": [
            "/usr/local/lib/python3.10/dist-packages/sklearn/neural_network/_multilayer_perceptron.py:686: ConvergenceWarning:\n",
            "\n",
            "Stochastic Optimizer: Maximum iterations (250) reached and the optimization hasn't converged yet.\n",
            "\n"
          ]
        },
        {
          "name": "stdout",
          "output_type": "stream",
          "text": [
            "236 - DatepartRegression with avg smape 6.02: \n",
            "Model Number: 237 of 292 with model WindowRegression for Validation 2\n",
            "237 - WindowRegression with avg smape 10.5: \n",
            "Model Number: 238 of 292 with model MultivariateMotif for Validation 2\n",
            "238 - MultivariateMotif with avg smape 7.66: \n",
            "Model Number: 239 of 292 with model GLS for Validation 2\n",
            "239 - GLS with avg smape 3.27: \n",
            "Model Number: 240 of 292 with model GLS for Validation 2\n"
          ]
        },
        {
          "name": "stderr",
          "output_type": "stream",
          "text": [
            "/usr/local/lib/python3.10/dist-packages/sklearn/neural_network/_multilayer_perceptron.py:541: ConvergenceWarning:\n",
            "\n",
            "lbfgs failed to converge (status=1):\n",
            "STOP: TOTAL NO. of ITERATIONS REACHED LIMIT.\n",
            "\n",
            "Increase the number of iterations (max_iter) or scale the data as shown in:\n",
            "    https://scikit-learn.org/stable/modules/preprocessing.html\n",
            "\n"
          ]
        },
        {
          "name": "stdout",
          "output_type": "stream",
          "text": [
            "240 - GLS with avg smape 6.0: \n",
            "Model Number: 241 of 292 with model GLS for Validation 2\n",
            "241 - GLS with avg smape 7.27: \n",
            "Model Number: 242 of 292 with model DatepartRegression for Validation 2\n",
            "242 - DatepartRegression with avg smape 16.74: \n",
            "Model Number: 243 of 292 with model WindowRegression for Validation 2\n",
            "243 - WindowRegression with avg smape 5.83: \n",
            "Model Number: 244 of 292 with model WindowRegression for Validation 2\n",
            "244 - WindowRegression with avg smape 6.02: \n",
            "Model Number: 245 of 292 with model ConstantNaive for Validation 2\n",
            "245 - ConstantNaive with avg smape 25.92: \n",
            "Model Number: 246 of 292 with model ConstantNaive for Validation 2\n",
            "246 - ConstantNaive with avg smape 25.92: \n",
            "Model Number: 247 of 292 with model GLM for Validation 2\n",
            "247 - GLM with avg smape 5.57: \n",
            "Model Number: 248 of 292 with model GLS for Validation 2\n",
            "248 - GLS with avg smape 5.97: \n",
            "Model Number: 249 of 292 with model GLS for Validation 2\n",
            "249 - GLS with avg smape 6.0: \n",
            "Model Number: 250 of 292 with model GLS for Validation 2\n",
            "250 - GLS with avg smape 6.0: \n",
            "Model Number: 251 of 292 with model GLM for Validation 2\n",
            "251 - GLM with avg smape 5.97: \n",
            "Model Number: 252 of 292 with model ConstantNaive for Validation 2\n",
            "252 - ConstantNaive with avg smape 5.67: \n",
            "Model Number: 253 of 292 with model DatepartRegression for Validation 2\n",
            "253 - DatepartRegression with avg smape 7.45: \n",
            "Model Number: 254 of 292 with model DatepartRegression for Validation 2\n",
            "254 - DatepartRegression with avg smape 6.77: \n",
            "Model Number: 255 of 292 with model MultivariateMotif for Validation 2\n",
            "255 - MultivariateMotif with avg smape 5.45: \n",
            "Model Number: 256 of 292 with model ConstantNaive for Validation 2\n",
            "256 - ConstantNaive with avg smape 3.31: \n",
            "Model Number: 257 of 292 with model ConstantNaive for Validation 2\n",
            "257 - ConstantNaive with avg smape 3.31: \n",
            "Model Number: 258 of 292 with model DatepartRegression for Validation 2\n",
            "258 - DatepartRegression with avg smape 6.8: \n",
            "Model Number: 259 of 292 with model DatepartRegression for Validation 2\n",
            "259 - DatepartRegression with avg smape 6.85: \n",
            "Model Number: 260 of 292 with model DatepartRegression for Validation 2\n",
            "260 - DatepartRegression with avg smape 6.15: \n",
            "Model Number: 261 of 292 with model DatepartRegression for Validation 2\n",
            "261 - DatepartRegression with avg smape 6.15: \n",
            "Model Number: 262 of 292 with model ConstantNaive for Validation 2\n",
            "262 - ConstantNaive with avg smape 8.92: \n",
            "Model Number: 263 of 292 with model ConstantNaive for Validation 2\n",
            "263 - ConstantNaive with avg smape 8.92: \n",
            "Model Number: 264 of 292 with model DatepartRegression for Validation 2\n"
          ]
        },
        {
          "name": "stderr",
          "output_type": "stream",
          "text": [
            "/usr/local/lib/python3.10/dist-packages/sklearn/linear_model/_ridge.py:216: LinAlgWarning:\n",
            "\n",
            "Ill-conditioned matrix (rcond=1.57348e-25): result may not be accurate.\n",
            "\n"
          ]
        },
        {
          "name": "stdout",
          "output_type": "stream",
          "text": [
            "264 - DatepartRegression with avg smape 11.24: \n",
            "Model Number: 265 of 292 with model GLM for Validation 2\n"
          ]
        },
        {
          "name": "stderr",
          "output_type": "stream",
          "text": [
            "/usr/local/lib/python3.10/dist-packages/statsmodels/genmod/generalized_linear_model.py:308: DomainWarning:\n",
            "\n",
            "The InversePower link function does not respect the domain of the Gamma family.\n",
            "\n"
          ]
        },
        {
          "name": "stdout",
          "output_type": "stream",
          "text": [
            "265 - GLM with avg smape 31.97: \n",
            "Model Number: 266 of 292 with model SectionalMotif for Validation 2\n",
            "266 - SectionalMotif with avg smape 18.26: \n",
            "Model Number: 267 of 292 with model GLM for Validation 2\n"
          ]
        },
        {
          "name": "stderr",
          "output_type": "stream",
          "text": [
            "/usr/local/lib/python3.10/dist-packages/statsmodels/genmod/families/family.py:1367: ValueWarning:\n",
            "\n",
            "Negative binomial dispersion parameter alpha not set. Using default value alpha=1.0.\n",
            "\n"
          ]
        },
        {
          "name": "stdout",
          "output_type": "stream",
          "text": [
            "267 - GLM with avg smape 33.77: \n",
            "Model Number: 268 of 292 with model GLM for Validation 2\n",
            "268 - GLM with avg smape 6.32: \n",
            "Model Number: 269 of 292 with model ConstantNaive for Validation 2\n",
            "269 - ConstantNaive with avg smape 6.02: \n",
            "Model Number: 270 of 292 with model ConstantNaive for Validation 2\n",
            "270 - ConstantNaive with avg smape 6.02: \n",
            "Model Number: 271 of 292 with model ConstantNaive for Validation 2\n",
            "271 - ConstantNaive with avg smape 6.02: \n",
            "Model Number: 272 of 292 with model ConstantNaive for Validation 2\n"
          ]
        },
        {
          "name": "stderr",
          "output_type": "stream",
          "text": [
            "/usr/local/lib/python3.10/dist-packages/statsmodels/genmod/families/links.py:198: RuntimeWarning:\n",
            "\n",
            "overflow encountered in exp\n",
            "\n",
            "/usr/local/lib/python3.10/dist-packages/sklearn/decomposition/_fastica.py:708: FutureWarning:\n",
            "\n",
            "Starting in v1.3, whiten=True should be specified as whiten='arbitrary-variance' (its current behaviour). This behavior is deprecated in 1.1 and will raise ValueError in 1.3.\n",
            "\n"
          ]
        },
        {
          "name": "stdout",
          "output_type": "stream",
          "text": [
            "272 - ConstantNaive with avg smape 6.02: \n",
            "Model Number: 273 of 292 with model ConstantNaive for Validation 2\n",
            "273 - ConstantNaive with avg smape 6.51: \n",
            "Model Number: 274 of 292 with model DatepartRegression for Validation 2\n",
            "274 - DatepartRegression with avg smape 4.84: \n",
            "Model Number: 275 of 292 with model GLM for Validation 2\n",
            "275 - GLM with avg smape 5.55: \n",
            "Model Number: 276 of 292 with model ConstantNaive for Validation 2\n",
            "276 - ConstantNaive with avg smape 9.37: \n",
            "Model Number: 277 of 292 with model SectionalMotif for Validation 2\n",
            "277 - SectionalMotif with avg smape 24.63: \n",
            "Model Number: 278 of 292 with model GLM for Validation 2\n"
          ]
        },
        {
          "name": "stderr",
          "output_type": "stream",
          "text": [
            "/usr/local/lib/python3.10/dist-packages/statsmodels/genmod/families/links.py:198: RuntimeWarning:\n",
            "\n",
            "overflow encountered in exp\n",
            "\n"
          ]
        },
        {
          "name": "stdout",
          "output_type": "stream",
          "text": [
            "278 - GLM with avg smape 41.44: \n",
            "Model Number: 279 of 292 with model DatepartRegression for Validation 2\n",
            "279 - DatepartRegression with avg smape 12.34: \n",
            "Model Number: 280 of 292 with model GLM for Validation 2\n",
            "280 - GLM with avg smape 41.22: \n",
            "Model Number: 281 of 292 with model GLM for Validation 2\n"
          ]
        },
        {
          "name": "stderr",
          "output_type": "stream",
          "text": [
            "/usr/local/lib/python3.10/dist-packages/statsmodels/genmod/families/family.py:1367: ValueWarning:\n",
            "\n",
            "Negative binomial dispersion parameter alpha not set. Using default value alpha=1.0.\n",
            "\n",
            "/usr/local/lib/python3.10/dist-packages/statsmodels/genmod/families/family.py:1367: ValueWarning:\n",
            "\n",
            "Negative binomial dispersion parameter alpha not set. Using default value alpha=1.0.\n",
            "\n"
          ]
        },
        {
          "name": "stdout",
          "output_type": "stream",
          "text": [
            "281 - GLM with avg smape 41.22: \n",
            "Model Number: 282 of 292 with model GLM for Validation 2\n"
          ]
        },
        {
          "name": "stderr",
          "output_type": "stream",
          "text": [
            "/usr/local/lib/python3.10/dist-packages/statsmodels/genmod/families/family.py:1367: ValueWarning:\n",
            "\n",
            "Negative binomial dispersion parameter alpha not set. Using default value alpha=1.0.\n",
            "\n"
          ]
        },
        {
          "name": "stdout",
          "output_type": "stream",
          "text": [
            "282 - GLM with avg smape 41.25: \n",
            "Model Number: 283 of 292 with model SectionalMotif for Validation 2\n",
            "283 - SectionalMotif with avg smape 11.64: \n",
            "Model Number: 284 of 292 with model SectionalMotif for Validation 2\n",
            "284 - SectionalMotif with avg smape 8.15: \n",
            "Model Number: 285 of 292 with model SectionalMotif for Validation 2\n",
            "285 - SectionalMotif with avg smape 5.12: \n",
            "Model Number: 286 of 292 with model SectionalMotif for Validation 2\n",
            "286 - SectionalMotif with avg smape 5.79: \n",
            "Model Number: 287 of 292 with model SectionalMotif for Validation 2\n",
            "287 - SectionalMotif with avg smape 8.3: \n",
            "Model Number: 288 of 292 with model SectionalMotif for Validation 2\n",
            "288 - SectionalMotif with avg smape 37.53: \n",
            "Model Number: 289 of 292 with model SectionalMotif for Validation 2\n",
            "289 - SectionalMotif with avg smape 28.78: \n",
            "Model Number: 290 of 292 with model SectionalMotif for Validation 2\n",
            "290 - SectionalMotif with avg smape 24.02: \n",
            "Model Number: 291 of 292 with model SectionalMotif for Validation 2\n",
            "291 - SectionalMotif with avg smape 23.29: \n",
            "Model Number: 292 of 292 with model Ensemble for Validation 2\n",
            "292 - Ensemble with avg smape 27.79: \n",
            "Validation Round: 3\n",
            "Model Number: 1 of 292 with model Ensemble for Validation 3\n"
          ]
        },
        {
          "name": "stderr",
          "output_type": "stream",
          "text": [
            "/usr/local/lib/python3.10/dist-packages/sklearn/neighbors/_classification.py:215: DataConversionWarning:\n",
            "\n",
            "A column-vector y was passed when a 1d array was expected. Please change the shape of y to (n_samples,), for example using ravel().\n",
            "\n"
          ]
        },
        {
          "name": "stdout",
          "output_type": "stream",
          "text": [
            "📈 1 - Ensemble with avg smape 13.33: \n",
            "Model Number: 2 of 292 with model Ensemble for Validation 3\n"
          ]
        },
        {
          "name": "stderr",
          "output_type": "stream",
          "text": [
            "/usr/local/lib/python3.10/dist-packages/sklearn/neighbors/_classification.py:215: DataConversionWarning:\n",
            "\n",
            "A column-vector y was passed when a 1d array was expected. Please change the shape of y to (n_samples,), for example using ravel().\n",
            "\n"
          ]
        },
        {
          "name": "stdout",
          "output_type": "stream",
          "text": [
            "📈 2 - Ensemble with avg smape 13.11: \n",
            "Model Number: 3 of 292 with model Ensemble for Validation 3\n"
          ]
        },
        {
          "name": "stderr",
          "output_type": "stream",
          "text": [
            "/usr/local/lib/python3.10/dist-packages/sklearn/neighbors/_classification.py:215: DataConversionWarning:\n",
            "\n",
            "A column-vector y was passed when a 1d array was expected. Please change the shape of y to (n_samples,), for example using ravel().\n",
            "\n"
          ]
        },
        {
          "name": "stdout",
          "output_type": "stream",
          "text": [
            "📈 3 - Ensemble with avg smape 12.59: \n",
            "Model Number: 4 of 292 with model FBProphet for Validation 3\n",
            "📈 4 - FBProphet with avg smape 5.81: \n",
            "Model Number: 5 of 292 with model Ensemble for Validation 3\n",
            "📈 5 - Ensemble with avg smape 5.56: \n",
            "Model Number: 6 of 292 with model Ensemble for Validation 3\n",
            "6 - Ensemble with avg smape 5.81: \n",
            "Model Number: 7 of 292 with model FBProphet for Validation 3\n",
            "📈 7 - FBProphet with avg smape 5.24: \n",
            "Model Number: 8 of 292 with model FBProphet for Validation 3\n",
            "8 - FBProphet with avg smape 5.81: \n",
            "Model Number: 9 of 292 with model FBProphet for Validation 3\n",
            "9 - FBProphet with avg smape 5.63: \n",
            "Model Number: 10 of 292 with model FBProphet for Validation 3\n",
            "10 - FBProphet with avg smape 5.81: \n",
            "Model Number: 11 of 292 with model FBProphet for Validation 3\n",
            "📈 11 - FBProphet with avg smape 5.14: \n",
            "Model Number: 12 of 292 with model FBProphet for Validation 3\n",
            "12 - FBProphet with avg smape 5.63: \n",
            "Model Number: 13 of 292 with model FBProphet for Validation 3\n",
            "13 - FBProphet with avg smape 5.3: \n",
            "Model Number: 14 of 292 with model FBProphet for Validation 3\n",
            "No anomalies detected.\n",
            "14 - FBProphet with avg smape 5.81: \n",
            "Model Number: 15 of 292 with model FBProphet for Validation 3\n",
            "15 - FBProphet with avg smape 6.0: \n",
            "Model Number: 16 of 292 with model FBProphet for Validation 3\n",
            "16 - FBProphet with avg smape 6.0: \n",
            "Model Number: 17 of 292 with model FBProphet for Validation 3\n",
            "17 - FBProphet with avg smape 5.77: \n",
            "Model Number: 18 of 292 with model FBProphet for Validation 3\n",
            "18 - FBProphet with avg smape 5.41: \n",
            "Model Number: 19 of 292 with model Ensemble for Validation 3\n",
            "19 - Ensemble with avg smape 9.45: \n",
            "Model Number: 20 of 292 with model NVAR for Validation 3\n"
          ]
        },
        {
          "name": "stderr",
          "output_type": "stream",
          "text": [
            "/usr/local/lib/python3.10/dist-packages/sklearn/neighbors/_classification.py:215: DataConversionWarning:\n",
            "\n",
            "A column-vector y was passed when a 1d array was expected. Please change the shape of y to (n_samples,), for example using ravel().\n",
            "\n"
          ]
        },
        {
          "name": "stdout",
          "output_type": "stream",
          "text": [
            "20 - NVAR with avg smape 6.12: \n",
            "Model Number: 21 of 292 with model LastValueNaive for Validation 3\n",
            "21 - LastValueNaive with avg smape 42.35: \n",
            "Model Number: 22 of 292 with model UnobservedComponents for Validation 3\n",
            "22 - UnobservedComponents with avg smape 17.19: \n",
            "Model Number: 23 of 292 with model NVAR for Validation 3\n",
            "23 - NVAR with avg smape 7.18: \n",
            "Model Number: 24 of 292 with model UnobservedComponents for Validation 3\n"
          ]
        },
        {
          "name": "stderr",
          "output_type": "stream",
          "text": [
            "/usr/local/lib/python3.10/dist-packages/sklearn/neighbors/_classification.py:215: DataConversionWarning:\n",
            "\n",
            "A column-vector y was passed when a 1d array was expected. Please change the shape of y to (n_samples,), for example using ravel().\n",
            "\n"
          ]
        },
        {
          "name": "stdout",
          "output_type": "stream",
          "text": [
            "24 - UnobservedComponents with avg smape 21.24: \n",
            "Model Number: 25 of 292 with model UnobservedComponents for Validation 3\n",
            "25 - UnobservedComponents with avg smape 21.24: \n",
            "Model Number: 26 of 292 with model MultivariateRegression for Validation 3\n",
            "26 - MultivariateRegression with avg smape 17.64: \n",
            "Model Number: 27 of 292 with model MultivariateRegression for Validation 3\n",
            "27 - MultivariateRegression with avg smape 17.64: \n",
            "Model Number: 28 of 292 with model MultivariateRegression for Validation 3\n",
            "28 - MultivariateRegression with avg smape 17.64: \n",
            "Model Number: 29 of 292 with model NVAR for Validation 3\n",
            "29 - NVAR with avg smape 6.9: \n",
            "Model Number: 30 of 292 with model NVAR for Validation 3\n",
            "30 - NVAR with avg smape 6.9: \n",
            "Model Number: 31 of 292 with model NVAR for Validation 3\n",
            "31 - NVAR with avg smape 6.91: \n",
            "Model Number: 32 of 292 with model NVAR for Validation 3\n",
            "32 - NVAR with avg smape 6.91: \n",
            "Model Number: 33 of 292 with model NVAR for Validation 3\n",
            "33 - NVAR with avg smape 7.1: \n",
            "Model Number: 34 of 292 with model UnobservedComponents for Validation 3\n",
            "34 - UnobservedComponents with avg smape 17.19: \n",
            "Model Number: 35 of 292 with model UnobservedComponents for Validation 3\n",
            "35 - UnobservedComponents with avg smape 17.19: \n",
            "Model Number: 36 of 292 with model UnobservedComponents for Validation 3\n",
            "36 - UnobservedComponents with avg smape 17.19: \n",
            "Model Number: 37 of 292 with model MultivariateRegression for Validation 3\n",
            "37 - MultivariateRegression with avg smape 19.71: \n",
            "Model Number: 38 of 292 with model Ensemble for Validation 3\n",
            "38 - Ensemble with avg smape 10.08: \n",
            "Model Number: 39 of 292 with model MultivariateRegression for Validation 3\n",
            "39 - MultivariateRegression with avg smape 20.13: \n",
            "Model Number: 40 of 292 with model NVAR for Validation 3\n",
            "40 - NVAR with avg smape 6.48: \n",
            "Model Number: 41 of 292 with model UnobservedComponents for Validation 3\n",
            "41 - UnobservedComponents with avg smape 21.54: \n",
            "Model Number: 42 of 292 with model UnobservedComponents for Validation 3\n",
            "42 - UnobservedComponents with avg smape 22.62: \n",
            "Model Number: 43 of 292 with model NVAR for Validation 3\n",
            "43 - NVAR with avg smape 23.53: \n",
            "Model Number: 44 of 292 with model UnobservedComponents for Validation 3\n",
            "44 - UnobservedComponents with avg smape 21.33: \n",
            "Model Number: 45 of 292 with model UnobservedComponents for Validation 3\n",
            "45 - UnobservedComponents with avg smape 17.68: \n",
            "Model Number: 46 of 292 with model NVAR for Validation 3\n",
            "46 - NVAR with avg smape 7.19: \n",
            "Model Number: 47 of 292 with model NVAR for Validation 3\n",
            "47 - NVAR with avg smape 7.19: \n",
            "Model Number: 48 of 292 with model NVAR for Validation 3\n",
            "48 - NVAR with avg smape 7.2: \n",
            "Model Number: 49 of 292 with model NVAR for Validation 3\n",
            "49 - NVAR with avg smape 7.4: \n",
            "Model Number: 50 of 292 with model LastValueNaive for Validation 3\n",
            "50 - LastValueNaive with avg smape 51.86: \n",
            "Model Number: 51 of 292 with model UnobservedComponents for Validation 3\n",
            "51 - UnobservedComponents with avg smape 16.66: \n",
            "Model Number: 52 of 292 with model UnobservedComponents for Validation 3\n",
            "52 - UnobservedComponents with avg smape 17.85: \n",
            "Model Number: 53 of 292 with model UnivariateMotif for Validation 3\n",
            "53 - UnivariateMotif with avg smape 23.54: \n",
            "Model Number: 54 of 292 with model SeasonalityMotif for Validation 3\n",
            "54 - SeasonalityMotif with avg smape 9.26: \n",
            "Model Number: 55 of 292 with model AverageValueNaive for Validation 3\n",
            "55 - AverageValueNaive with avg smape 20.37: \n",
            "Model Number: 56 of 292 with model AverageValueNaive for Validation 3\n",
            "56 - AverageValueNaive with avg smape 20.37: \n",
            "Model Number: 57 of 292 with model AverageValueNaive for Validation 3\n",
            "57 - AverageValueNaive with avg smape 20.37: \n",
            "Model Number: 58 of 292 with model AverageValueNaive for Validation 3\n",
            "58 - AverageValueNaive with avg smape 20.37: \n",
            "Model Number: 59 of 292 with model AverageValueNaive for Validation 3\n",
            "59 - AverageValueNaive with avg smape 20.37: \n",
            "Model Number: 60 of 292 with model SeasonalityMotif for Validation 3\n",
            "60 - SeasonalityMotif with avg smape 9.3: \n",
            "Model Number: 61 of 292 with model SeasonalityMotif for Validation 3\n",
            "61 - SeasonalityMotif with avg smape 9.3: \n",
            "Model Number: 62 of 292 with model SeasonalityMotif for Validation 3\n",
            "62 - SeasonalityMotif with avg smape 9.3: \n",
            "Model Number: 63 of 292 with model SeasonalityMotif for Validation 3\n",
            "63 - SeasonalityMotif with avg smape 8.72: \n",
            "Model Number: 64 of 292 with model SeasonalityMotif for Validation 3\n",
            "64 - SeasonalityMotif with avg smape 8.61: \n",
            "Model Number: 65 of 292 with model SeasonalityMotif for Validation 3\n",
            "65 - SeasonalityMotif with avg smape 8.61: \n",
            "Model Number: 66 of 292 with model SeasonalityMotif for Validation 3\n",
            "66 - SeasonalityMotif with avg smape 8.61: \n",
            "Model Number: 67 of 292 with model UnobservedComponents for Validation 3\n",
            "67 - UnobservedComponents with avg smape 8.48: \n",
            "Model Number: 68 of 292 with model ARIMA for Validation 3\n",
            "68 - ARIMA with avg smape 21.28: \n",
            "Model Number: 69 of 292 with model ARIMA for Validation 3\n",
            "69 - ARIMA with avg smape 21.28: \n",
            "Model Number: 70 of 292 with model LastValueNaive for Validation 3\n",
            "70 - LastValueNaive with avg smape 13.94: \n",
            "Model Number: 71 of 292 with model ARDL for Validation 3\n",
            "71 - ARDL with avg smape 23.47: \n",
            "Model Number: 72 of 292 with model SeasonalNaive for Validation 3\n",
            "72 - SeasonalNaive with avg smape 9.88: \n",
            "Model Number: 73 of 292 with model ETS for Validation 3\n",
            "73 - ETS with avg smape 12.7: \n",
            "Model Number: 74 of 292 with model SeasonalNaive for Validation 3\n",
            "74 - SeasonalNaive with avg smape 6.62: \n",
            "Model Number: 75 of 292 with model LastValueNaive for Validation 3\n",
            "75 - LastValueNaive with avg smape 54.83: \n",
            "Model Number: 76 of 292 with model LastValueNaive for Validation 3\n",
            "76 - LastValueNaive with avg smape 16.62: \n",
            "Model Number: 77 of 292 with model LastValueNaive for Validation 3\n",
            "77 - LastValueNaive with avg smape 16.62: \n",
            "Model Number: 78 of 292 with model LastValueNaive for Validation 3\n",
            "78 - LastValueNaive with avg smape 54.04: \n",
            "Model Number: 79 of 292 with model SeasonalityMotif for Validation 3\n",
            "79 - SeasonalityMotif with avg smape 6.92: \n",
            "Model Number: 80 of 292 with model AverageValueNaive for Validation 3\n",
            "80 - AverageValueNaive with avg smape 16.54: \n",
            "Model Number: 81 of 292 with model MultivariateRegression for Validation 3\n",
            "81 - MultivariateRegression with avg smape 18.68: \n",
            "Model Number: 82 of 292 with model UnivariateRegression for Validation 3\n",
            "82 - UnivariateRegression with avg smape 17.8: \n",
            "Model Number: 83 of 292 with model UnivariateRegression for Validation 3\n",
            "83 - UnivariateRegression with avg smape 11.13: \n"
          ]
        },
        {
          "name": "stderr",
          "output_type": "stream",
          "text": [
            "/usr/local/lib/python3.10/dist-packages/autots/tools/percentile.py:47: RuntimeWarning:\n",
            "\n",
            "All-NaN slice encountered\n",
            "\n",
            "/usr/local/lib/python3.10/dist-packages/autots/tools/percentile.py:47: RuntimeWarning:\n",
            "\n",
            "All-NaN slice encountered\n",
            "\n"
          ]
        },
        {
          "name": "stdout",
          "output_type": "stream",
          "text": [
            "Model Number: 84 of 292 with model ETS for Validation 3\n",
            "84 - ETS with avg smape 11.54: \n",
            "Model Number: 85 of 292 with model MultivariateRegression for Validation 3\n",
            "85 - MultivariateRegression with avg smape 13.07: \n",
            "Model Number: 86 of 292 with model ETS for Validation 3\n",
            "86 - ETS with avg smape 11.27: \n",
            "Model Number: 87 of 292 with model ETS for Validation 3\n",
            "87 - ETS with avg smape 11.27: \n",
            "Model Number: 88 of 292 with model ETS for Validation 3\n",
            "88 - ETS with avg smape 11.27: \n",
            "Model Number: 89 of 292 with model ETS for Validation 3\n",
            "89 - ETS with avg smape 11.27: \n",
            "Model Number: 90 of 292 with model ETS for Validation 3\n",
            "90 - ETS with avg smape 11.27: \n",
            "Model Number: 91 of 292 with model UnivariateRegression for Validation 3\n",
            "91 - UnivariateRegression with avg smape 16.14: \n",
            "Model Number: 92 of 292 with model UnivariateRegression for Validation 3\n"
          ]
        },
        {
          "name": "stderr",
          "output_type": "stream",
          "text": [
            "/usr/local/lib/python3.10/dist-packages/autots/tools/percentile.py:47: RuntimeWarning:\n",
            "\n",
            "All-NaN slice encountered\n",
            "\n"
          ]
        },
        {
          "name": "stdout",
          "output_type": "stream",
          "text": [
            "92 - UnivariateRegression with avg smape 10.03: \n",
            "Model Number: 93 of 292 with model AverageValueNaive for Validation 3\n",
            "93 - AverageValueNaive with avg smape 19.49: \n",
            "Model Number: 94 of 292 with model SeasonalNaive for Validation 3\n",
            "94 - SeasonalNaive with avg smape 20.21: \n",
            "Model Number: 95 of 292 with model MultivariateRegression for Validation 3\n",
            "95 - MultivariateRegression with avg smape 12.63: \n",
            "Model Number: 96 of 292 with model UnivariateRegression for Validation 3\n",
            "96 - UnivariateRegression with avg smape 17.8: \n",
            "Model Number: 97 of 292 with model UnivariateRegression for Validation 3\n",
            "97 - UnivariateRegression with avg smape 17.8: \n",
            "Model Number: 98 of 292 with model UnivariateRegression for Validation 3\n",
            "98 - UnivariateRegression with avg smape 10.69: \n",
            "Model Number: 99 of 292 with model MultivariateRegression for Validation 3\n",
            "99 - MultivariateRegression with avg smape 13.22: \n",
            "Model Number: 100 of 292 with model MultivariateRegression for Validation 3\n",
            "100 - MultivariateRegression with avg smape 17.2: \n",
            "Model Number: 101 of 292 with model UnivariateRegression for Validation 3\n",
            "101 - UnivariateRegression with avg smape 10.44: \n",
            "Model Number: 102 of 292 with model UnivariateRegression for Validation 3\n",
            "102 - UnivariateRegression with avg smape 10.44: \n",
            "Model Number: 103 of 292 with model ARIMA for Validation 3\n",
            "103 - ARIMA with avg smape 20.84: \n",
            "Model Number: 104 of 292 with model ARIMA for Validation 3\n",
            "104 - ARIMA with avg smape 21.73: \n",
            "Model Number: 105 of 292 with model SeasonalityMotif for Validation 3\n",
            "105 - SeasonalityMotif with avg smape 26.34: \n",
            "Model Number: 106 of 292 with model SeasonalityMotif for Validation 3\n",
            "106 - SeasonalityMotif with avg smape 26.34: \n",
            "Model Number: 107 of 292 with model LastValueNaive for Validation 3\n",
            "107 - LastValueNaive with avg smape 54.13: \n",
            "Model Number: 108 of 292 with model LastValueNaive for Validation 3\n",
            "108 - LastValueNaive with avg smape 54.13: \n",
            "Model Number: 109 of 292 with model ETS for Validation 3\n",
            "109 - ETS with avg smape 10.74: \n",
            "Model Number: 110 of 292 with model MultivariateRegression for Validation 3\n",
            "110 - MultivariateRegression with avg smape 14.29: \n",
            "Model Number: 111 of 292 with model MultivariateRegression for Validation 3\n",
            "111 - MultivariateRegression with avg smape 14.5: \n",
            "Model Number: 112 of 292 with model SeasonalNaive for Validation 3\n",
            "112 - SeasonalNaive with avg smape 18.52: \n",
            "Model Number: 113 of 292 with model MultivariateRegression for Validation 3\n",
            "113 - MultivariateRegression with avg smape 14.49: \n",
            "Model Number: 114 of 292 with model SeasonalityMotif for Validation 3\n",
            "114 - SeasonalityMotif with avg smape 6.08: \n",
            "Model Number: 115 of 292 with model ARIMA for Validation 3\n",
            "115 - ARIMA with avg smape 23.41: \n",
            "Model Number: 116 of 292 with model ETS for Validation 3\n",
            "116 - ETS with avg smape 11.75: \n",
            "Model Number: 117 of 292 with model ETS for Validation 3\n",
            "117 - ETS with avg smape 11.05: \n",
            "Model Number: 118 of 292 with model Theta for Validation 3\n",
            "118 - Theta with avg smape 13.43: \n",
            "Model Number: 119 of 292 with model Theta for Validation 3\n",
            "119 - Theta with avg smape 13.45: \n",
            "Model Number: 120 of 292 with model Theta for Validation 3\n",
            "120 - Theta with avg smape 13.45: \n",
            "Model Number: 121 of 292 with model Theta for Validation 3\n",
            "121 - Theta with avg smape 13.45: \n",
            "Model Number: 122 of 292 with model Theta for Validation 3\n",
            "122 - Theta with avg smape 13.45: \n",
            "Model Number: 123 of 292 with model SeasonalityMotif for Validation 3\n",
            "123 - SeasonalityMotif with avg smape 10.4: \n",
            "Model Number: 124 of 292 with model ETS for Validation 3\n",
            "124 - ETS with avg smape 31.65: \n",
            "Model Number: 125 of 292 with model Theta for Validation 3\n",
            "125 - Theta with avg smape 13.43: \n",
            "Model Number: 126 of 292 with model Theta for Validation 3\n",
            "126 - Theta with avg smape 12.23: \n",
            "Model Number: 127 of 292 with model Theta for Validation 3\n",
            "127 - Theta with avg smape 12.26: \n",
            "Model Number: 128 of 292 with model ARIMA for Validation 3\n",
            "128 - ARIMA with avg smape 21.34: \n",
            "Model Number: 129 of 292 with model Theta for Validation 3\n",
            "129 - Theta with avg smape 12.73: \n",
            "Model Number: 130 of 292 with model Theta for Validation 3\n",
            "130 - Theta with avg smape 12.75: \n",
            "Model Number: 131 of 292 with model ARIMA for Validation 3\n",
            "131 - ARIMA with avg smape 24.12: \n",
            "Model Number: 132 of 292 with model ARIMA for Validation 3\n",
            "132 - ARIMA with avg smape 22.51: \n",
            "Model Number: 133 of 292 with model SeasonalNaive for Validation 3\n",
            "133 - SeasonalNaive with avg smape 6.06: \n",
            "Model Number: 134 of 292 with model WindowRegression for Validation 3\n",
            "134 - WindowRegression with avg smape 14.3: \n",
            "Model Number: 135 of 292 with model SeasonalNaive for Validation 3\n"
          ]
        },
        {
          "name": "stderr",
          "output_type": "stream",
          "text": [
            "/usr/local/lib/python3.10/dist-packages/sklearn/neural_network/_multilayer_perceptron.py:541: ConvergenceWarning:\n",
            "\n",
            "lbfgs failed to converge (status=1):\n",
            "STOP: TOTAL NO. of ITERATIONS REACHED LIMIT.\n",
            "\n",
            "Increase the number of iterations (max_iter) or scale the data as shown in:\n",
            "    https://scikit-learn.org/stable/modules/preprocessing.html\n",
            "\n"
          ]
        },
        {
          "name": "stdout",
          "output_type": "stream",
          "text": [
            "135 - SeasonalNaive with avg smape 11.33: \n",
            "Model Number: 136 of 292 with model SeasonalNaive for Validation 3\n",
            "📈 136 - SeasonalNaive with avg smape 3.42: \n",
            "Model Number: 137 of 292 with model ARIMA for Validation 3\n",
            "137 - ARIMA with avg smape 21.52: \n",
            "Model Number: 138 of 292 with model ARIMA for Validation 3\n",
            "138 - ARIMA with avg smape 21.89: \n",
            "Model Number: 139 of 292 with model ARDL for Validation 3\n",
            "📈 139 - ARDL with avg smape 3.03: \n",
            "Model Number: 140 of 292 with model ARIMA for Validation 3\n",
            "140 - ARIMA with avg smape 22.06: \n",
            "Model Number: 141 of 292 with model LastValueNaive for Validation 3\n",
            "141 - LastValueNaive with avg smape 38.43: \n",
            "Model Number: 142 of 292 with model LastValueNaive for Validation 3\n",
            "142 - LastValueNaive with avg smape 38.43: \n",
            "Model Number: 143 of 292 with model ETS for Validation 3\n",
            "143 - ETS with avg smape 10.18: \n",
            "Model Number: 144 of 292 with model LastValueNaive for Validation 3\n",
            "144 - LastValueNaive with avg smape 161.61: \n",
            "Model Number: 145 of 292 with model GLM for Validation 3\n",
            "145 - GLM with avg smape 42.69: \n",
            "Model Number: 146 of 292 with model GLM for Validation 3\n"
          ]
        },
        {
          "name": "stderr",
          "output_type": "stream",
          "text": [
            "/usr/local/lib/python3.10/dist-packages/statsmodels/genmod/families/family.py:1367: ValueWarning:\n",
            "\n",
            "Negative binomial dispersion parameter alpha not set. Using default value alpha=1.0.\n",
            "\n",
            "/usr/local/lib/python3.10/dist-packages/statsmodels/genmod/families/family.py:1367: ValueWarning:\n",
            "\n",
            "Negative binomial dispersion parameter alpha not set. Using default value alpha=1.0.\n",
            "\n"
          ]
        },
        {
          "name": "stdout",
          "output_type": "stream",
          "text": [
            "146 - GLM with avg smape 42.69: \n",
            "Model Number: 147 of 292 with model ARDL for Validation 3\n",
            "147 - ARDL with avg smape 16.84: \n",
            "Model Number: 148 of 292 with model UnivariateMotif for Validation 3\n",
            "148 - UnivariateMotif with avg smape 29.64: \n",
            "Model Number: 149 of 292 with model UnivariateRegression for Validation 3\n",
            "149 - UnivariateRegression with avg smape 28.08: \n",
            "Model Number: 150 of 292 with model UnivariateRegression for Validation 3\n"
          ]
        },
        {
          "name": "stderr",
          "output_type": "stream",
          "text": [
            "/usr/local/lib/python3.10/dist-packages/sklearn/neighbors/_classification.py:215: DataConversionWarning:\n",
            "\n",
            "A column-vector y was passed when a 1d array was expected. Please change the shape of y to (n_samples,), for example using ravel().\n",
            "\n"
          ]
        },
        {
          "name": "stdout",
          "output_type": "stream",
          "text": [
            "150 - UnivariateRegression with avg smape 28.08: \n",
            "Model Number: 151 of 292 with model UnivariateRegression for Validation 3\n",
            "151 - UnivariateRegression with avg smape 17.47: \n",
            "Model Number: 152 of 292 with model UnivariateRegression for Validation 3\n",
            "152 - UnivariateRegression with avg smape 17.47: \n",
            "Model Number: 153 of 292 with model SeasonalNaive for Validation 3\n",
            "153 - SeasonalNaive with avg smape 6.44: \n",
            "Model Number: 154 of 292 with model SeasonalNaive for Validation 3\n",
            "154 - SeasonalNaive with avg smape 39.24: \n",
            "Model Number: 155 of 292 with model AverageValueNaive for Validation 3\n",
            "155 - AverageValueNaive with avg smape 22.63: \n",
            "Model Number: 156 of 292 with model AverageValueNaive for Validation 3\n",
            "156 - AverageValueNaive with avg smape 22.66: \n",
            "Model Number: 157 of 292 with model AverageValueNaive for Validation 3\n",
            "157 - AverageValueNaive with avg smape 22.66: \n",
            "Model Number: 158 of 292 with model ARIMA for Validation 3\n",
            "158 - ARIMA with avg smape 24.27: \n",
            "Model Number: 159 of 292 with model AverageValueNaive for Validation 3\n",
            "159 - AverageValueNaive with avg smape 22.75: \n",
            "Model Number: 160 of 292 with model AverageValueNaive for Validation 3\n",
            "160 - AverageValueNaive with avg smape 22.75: \n",
            "Model Number: 161 of 292 with model ETS for Validation 3\n",
            "161 - ETS with avg smape 12.24: \n",
            "Model Number: 162 of 292 with model AverageValueNaive for Validation 3\n",
            "162 - AverageValueNaive with avg smape 22.69: \n",
            "Model Number: 163 of 292 with model MetricMotif for Validation 3\n",
            "163 - MetricMotif with avg smape 33.99: \n",
            "Model Number: 164 of 292 with model MetricMotif for Validation 3\n",
            "164 - MetricMotif with avg smape 36.55: \n",
            "Model Number: 165 of 292 with model MetricMotif for Validation 3\n",
            "165 - MetricMotif with avg smape 36.55: \n",
            "Model Number: 166 of 292 with model Theta for Validation 3\n",
            "166 - Theta with avg smape 15.66: \n",
            "Model Number: 167 of 292 with model UnivariateMotif for Validation 3\n",
            "167 - UnivariateMotif with avg smape 33.03: \n",
            "Model Number: 168 of 292 with model Theta for Validation 3\n",
            "168 - Theta with avg smape 15.16: \n",
            "Model Number: 169 of 292 with model ARDL for Validation 3\n",
            "169 - ARDL with avg smape 13.52: \n",
            "Model Number: 170 of 292 with model MultivariateMotif for Validation 3\n",
            "170 - MultivariateMotif with avg smape 30.16: \n",
            "Model Number: 171 of 292 with model UnivariateMotif for Validation 3\n",
            "171 - UnivariateMotif with avg smape 36.74: \n",
            "Model Number: 172 of 292 with model UnivariateMotif for Validation 3\n",
            "172 - UnivariateMotif with avg smape 32.92: \n",
            "Model Number: 173 of 292 with model UnivariateMotif for Validation 3\n",
            "173 - UnivariateMotif with avg smape 32.92: \n",
            "Model Number: 174 of 292 with model Theta for Validation 3\n",
            "174 - Theta with avg smape 15.2: \n",
            "Model Number: 175 of 292 with model UnivariateMotif for Validation 3\n",
            "175 - UnivariateMotif with avg smape 30.65: \n",
            "Model Number: 176 of 292 with model MetricMotif for Validation 3\n",
            "176 - MetricMotif with avg smape 31.67: \n",
            "Model Number: 177 of 292 with model ARDL for Validation 3\n",
            "177 - ARDL with avg smape 5.23: \n",
            "Model Number: 178 of 292 with model MetricMotif for Validation 3\n",
            "178 - MetricMotif with avg smape 31.7: \n",
            "Model Number: 179 of 292 with model MetricMotif for Validation 3\n",
            "179 - MetricMotif with avg smape 31.7: \n",
            "Model Number: 180 of 292 with model MetricMotif for Validation 3\n",
            "180 - MetricMotif with avg smape 31.84: \n",
            "Model Number: 181 of 292 with model MetricMotif for Validation 3\n",
            "181 - MetricMotif with avg smape 31.87: \n",
            "Model Number: 182 of 292 with model UnivariateMotif for Validation 3\n",
            "182 - UnivariateMotif with avg smape 15.12: \n",
            "Model Number: 183 of 292 with model MetricMotif for Validation 3\n",
            "183 - MetricMotif with avg smape 31.7: \n",
            "Model Number: 184 of 292 with model MetricMotif for Validation 3\n",
            "184 - MetricMotif with avg smape 31.84: \n",
            "Model Number: 185 of 292 with model UnivariateMotif for Validation 3\n",
            "185 - UnivariateMotif with avg smape 28.08: \n",
            "Model Number: 186 of 292 with model SeasonalNaive for Validation 3\n",
            "186 - SeasonalNaive with avg smape 14.45: \n",
            "Model Number: 187 of 292 with model UnivariateMotif for Validation 3\n",
            "187 - UnivariateMotif with avg smape 28.08: \n",
            "Model Number: 188 of 292 with model UnivariateMotif for Validation 3\n",
            "188 - UnivariateMotif with avg smape 28.08: \n",
            "Model Number: 189 of 292 with model GLS for Validation 3\n",
            "189 - GLS with avg smape 5.53: \n",
            "Model Number: 190 of 292 with model MultivariateMotif for Validation 3\n",
            "190 - MultivariateMotif with avg smape 28.08: \n",
            "Model Number: 191 of 292 with model MultivariateMotif for Validation 3\n",
            "191 - MultivariateMotif with avg smape 26.31: \n",
            "Model Number: 192 of 292 with model ARDL for Validation 3\n",
            "192 - ARDL with avg smape 5.72: \n",
            "Model Number: 193 of 292 with model ARIMA for Validation 3\n",
            "193 - ARIMA with avg smape 28.51: \n",
            "Model Number: 194 of 292 with model MultivariateMotif for Validation 3\n",
            "194 - MultivariateMotif with avg smape 31.48: \n",
            "Model Number: 195 of 292 with model MetricMotif for Validation 3\n",
            "195 - MetricMotif with avg smape 31.67: \n",
            "Model Number: 196 of 292 with model MetricMotif for Validation 3\n",
            "196 - MetricMotif with avg smape 31.67: \n",
            "Model Number: 197 of 292 with model GLS for Validation 3\n",
            "197 - GLS with avg smape 7.88: \n",
            "Model Number: 198 of 292 with model ARDL for Validation 3\n",
            "198 - ARDL with avg smape 15.01: \n",
            "Model Number: 199 of 292 with model MetricMotif for Validation 3\n",
            "199 - MetricMotif with avg smape 32.04: \n",
            "Model Number: 200 of 292 with model SeasonalNaive for Validation 3\n",
            "200 - SeasonalNaive with avg smape 10.59: \n",
            "Model Number: 201 of 292 with model SeasonalNaive for Validation 3\n",
            "201 - SeasonalNaive with avg smape 14.56: \n",
            "Model Number: 202 of 292 with model ARDL for Validation 3\n",
            "202 - ARDL with avg smape 3.19: \n",
            "Model Number: 203 of 292 with model SeasonalNaive for Validation 3\n",
            "203 - SeasonalNaive with avg smape 13.04: \n",
            "Model Number: 204 of 292 with model UnivariateMotif for Validation 3\n",
            "204 - UnivariateMotif with avg smape 4.1: \n",
            "Model Number: 205 of 292 with model MultivariateMotif for Validation 3\n",
            "205 - MultivariateMotif with avg smape 8.64: \n",
            "Model Number: 206 of 292 with model LastValueNaive for Validation 3\n",
            "206 - LastValueNaive with avg smape 14.4: \n",
            "Model Number: 207 of 292 with model ARDL for Validation 3\n",
            "207 - ARDL with avg smape 12.1: \n",
            "Model Number: 208 of 292 with model WindowRegression for Validation 3\n"
          ]
        },
        {
          "name": "stderr",
          "output_type": "stream",
          "text": [
            "/usr/local/lib/python3.10/dist-packages/sklearn/neural_network/_multilayer_perceptron.py:541: ConvergenceWarning:\n",
            "\n",
            "lbfgs failed to converge (status=1):\n",
            "STOP: TOTAL NO. of ITERATIONS REACHED LIMIT.\n",
            "\n",
            "Increase the number of iterations (max_iter) or scale the data as shown in:\n",
            "    https://scikit-learn.org/stable/modules/preprocessing.html\n",
            "\n"
          ]
        },
        {
          "name": "stdout",
          "output_type": "stream",
          "text": [
            "208 - WindowRegression with avg smape 21.09: \n",
            "Model Number: 209 of 292 with model GLM for Validation 3\n",
            "209 - GLM with avg smape 43.15: \n",
            "Model Number: 210 of 292 with model WindowRegression for Validation 3\n",
            "210 - WindowRegression with avg smape 12.35: \n",
            "Model Number: 211 of 292 with model WindowRegression for Validation 3\n",
            "211 - WindowRegression with avg smape 15.8: \n",
            "Model Number: 212 of 292 with model MultivariateMotif for Validation 3\n",
            "212 - MultivariateMotif with avg smape 9.53: \n",
            "Model Number: 213 of 292 with model UnivariateMotif for Validation 3\n"
          ]
        },
        {
          "name": "stderr",
          "output_type": "stream",
          "text": [
            "/usr/local/lib/python3.10/dist-packages/sklearn/neural_network/_multilayer_perceptron.py:541: ConvergenceWarning:\n",
            "\n",
            "lbfgs failed to converge (status=1):\n",
            "STOP: TOTAL NO. of ITERATIONS REACHED LIMIT.\n",
            "\n",
            "Increase the number of iterations (max_iter) or scale the data as shown in:\n",
            "    https://scikit-learn.org/stable/modules/preprocessing.html\n",
            "\n"
          ]
        },
        {
          "name": "stdout",
          "output_type": "stream",
          "text": [
            "213 - UnivariateMotif with avg smape 28.53: \n",
            "Model Number: 214 of 292 with model WindowRegression for Validation 3\n",
            "214 - WindowRegression with avg smape 18.68: \n",
            "Model Number: 215 of 292 with model GLS for Validation 3\n",
            "215 - GLS with avg smape 7.84: \n",
            "Model Number: 216 of 292 with model DatepartRegression for Validation 3\n",
            "216 - DatepartRegression with avg smape 9.01: \n",
            "Model Number: 217 of 292 with model MultivariateMotif for Validation 3\n"
          ]
        },
        {
          "name": "stderr",
          "output_type": "stream",
          "text": [
            "/usr/local/lib/python3.10/dist-packages/sklearn/neural_network/_multilayer_perceptron.py:541: ConvergenceWarning:\n",
            "\n",
            "lbfgs failed to converge (status=1):\n",
            "STOP: TOTAL NO. of ITERATIONS REACHED LIMIT.\n",
            "\n",
            "Increase the number of iterations (max_iter) or scale the data as shown in:\n",
            "    https://scikit-learn.org/stable/modules/preprocessing.html\n",
            "\n"
          ]
        },
        {
          "name": "stdout",
          "output_type": "stream",
          "text": [
            "217 - MultivariateMotif with avg smape 14.08: \n",
            "Model Number: 218 of 292 with model MultivariateMotif for Validation 3\n",
            "218 - MultivariateMotif with avg smape 14.02: \n",
            "Model Number: 219 of 292 with model GLS for Validation 3\n",
            "219 - GLS with avg smape 5.09: \n",
            "Model Number: 220 of 292 with model GLS for Validation 3\n",
            "220 - GLS with avg smape 5.09: \n",
            "Model Number: 221 of 292 with model MultivariateMotif for Validation 3\n",
            "221 - MultivariateMotif with avg smape 12.11: \n",
            "Model Number: 222 of 292 with model WindowRegression for Validation 3\n",
            "222 - WindowRegression with avg smape 15.06: \n",
            "Model Number: 223 of 292 with model ARDL for Validation 3\n"
          ]
        },
        {
          "name": "stderr",
          "output_type": "stream",
          "text": [
            "/usr/local/lib/python3.10/dist-packages/sklearn/neural_network/_multilayer_perceptron.py:541: ConvergenceWarning:\n",
            "\n",
            "lbfgs failed to converge (status=1):\n",
            "STOP: TOTAL NO. of ITERATIONS REACHED LIMIT.\n",
            "\n",
            "Increase the number of iterations (max_iter) or scale the data as shown in:\n",
            "    https://scikit-learn.org/stable/modules/preprocessing.html\n",
            "\n"
          ]
        },
        {
          "name": "stdout",
          "output_type": "stream",
          "text": [
            "223 - ARDL with avg smape 14.29: \n",
            "Model Number: 224 of 292 with model WindowRegression for Validation 3\n",
            "224 - WindowRegression with avg smape 15.66: \n",
            "Model Number: 225 of 292 with model GLS for Validation 3\n",
            "225 - GLS with avg smape 8.87: \n",
            "Model Number: 226 of 292 with model WindowRegression for Validation 3\n"
          ]
        },
        {
          "name": "stderr",
          "output_type": "stream",
          "text": [
            "/usr/local/lib/python3.10/dist-packages/sklearn/neural_network/_multilayer_perceptron.py:541: ConvergenceWarning:\n",
            "\n",
            "lbfgs failed to converge (status=1):\n",
            "STOP: TOTAL NO. of ITERATIONS REACHED LIMIT.\n",
            "\n",
            "Increase the number of iterations (max_iter) or scale the data as shown in:\n",
            "    https://scikit-learn.org/stable/modules/preprocessing.html\n",
            "\n"
          ]
        },
        {
          "name": "stdout",
          "output_type": "stream",
          "text": [
            "226 - WindowRegression with avg smape 11.21: \n",
            "Model Number: 227 of 292 with model WindowRegression for Validation 3\n",
            "227 - WindowRegression with avg smape 14.64: \n",
            "Model Number: 228 of 292 with model DatepartRegression for Validation 3\n",
            "228 - DatepartRegression with avg smape 8.99: \n",
            "Model Number: 229 of 292 with model MultivariateMotif for Validation 3\n",
            "229 - MultivariateMotif with avg smape 17.65: \n",
            "Model Number: 230 of 292 with model ARDL for Validation 3\n",
            "230 - ARDL with avg smape 3.16: \n",
            "Model Number: 231 of 292 with model MultivariateMotif for Validation 3\n"
          ]
        },
        {
          "name": "stderr",
          "output_type": "stream",
          "text": [
            "/usr/local/lib/python3.10/dist-packages/sklearn/neural_network/_multilayer_perceptron.py:541: ConvergenceWarning:\n",
            "\n",
            "lbfgs failed to converge (status=1):\n",
            "STOP: TOTAL NO. of ITERATIONS REACHED LIMIT.\n",
            "\n",
            "Increase the number of iterations (max_iter) or scale the data as shown in:\n",
            "    https://scikit-learn.org/stable/modules/preprocessing.html\n",
            "\n"
          ]
        },
        {
          "name": "stdout",
          "output_type": "stream",
          "text": [
            "231 - MultivariateMotif with avg smape 15.58: \n",
            "Model Number: 232 of 292 with model ARDL for Validation 3\n",
            "232 - ARDL with avg smape 15.79: \n",
            "Model Number: 233 of 292 with model ARDL for Validation 3\n",
            "233 - ARDL with avg smape 17.61: \n",
            "Model Number: 234 of 292 with model GLS for Validation 3\n",
            "234 - GLS with avg smape 7.92: \n",
            "Model Number: 235 of 292 with model WindowRegression for Validation 3\n",
            "235 - WindowRegression with avg smape 9.74: \n",
            "Model Number: 236 of 292 with model DatepartRegression for Validation 3\n"
          ]
        },
        {
          "name": "stderr",
          "output_type": "stream",
          "text": [
            "/usr/local/lib/python3.10/dist-packages/sklearn/neural_network/_multilayer_perceptron.py:686: ConvergenceWarning:\n",
            "\n",
            "Stochastic Optimizer: Maximum iterations (250) reached and the optimization hasn't converged yet.\n",
            "\n"
          ]
        },
        {
          "name": "stdout",
          "output_type": "stream",
          "text": [
            "236 - DatepartRegression with avg smape 9.74: \n",
            "Model Number: 237 of 292 with model WindowRegression for Validation 3\n",
            "237 - WindowRegression with avg smape 13.51: \n",
            "Model Number: 238 of 292 with model MultivariateMotif for Validation 3\n",
            "238 - MultivariateMotif with avg smape 8.41: \n",
            "Model Number: 239 of 292 with model GLS for Validation 3\n",
            "239 - GLS with avg smape 7.53: \n",
            "Model Number: 240 of 292 with model GLS for Validation 3\n"
          ]
        },
        {
          "name": "stderr",
          "output_type": "stream",
          "text": [
            "/usr/local/lib/python3.10/dist-packages/sklearn/neural_network/_multilayer_perceptron.py:541: ConvergenceWarning:\n",
            "\n",
            "lbfgs failed to converge (status=1):\n",
            "STOP: TOTAL NO. of ITERATIONS REACHED LIMIT.\n",
            "\n",
            "Increase the number of iterations (max_iter) or scale the data as shown in:\n",
            "    https://scikit-learn.org/stable/modules/preprocessing.html\n",
            "\n"
          ]
        },
        {
          "name": "stdout",
          "output_type": "stream",
          "text": [
            "240 - GLS with avg smape 9.71: \n",
            "Model Number: 241 of 292 with model GLS for Validation 3\n",
            "241 - GLS with avg smape 11.45: \n",
            "Model Number: 242 of 292 with model DatepartRegression for Validation 3\n",
            "242 - DatepartRegression with avg smape 14.79: \n",
            "Model Number: 243 of 292 with model WindowRegression for Validation 3\n",
            "243 - WindowRegression with avg smape 6.77: \n",
            "Model Number: 244 of 292 with model WindowRegression for Validation 3\n",
            "244 - WindowRegression with avg smape 9.74: \n",
            "Model Number: 245 of 292 with model ConstantNaive for Validation 3\n",
            "245 - ConstantNaive with avg smape 32.65: \n",
            "Model Number: 246 of 292 with model ConstantNaive for Validation 3\n",
            "246 - ConstantNaive with avg smape 32.65: \n",
            "Model Number: 247 of 292 with model GLM for Validation 3\n",
            "247 - GLM with avg smape 9.17: \n",
            "Model Number: 248 of 292 with model GLS for Validation 3\n",
            "248 - GLS with avg smape 9.68: \n",
            "Model Number: 249 of 292 with model GLS for Validation 3\n",
            "249 - GLS with avg smape 9.71: \n",
            "Model Number: 250 of 292 with model GLS for Validation 3\n",
            "250 - GLS with avg smape 9.71: \n",
            "Model Number: 251 of 292 with model GLM for Validation 3\n",
            "251 - GLM with avg smape 9.68: \n",
            "Model Number: 252 of 292 with model ConstantNaive for Validation 3\n",
            "252 - ConstantNaive with avg smape 14.24: \n",
            "Model Number: 253 of 292 with model DatepartRegression for Validation 3\n",
            "253 - DatepartRegression with avg smape 11.1: \n",
            "Model Number: 254 of 292 with model DatepartRegression for Validation 3\n",
            "254 - DatepartRegression with avg smape 9.73: \n",
            "Model Number: 255 of 292 with model MultivariateMotif for Validation 3\n",
            "255 - MultivariateMotif with avg smape 8.74: \n",
            "Model Number: 256 of 292 with model ConstantNaive for Validation 3\n",
            "256 - ConstantNaive with avg smape 14.02: \n",
            "Model Number: 257 of 292 with model ConstantNaive for Validation 3\n",
            "257 - ConstantNaive with avg smape 14.02: \n",
            "Model Number: 258 of 292 with model DatepartRegression for Validation 3\n",
            "258 - DatepartRegression with avg smape 10.91: \n",
            "Model Number: 259 of 292 with model DatepartRegression for Validation 3\n",
            "259 - DatepartRegression with avg smape 10.54: \n",
            "Model Number: 260 of 292 with model DatepartRegression for Validation 3\n",
            "260 - DatepartRegression with avg smape 9.69: \n",
            "Model Number: 261 of 292 with model DatepartRegression for Validation 3\n",
            "261 - DatepartRegression with avg smape 13.27: \n",
            "Model Number: 262 of 292 with model ConstantNaive for Validation 3\n",
            "262 - ConstantNaive with avg smape 10.79: \n",
            "Model Number: 263 of 292 with model ConstantNaive for Validation 3\n",
            "263 - ConstantNaive with avg smape 10.79: \n",
            "Model Number: 264 of 292 with model DatepartRegression for Validation 3\n"
          ]
        },
        {
          "name": "stderr",
          "output_type": "stream",
          "text": [
            "/usr/local/lib/python3.10/dist-packages/sklearn/linear_model/_ridge.py:216: LinAlgWarning:\n",
            "\n",
            "Ill-conditioned matrix (rcond=1.64635e-25): result may not be accurate.\n",
            "\n"
          ]
        },
        {
          "name": "stdout",
          "output_type": "stream",
          "text": [
            "264 - DatepartRegression with avg smape 11.78: \n",
            "Model Number: 265 of 292 with model GLM for Validation 3\n"
          ]
        },
        {
          "name": "stderr",
          "output_type": "stream",
          "text": [
            "/usr/local/lib/python3.10/dist-packages/autots/tools/percentile.py:47: RuntimeWarning:\n",
            "\n",
            "All-NaN slice encountered\n",
            "\n",
            "/usr/local/lib/python3.10/dist-packages/statsmodels/genmod/generalized_linear_model.py:308: DomainWarning:\n",
            "\n",
            "The InversePower link function does not respect the domain of the Gamma family.\n",
            "\n"
          ]
        },
        {
          "name": "stdout",
          "output_type": "stream",
          "text": [
            "265 - GLM with avg smape 19.41: \n",
            "Model Number: 266 of 292 with model SectionalMotif for Validation 3\n",
            "266 - SectionalMotif with avg smape 26.35: \n",
            "Model Number: 267 of 292 with model GLM for Validation 3\n",
            "267 - GLM with avg smape 21.74: \n",
            "Model Number: 268 of 292 with model GLM for Validation 3\n"
          ]
        },
        {
          "name": "stderr",
          "output_type": "stream",
          "text": [
            "/usr/local/lib/python3.10/dist-packages/autots/tools/percentile.py:47: RuntimeWarning:\n",
            "\n",
            "All-NaN slice encountered\n",
            "\n",
            "/usr/local/lib/python3.10/dist-packages/statsmodels/genmod/families/family.py:1367: ValueWarning:\n",
            "\n",
            "Negative binomial dispersion parameter alpha not set. Using default value alpha=1.0.\n",
            "\n"
          ]
        },
        {
          "name": "stdout",
          "output_type": "stream",
          "text": [
            "268 - GLM with avg smape 8.83: \n",
            "Model Number: 269 of 292 with model ConstantNaive for Validation 3\n",
            "269 - ConstantNaive with avg smape 9.74: \n",
            "Model Number: 270 of 292 with model ConstantNaive for Validation 3\n",
            "270 - ConstantNaive with avg smape 9.74: \n",
            "Model Number: 271 of 292 with model ConstantNaive for Validation 3\n",
            "271 - ConstantNaive with avg smape 9.74: \n",
            "Model Number: 272 of 292 with model ConstantNaive for Validation 3\n"
          ]
        },
        {
          "name": "stderr",
          "output_type": "stream",
          "text": [
            "/usr/local/lib/python3.10/dist-packages/statsmodels/genmod/families/links.py:198: RuntimeWarning:\n",
            "\n",
            "overflow encountered in exp\n",
            "\n",
            "/usr/local/lib/python3.10/dist-packages/sklearn/decomposition/_fastica.py:708: FutureWarning:\n",
            "\n",
            "Starting in v1.3, whiten=True should be specified as whiten='arbitrary-variance' (its current behaviour). This behavior is deprecated in 1.1 and will raise ValueError in 1.3.\n",
            "\n"
          ]
        },
        {
          "name": "stdout",
          "output_type": "stream",
          "text": [
            "272 - ConstantNaive with avg smape 9.74: \n",
            "Model Number: 273 of 292 with model ConstantNaive for Validation 3\n",
            "273 - ConstantNaive with avg smape 10.52: \n",
            "Model Number: 274 of 292 with model DatepartRegression for Validation 3\n",
            "274 - DatepartRegression with avg smape 9.89: \n",
            "Model Number: 275 of 292 with model GLM for Validation 3\n",
            "275 - GLM with avg smape 7.75: \n",
            "Model Number: 276 of 292 with model ConstantNaive for Validation 3\n",
            "276 - ConstantNaive with avg smape 15.31: \n",
            "Model Number: 277 of 292 with model SectionalMotif for Validation 3\n",
            "277 - SectionalMotif with avg smape 15.53: \n",
            "Model Number: 278 of 292 with model GLM for Validation 3\n"
          ]
        },
        {
          "name": "stderr",
          "output_type": "stream",
          "text": [
            "/usr/local/lib/python3.10/dist-packages/statsmodels/genmod/families/links.py:198: RuntimeWarning:\n",
            "\n",
            "overflow encountered in exp\n",
            "\n"
          ]
        },
        {
          "name": "stdout",
          "output_type": "stream",
          "text": [
            "278 - GLM with avg smape 47.37: \n",
            "Model Number: 279 of 292 with model DatepartRegression for Validation 3\n",
            "279 - DatepartRegression with avg smape 27.05: \n",
            "Model Number: 280 of 292 with model GLM for Validation 3\n",
            "280 - GLM with avg smape 49.28: \n",
            "Model Number: 281 of 292 with model GLM for Validation 3\n"
          ]
        },
        {
          "name": "stderr",
          "output_type": "stream",
          "text": [
            "/usr/local/lib/python3.10/dist-packages/statsmodels/genmod/families/family.py:1367: ValueWarning:\n",
            "\n",
            "Negative binomial dispersion parameter alpha not set. Using default value alpha=1.0.\n",
            "\n",
            "/usr/local/lib/python3.10/dist-packages/statsmodels/genmod/families/family.py:1367: ValueWarning:\n",
            "\n",
            "Negative binomial dispersion parameter alpha not set. Using default value alpha=1.0.\n",
            "\n"
          ]
        },
        {
          "name": "stdout",
          "output_type": "stream",
          "text": [
            "281 - GLM with avg smape 49.29: \n",
            "Model Number: 282 of 292 with model GLM for Validation 3\n",
            "282 - GLM with avg smape 49.34: \n",
            "Model Number: 283 of 292 with model SectionalMotif for Validation 3\n",
            "283 - SectionalMotif with avg smape 23.88: \n",
            "Model Number: 284 of 292 with model SectionalMotif for Validation 3\n",
            "284 - SectionalMotif with avg smape 6.13: \n",
            "Model Number: 285 of 292 with model SectionalMotif for Validation 3\n"
          ]
        },
        {
          "name": "stderr",
          "output_type": "stream",
          "text": [
            "/usr/local/lib/python3.10/dist-packages/statsmodels/genmod/families/family.py:1367: ValueWarning:\n",
            "\n",
            "Negative binomial dispersion parameter alpha not set. Using default value alpha=1.0.\n",
            "\n"
          ]
        },
        {
          "name": "stdout",
          "output_type": "stream",
          "text": [
            "285 - SectionalMotif with avg smape 3.59: \n",
            "Model Number: 286 of 292 with model SectionalMotif for Validation 3\n",
            "286 - SectionalMotif with avg smape 5.37: \n",
            "Model Number: 287 of 292 with model SectionalMotif for Validation 3\n",
            "287 - SectionalMotif with avg smape 7.2: \n",
            "Model Number: 288 of 292 with model SectionalMotif for Validation 3\n",
            "288 - SectionalMotif with avg smape 15.52: \n",
            "Model Number: 289 of 292 with model SectionalMotif for Validation 3\n",
            "289 - SectionalMotif with avg smape 21.5: \n",
            "Model Number: 290 of 292 with model SectionalMotif for Validation 3\n",
            "290 - SectionalMotif with avg smape 12.12: \n",
            "Model Number: 291 of 292 with model SectionalMotif for Validation 3\n",
            "291 - SectionalMotif with avg smape 12.53: \n",
            "Model Number: 292 of 292 with model Ensemble for Validation 3\n",
            "292 - Ensemble with avg smape 18.71: \n",
            "Model Number: 2866 with model Ensemble in generation 22 of Ensembles\n",
            "Model Number: 2867 with model Ensemble in generation 22 of Ensembles\n",
            "Model Number: 2868 with model Ensemble in generation 22 of Ensembles\n",
            "Model Number: 2869 with model Ensemble in generation 22 of Ensembles\n"
          ]
        },
        {
          "name": "stderr",
          "output_type": "stream",
          "text": [
            "/usr/local/lib/python3.10/dist-packages/sklearn/neighbors/_classification.py:215: DataConversionWarning:\n",
            "\n",
            "A column-vector y was passed when a 1d array was expected. Please change the shape of y to (n_samples,), for example using ravel().\n",
            "\n"
          ]
        },
        {
          "name": "stdout",
          "output_type": "stream",
          "text": [
            "Model Number: 2870 with model Ensemble in generation 22 of Ensembles\n"
          ]
        },
        {
          "name": "stderr",
          "output_type": "stream",
          "text": [
            "/usr/local/lib/python3.10/dist-packages/sklearn/neighbors/_classification.py:215: DataConversionWarning:\n",
            "\n",
            "A column-vector y was passed when a 1d array was expected. Please change the shape of y to (n_samples,), for example using ravel().\n",
            "\n"
          ]
        },
        {
          "name": "stdout",
          "output_type": "stream",
          "text": [
            "Model Number: 2871 with model Ensemble in generation 22 of Ensembles\n",
            "Model Number: 2872 with model Ensemble in generation 22 of Ensembles\n",
            "Model Number: 2873 with model Ensemble in generation 22 of Ensembles\n",
            "Validation Round: 1\n",
            "Model Number: 1 of 8 with model Ensemble for Validation 1\n",
            "📈 1 - Ensemble with avg smape 14.62: \n",
            "Model Number: 2 of 8 with model Ensemble for Validation 1\n",
            "2 - Ensemble with avg smape 17.9: \n",
            "Model Number: 3 of 8 with model Ensemble for Validation 1\n",
            "📈 3 - Ensemble with avg smape 9.01: \n",
            "Model Number: 4 of 8 with model Ensemble for Validation 1\n"
          ]
        },
        {
          "name": "stderr",
          "output_type": "stream",
          "text": [
            "/usr/local/lib/python3.10/dist-packages/sklearn/neighbors/_classification.py:215: DataConversionWarning:\n",
            "\n",
            "A column-vector y was passed when a 1d array was expected. Please change the shape of y to (n_samples,), for example using ravel().\n",
            "\n"
          ]
        },
        {
          "name": "stdout",
          "output_type": "stream",
          "text": [
            "4 - Ensemble with avg smape 9.34: \n",
            "Model Number: 5 of 8 with model Ensemble for Validation 1\n"
          ]
        },
        {
          "name": "stderr",
          "output_type": "stream",
          "text": [
            "/usr/local/lib/python3.10/dist-packages/sklearn/neighbors/_classification.py:215: DataConversionWarning:\n",
            "\n",
            "A column-vector y was passed when a 1d array was expected. Please change the shape of y to (n_samples,), for example using ravel().\n",
            "\n"
          ]
        },
        {
          "name": "stdout",
          "output_type": "stream",
          "text": [
            "5 - Ensemble with avg smape 13.34: \n",
            "Model Number: 6 of 8 with model Ensemble for Validation 1\n",
            "6 - Ensemble with avg smape 16.23: \n",
            "Model Number: 7 of 8 with model Ensemble for Validation 1\n",
            "7 - Ensemble with avg smape 11.58: \n",
            "Model Number: 8 of 8 with model Ensemble for Validation 1\n",
            "8 - Ensemble with avg smape 11.42: \n",
            "Validation Round: 2\n",
            "Model Number: 1 of 8 with model Ensemble for Validation 2\n",
            "📈 1 - Ensemble with avg smape 5.44: \n",
            "Model Number: 2 of 8 with model Ensemble for Validation 2\n",
            "2 - Ensemble with avg smape 5.56: \n",
            "Model Number: 3 of 8 with model Ensemble for Validation 2\n",
            "📈 3 - Ensemble with avg smape 3.68: \n",
            "Model Number: 4 of 8 with model Ensemble for Validation 2\n"
          ]
        },
        {
          "name": "stderr",
          "output_type": "stream",
          "text": [
            "/usr/local/lib/python3.10/dist-packages/sklearn/neighbors/_classification.py:215: DataConversionWarning:\n",
            "\n",
            "A column-vector y was passed when a 1d array was expected. Please change the shape of y to (n_samples,), for example using ravel().\n",
            "\n"
          ]
        },
        {
          "name": "stdout",
          "output_type": "stream",
          "text": [
            "4 - Ensemble with avg smape 5.22: \n",
            "Model Number: 5 of 8 with model Ensemble for Validation 2\n"
          ]
        },
        {
          "name": "stderr",
          "output_type": "stream",
          "text": [
            "/usr/local/lib/python3.10/dist-packages/sklearn/neighbors/_classification.py:215: DataConversionWarning:\n",
            "\n",
            "A column-vector y was passed when a 1d array was expected. Please change the shape of y to (n_samples,), for example using ravel().\n",
            "\n"
          ]
        },
        {
          "name": "stdout",
          "output_type": "stream",
          "text": [
            "5 - Ensemble with avg smape 5.06: \n",
            "Model Number: 6 of 8 with model Ensemble for Validation 2\n",
            "6 - Ensemble with avg smape 5.15: \n",
            "Model Number: 7 of 8 with model Ensemble for Validation 2\n",
            "7 - Ensemble with avg smape 3.99: \n",
            "Model Number: 8 of 8 with model Ensemble for Validation 2\n",
            "8 - Ensemble with avg smape 3.93: \n",
            "Validation Round: 3\n",
            "Model Number: 1 of 8 with model Ensemble for Validation 3\n",
            "📈 1 - Ensemble with avg smape 5.97: \n",
            "Model Number: 2 of 8 with model Ensemble for Validation 3\n",
            "📈 2 - Ensemble with avg smape 5.26: \n",
            "Model Number: 3 of 8 with model Ensemble for Validation 3\n",
            "3 - Ensemble with avg smape 9.67: \n",
            "Model Number: 4 of 8 with model Ensemble for Validation 3\n"
          ]
        },
        {
          "name": "stderr",
          "output_type": "stream",
          "text": [
            "/usr/local/lib/python3.10/dist-packages/sklearn/neighbors/_classification.py:215: DataConversionWarning:\n",
            "\n",
            "A column-vector y was passed when a 1d array was expected. Please change the shape of y to (n_samples,), for example using ravel().\n",
            "\n"
          ]
        },
        {
          "name": "stdout",
          "output_type": "stream",
          "text": [
            "4 - Ensemble with avg smape 10.15: \n",
            "Model Number: 5 of 8 with model Ensemble for Validation 3\n"
          ]
        },
        {
          "name": "stderr",
          "output_type": "stream",
          "text": [
            "/usr/local/lib/python3.10/dist-packages/sklearn/neighbors/_classification.py:215: DataConversionWarning:\n",
            "\n",
            "A column-vector y was passed when a 1d array was expected. Please change the shape of y to (n_samples,), for example using ravel().\n",
            "\n"
          ]
        },
        {
          "name": "stdout",
          "output_type": "stream",
          "text": [
            "5 - Ensemble with avg smape 7.02: \n",
            "Model Number: 6 of 8 with model Ensemble for Validation 3\n",
            "6 - Ensemble with avg smape 6.32: \n",
            "Model Number: 7 of 8 with model Ensemble for Validation 3\n",
            "7 - Ensemble with avg smape 7.92: \n",
            "Model Number: 8 of 8 with model Ensemble for Validation 3\n",
            "8 - Ensemble with avg smape 8.01: \n",
            "                  Close\n",
            "2024-03-18  3703.871788\n",
            "2024-03-19  3717.241277\n",
            "2024-03-20  3733.028767\n",
            "2024-03-21  3744.267229\n",
            "2024-03-22  3754.358504\n",
            "2024-03-23  3758.786507\n",
            "2024-03-24  3765.230538\n",
            "2024-03-25  3775.596013\n",
            "2024-03-26  3783.611294\n",
            "2024-03-27  3794.108584\n",
            "2024-03-28  3803.457289\n",
            "2024-03-29  3813.903981\n",
            "2024-03-30  3822.692088\n",
            "2024-03-31  3840.996000\n",
            "2024-04-01  3861.709254\n",
            "2024-04-02  3879.607526\n",
            "2024-04-03  3899.987808\n",
            "2024-04-04  3919.219505\n",
            "2024-04-05  3937.630761\n",
            "2024-04-06  3953.918646\n",
            "2024-04-07  3972.222558\n",
            "2024-04-08  3992.935812\n",
            "2024-04-09  4010.834084\n",
            "2024-04-10  4031.214366\n",
            "2024-04-11  4050.446063\n",
            "2024-04-12  4068.857319\n",
            "2024-04-13  4085.145204\n",
            "2024-04-14  4103.449116\n",
            "2024-04-15  4124.162369\n",
            "2024-04-16  4142.060642\n"
          ]
        }
      ],
      "source": [
        "from autots import AutoTS\n",
        "# Fit the AutoTS model\n",
        "model = AutoTS(forecast_length= 30, frequency = 'infer', ensemble= 'simple')\n",
        "model.fit(data, date_col= \"Date\", value_col= \"Close\", id_col =None)\n",
        "# Make predictions\n",
        "prediction = model.predict()\n",
        "forecast =prediction.forecast\n",
        "print(forecast)"
      ]
    },
    {
      "cell_type": "code",
      "execution_count": null,
      "metadata": {
        "id": "3nPfsBHN4tzc"
      },
      "outputs": [],
      "source": []
    }
  ],
  "metadata": {
    "colab": {
      "provenance": []
    },
    "kernelspec": {
      "display_name": "Python 3",
      "name": "python3"
    },
    "language_info": {
      "name": "python",
      "version": "3.10.11"
    }
  },
  "nbformat": 4,
  "nbformat_minor": 0
}
